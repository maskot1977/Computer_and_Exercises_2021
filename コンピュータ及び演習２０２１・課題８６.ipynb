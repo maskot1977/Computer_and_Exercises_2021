{
  "nbformat": 4,
  "nbformat_minor": 0,
  "metadata": {
    "colab": {
      "name": "コンピュータ及び演習２０２１・課題８６",
      "provenance": [],
      "collapsed_sections": [],
      "authorship_tag": "ABX9TyOzAgf2A/pH487mYmxYZhy+"
    },
    "kernelspec": {
      "name": "python3",
      "display_name": "Python 3"
    }
  },
  "cells": [
    {
      "cell_type": "code",
      "metadata": {
        "id": "pQ_TI3wKyHIw"
      },
      "source": [
        "import copy\n",
        "def task86(G):\n",
        "    colors = {}\n",
        "    for i in range(len(G)):\n",
        "        if i in colors.keys():\n",
        "            continue\n",
        "        colors[i] = 0\n",
        "        queue = []\n",
        "        for j in range(len(G)):\n",
        "            if G[i][j] == 1:\n",
        "                colors[j] = 1\n",
        "                queue.append([i, j])\n",
        "\n",
        "        while len(queue) > 0:\n",
        "            path = queue.pop(0)\n",
        "            #print(path)\n",
        "            for j in range(len(G)):\n",
        "                if G[path[-1]][j] == 1:\n",
        "                    if j in colors.keys(): #and path[-1] in colors.keys():\n",
        "                        if colors[path[-1]] == colors[j]:\n",
        "                            #print(path[-1], j)\n",
        "                            #print(colors)\n",
        "                            return False\n",
        "                    elif colors[path[-1]] == 1:\n",
        "                        colors[j] = 0\n",
        "                    else:\n",
        "                        colors[j] = 1\n",
        "                    path_new = copy.deepcopy(path)\n",
        "                    if j not in path_new:\n",
        "                        path_new.append(j)\n",
        "                        queue.append(path_new)\n",
        "            #print(path, path_new, queue)\n",
        "    #print(colors)\n",
        "    return True"
      ],
      "execution_count": 4,
      "outputs": []
    },
    {
      "cell_type": "code",
      "metadata": {
        "id": "nweM9N7_yNfS"
      },
      "source": [
        "n =  5\n",
        "G = \\\n",
        "[[0, 0, 1, 0, 1],\n",
        " [0, 0, 0, 1, 0],\n",
        " [1, 0, 0, 0, 0],\n",
        " [0, 1, 0, 0, 1],\n",
        " [1, 0, 0, 1, 0]]"
      ],
      "execution_count": 5,
      "outputs": []
    },
    {
      "cell_type": "code",
      "metadata": {
        "colab": {
          "base_uri": "https://localhost:8080/"
        },
        "id": "p3076PSvyQo_",
        "outputId": "f37a32c8-7dfd-4964-fffe-078ed6f8f69b"
      },
      "source": [
        "task86(G)"
      ],
      "execution_count": 6,
      "outputs": [
        {
          "output_type": "execute_result",
          "data": {
            "text/plain": [
              "True"
            ]
          },
          "metadata": {},
          "execution_count": 6
        }
      ]
    },
    {
      "cell_type": "code",
      "metadata": {
        "id": "Hv7OTTlFySde"
      },
      "source": [
        "n =  5\n",
        "G = \\\n",
        "[[0, 1, 0, 0, 0],\n",
        " [1, 0, 0, 1, 1],\n",
        " [0, 0, 0, 0, 0],\n",
        " [0, 1, 0, 0, 1],\n",
        " [0, 1, 0, 1, 0]]"
      ],
      "execution_count": 7,
      "outputs": []
    },
    {
      "cell_type": "code",
      "metadata": {
        "colab": {
          "base_uri": "https://localhost:8080/"
        },
        "id": "ATeVF847yUZd",
        "outputId": "464c379b-9e74-4c88-c58b-d4ca220e49d4"
      },
      "source": [
        "task86(G)"
      ],
      "execution_count": 9,
      "outputs": [
        {
          "output_type": "execute_result",
          "data": {
            "text/plain": [
              "False"
            ]
          },
          "metadata": {},
          "execution_count": 9
        }
      ]
    },
    {
      "cell_type": "code",
      "metadata": {
        "id": "FNTezt6TyVpf"
      },
      "source": [
        "n =  8\n",
        "G = \\\n",
        "[[0, 0, 0, 0, 0, 1, 0, 0],\n",
        " [0, 0, 0, 1, 0, 0, 0, 0],\n",
        " [0, 0, 0, 1, 0, 0, 0, 0],\n",
        " [0, 1, 1, 0, 0, 1, 0, 0],\n",
        " [0, 0, 0, 0, 0, 0, 1, 1],\n",
        " [1, 0, 0, 1, 0, 0, 1, 1],\n",
        " [0, 0, 0, 0, 1, 1, 0, 0],\n",
        " [0, 0, 0, 0, 1, 1, 0, 0]]"
      ],
      "execution_count": 10,
      "outputs": []
    },
    {
      "cell_type": "code",
      "metadata": {
        "colab": {
          "base_uri": "https://localhost:8080/"
        },
        "id": "RlEvFbPCyXk6",
        "outputId": "55b28149-9492-4da1-b8d3-4092e387c6e5"
      },
      "source": [
        "task86(G)"
      ],
      "execution_count": 11,
      "outputs": [
        {
          "output_type": "execute_result",
          "data": {
            "text/plain": [
              "True"
            ]
          },
          "metadata": {},
          "execution_count": 11
        }
      ]
    },
    {
      "cell_type": "code",
      "metadata": {
        "id": "Vk7_QHePyZAK"
      },
      "source": [
        "n =  8\n",
        "G = \\\n",
        "[[0, 1, 1, 0, 1, 0, 0, 0],\n",
        " [1, 0, 1, 0, 0, 0, 0, 1],\n",
        " [1, 1, 0, 1, 0, 0, 0, 0],\n",
        " [0, 0, 1, 0, 0, 1, 1, 0],\n",
        " [1, 0, 0, 0, 0, 0, 1, 0],\n",
        " [0, 0, 0, 1, 0, 0, 0, 1],\n",
        " [0, 0, 0, 1, 1, 0, 0, 0],\n",
        " [0, 1, 0, 0, 0, 1, 0, 0]]"
      ],
      "execution_count": 12,
      "outputs": []
    },
    {
      "cell_type": "code",
      "metadata": {
        "colab": {
          "base_uri": "https://localhost:8080/"
        },
        "id": "9vNJ5tjvyawI",
        "outputId": "7d1641f9-ea8a-4ac2-843d-e238bf194531"
      },
      "source": [
        "task86(G)"
      ],
      "execution_count": 13,
      "outputs": [
        {
          "output_type": "execute_result",
          "data": {
            "text/plain": [
              "False"
            ]
          },
          "metadata": {},
          "execution_count": 13
        }
      ]
    },
    {
      "cell_type": "code",
      "metadata": {
        "id": "OUliSUCnycsV"
      },
      "source": [
        ""
      ],
      "execution_count": null,
      "outputs": []
    }
  ]
}