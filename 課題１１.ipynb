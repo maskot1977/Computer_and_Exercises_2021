{
  "nbformat": 4,
  "nbformat_minor": 0,
  "metadata": {
    "colab": {
      "name": "課題１１",
      "provenance": [],
      "collapsed_sections": [],
      "authorship_tag": "ABX9TyOIbrWoM4Xv/17J27uwOfe+"
    },
    "kernelspec": {
      "name": "python3",
      "display_name": "Python 3"
    }
  },
  "cells": [
    {
      "cell_type": "code",
      "metadata": {
        "id": "HT3BLqBYOEZ_",
        "outputId": "4b6e5232-e4ae-421a-de2d-4412a3e7bf88",
        "colab": {
          "base_uri": "https://localhost:8080/",
          "height": 52
        }
      },
      "source": [
        "edges = [float(x) for x in input(\"３片の長さをスペース区切りで入力してください。\").split()]\n",
        "\n",
        "if len(edges) != 3:\n",
        "    raise ValueError(\"３つの数字のスペース区切りでお願いします。\")\n",
        "\n",
        "edges.sort()\n",
        "\n",
        "if edges[2] >= edges[1] + edges[0]:\n",
        "  raise ValueError(\"三角形を形成できませんぬ。\")\n",
        "elif edges[2]**2 > edges[1]**2 + edges[0]**2:\n",
        "  print(\"鈍角三角形です。\")\n",
        "elif edges[2]**2 == edges[1]**2 + edges[0]**2:\n",
        "  print(\"直角三角形です。\")\n",
        "else:\n",
        "  print(\"鋭角三角形です。\")"
      ],
      "execution_count": null,
      "outputs": [
        {
          "output_type": "stream",
          "text": [
            "３片の長さをスペース区切りで入力してください。3 5 4\n",
            "直角三角形です。\n"
          ],
          "name": "stdout"
        }
      ]
    },
    {
      "cell_type": "code",
      "metadata": {
        "id": "l7TqaubPOb7H",
        "outputId": "f637b72b-0ed7-435e-d25f-257b4cff2434",
        "colab": {
          "base_uri": "https://localhost:8080/",
          "height": 255
        }
      },
      "source": [
        "edges = [float(x) for x in input(\"３片の長さをスペース区切りで入力してください。\").split()]\n",
        "\n",
        "if len(edges) != 3:\n",
        "    raise ValueError(\"３つの数字のスペース区切りでお願いします。\")\n",
        "\n",
        "edges.sort()\n",
        "\n",
        "if edges[2] >= edges[1] + edges[0]:\n",
        "  raise ValueError(\"三角形を形成できませんぬ。\")\n",
        "elif edges[2]**2 > edges[1]**2 + edges[0]**2:\n",
        "  print(\"鈍角三角形です。\")\n",
        "elif edges[2]**2 == edges[1]**2 + edges[0]**2:\n",
        "  print(\"直角三角形です。\")\n",
        "else:\n",
        "  print(\"鋭角三角形です。\")"
      ],
      "execution_count": null,
      "outputs": [
        {
          "output_type": "stream",
          "text": [
            "３片の長さをスペース区切りで入力してください。5 10 5\n"
          ],
          "name": "stdout"
        },
        {
          "output_type": "error",
          "ename": "ValueError",
          "evalue": "ignored",
          "traceback": [
            "\u001b[0;31m---------------------------------------------------------------------------\u001b[0m",
            "\u001b[0;31mValueError\u001b[0m                                Traceback (most recent call last)",
            "\u001b[0;32m<ipython-input-20-6b385618ea21>\u001b[0m in \u001b[0;36m<module>\u001b[0;34m()\u001b[0m\n\u001b[1;32m      7\u001b[0m \u001b[0;34m\u001b[0m\u001b[0m\n\u001b[1;32m      8\u001b[0m \u001b[0;32mif\u001b[0m \u001b[0medges\u001b[0m\u001b[0;34m[\u001b[0m\u001b[0;36m2\u001b[0m\u001b[0;34m]\u001b[0m \u001b[0;34m>=\u001b[0m \u001b[0medges\u001b[0m\u001b[0;34m[\u001b[0m\u001b[0;36m1\u001b[0m\u001b[0;34m]\u001b[0m \u001b[0;34m+\u001b[0m \u001b[0medges\u001b[0m\u001b[0;34m[\u001b[0m\u001b[0;36m0\u001b[0m\u001b[0;34m]\u001b[0m\u001b[0;34m:\u001b[0m\u001b[0;34m\u001b[0m\u001b[0;34m\u001b[0m\u001b[0m\n\u001b[0;32m----> 9\u001b[0;31m   \u001b[0;32mraise\u001b[0m \u001b[0mValueError\u001b[0m\u001b[0;34m(\u001b[0m\u001b[0;34m\"三角形を形成できませんぬ。\"\u001b[0m\u001b[0;34m)\u001b[0m\u001b[0;34m\u001b[0m\u001b[0;34m\u001b[0m\u001b[0m\n\u001b[0m\u001b[1;32m     10\u001b[0m \u001b[0;32melif\u001b[0m \u001b[0medges\u001b[0m\u001b[0;34m[\u001b[0m\u001b[0;36m2\u001b[0m\u001b[0;34m]\u001b[0m\u001b[0;34m**\u001b[0m\u001b[0;36m2\u001b[0m \u001b[0;34m>\u001b[0m \u001b[0medges\u001b[0m\u001b[0;34m[\u001b[0m\u001b[0;36m1\u001b[0m\u001b[0;34m]\u001b[0m\u001b[0;34m**\u001b[0m\u001b[0;36m2\u001b[0m \u001b[0;34m+\u001b[0m \u001b[0medges\u001b[0m\u001b[0;34m[\u001b[0m\u001b[0;36m0\u001b[0m\u001b[0;34m]\u001b[0m\u001b[0;34m**\u001b[0m\u001b[0;36m2\u001b[0m\u001b[0;34m:\u001b[0m\u001b[0;34m\u001b[0m\u001b[0;34m\u001b[0m\u001b[0m\n\u001b[1;32m     11\u001b[0m   \u001b[0mprint\u001b[0m\u001b[0;34m(\u001b[0m\u001b[0;34m\"鈍角三角形です。\"\u001b[0m\u001b[0;34m)\u001b[0m\u001b[0;34m\u001b[0m\u001b[0;34m\u001b[0m\u001b[0m\n",
            "\u001b[0;31mValueError\u001b[0m: 三角形を形成できませんぬ。"
          ]
        }
      ]
    },
    {
      "cell_type": "code",
      "metadata": {
        "id": "OBfGnf0cO2sq",
        "outputId": "5dacb53c-d3ca-459f-bb43-72ac6ad9998b",
        "colab": {
          "base_uri": "https://localhost:8080/",
          "height": 52
        }
      },
      "source": [
        "edges = [float(x) for x in input(\"３片の長さをスペース区切りで入力してください。\").split()]\n",
        "\n",
        "if len(edges) != 3:\n",
        "    raise ValueError(\"３つの数字のスペース区切りでお願いします。\")\n",
        "\n",
        "edges.sort()\n",
        "\n",
        "if edges[2] >= edges[1] + edges[0]:\n",
        "  raise ValueError(\"三角形を形成できませんぬ。\")\n",
        "elif edges[2]**2 > edges[1]**2 + edges[0]**2:\n",
        "  print(\"鈍角三角形です。\")\n",
        "elif edges[2]**2 == edges[1]**2 + edges[0]**2:\n",
        "  print(\"直角三角形です。\")\n",
        "else:\n",
        "  print(\"鋭角三角形です。\")"
      ],
      "execution_count": null,
      "outputs": [
        {
          "output_type": "stream",
          "text": [
            "３片の長さをスペース区切りで入力してください。4 4 5\n",
            "鋭角三角形です。\n"
          ],
          "name": "stdout"
        }
      ]
    },
    {
      "cell_type": "code",
      "metadata": {
        "id": "s9YZsaNPPAaU",
        "outputId": "87635c0b-55d3-4407-8958-fe26279dfc9d",
        "colab": {
          "base_uri": "https://localhost:8080/",
          "height": 52
        }
      },
      "source": [
        "edges = [float(x) for x in input(\"３片の長さをスペース区切りで入力してください。\").split()]\n",
        "\n",
        "if len(edges) != 3:\n",
        "    raise ValueError(\"３つの数字のスペース区切りでお願いします。\")\n",
        "\n",
        "edges.sort()\n",
        "\n",
        "if edges[2] >= edges[1] + edges[0]:\n",
        "  raise ValueError(\"三角形を形成できませんぬ。\")\n",
        "elif edges[2]**2 > edges[1]**2 + edges[0]**2:\n",
        "  print(\"鈍角三角形です。\")\n",
        "elif edges[2]**2 == edges[1]**2 + edges[0]**2:\n",
        "  print(\"直角三角形です。\")\n",
        "else:\n",
        "  print(\"鋭角三角形です。\")"
      ],
      "execution_count": null,
      "outputs": [
        {
          "output_type": "stream",
          "text": [
            "３片の長さをスペース区切りで入力してください。6 3 4\n",
            "鈍角三角形です。\n"
          ],
          "name": "stdout"
        }
      ]
    },
    {
      "cell_type": "code",
      "metadata": {
        "id": "81nvH6TIQsNq"
      },
      "source": [
        ""
      ],
      "execution_count": null,
      "outputs": []
    }
  ]
}