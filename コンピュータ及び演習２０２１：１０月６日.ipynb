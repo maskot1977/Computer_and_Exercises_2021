{
  "nbformat": 4,
  "nbformat_minor": 0,
  "metadata": {
    "colab": {
      "name": "コンピュータ及び演習２０２１：１０月６日",
      "provenance": [],
      "collapsed_sections": [],
      "authorship_tag": "ABX9TyNxfNBqGFqbSxCUfABAoNNz"
    },
    "kernelspec": {
      "name": "python3",
      "display_name": "Python 3"
    }
  },
  "cells": [
    {
      "cell_type": "markdown",
      "metadata": {
        "id": "fEpdCAPaIFKk"
      },
      "source": [
        "# 課題３"
      ]
    },
    {
      "cell_type": "code",
      "metadata": {
        "id": "zhEmcjK2GNZP",
        "outputId": "af5afb45-190f-44e3-9262-53bfd813e47e",
        "colab": {
          "base_uri": "https://localhost:8080/",
          "height": 69
        }
      },
      "source": [
        "s = input('こんにちは！')\n",
        "\n",
        "print('そうなんですね〜')\n",
        "\n",
        "print(s, \"って言ったんですがそれに答えてくださいよ\")"
      ],
      "execution_count": null,
      "outputs": [
        {
          "output_type": "stream",
          "text": [
            "こんにちは！１＋１は計算できますか？\n",
            "そうなんですね〜\n",
            "１＋１は計算できますか？ って言ったんですがそれに答えてくださいよ\n"
          ],
          "name": "stdout"
        }
      ]
    },
    {
      "cell_type": "markdown",
      "metadata": {
        "id": "tFEI4aY6JrSf"
      },
      "source": [
        "# 課題４"
      ]
    },
    {
      "cell_type": "code",
      "metadata": {
        "id": "anR40XtZIVTK",
        "outputId": "950b9290-cb58-49bc-cc7c-418ac39d897a",
        "colab": {
          "base_uri": "https://localhost:8080/",
          "height": 35
        }
      },
      "source": [
        "text_a = \"{}巻き髪、{}巻き髪、{}巻き髪。\"\n",
        "print(text_a.format(\"赤\", \"青\", \"黄\"))"
      ],
      "execution_count": null,
      "outputs": [
        {
          "output_type": "stream",
          "text": [
            "赤巻き髪、青巻き髪、黄巻き髪。\n"
          ],
          "name": "stdout"
        }
      ]
    },
    {
      "cell_type": "code",
      "metadata": {
        "id": "l1XT7IuIJs5O",
        "outputId": "97f376e6-9cf5-4954-c524-0179ad17db40",
        "colab": {
          "base_uri": "https://localhost:8080/",
          "height": 35
        }
      },
      "source": [
        "text = \"{name}の戦闘力は{power}です。\"\n",
        "result = text.format(name=\"私\", power=530000)\n",
        "print(result)"
      ],
      "execution_count": null,
      "outputs": [
        {
          "output_type": "stream",
          "text": [
            "私の戦闘力は530000です。\n"
          ],
          "name": "stdout"
        }
      ]
    },
    {
      "cell_type": "code",
      "metadata": {
        "id": "XmGya5ZNJy_J",
        "outputId": "0013f539-bbc0-4622-b849-9c806d62068d",
        "colab": {
          "base_uri": "https://localhost:8080/",
          "height": 35
        }
      },
      "source": [
        "text = \"{}の戦闘力は{}です。\"\n",
        "list = [\"私\", 530000]\n",
        "result = text.format(*list)\n",
        "print(result)\n"
      ],
      "execution_count": null,
      "outputs": [
        {
          "output_type": "stream",
          "text": [
            "私の戦闘力は530000です。\n"
          ],
          "name": "stdout"
        }
      ]
    },
    {
      "cell_type": "code",
      "metadata": {
        "id": "kvcWEyaVJ9g1",
        "outputId": "eacaf9e9-c338-4f03-c505-b279c8e333d3",
        "colab": {
          "base_uri": "https://localhost:8080/",
          "height": 69
        }
      },
      "source": [
        "s1 = input(\"入力１：\")\n",
        "s2 = input(\"入力２：\")\n",
        "text = \"{}は{}です。\"\n",
        "print(text.format(s1, s2))"
      ],
      "execution_count": null,
      "outputs": [
        {
          "output_type": "stream",
          "text": [
            "入力１：私\n",
            "入力２：天才\n",
            "私は天才です。\n"
          ],
          "name": "stdout"
        }
      ]
    },
    {
      "cell_type": "markdown",
      "metadata": {
        "id": "oXivJVtkKsdA"
      },
      "source": [
        "# 課題５"
      ]
    },
    {
      "cell_type": "code",
      "metadata": {
        "id": "Y81PLjREKcJs",
        "outputId": "fc10ab37-62d0-44ee-c7f7-588b3b649a59",
        "colab": {
          "base_uri": "https://localhost:8080/",
          "height": 238
        }
      },
      "source": [
        "s1 = input(\"入力１：\")\n",
        "s2 = input(\"入力２：\")\n",
        "print(s1 / s2)"
      ],
      "execution_count": null,
      "outputs": [
        {
          "output_type": "stream",
          "text": [
            "入力１：１００\n",
            "入力２：１０\n"
          ],
          "name": "stdout"
        },
        {
          "output_type": "error",
          "ename": "TypeError",
          "evalue": "ignored",
          "traceback": [
            "\u001b[0;31m---------------------------------------------------------------------------\u001b[0m",
            "\u001b[0;31mTypeError\u001b[0m                                 Traceback (most recent call last)",
            "\u001b[0;32m<ipython-input-6-bb4cfdce2261>\u001b[0m in \u001b[0;36m<module>\u001b[0;34m()\u001b[0m\n\u001b[1;32m      1\u001b[0m \u001b[0ms1\u001b[0m \u001b[0;34m=\u001b[0m \u001b[0minput\u001b[0m\u001b[0;34m(\u001b[0m\u001b[0;34m\"入力１：\"\u001b[0m\u001b[0;34m)\u001b[0m\u001b[0;34m\u001b[0m\u001b[0;34m\u001b[0m\u001b[0m\n\u001b[1;32m      2\u001b[0m \u001b[0ms2\u001b[0m \u001b[0;34m=\u001b[0m \u001b[0minput\u001b[0m\u001b[0;34m(\u001b[0m\u001b[0;34m\"入力２：\"\u001b[0m\u001b[0;34m)\u001b[0m\u001b[0;34m\u001b[0m\u001b[0;34m\u001b[0m\u001b[0m\n\u001b[0;32m----> 3\u001b[0;31m \u001b[0mprint\u001b[0m\u001b[0;34m(\u001b[0m\u001b[0ms1\u001b[0m \u001b[0;34m/\u001b[0m \u001b[0ms2\u001b[0m\u001b[0;34m)\u001b[0m\u001b[0;34m\u001b[0m\u001b[0;34m\u001b[0m\u001b[0m\n\u001b[0m",
            "\u001b[0;31mTypeError\u001b[0m: unsupported operand type(s) for /: 'str' and 'str'"
          ]
        }
      ]
    },
    {
      "cell_type": "code",
      "metadata": {
        "id": "yuIluTrBK5JF",
        "outputId": "95cd0ea6-39c4-49c0-f257-866bc28c09fc",
        "colab": {
          "base_uri": "https://localhost:8080/",
          "height": 69
        }
      },
      "source": [
        "s1 = input(\"入力１：\")\n",
        "s2 = input(\"入力２：\")\n",
        "print(float(s1) / float(s2))"
      ],
      "execution_count": null,
      "outputs": [
        {
          "output_type": "stream",
          "text": [
            "入力１：100\n",
            "入力２：10\n",
            "10.0\n"
          ],
          "name": "stdout"
        }
      ]
    },
    {
      "cell_type": "code",
      "metadata": {
        "id": "aPFKbjCFLGJ2",
        "outputId": "738e54c1-b3db-45f8-b448-b44a31a345e8",
        "colab": {
          "base_uri": "https://localhost:8080/",
          "height": 238
        }
      },
      "source": [
        "s1 = input(\"入力１：\")\n",
        "s2 = input(\"入力２：\")\n",
        "print(float(s1) / float(s2))"
      ],
      "execution_count": null,
      "outputs": [
        {
          "output_type": "stream",
          "text": [
            "入力１：私\n",
            "入力２：天才\n"
          ],
          "name": "stdout"
        },
        {
          "output_type": "error",
          "ename": "ValueError",
          "evalue": "ignored",
          "traceback": [
            "\u001b[0;31m---------------------------------------------------------------------------\u001b[0m",
            "\u001b[0;31mValueError\u001b[0m                                Traceback (most recent call last)",
            "\u001b[0;32m<ipython-input-8-4f388e2b927d>\u001b[0m in \u001b[0;36m<module>\u001b[0;34m()\u001b[0m\n\u001b[1;32m      1\u001b[0m \u001b[0ms1\u001b[0m \u001b[0;34m=\u001b[0m \u001b[0minput\u001b[0m\u001b[0;34m(\u001b[0m\u001b[0;34m\"入力１：\"\u001b[0m\u001b[0;34m)\u001b[0m\u001b[0;34m\u001b[0m\u001b[0;34m\u001b[0m\u001b[0m\n\u001b[1;32m      2\u001b[0m \u001b[0ms2\u001b[0m \u001b[0;34m=\u001b[0m \u001b[0minput\u001b[0m\u001b[0;34m(\u001b[0m\u001b[0;34m\"入力２：\"\u001b[0m\u001b[0;34m)\u001b[0m\u001b[0;34m\u001b[0m\u001b[0;34m\u001b[0m\u001b[0m\n\u001b[0;32m----> 3\u001b[0;31m \u001b[0mprint\u001b[0m\u001b[0;34m(\u001b[0m\u001b[0mfloat\u001b[0m\u001b[0;34m(\u001b[0m\u001b[0ms1\u001b[0m\u001b[0;34m)\u001b[0m \u001b[0;34m/\u001b[0m \u001b[0mfloat\u001b[0m\u001b[0;34m(\u001b[0m\u001b[0ms2\u001b[0m\u001b[0;34m)\u001b[0m\u001b[0;34m)\u001b[0m\u001b[0;34m\u001b[0m\u001b[0;34m\u001b[0m\u001b[0m\n\u001b[0m",
            "\u001b[0;31mValueError\u001b[0m: could not convert string to float: '私'"
          ]
        }
      ]
    },
    {
      "cell_type": "markdown",
      "metadata": {
        "id": "IQ0eWTWgLW11"
      },
      "source": [
        "# 課題６"
      ]
    },
    {
      "cell_type": "code",
      "metadata": {
        "id": "pvzF4TcVLJWR",
        "outputId": "01327057-fe7d-4afc-fab8-921e8a670629",
        "colab": {
          "base_uri": "https://localhost:8080/",
          "height": 35
        }
      },
      "source": [
        "import math # 数学関数ライブラリ math のインポート\n",
        "\n",
        "a = 2\n",
        "print(math.sqrt(a))"
      ],
      "execution_count": null,
      "outputs": [
        {
          "output_type": "stream",
          "text": [
            "1.4142135623730951\n"
          ],
          "name": "stdout"
        }
      ]
    },
    {
      "cell_type": "code",
      "metadata": {
        "id": "ZPHsejTEQQxc",
        "outputId": "aca25c0b-740a-4690-fde5-76b61f67c38d",
        "colab": {
          "base_uri": "https://localhost:8080/",
          "height": 69
        }
      },
      "source": [
        "s1 = input(\"入力１：\")\n",
        "s2 = input(\"入力２：\")\n",
        "\n",
        "print(math.log(float(s2),  float(s1)))"
      ],
      "execution_count": null,
      "outputs": [
        {
          "output_type": "stream",
          "text": [
            "入力１：2\n",
            "入力２：32\n",
            "5.0\n"
          ],
          "name": "stdout"
        }
      ]
    },
    {
      "cell_type": "code",
      "metadata": {
        "id": "qL_UOsjUQnsU",
        "outputId": "c091dce9-0535-4ad8-c815-36c0522dfea2",
        "colab": {
          "base_uri": "https://localhost:8080/",
          "height": 69
        }
      },
      "source": [
        "s1 = input(\"入力１：\")\n",
        "s2 = input(\"入力２：\")\n",
        "\n",
        "print(math.log(float(s2),  float(s1)))"
      ],
      "execution_count": null,
      "outputs": [
        {
          "output_type": "stream",
          "text": [
            "入力１：10\n",
            "入力２：10000\n",
            "4.0\n"
          ],
          "name": "stdout"
        }
      ]
    },
    {
      "cell_type": "code",
      "metadata": {
        "id": "S7Zezbi4QvP9",
        "outputId": "d44a9347-fc75-4485-a8ef-ec1d222eb06e",
        "colab": {
          "base_uri": "https://localhost:8080/",
          "height": 238
        }
      },
      "source": [
        "s1 = input(\"入力１：\")\n",
        "s2 = input(\"入力２：\")\n",
        "\n",
        "print(math.log(float(s2),  float(s1)))"
      ],
      "execution_count": null,
      "outputs": [
        {
          "output_type": "stream",
          "text": [
            "入力１：-2\n",
            "入力２：64\n"
          ],
          "name": "stdout"
        },
        {
          "output_type": "error",
          "ename": "ValueError",
          "evalue": "ignored",
          "traceback": [
            "\u001b[0;31m---------------------------------------------------------------------------\u001b[0m",
            "\u001b[0;31mValueError\u001b[0m                                Traceback (most recent call last)",
            "\u001b[0;32m<ipython-input-17-f8446697d5fb>\u001b[0m in \u001b[0;36m<module>\u001b[0;34m()\u001b[0m\n\u001b[1;32m      2\u001b[0m \u001b[0ms2\u001b[0m \u001b[0;34m=\u001b[0m \u001b[0minput\u001b[0m\u001b[0;34m(\u001b[0m\u001b[0;34m\"入力２：\"\u001b[0m\u001b[0;34m)\u001b[0m\u001b[0;34m\u001b[0m\u001b[0;34m\u001b[0m\u001b[0m\n\u001b[1;32m      3\u001b[0m \u001b[0;34m\u001b[0m\u001b[0m\n\u001b[0;32m----> 4\u001b[0;31m \u001b[0mprint\u001b[0m\u001b[0;34m(\u001b[0m\u001b[0mmath\u001b[0m\u001b[0;34m.\u001b[0m\u001b[0mlog\u001b[0m\u001b[0;34m(\u001b[0m\u001b[0mfloat\u001b[0m\u001b[0;34m(\u001b[0m\u001b[0ms2\u001b[0m\u001b[0;34m)\u001b[0m\u001b[0;34m,\u001b[0m  \u001b[0mfloat\u001b[0m\u001b[0;34m(\u001b[0m\u001b[0ms1\u001b[0m\u001b[0;34m)\u001b[0m\u001b[0;34m)\u001b[0m\u001b[0;34m)\u001b[0m\u001b[0;34m\u001b[0m\u001b[0;34m\u001b[0m\u001b[0m\n\u001b[0m",
            "\u001b[0;31mValueError\u001b[0m: math domain error"
          ]
        }
      ]
    },
    {
      "cell_type": "markdown",
      "metadata": {
        "id": "qPjdR9F9RPDX"
      },
      "source": [
        "# 課題７"
      ]
    },
    {
      "cell_type": "code",
      "metadata": {
        "id": "1SvUicKxQ0C8",
        "outputId": "81d8561c-5a73-43e1-8309-a784a14ea0cd",
        "colab": {
          "base_uri": "https://localhost:8080/",
          "height": 52
        }
      },
      "source": [
        "import math\n",
        "float(input(\"度を入力してください\")) * math.pi / 180"
      ],
      "execution_count": null,
      "outputs": [
        {
          "output_type": "stream",
          "text": [
            "度を入力してください１８０\n"
          ],
          "name": "stdout"
        },
        {
          "output_type": "execute_result",
          "data": {
            "text/plain": [
              "3.141592653589793"
            ]
          },
          "metadata": {
            "tags": []
          },
          "execution_count": 18
        }
      ]
    },
    {
      "cell_type": "code",
      "metadata": {
        "id": "Ke6EDicASkze",
        "outputId": "4e1ca9c4-cad4-4363-a8a2-3f074a0ef70f",
        "colab": {
          "base_uri": "https://localhost:8080/",
          "height": 52
        }
      },
      "source": [
        "import math\n",
        "float(input(\"度を入力してください\")) * math.pi / 180"
      ],
      "execution_count": null,
      "outputs": [
        {
          "output_type": "stream",
          "text": [
            "度を入力してください９０\n"
          ],
          "name": "stdout"
        },
        {
          "output_type": "execute_result",
          "data": {
            "text/plain": [
              "1.5707963267948966"
            ]
          },
          "metadata": {
            "tags": []
          },
          "execution_count": 19
        }
      ]
    },
    {
      "cell_type": "code",
      "metadata": {
        "id": "aV7-Br5lSocR",
        "outputId": "02db330d-da7d-4ee8-af05-c85abaa41c04",
        "colab": {
          "base_uri": "https://localhost:8080/",
          "height": 86
        }
      },
      "source": [
        "x = float(input(\"気圧をatom単位で入力してください。\"))\n",
        "print(x * 760, \"mmHg\")\n",
        "print(x * 1000000 / 9.86, \"Pa\")\n",
        "print(x * 10 / 9.67, \"kgf/cm^2\")"
      ],
      "execution_count": null,
      "outputs": [
        {
          "output_type": "stream",
          "text": [
            "気圧をatom単位で入力してください。1\n",
            "760.0 mmHg\n",
            "101419.87829614605 Pa\n",
            "1.0341261633919339 kgf/cm^2\n"
          ],
          "name": "stdout"
        }
      ]
    },
    {
      "cell_type": "markdown",
      "metadata": {
        "id": "NvuM4ElLTkd8"
      },
      "source": [
        "# 課題８"
      ]
    },
    {
      "cell_type": "code",
      "metadata": {
        "id": "Z4DhyQRkS2CD",
        "outputId": "0627024c-1299-4161-b7f8-8ac7088a4b54",
        "colab": {
          "base_uri": "https://localhost:8080/",
          "height": 69
        }
      },
      "source": [
        "a = input(\"a：\")\n",
        "b = input(\"b：\")\n",
        "print(-float(b) / float(a))"
      ],
      "execution_count": null,
      "outputs": [
        {
          "output_type": "stream",
          "text": [
            "a：5\n",
            "b：2\n",
            "-0.4\n"
          ],
          "name": "stdout"
        }
      ]
    },
    {
      "cell_type": "markdown",
      "metadata": {
        "id": "lSHLZJ8LUiUX"
      },
      "source": [
        "# 課題９"
      ]
    },
    {
      "cell_type": "code",
      "metadata": {
        "id": "Wv-Dq8UJULM_",
        "outputId": "83f486f4-1168-4214-f73b-6a84a2fda273",
        "colab": {
          "base_uri": "https://localhost:8080/",
          "height": 86
        }
      },
      "source": [
        "a = float(input(\"a：\"))\n",
        "if a == 0:\n",
        "    raise ValueError(\"a はゼロ以外の数字でお願いします。\")\n",
        "\n",
        "b = float(input(\"b：\"))\n",
        "c = float(input(\"c：\"))\n",
        "\n",
        "if b**2 - 4 * a * c < 0:\n",
        "    raise ValueError(\"実数解が存在しません。\")\n",
        "\n",
        "elif b**2 - 4 * a * c == 0:\n",
        "    print(-b / (2 * a))\n",
        "\n",
        "else:\n",
        "    print(\n",
        "        (-b + (b**2 - 4 * a * c)**(1/2) / (2 * a), \n",
        "         -b - (b**2 - 4 * a * c)**(1/2) / (2 * a))\n",
        "    )"
      ],
      "execution_count": null,
      "outputs": [
        {
          "output_type": "stream",
          "text": [
            "a：1\n",
            "b：4\n",
            "c：4\n",
            "-2.0\n"
          ],
          "name": "stdout"
        }
      ]
    },
    {
      "cell_type": "markdown",
      "metadata": {
        "id": "139yQPrsWF3n"
      },
      "source": [
        "# 課題１０"
      ]
    },
    {
      "cell_type": "code",
      "metadata": {
        "id": "XvgwzAIjUz4i",
        "outputId": "132b9a72-0076-49a4-d0e0-b69f570396e2",
        "colab": {
          "base_uri": "https://localhost:8080/",
          "height": 69
        }
      },
      "source": [
        "edges = [float(x) for x in input(\"３辺の長さを入力してください：\").split()]\n",
        "if len(edges) != 3:\n",
        "    raise ValueError(\"スペース区切りで３つの数字でお願いします。\")\n",
        "\n",
        "edges.sort()\n",
        "print(edges)\n",
        "\n",
        "if edges[2] >= edges[1] + edges[0]:\n",
        "    raise ValueError(\"三角形を形成できません。\")\n",
        "elif edges[2]**2 > edges[1]**2 + edges[0]**2:\n",
        "    print(\"鈍角三角形です。\")\n",
        "elif edges[2]**2 >= edges[1]**2 + edges[0]**2:\n",
        "    print(\"直角三角形です。\")\n",
        "else:\n",
        "    print(\"鋭角三角形です。\")"
      ],
      "execution_count": null,
      "outputs": [
        {
          "output_type": "stream",
          "text": [
            "３辺の長さを入力してください：3 4 4\n",
            "[3.0, 4.0, 4.0]\n",
            "鋭角三角形です。\n"
          ],
          "name": "stdout"
        }
      ]
    },
    {
      "cell_type": "markdown",
      "metadata": {
        "id": "XVr9lAr6Zqrn"
      },
      "source": [
        "# 課題１１"
      ]
    },
    {
      "cell_type": "code",
      "metadata": {
        "id": "SkFeOHIYWgNh"
      },
      "source": [
        "a = [2, -3, 1]\n",
        "b = [4, -2, 6]"
      ],
      "execution_count": null,
      "outputs": []
    },
    {
      "cell_type": "code",
      "metadata": {
        "id": "x4uVhI7faIHu"
      },
      "source": [
        "def inner_product(x, y):\n",
        "    val = 0\n",
        "    for i in range(len(x)):\n",
        "        #print(i, x[i], y[i])\n",
        "        val += x[i] * y[i]\n",
        "        \n",
        "    return val"
      ],
      "execution_count": null,
      "outputs": []
    },
    {
      "cell_type": "code",
      "metadata": {
        "id": "YsWEQpTOaaR_",
        "outputId": "d17d2a6f-1979-4ef3-a207-b3ed0a708f8f",
        "colab": {
          "base_uri": "https://localhost:8080/",
          "height": 35
        }
      },
      "source": [
        "inner_product(a, b)"
      ],
      "execution_count": null,
      "outputs": [
        {
          "output_type": "execute_result",
          "data": {
            "text/plain": [
              "20"
            ]
          },
          "metadata": {
            "tags": []
          },
          "execution_count": 51
        }
      ]
    },
    {
      "cell_type": "code",
      "metadata": {
        "id": "xvc2SIbCacPg"
      },
      "source": [
        "def cross_product(x, y):\n",
        "    val = []\n",
        "    val.append(x[1] * y[2] - x[2] * y[1])\n",
        "    val.append(x[2] * y[0] - x[0] * y[2])\n",
        "    val.append(x[0] * y[1] - x[1] * y[0])\n",
        "    return val"
      ],
      "execution_count": null,
      "outputs": []
    },
    {
      "cell_type": "code",
      "metadata": {
        "id": "RfbnWlUubN-g",
        "outputId": "e0b619d8-4610-4884-c99e-e010b4c13ce2",
        "colab": {
          "base_uri": "https://localhost:8080/",
          "height": 35
        }
      },
      "source": [
        "cross_product(a, b)"
      ],
      "execution_count": null,
      "outputs": [
        {
          "output_type": "execute_result",
          "data": {
            "text/plain": [
              "[-16, -8, 8]"
            ]
          },
          "metadata": {
            "tags": []
          },
          "execution_count": 53
        }
      ]
    },
    {
      "cell_type": "markdown",
      "metadata": {
        "id": "ed7yySOfbaGV"
      },
      "source": [
        "# 課題１２"
      ]
    },
    {
      "cell_type": "code",
      "metadata": {
        "id": "gYn9HJ8FbPxo",
        "outputId": "8742fc29-98e1-4e54-ae1f-fc31e1ea5a05",
        "colab": {
          "base_uri": "https://localhost:8080/",
          "height": 380
        }
      },
      "source": [
        "import math\n",
        "\n",
        "x = 0\n",
        "w = 0.02\n",
        "t = 0.4\n",
        "while x <= t + w:\n",
        "    #print(x, math.sin(x), abs(x - math.sin(x)))\n",
        "    print(\"x={:.5f} sin(x)={:.5f} error:{:.4e}\".format(x, math.sin(x), abs(x - math.sin(x))))\n",
        "    x += w"
      ],
      "execution_count": null,
      "outputs": [
        {
          "output_type": "stream",
          "text": [
            "x=0.00000 sin(x)=0.00000 error:0.0000e+00\n",
            "x=0.02000 sin(x)=0.02000 error:1.3333e-06\n",
            "x=0.04000 sin(x)=0.03999 error:1.0666e-05\n",
            "x=0.06000 sin(x)=0.05996 error:3.5994e-05\n",
            "x=0.08000 sin(x)=0.07991 error:8.5306e-05\n",
            "x=0.10000 sin(x)=0.09983 error:1.6658e-04\n",
            "x=0.12000 sin(x)=0.11971 error:2.8779e-04\n",
            "x=0.14000 sin(x)=0.13954 error:4.5689e-04\n",
            "x=0.16000 sin(x)=0.15932 error:6.8179e-04\n",
            "x=0.18000 sin(x)=0.17903 error:9.7043e-04\n",
            "x=0.20000 sin(x)=0.19867 error:1.3307e-03\n",
            "x=0.22000 sin(x)=0.21823 error:1.7704e-03\n",
            "x=0.24000 sin(x)=0.23770 error:2.2974e-03\n",
            "x=0.26000 sin(x)=0.25708 error:2.9194e-03\n",
            "x=0.28000 sin(x)=0.27636 error:3.6444e-03\n",
            "x=0.30000 sin(x)=0.29552 error:4.4798e-03\n",
            "x=0.32000 sin(x)=0.31457 error:5.4334e-03\n",
            "x=0.34000 sin(x)=0.33349 error:6.5129e-03\n",
            "x=0.36000 sin(x)=0.35227 error:7.7258e-03\n",
            "x=0.38000 sin(x)=0.37092 error:9.0795e-03\n",
            "x=0.40000 sin(x)=0.38942 error:1.0582e-02\n"
          ],
          "name": "stdout"
        }
      ]
    },
    {
      "cell_type": "markdown",
      "metadata": {
        "id": "6pWppkuvdG1k"
      },
      "source": [
        "# 課題１３"
      ]
    },
    {
      "cell_type": "code",
      "metadata": {
        "id": "QN33wpogbz8b",
        "outputId": "2368a7f4-43e7-4599-ab20-20a141e672aa",
        "colab": {
          "base_uri": "https://localhost:8080/",
          "height": 210
        }
      },
      "source": [
        "a = 2\n",
        "for n in range(10):\n",
        "    a = a**2 - 1\n",
        "    print(\"a\" + str(n + 1), \"=\", a)"
      ],
      "execution_count": null,
      "outputs": [
        {
          "output_type": "stream",
          "text": [
            "a1 = 3\n",
            "a2 = 8\n",
            "a3 = 63\n",
            "a4 = 3968\n",
            "a5 = 15745023\n",
            "a6 = 247905749270528\n",
            "a7 = 61457260521381894004129398783\n",
            "a8 = 3776994870793005510047522464634252677140721938309041881088\n",
            "a9 = 14265690253996672387291309349232388828298289458234016200317876247121873778287073518355813134107244701354409532063743\n",
            "a10 = 203509918422975643131625101557493482417516581321177887486174612349689723637228095885608636916042736102424433936617827686729959884103612889121780011527849662844136145473332830301242513425767433130492258922182178369327277600615170048\n"
          ],
          "name": "stdout"
        }
      ]
    },
    {
      "cell_type": "code",
      "metadata": {
        "id": "hu4r1BsIdWgD"
      },
      "source": [
        ""
      ],
      "execution_count": null,
      "outputs": []
    }
  ]
}