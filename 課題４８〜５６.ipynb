{
  "nbformat": 4,
  "nbformat_minor": 0,
  "metadata": {
    "colab": {
      "name": "課題４８〜５６",
      "provenance": [],
      "collapsed_sections": [],
      "authorship_tag": "ABX9TyMMRDKVpaVKzbtDPCn+Rrzs",
      "include_colab_link": true
    },
    "kernelspec": {
      "name": "python3",
      "display_name": "Python 3"
    },
    "language_info": {
      "name": "python"
    }
  },
  "cells": [
    {
      "cell_type": "markdown",
      "metadata": {
        "id": "view-in-github",
        "colab_type": "text"
      },
      "source": [
        "<a href=\"https://colab.research.google.com/github/maskot1977/Computer_and_Exercises_2021/blob/sM9VRNyU/%E8%AA%B2%E9%A1%8C%EF%BC%94%EF%BC%98%E3%80%9C%EF%BC%95%EF%BC%96.ipynb\" target=\"_parent\"><img src=\"https://colab.research.google.com/assets/colab-badge.svg\" alt=\"Open In Colab\"/></a>"
      ]
    },
    {
      "cell_type": "markdown",
      "metadata": {
        "id": "rm2DWf5QEahv"
      },
      "source": [
        "# 課題４８"
      ]
    },
    {
      "cell_type": "code",
      "metadata": {
        "colab": {
          "base_uri": "https://localhost:8080/"
        },
        "id": "gKbwftEwAoVq",
        "outputId": "65902442-2af1-424f-ac34-d52a048f30eb"
      },
      "source": [
        "def task48(s, t):\n",
        "    dp_table = [[0 for _ in range(len(t) + 1)] for _ in range(len(s) + 1)]\n",
        "    for i in range(len(s)):\n",
        "        for j in range(len(t)):\n",
        "            if s[i] == t[j]:\n",
        "                dp_table[i + 1][j + 1] = dp_table[i][j] + 1\n",
        "            else:\n",
        "                dp_table[i + 1][j + 1] = max(\n",
        "                    dp_table[i][j + 1],\n",
        "                    dp_table[i + 1][j]\n",
        "                )\n",
        "    return dp_table[len(s)][len(t)] \n",
        "\n",
        "s = \"pencil\"\n",
        "t = \"penguin\"\n",
        "task48(s, t)"
      ],
      "execution_count": null,
      "outputs": [
        {
          "output_type": "execute_result",
          "data": {
            "text/plain": [
              "4"
            ]
          },
          "metadata": {},
          "execution_count": 3
        }
      ]
    },
    {
      "cell_type": "code",
      "metadata": {
        "colab": {
          "base_uri": "https://localhost:8080/"
        },
        "id": "dYIT1uXrEtY2",
        "outputId": "ac4fbeef-77a9-4c81-cddb-0ff4f87cbb61"
      },
      "source": [
        "s = \"dreamingly\"\n",
        "t = \"dreadfully\"\n",
        "task48(s, t)"
      ],
      "execution_count": null,
      "outputs": [
        {
          "output_type": "execute_result",
          "data": {
            "text/plain": [
              "6"
            ]
          },
          "metadata": {},
          "execution_count": 4
        }
      ]
    },
    {
      "cell_type": "code",
      "metadata": {
        "colab": {
          "base_uri": "https://localhost:8080/"
        },
        "id": "a0ILtyRoGNiB",
        "outputId": "2965113b-7882-48f8-b00b-250b1a0c52f3"
      },
      "source": [
        "s = \"This is a pen. This is an apple.\"\n",
        "t = \"pen-pineapple-apple-pen\"\n",
        "task48(s, t)"
      ],
      "execution_count": null,
      "outputs": [
        {
          "output_type": "execute_result",
          "data": {
            "text/plain": [
              "10"
            ]
          },
          "metadata": {},
          "execution_count": 5
        }
      ]
    },
    {
      "cell_type": "code",
      "metadata": {
        "colab": {
          "base_uri": "https://localhost:8080/"
        },
        "id": "3rwUi3XpGRRY",
        "outputId": "48f992fb-16ba-4528-de04-1a7a7b9a6a4b"
      },
      "source": [
        "s = \"There is more to life than increasing its speed. \"\\\n",
        "      \"(by Mahatma Gandhi)\"\n",
        "\n",
        "t = \"There is always light behind the clouds. \"\\\n",
        "      \"(by Louisa May Alcott)\"\n",
        "task48(s, t)"
      ],
      "execution_count": null,
      "outputs": [
        {
          "output_type": "execute_result",
          "data": {
            "text/plain": [
              "31"
            ]
          },
          "metadata": {},
          "execution_count": 6
        }
      ]
    },
    {
      "cell_type": "code",
      "metadata": {
        "colab": {
          "base_uri": "https://localhost:8080/"
        },
        "id": "MC-MavmzGVbb",
        "outputId": "d0a5f6db-2e7b-45b1-d096-4cb448741c47"
      },
      "source": [
        "s = \"If you want to be successful, it's just this simple: \"\\\n",
        "      \"Know what you are doing, love what you are doing, \"\\\n",
        "      \"and believe in what you are doing. \"\\\n",
        "      \"(by Will Rogers)\"\n",
        "\n",
        "t = \"Success is not the key to happiness. \"\\\n",
        "      \"Happiness is the key to success. \"\\\n",
        "      \"If you love what you are doing, \"\\\n",
        "      \"you will be successful. \"\\\n",
        "      \"(by Louisa May Alcott)\"\n",
        "task48(s, t)"
      ],
      "execution_count": null,
      "outputs": [
        {
          "output_type": "execute_result",
          "data": {
            "text/plain": [
              "71"
            ]
          },
          "metadata": {},
          "execution_count": 7
        }
      ]
    },
    {
      "cell_type": "markdown",
      "metadata": {
        "id": "dParzr4RGh0U"
      },
      "source": [
        "# 課題４９"
      ]
    },
    {
      "cell_type": "code",
      "metadata": {
        "colab": {
          "base_uri": "https://localhost:8080/"
        },
        "id": "H1DQPMxiGb4i",
        "outputId": "edb6ca9e-b6bc-4432-8e96-a306aac59025"
      },
      "source": [
        "def task49(W_capacity, W, V):\n",
        "    dp_table = [[0 for _ in range(W_capacity + 1)] for _ in range(len(W) + 1)]\n",
        "    for i in range(len(W)):\n",
        "        for j in range(W_capacity + 1):\n",
        "            if j < W[i]:\n",
        "                dp_table[i + 1][j] = dp_table[i][j]\n",
        "            else:\n",
        "                dp_table[i + 1][j] =max(\n",
        "                    dp_table[i][j],\n",
        "                    dp_table[i + 1][j - W[i]] + V[i]\n",
        "                )\n",
        "    return dp_table[len(W)][W_capacity]\n",
        "\n",
        "n = 3\n",
        "W_capacity = 7\n",
        "W = [3, 4, 2]\n",
        "V = [4, 5, 3]\n",
        "task49(W_capacity, W, V)"
      ],
      "execution_count": null,
      "outputs": [
        {
          "output_type": "execute_result",
          "data": {
            "text/plain": [
              "10"
            ]
          },
          "metadata": {},
          "execution_count": 10
        }
      ]
    },
    {
      "cell_type": "code",
      "metadata": {
        "colab": {
          "base_uri": "https://localhost:8080/"
        },
        "id": "rNsN4fd0G4Ny",
        "outputId": "16eca43d-b76f-43ac-eff8-6c468b7817a7"
      },
      "source": [
        "n =  10\n",
        "W_capacity =  867\n",
        "W =  [28, 92, 30, 1, 40, 33, 96, 30, 38, 86]\n",
        "V =  [6, 77, 53, 91, 47, 33, 28, 28, 78, 36]\n",
        "task49(W_capacity, W, V)"
      ],
      "execution_count": null,
      "outputs": [
        {
          "output_type": "execute_result",
          "data": {
            "text/plain": [
              "78897"
            ]
          },
          "metadata": {},
          "execution_count": 11
        }
      ]
    },
    {
      "cell_type": "code",
      "metadata": {
        "colab": {
          "base_uri": "https://localhost:8080/"
        },
        "id": "952hs8J0H4O_",
        "outputId": "44689f4b-cb3f-49e7-8b59-2c3ab83182d0"
      },
      "source": [
        "n =  20\n",
        "W_capacity = 1272\n",
        "W =  [10, 87, 38, 74, 19, 93, 34, 24, 63, 12, 31, 99, 45, 4, 22, 81, 50, 75, 36, 20]\n",
        "V =  [1, 96, 33, 97, 58, 31, 68, 60, 23, 60, 27, 7, 24, 70, 60, 73, 11, 88, 87, 71]\n",
        "task49(W_capacity, W, V)"
      ],
      "execution_count": null,
      "outputs": [
        {
          "output_type": "execute_result",
          "data": {
            "text/plain": [
              "22260"
            ]
          },
          "metadata": {},
          "execution_count": 12
        }
      ]
    },
    {
      "cell_type": "markdown",
      "metadata": {
        "id": "ehEptcOuIVia"
      },
      "source": [
        "# 課題５０"
      ]
    },
    {
      "cell_type": "code",
      "metadata": {
        "id": "ZAXQC72zH-IB"
      },
      "source": [
        "sahen = [\n",
        "         [1, 5, 1, -1],\n",
        "         [3, 2, 7, 1],\n",
        "         [4, 1, 3, -2],\n",
        "         [1, 6, 4, 3] \n",
        "]\n",
        "uhen = [5, 8, 7, 13]"
      ],
      "execution_count": null,
      "outputs": []
    },
    {
      "cell_type": "code",
      "metadata": {
        "id": "Z--DMnHXItJH"
      },
      "source": [
        "def task50(sahen, uhen):\n",
        "    for i in range(len(sahen) - 1):\n",
        "        for j in range(i + 1, len(sahen)):\n",
        "            if i == j:\n",
        "                coef = 1\n",
        "            else:\n",
        "                coef = sahen[j][i] / sahen[i][i]\n",
        "\n",
        "            for k in range(len(sahen[j])):\n",
        "                sahen[j][k] -= sahen[i][k] * coef\n",
        "\n",
        "            uhen[j] -= uhen[i] * coef\n",
        "\n",
        "    for i in range(len(sahen) - 1, 0, -1):\n",
        "        uhen[i] /= sahen[i][i]\n",
        "        for k in range(len(sahen[i])):\n",
        "            if i == k:\n",
        "                sahen[i][k] = 1\n",
        "            else:\n",
        "                sahen[i][k] /= sahen[i][i]\n",
        "\n",
        "        for j in range(i):\n",
        "            uhen[j] -= uhen[i] * sahen[j][i]\n",
        "            sahen[j][i] = 0\n",
        "    \n",
        "    return sahen, uhen\n",
        "\n",
        "ans = task50(sahen, uhen)"
      ],
      "execution_count": null,
      "outputs": []
    },
    {
      "cell_type": "code",
      "metadata": {
        "colab": {
          "base_uri": "https://localhost:8080/"
        },
        "id": "ZoAUaWi9J9n3",
        "outputId": "311a18df-b274-4d20-e2ff-a5d21fa02ee7"
      },
      "source": [
        "ans[0]"
      ],
      "execution_count": null,
      "outputs": [
        {
          "output_type": "execute_result",
          "data": {
            "text/plain": [
              "[[1, 0, 0, 0], [0.0, 1, 0.0, 0.0], [0.0, 0.0, 1, 0.0], [0.0, 0.0, 0.0, 1]]"
            ]
          },
          "metadata": {},
          "execution_count": 24
        }
      ]
    },
    {
      "cell_type": "code",
      "metadata": {
        "colab": {
          "base_uri": "https://localhost:8080/"
        },
        "id": "cIefemGtKRKA",
        "outputId": "15a9077b-2047-4c86-ff53-db07553d332d"
      },
      "source": [
        "ans[1]"
      ],
      "execution_count": null,
      "outputs": [
        {
          "output_type": "execute_result",
          "data": {
            "text/plain": [
              "[3.500000000000001, 1.0000000000000002, -1.0000000000000004, 2.500000000000001]"
            ]
          },
          "metadata": {},
          "execution_count": 25
        }
      ]
    },
    {
      "cell_type": "markdown",
      "metadata": {
        "id": "BwPTOSZ7LicI"
      },
      "source": [
        "# 課題５１"
      ]
    },
    {
      "cell_type": "code",
      "metadata": {
        "id": "VFlUXVLsKVSx"
      },
      "source": [
        "def task51(dydx, x_0, y_0, x_end, dt):\n",
        "    x = x_0\n",
        "    y = y_0\n",
        "    t = (x_end - x_0) / dt\n",
        "    for i in range(int(t)):\n",
        "        y = y + dt * dydx(x, y)\n",
        "        x = x + dt\n",
        "    return y"
      ],
      "execution_count": null,
      "outputs": []
    },
    {
      "cell_type": "code",
      "metadata": {
        "id": "ClntBsK3MQLa"
      },
      "source": [
        "def dydx(x, y):\n",
        "    return 2 - y / x"
      ],
      "execution_count": null,
      "outputs": []
    },
    {
      "cell_type": "code",
      "metadata": {
        "colab": {
          "base_uri": "https://localhost:8080/"
        },
        "id": "kpB4wTdxMWwg",
        "outputId": "eea7631b-762f-4d4a-9fdd-b4715be797f1"
      },
      "source": [
        "task51(dydx, 1, 2, 2, 0.01)"
      ],
      "execution_count": null,
      "outputs": [
        {
          "output_type": "execute_result",
          "data": {
            "text/plain": [
              "2.497487437185929"
            ]
          },
          "metadata": {},
          "execution_count": 28
        }
      ]
    },
    {
      "cell_type": "markdown",
      "metadata": {
        "id": "RpPTIchWM0zl"
      },
      "source": [
        "# 課題５２"
      ]
    },
    {
      "cell_type": "code",
      "metadata": {
        "id": "humoaXNnMgxP"
      },
      "source": [
        "def task52(dydx, x_0, y_0, x_end, dt):\n",
        "    x = x_0\n",
        "    y = y_0\n",
        "    t = (x_end - x_0) / dt\n",
        "    for i in range(int(t)):\n",
        "        k1 = dt * dydx(x, y)\n",
        "        k2 = dt * dydx(x + dt / 2, y + k1 / 2)\n",
        "        k3 = dt * dydx(x + dt / 2, y + k2 / 2)\n",
        "        k4 = dt * dydx(x + dt, y + k3)\n",
        "        k = (k1 + 2 * k2 + 2 * k3 + k4) / 6\n",
        "        x = x + dt\n",
        "        y = y + k\n",
        "\n",
        "    return y"
      ],
      "execution_count": null,
      "outputs": []
    },
    {
      "cell_type": "code",
      "metadata": {
        "colab": {
          "base_uri": "https://localhost:8080/"
        },
        "id": "Hwbxr-V4Nm8z",
        "outputId": "0d9105cb-3fb6-4d07-febf-9db1c17a1a39"
      },
      "source": [
        "task52(dydx, 1, 2, 2, 0.01)"
      ],
      "execution_count": null,
      "outputs": [
        {
          "output_type": "execute_result",
          "data": {
            "text/plain": [
              "2.4999999999999996"
            ]
          },
          "metadata": {},
          "execution_count": 30
        }
      ]
    },
    {
      "cell_type": "markdown",
      "metadata": {
        "id": "Eu8tp4ZBN5Sn"
      },
      "source": [
        "# 課題５３"
      ]
    },
    {
      "cell_type": "code",
      "metadata": {
        "id": "BT7swVVONqCZ"
      },
      "source": [
        "def task53(a, k):\n",
        "    lb = -1 # lower bound\n",
        "    ub = len(a) # upper bound\n",
        "    while (ub - lb) > 1:\n",
        "        mid = int((lb + ub) / 2)\n",
        "        if a[mid] >= k:\n",
        "            ub = mid\n",
        "        else:\n",
        "            lb = mid\n",
        "    return ub"
      ],
      "execution_count": null,
      "outputs": []
    },
    {
      "cell_type": "code",
      "metadata": {
        "colab": {
          "base_uri": "https://localhost:8080/"
        },
        "id": "C55scaoMPLB0",
        "outputId": "23324ff9-a190-41fe-f812-f6e03353f87a"
      },
      "source": [
        "n =  8\n",
        "a =  [3, 4, 4, 4, 7, 9, 10, 10]\n",
        "k =  8\n",
        "task53(a, k)"
      ],
      "execution_count": null,
      "outputs": [
        {
          "output_type": "execute_result",
          "data": {
            "text/plain": [
              "5"
            ]
          },
          "metadata": {},
          "execution_count": 32
        }
      ]
    },
    {
      "cell_type": "code",
      "metadata": {
        "colab": {
          "base_uri": "https://localhost:8080/"
        },
        "id": "xj2TpHVvPQ7N",
        "outputId": "e6743bc7-94b3-4ccd-e633-2d6cf5faae09"
      },
      "source": [
        "n =  8\n",
        "a =  [3, 4, 4, 4, 7, 9, 10, 10]\n",
        "k =  4\n",
        "task53(a, k)"
      ],
      "execution_count": null,
      "outputs": [
        {
          "output_type": "execute_result",
          "data": {
            "text/plain": [
              "1"
            ]
          },
          "metadata": {},
          "execution_count": 33
        }
      ]
    },
    {
      "cell_type": "code",
      "metadata": {
        "colab": {
          "base_uri": "https://localhost:8080/"
        },
        "id": "le4ENL0MPU3X",
        "outputId": "faa8eade-8986-487b-c24b-a9e06bf05614"
      },
      "source": [
        "n =  8\n",
        "a =  [3, 4, 4, 4, 7, 9, 10, 10]\n",
        "k =  0\n",
        "task53(a, k)"
      ],
      "execution_count": null,
      "outputs": [
        {
          "output_type": "execute_result",
          "data": {
            "text/plain": [
              "0"
            ]
          },
          "metadata": {},
          "execution_count": 34
        }
      ]
    },
    {
      "cell_type": "markdown",
      "metadata": {
        "id": "TxBV2TmJPncP"
      },
      "source": [
        "# 課題５４"
      ]
    },
    {
      "cell_type": "code",
      "metadata": {
        "id": "6AAgobnwPXtr"
      },
      "source": [
        "import math\n",
        "\n",
        "def get_num(x, k, L):\n",
        "    num = 0\n",
        "    for l in L:\n",
        "        num += math.floor(l / x)\n",
        "    return num\n",
        "\n",
        "\n",
        "def task54(k, L):\n",
        "    lb = 0\n",
        "    ub = sum(L) / k\n",
        "    for _ in range(1000):\n",
        "        mid = (lb + ub) / 2\n",
        "        if get_num(mid, k, L) >= k:\n",
        "            lb = mid\n",
        "        else:\n",
        "            ub = mid\n",
        "    return math.floor(ub * 100) / 100"
      ],
      "execution_count": null,
      "outputs": []
    },
    {
      "cell_type": "code",
      "metadata": {
        "colab": {
          "base_uri": "https://localhost:8080/"
        },
        "id": "-W5uxlvbQnap",
        "outputId": "d85fb7ff-d58a-4199-b60e-7f12431439ad"
      },
      "source": [
        "n =  3\n",
        "k =  2\n",
        "L =  [7.47, 6.66, 4.11]\n",
        "task54(k, L)"
      ],
      "execution_count": null,
      "outputs": [
        {
          "output_type": "execute_result",
          "data": {
            "text/plain": [
              "6.66"
            ]
          },
          "metadata": {},
          "execution_count": 52
        }
      ]
    },
    {
      "cell_type": "markdown",
      "metadata": {
        "id": "rCXN9ZOQRdwB"
      },
      "source": [
        "# 課題５５"
      ]
    },
    {
      "cell_type": "code",
      "metadata": {
        "id": "DIsjOgo_QxXn"
      },
      "source": [
        "import math\n",
        "def rotation(P, t):\n",
        "    t = t * math.pi / 180\n",
        "    a = [[math.cos(t), -math.sin(t)],\n",
        "         [math.sin(t), math.cos(t)]]\n",
        "    ax = [\n",
        "          P[0] * a[0][0] + P[1] * a[0][1],\n",
        "          P[0] * a[1][0] + P[1] * a[1][1]\n",
        "          ]\n",
        "    return ax"
      ],
      "execution_count": null,
      "outputs": []
    },
    {
      "cell_type": "code",
      "metadata": {
        "colab": {
          "base_uri": "https://localhost:8080/"
        },
        "id": "zlsB5Ze7Sd43",
        "outputId": "886ef5f0-2ed9-4274-bfe6-0ce3d3226935"
      },
      "source": [
        "P = [1, 0]\n",
        "t = 45\n",
        "rotation(P, t)"
      ],
      "execution_count": null,
      "outputs": [
        {
          "output_type": "execute_result",
          "data": {
            "text/plain": [
              "[0.7071067811865476, 0.7071067811865475]"
            ]
          },
          "metadata": {},
          "execution_count": 50
        }
      ]
    },
    {
      "cell_type": "code",
      "metadata": {
        "colab": {
          "base_uri": "https://localhost:8080/"
        },
        "id": "DGv4TKG9ShjN",
        "outputId": "e786f520-9b3a-4aee-c3dd-41592336b7df"
      },
      "source": [
        "P = [0, 1]\n",
        "t = 30\n",
        "rotation(P, t)"
      ],
      "execution_count": null,
      "outputs": [
        {
          "output_type": "execute_result",
          "data": {
            "text/plain": [
              "[-0.49999999999999994, 0.8660254037844387]"
            ]
          },
          "metadata": {},
          "execution_count": 53
        }
      ]
    },
    {
      "cell_type": "markdown",
      "metadata": {
        "id": "6pDo844QTPdv"
      },
      "source": [
        "# 課題５６"
      ]
    },
    {
      "cell_type": "code",
      "metadata": {
        "id": "k8TkHE-6TAhk"
      },
      "source": [
        "def task56(P0, n):\n",
        "    angle = 360 / n\n",
        "    P = []\n",
        "    P.append(P0)\n",
        "    for i in range(n):\n",
        "        x = rotation(P[i], angle)\n",
        "        P.append(x)\n",
        "    return P"
      ],
      "execution_count": null,
      "outputs": []
    },
    {
      "cell_type": "code",
      "metadata": {
        "id": "z8oNV9LITrbM"
      },
      "source": [
        "P = [0, 1]\n",
        "n = 7\n",
        "points = task56(P, n)"
      ],
      "execution_count": null,
      "outputs": []
    },
    {
      "cell_type": "code",
      "metadata": {
        "id": "fjCy7kfSaPHH",
        "outputId": "7431b340-7960-4502-a9f3-4ca0481f3358",
        "colab": {
          "base_uri": "https://localhost:8080/"
        }
      },
      "source": [
        "points"
      ],
      "execution_count": null,
      "outputs": [
        {
          "output_type": "execute_result",
          "data": {
            "text/plain": [
              "[[0, 1],\n",
              " [-0.7818314824680298, 0.6234898018587336],\n",
              " [-0.9749279121818237, -0.22252093395631428],\n",
              " [-0.43388373911755834, -0.9009688679024191],\n",
              " [0.433883739117558, -0.9009688679024193],\n",
              " [0.9749279121818237, -0.22252093395631461],\n",
              " [0.7818314824680301, 0.6234898018587335],\n",
              " [2.7755575615628914e-16, 1.0000000000000004]]"
            ]
          },
          "metadata": {},
          "execution_count": 62
        }
      ]
    },
    {
      "cell_type": "code",
      "metadata": {
        "colab": {
          "base_uri": "https://localhost:8080/",
          "height": 265
        },
        "id": "nwlU5SkSTu3u",
        "outputId": "a4f3145b-a92b-4777-a37d-3ae25602ebef"
      },
      "source": [
        "import matplotlib.pyplot as plt\n",
        "\n",
        "plt.figure(figsize=(4, 4))\n",
        "plt.plot([p[0] for p in points], [p[1] for p in points])\n",
        "plt.show()"
      ],
      "execution_count": null,
      "outputs": [
        {
          "output_type": "display_data",
          "data": {
            "image/png": "[encoded data removed]",
            "text/plain": [
              "<Figure size 288x288 with 1 Axes>"
            ]
          },
          "metadata": {
            "needs_background": "light"
          }
        }
      ]
    },
    {
      "cell_type": "code",
      "metadata": {
        "id": "HFHdFl_hUEFy"
      },
      "source": [
        ""
      ],
      "execution_count": null,
      "outputs": []
    }
  ]
}