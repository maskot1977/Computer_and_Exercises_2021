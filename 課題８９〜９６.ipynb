{
  "nbformat": 4,
  "nbformat_minor": 0,
  "metadata": {
    "colab": {
      "name": "課題８９〜９６",
      "provenance": [],
      "collapsed_sections": [],
      "authorship_tag": "ABX9TyPQvRaLxfmh54n6/ZwW+/rN",
      "include_colab_link": true
    },
    "kernelspec": {
      "name": "python3",
      "display_name": "Python 3"
    },
    "language_info": {
      "name": "python"
    }
  },
  "cells": [
    {
      "cell_type": "markdown",
      "metadata": {
        "id": "view-in-github",
        "colab_type": "text"
      },
      "source": [
        "<a href=\"https://colab.research.google.com/github/maskot1977/Computer_and_Exercises_2021/blob/p6MsWGZT/%E8%AA%B2%E9%A1%8C%EF%BC%98%EF%BC%99%E3%80%9C%EF%BC%99%EF%BC%96.ipynb\" target=\"_parent\"><img src=\"https://colab.research.google.com/assets/colab-badge.svg\" alt=\"Open In Colab\"/></a>"
      ]
    },
    {
      "cell_type": "markdown",
      "source": [
        "# 課題８９"
      ],
      "metadata": {
        "id": "qAbHBFN-ZOEr"
      }
    },
    {
      "cell_type": "code",
      "execution_count": null,
      "metadata": {
        "colab": {
          "base_uri": "https://localhost:8080/"
        },
        "id": "Fk-VeafdUMKf",
        "outputId": "0babcb58-43a5-4597-efc3-f7f8c30abfff"
      },
      "outputs": [
        {
          "output_type": "stream",
          "name": "stdout",
          "text": [
            "--2022-01-06 07:58:24--  https://raw.githubusercontent.com/maskot1977/ipython_notebook/master/toydata/location.txt\n",
            "Resolving raw.githubusercontent.com (raw.githubusercontent.com)... 185.199.108.133, 185.199.109.133, 185.199.110.133, ...\n",
            "Connecting to raw.githubusercontent.com (raw.githubusercontent.com)|185.199.108.133|:443... connected.\n",
            "HTTP request sent, awaiting response... 200 OK\n",
            "Length: 1251 (1.2K) [text/plain]\n",
            "Saving to: ‘location.txt’\n",
            "\n",
            "\rlocation.txt          0%[                    ]       0  --.-KB/s               \rlocation.txt        100%[===================>]   1.22K  --.-KB/s    in 0s      \n",
            "\n",
            "2022-01-06 07:58:24 (107 MB/s) - ‘location.txt’ saved [1251/1251]\n",
            "\n"
          ]
        }
      ],
      "source": [
        "!wget https://raw.githubusercontent.com/maskot1977/ipython_notebook/master/toydata/location.txt "
      ]
    },
    {
      "cell_type": "code",
      "source": [
        "import pandas as pd\n",
        "df = pd.read_csv(\"location.txt\", index_col=0)\n",
        "df"
      ],
      "metadata": {
        "colab": {
          "base_uri": "https://localhost:8080/",
          "height": 1000
        },
        "id": "z9a8pd9ZZTMZ",
        "outputId": "e17b739e-2ba7-43d0-d8cf-7cd90bee4959"
      },
      "execution_count": null,
      "outputs": [
        {
          "output_type": "execute_result",
          "data": {
            "text/html": [
              "\n",
              "  <div id=\"df-ed69e1b6-1eed-42e8-a05d-e82a4195f66f\">\n",
              "    <div class=\"colab-df-container\">\n",
              "      <div>\n",
              "<style scoped>\n",
              "    .dataframe tbody tr th:only-of-type {\n",
              "        vertical-align: middle;\n",
              "    }\n",
              "\n",
              "    .dataframe tbody tr th {\n",
              "        vertical-align: top;\n",
              "    }\n",
              "\n",
              "    .dataframe thead th {\n",
              "        text-align: right;\n",
              "    }\n",
              "</style>\n",
              "<table border=\"1\" class=\"dataframe\">\n",
              "  <thead>\n",
              "    <tr style=\"text-align: right;\">\n",
              "      <th></th>\n",
              "      <th>Longitude</th>\n",
              "      <th>Latitude</th>\n",
              "    </tr>\n",
              "    <tr>\n",
              "      <th>Town</th>\n",
              "      <th></th>\n",
              "      <th></th>\n",
              "    </tr>\n",
              "  </thead>\n",
              "  <tbody>\n",
              "    <tr>\n",
              "      <th>Sapporo</th>\n",
              "      <td>43.06417</td>\n",
              "      <td>141.34694</td>\n",
              "    </tr>\n",
              "    <tr>\n",
              "      <th>Aomori</th>\n",
              "      <td>40.82444</td>\n",
              "      <td>140.74000</td>\n",
              "    </tr>\n",
              "    <tr>\n",
              "      <th>Morioka</th>\n",
              "      <td>39.70361</td>\n",
              "      <td>141.15250</td>\n",
              "    </tr>\n",
              "    <tr>\n",
              "      <th>Sendai</th>\n",
              "      <td>38.26889</td>\n",
              "      <td>140.87194</td>\n",
              "    </tr>\n",
              "    <tr>\n",
              "      <th>Akita</th>\n",
              "      <td>39.71861</td>\n",
              "      <td>140.10250</td>\n",
              "    </tr>\n",
              "    <tr>\n",
              "      <th>Yamagata</th>\n",
              "      <td>38.24056</td>\n",
              "      <td>140.36333</td>\n",
              "    </tr>\n",
              "    <tr>\n",
              "      <th>Fukushima</th>\n",
              "      <td>37.75000</td>\n",
              "      <td>140.46778</td>\n",
              "    </tr>\n",
              "    <tr>\n",
              "      <th>Mito</th>\n",
              "      <td>36.34139</td>\n",
              "      <td>140.44667</td>\n",
              "    </tr>\n",
              "    <tr>\n",
              "      <th>Utsunomiya</th>\n",
              "      <td>36.56583</td>\n",
              "      <td>139.88361</td>\n",
              "    </tr>\n",
              "    <tr>\n",
              "      <th>Maebashi</th>\n",
              "      <td>36.39111</td>\n",
              "      <td>139.06083</td>\n",
              "    </tr>\n",
              "    <tr>\n",
              "      <th>Saitama</th>\n",
              "      <td>35.85694</td>\n",
              "      <td>139.64889</td>\n",
              "    </tr>\n",
              "    <tr>\n",
              "      <th>Chiba</th>\n",
              "      <td>35.60472</td>\n",
              "      <td>140.12333</td>\n",
              "    </tr>\n",
              "    <tr>\n",
              "      <th>Tokyo</th>\n",
              "      <td>35.68944</td>\n",
              "      <td>139.69167</td>\n",
              "    </tr>\n",
              "    <tr>\n",
              "      <th>Yokohama</th>\n",
              "      <td>35.44778</td>\n",
              "      <td>139.64250</td>\n",
              "    </tr>\n",
              "    <tr>\n",
              "      <th>Niigata</th>\n",
              "      <td>37.90222</td>\n",
              "      <td>139.02361</td>\n",
              "    </tr>\n",
              "    <tr>\n",
              "      <th>Toyama</th>\n",
              "      <td>36.69528</td>\n",
              "      <td>137.21139</td>\n",
              "    </tr>\n",
              "    <tr>\n",
              "      <th>Kanazawa</th>\n",
              "      <td>36.59444</td>\n",
              "      <td>136.62556</td>\n",
              "    </tr>\n",
              "    <tr>\n",
              "      <th>Fukui</th>\n",
              "      <td>36.06528</td>\n",
              "      <td>136.22194</td>\n",
              "    </tr>\n",
              "    <tr>\n",
              "      <th>Kofu</th>\n",
              "      <td>35.66389</td>\n",
              "      <td>138.56833</td>\n",
              "    </tr>\n",
              "    <tr>\n",
              "      <th>Nagano</th>\n",
              "      <td>36.65139</td>\n",
              "      <td>138.18111</td>\n",
              "    </tr>\n",
              "    <tr>\n",
              "      <th>Gifu</th>\n",
              "      <td>35.39111</td>\n",
              "      <td>136.72222</td>\n",
              "    </tr>\n",
              "    <tr>\n",
              "      <th>Shizuoka</th>\n",
              "      <td>34.97694</td>\n",
              "      <td>138.38306</td>\n",
              "    </tr>\n",
              "    <tr>\n",
              "      <th>Nagoya</th>\n",
              "      <td>35.18028</td>\n",
              "      <td>136.90667</td>\n",
              "    </tr>\n",
              "    <tr>\n",
              "      <th>Tsu</th>\n",
              "      <td>34.73028</td>\n",
              "      <td>136.50861</td>\n",
              "    </tr>\n",
              "    <tr>\n",
              "      <th>Otsu</th>\n",
              "      <td>35.00444</td>\n",
              "      <td>135.86833</td>\n",
              "    </tr>\n",
              "    <tr>\n",
              "      <th>Kyoto</th>\n",
              "      <td>35.02139</td>\n",
              "      <td>135.75556</td>\n",
              "    </tr>\n",
              "    <tr>\n",
              "      <th>Osaka</th>\n",
              "      <td>34.68639</td>\n",
              "      <td>135.52000</td>\n",
              "    </tr>\n",
              "    <tr>\n",
              "      <th>Kobe</th>\n",
              "      <td>34.69139</td>\n",
              "      <td>135.18306</td>\n",
              "    </tr>\n",
              "    <tr>\n",
              "      <th>Nara</th>\n",
              "      <td>34.68528</td>\n",
              "      <td>135.83278</td>\n",
              "    </tr>\n",
              "    <tr>\n",
              "      <th>Wakayama</th>\n",
              "      <td>34.22611</td>\n",
              "      <td>135.16750</td>\n",
              "    </tr>\n",
              "    <tr>\n",
              "      <th>Tottori</th>\n",
              "      <td>35.50361</td>\n",
              "      <td>134.23833</td>\n",
              "    </tr>\n",
              "    <tr>\n",
              "      <th>Matsue</th>\n",
              "      <td>35.47222</td>\n",
              "      <td>133.05056</td>\n",
              "    </tr>\n",
              "    <tr>\n",
              "      <th>Okayama</th>\n",
              "      <td>34.66167</td>\n",
              "      <td>133.93500</td>\n",
              "    </tr>\n",
              "    <tr>\n",
              "      <th>Hiroshima</th>\n",
              "      <td>34.39639</td>\n",
              "      <td>132.45944</td>\n",
              "    </tr>\n",
              "    <tr>\n",
              "      <th>Yamaguchi</th>\n",
              "      <td>34.18583</td>\n",
              "      <td>131.47139</td>\n",
              "    </tr>\n",
              "    <tr>\n",
              "      <th>Tokushima</th>\n",
              "      <td>34.06583</td>\n",
              "      <td>134.55944</td>\n",
              "    </tr>\n",
              "    <tr>\n",
              "      <th>Takamatsu</th>\n",
              "      <td>34.34028</td>\n",
              "      <td>134.04333</td>\n",
              "    </tr>\n",
              "    <tr>\n",
              "      <th>Matsuyama</th>\n",
              "      <td>33.84167</td>\n",
              "      <td>132.76611</td>\n",
              "    </tr>\n",
              "    <tr>\n",
              "      <th>Kochi</th>\n",
              "      <td>33.55972</td>\n",
              "      <td>133.53111</td>\n",
              "    </tr>\n",
              "    <tr>\n",
              "      <th>Fukuoka</th>\n",
              "      <td>33.60639</td>\n",
              "      <td>130.41806</td>\n",
              "    </tr>\n",
              "    <tr>\n",
              "      <th>Saga</th>\n",
              "      <td>33.24944</td>\n",
              "      <td>130.29889</td>\n",
              "    </tr>\n",
              "    <tr>\n",
              "      <th>Nagasaki</th>\n",
              "      <td>32.74472</td>\n",
              "      <td>129.87361</td>\n",
              "    </tr>\n",
              "    <tr>\n",
              "      <th>Kumamoto</th>\n",
              "      <td>32.78972</td>\n",
              "      <td>130.74167</td>\n",
              "    </tr>\n",
              "    <tr>\n",
              "      <th>Oita</th>\n",
              "      <td>33.23806</td>\n",
              "      <td>131.61250</td>\n",
              "    </tr>\n",
              "    <tr>\n",
              "      <th>Miyazaki</th>\n",
              "      <td>31.91111</td>\n",
              "      <td>131.42389</td>\n",
              "    </tr>\n",
              "    <tr>\n",
              "      <th>Kagoshima</th>\n",
              "      <td>31.56028</td>\n",
              "      <td>130.55806</td>\n",
              "    </tr>\n",
              "    <tr>\n",
              "      <th>Naha</th>\n",
              "      <td>26.21250</td>\n",
              "      <td>127.68111</td>\n",
              "    </tr>\n",
              "  </tbody>\n",
              "</table>\n",
              "</div>\n",
              "      <button class=\"colab-df-convert\" onclick=\"convertToInteractive('df-ed69e1b6-1eed-42e8-a05d-e82a4195f66f')\"\n",
              "              title=\"Convert this dataframe to an interactive table.\"\n",
              "              style=\"display:none;\">\n",
              "        \n",
              "  <svg xmlns=\"http://www.w3.org/2000/svg\" height=\"24px\"viewBox=\"0 0 24 24\"\n",
              "       width=\"24px\">\n",
              "    <path d=\"M0 0h24v24H0V0z\" fill=\"none\"/>\n",
              "    <path d=\"M18.56 5.44l.94 2.06.94-2.06 2.06-.94-2.06-.94-.94-2.06-.94 2.06-2.06.94zm-11 1L8.5 8.5l.94-2.06 2.06-.94-2.06-.94L8.5 2.5l-.94 2.06-2.06.94zm10 10l.94 2.06.94-2.06 2.06-.94-2.06-.94-.94-2.06-.94 2.06-2.06.94z\"/><path d=\"M17.41 7.96l-1.37-1.37c-.4-.4-.92-.59-1.43-.59-.52 0-1.04.2-1.43.59L10.3 9.45l-7.72 7.72c-.78.78-.78 2.05 0 2.83L4 21.41c.39.39.9.59 1.41.59.51 0 1.02-.2 1.41-.59l7.78-7.78 2.81-2.81c.8-.78.8-2.07 0-2.86zM5.41 20L4 18.59l7.72-7.72 1.47 1.35L5.41 20z\"/>\n",
              "  </svg>\n",
              "      </button>\n",
              "      \n",
              "  <style>\n",
              "    .colab-df-container {\n",
              "      display:flex;\n",
              "      flex-wrap:wrap;\n",
              "      gap: 12px;\n",
              "    }\n",
              "\n",
              "    .colab-df-convert {\n",
              "      background-color: #E8F0FE;\n",
              "      border: none;\n",
              "      border-radius: 50%;\n",
              "      cursor: pointer;\n",
              "      display: none;\n",
              "      fill: #1967D2;\n",
              "      height: 32px;\n",
              "      padding: 0 0 0 0;\n",
              "      width: 32px;\n",
              "    }\n",
              "\n",
              "    .colab-df-convert:hover {\n",
              "      background-color: #E2EBFA;\n",
              "      box-shadow: 0px 1px 2px rgba(60, 64, 67, 0.3), 0px 1px 3px 1px rgba(60, 64, 67, 0.15);\n",
              "      fill: #174EA6;\n",
              "    }\n",
              "\n",
              "    [theme=dark] .colab-df-convert {\n",
              "      background-color: #3B4455;\n",
              "      fill: #D2E3FC;\n",
              "    }\n",
              "\n",
              "    [theme=dark] .colab-df-convert:hover {\n",
              "      background-color: #434B5C;\n",
              "      box-shadow: 0px 1px 3px 1px rgba(0, 0, 0, 0.15);\n",
              "      filter: drop-shadow(0px 1px 2px rgba(0, 0, 0, 0.3));\n",
              "      fill: #FFFFFF;\n",
              "    }\n",
              "  </style>\n",
              "\n",
              "      <script>\n",
              "        const buttonEl =\n",
              "          document.querySelector('#df-ed69e1b6-1eed-42e8-a05d-e82a4195f66f button.colab-df-convert');\n",
              "        buttonEl.style.display =\n",
              "          google.colab.kernel.accessAllowed ? 'block' : 'none';\n",
              "\n",
              "        async function convertToInteractive(key) {\n",
              "          const element = document.querySelector('#df-ed69e1b6-1eed-42e8-a05d-e82a4195f66f');\n",
              "          const dataTable =\n",
              "            await google.colab.kernel.invokeFunction('convertToInteractive',\n",
              "                                                     [key], {});\n",
              "          if (!dataTable) return;\n",
              "\n",
              "          const docLinkHtml = 'Like what you see? Visit the ' +\n",
              "            '<a target=\"_blank\" href=https://colab.research.google.com/notebooks/data_table.ipynb>data table notebook</a>'\n",
              "            + ' to learn more about interactive tables.';\n",
              "          element.innerHTML = '';\n",
              "          dataTable['output_type'] = 'display_data';\n",
              "          await google.colab.output.renderOutput(dataTable, element);\n",
              "          const docLink = document.createElement('div');\n",
              "          docLink.innerHTML = docLinkHtml;\n",
              "          element.appendChild(docLink);\n",
              "        }\n",
              "      </script>\n",
              "    </div>\n",
              "  </div>\n",
              "  "
            ],
            "text/plain": [
              "            Longitude   Latitude\n",
              "Town                            \n",
              "Sapporo      43.06417  141.34694\n",
              "Aomori       40.82444  140.74000\n",
              "Morioka      39.70361  141.15250\n",
              "Sendai       38.26889  140.87194\n",
              "Akita        39.71861  140.10250\n",
              "Yamagata     38.24056  140.36333\n",
              "Fukushima    37.75000  140.46778\n",
              "Mito         36.34139  140.44667\n",
              "Utsunomiya   36.56583  139.88361\n",
              "Maebashi     36.39111  139.06083\n",
              "Saitama      35.85694  139.64889\n",
              "Chiba        35.60472  140.12333\n",
              "Tokyo        35.68944  139.69167\n",
              "Yokohama     35.44778  139.64250\n",
              "Niigata      37.90222  139.02361\n",
              "Toyama       36.69528  137.21139\n",
              "Kanazawa     36.59444  136.62556\n",
              "Fukui        36.06528  136.22194\n",
              "Kofu         35.66389  138.56833\n",
              "Nagano       36.65139  138.18111\n",
              "Gifu         35.39111  136.72222\n",
              "Shizuoka     34.97694  138.38306\n",
              "Nagoya       35.18028  136.90667\n",
              "Tsu          34.73028  136.50861\n",
              "Otsu         35.00444  135.86833\n",
              "Kyoto        35.02139  135.75556\n",
              "Osaka        34.68639  135.52000\n",
              "Kobe         34.69139  135.18306\n",
              "Nara         34.68528  135.83278\n",
              "Wakayama     34.22611  135.16750\n",
              "Tottori      35.50361  134.23833\n",
              "Matsue       35.47222  133.05056\n",
              "Okayama      34.66167  133.93500\n",
              "Hiroshima    34.39639  132.45944\n",
              "Yamaguchi    34.18583  131.47139\n",
              "Tokushima    34.06583  134.55944\n",
              "Takamatsu    34.34028  134.04333\n",
              "Matsuyama    33.84167  132.76611\n",
              "Kochi        33.55972  133.53111\n",
              "Fukuoka      33.60639  130.41806\n",
              "Saga         33.24944  130.29889\n",
              "Nagasaki     32.74472  129.87361\n",
              "Kumamoto     32.78972  130.74167\n",
              "Oita         33.23806  131.61250\n",
              "Miyazaki     31.91111  131.42389\n",
              "Kagoshima    31.56028  130.55806\n",
              "Naha         26.21250  127.68111"
            ]
          },
          "metadata": {},
          "execution_count": 8
        }
      ]
    },
    {
      "cell_type": "code",
      "source": [
        "%matplotlib inline\n",
        "import matplotlib.pyplot as plt\n",
        "from scipy.cluster.hierarchy import linkage, dendrogram\n",
        "\n",
        "# metric は色々あるので、ケースバイケースでどれかひとつ好きなものを選ぶ。\n",
        "# method も色々あるので、ケースバイケースでどれかひとつ好きなものを選ぶ。\n",
        "dend_link = linkage(df,\n",
        "                  #metric = 'braycurtis', \n",
        "                  #metric = 'canberra', \n",
        "                  #metric = 'chebyshev', \n",
        "                  #metric = 'cityblock', \n",
        "                  #metric = 'correlation', \n",
        "                  #metric = 'cosine', \n",
        "                  metric = 'euclidean', \n",
        "                  #metric = 'hamming', \n",
        "                  #metric = 'jaccard', \n",
        "                  #method= 'single')\n",
        "                  #method = 'average')\n",
        "                  method= 'complete')\n",
        "                  #method='weighted')\n",
        "plt.figure(figsize=(8, 8))\n",
        "dendrogram(dend_link, orientation='right', labels=list(df.index), color_threshold=0.01)\n",
        "plt.title(\"Dedrogram\")\n",
        "plt.xlabel(\"Threshold\")\n",
        "plt.grid()\n",
        "plt.show()"
      ],
      "metadata": {
        "colab": {
          "base_uri": "https://localhost:8080/",
          "height": 513
        },
        "id": "3fz2aSPJZdno",
        "outputId": "e884a2a5-7568-41fd-ba23-3eedd3896b34"
      },
      "execution_count": null,
      "outputs": [
        {
          "output_type": "display_data",
          "data": {
            "image/png": "[encoded data removed]",
            "text/plain": [
              "<Figure size 576x576 with 1 Axes>"
            ]
          },
          "metadata": {
            "needs_background": "light"
          }
        }
      ]
    },
    {
      "cell_type": "markdown",
      "source": [
        "# 課題９１"
      ],
      "metadata": {
        "id": "D8GzpcSccnOX"
      }
    },
    {
      "cell_type": "code",
      "source": [
        "# 現在の Google Colab では Sympy 1.1.1 が入っている。\n",
        "# Sympy 1.1 では後述の「特殊解」が計算できないので、1.3 にアップグレードする。\n",
        "!pip install sympy==1.3"
      ],
      "metadata": {
        "colab": {
          "base_uri": "https://localhost:8080/"
        },
        "id": "ygVTkhTdZnwa",
        "outputId": "f35e02d3-b132-48c0-e85e-d85908f806e5"
      },
      "execution_count": null,
      "outputs": [
        {
          "output_type": "stream",
          "name": "stdout",
          "text": [
            "Collecting sympy==1.3\n",
            "  Downloading sympy-1.3.tar.gz (5.9 MB)\n",
            "\u001b[K     |████████████████████████████████| 5.9 MB 13.9 MB/s \n",
            "\u001b[?25hRequirement already satisfied: mpmath>=0.19 in /usr/local/lib/python3.7/dist-packages (from sympy==1.3) (1.2.1)\n",
            "Building wheels for collected packages: sympy\n",
            "  Building wheel for sympy (setup.py) ... \u001b[?25l\u001b[?25hdone\n",
            "  Created wheel for sympy: filename=sympy-1.3-py3-none-any.whl size=5199966 sha256=acdaa6f05ff280e4a90e5e40264ec14d0120294bc4cd05f7048ac9138a17502b\n",
            "  Stored in directory: /root/.cache/pip/wheels/68/ed/ab/a672266507280d01d31accd7bec372c26a636956de24e4fd7f\n",
            "Successfully built sympy\n",
            "Installing collected packages: sympy\n",
            "  Attempting uninstall: sympy\n",
            "    Found existing installation: sympy 1.7.1\n",
            "    Uninstalling sympy-1.7.1:\n",
            "      Successfully uninstalled sympy-1.7.1\n",
            "Successfully installed sympy-1.3\n"
          ]
        }
      ]
    },
    {
      "cell_type": "code",
      "source": [
        "import sympy as sym\n",
        "from sympy.plotting import plot\n",
        "sym.init_printing(use_unicode=True)\n",
        "%matplotlib inline"
      ],
      "metadata": {
        "id": "BA1_3_ZRcp07"
      },
      "execution_count": null,
      "outputs": []
    },
    {
      "cell_type": "code",
      "source": [
        "# Google Colab 使用の場合、SympyによるTeX表示をサポートするために実行する\n",
        "def custom_latex_printer(exp,**options):\n",
        "    from google.colab.output._publish import javascript\n",
        "    url = \"https://cdnjs.cloudflare.com/ajax/libs/mathjax/2.7.3/latest.js?config=default\"\n",
        "    javascript(url=url)\n",
        "    return sym.printing.latex(exp,**options)\n",
        "\n",
        "sym.init_printing(use_latex=\"mathjax\",latex_printer=custom_latex_printer)"
      ],
      "metadata": {
        "id": "vrQxIdtEcxSz"
      },
      "execution_count": null,
      "outputs": []
    },
    {
      "cell_type": "code",
      "source": [
        "a = sym.Symbol('a')"
      ],
      "metadata": {
        "id": "cycL8ux_czh0"
      },
      "execution_count": null,
      "outputs": []
    },
    {
      "cell_type": "code",
      "source": [
        "a, b, c, x, y = sym.symbols(\"a b c x y\")"
      ],
      "metadata": {
        "id": "p-Q8qKB-c3Sq"
      },
      "execution_count": null,
      "outputs": []
    },
    {
      "cell_type": "code",
      "source": [
        "f = sym.Function('f')\n",
        "g = sym.Function('g')"
      ],
      "metadata": {
        "id": "a_sKAdvac5Q6"
      },
      "execution_count": null,
      "outputs": []
    },
    {
      "cell_type": "code",
      "source": [
        "# 数式は英語で numerial expression または numerical formula\n",
        "expr = x**2-12*x+8\n",
        "expr"
      ],
      "metadata": {
        "colab": {
          "base_uri": "https://localhost:8080/",
          "height": 38
        },
        "id": "Qa2aRQHZc643",
        "outputId": "98df8ab5-de28-4f1f-a87d-b7275ab18444"
      },
      "execution_count": null,
      "outputs": [
        {
          "output_type": "display_data",
          "data": {
            "text/html": [
              "<script src='https://cdnjs.cloudflare.com/ajax/libs/mathjax/2.7.3/latest.js?config=default'></script>"
            ],
            "text/plain": [
              "<IPython.core.display.HTML object>"
            ]
          },
          "metadata": {}
        },
        {
          "output_type": "execute_result",
          "data": {
            "text/latex": "$$x^{2} - 12 x + 8$$",
            "text/plain": [
              " 2           \n",
              "x  - 12⋅x + 8"
            ]
          },
          "metadata": {},
          "execution_count": 18
        }
      ]
    },
    {
      "cell_type": "code",
      "source": [
        "# 得られた関数を図示\n",
        "plot(expr, (x, -20, 20))"
      ],
      "metadata": {
        "colab": {
          "base_uri": "https://localhost:8080/",
          "height": 410
        },
        "id": "ppT9H-f4c8X0",
        "outputId": "d244e499-e2b0-4e92-8712-e5b53ec2040e"
      },
      "execution_count": null,
      "outputs": [
        {
          "output_type": "stream",
          "name": "stderr",
          "text": [
            "/usr/local/lib/python3.7/dist-packages/sympy/plotting/plot.py:888: MatplotlibDeprecationWarning: \n",
            "The set_smart_bounds function was deprecated in Matplotlib 3.2 and will be removed two minor releases later.\n",
            "  self.ax.spines['left'].set_smart_bounds(True)\n",
            "/usr/local/lib/python3.7/dist-packages/sympy/plotting/plot.py:889: MatplotlibDeprecationWarning: \n",
            "The set_smart_bounds function was deprecated in Matplotlib 3.2 and will be removed two minor releases later.\n",
            "  self.ax.spines['bottom'].set_smart_bounds(False)\n"
          ]
        },
        {
          "output_type": "display_data",
          "data": {
            "image/png": "[encoded data removed]",
            "text/plain": [
              "<Figure size 432x288 with 1 Axes>"
            ]
          },
          "metadata": {
            "needs_background": "light"
          }
        },
        {
          "output_type": "execute_result",
          "data": {
            "text/plain": [
              "<sympy.plotting.plot.Plot at 0x7f2011f64490>"
            ]
          },
          "metadata": {},
          "execution_count": 19
        }
      ]
    },
    {
      "cell_type": "code",
      "source": [
        "# 因数分解\n",
        "expr = x**2 + 2*x + 1\n",
        "sym.factor(expr)"
      ],
      "metadata": {
        "colab": {
          "base_uri": "https://localhost:8080/",
          "height": 39
        },
        "id": "Hk3ikUxLdAoB",
        "outputId": "101c4763-fbeb-4ec4-90f2-bb4788dd3bb8"
      },
      "execution_count": null,
      "outputs": [
        {
          "output_type": "display_data",
          "data": {
            "text/html": [
              "<script src='https://cdnjs.cloudflare.com/ajax/libs/mathjax/2.7.3/latest.js?config=default'></script>"
            ],
            "text/plain": [
              "<IPython.core.display.HTML object>"
            ]
          },
          "metadata": {}
        },
        {
          "output_type": "execute_result",
          "data": {
            "text/latex": "$$\\left(x + 1\\right)^{2}$$",
            "text/plain": [
              "       2\n",
              "(x + 1) "
            ]
          },
          "metadata": {},
          "execution_count": 20
        }
      ]
    },
    {
      "cell_type": "code",
      "source": [
        "# 等式は英語で equation または equality\n",
        "eq = sym.Eq(expr)\n",
        "eq"
      ],
      "metadata": {
        "colab": {
          "base_uri": "https://localhost:8080/",
          "height": 38
        },
        "id": "pa07R1cAdOpI",
        "outputId": "3732554f-48ff-432b-e1c4-09200f171c4d"
      },
      "execution_count": null,
      "outputs": [
        {
          "output_type": "display_data",
          "data": {
            "text/html": [
              "<script src='https://cdnjs.cloudflare.com/ajax/libs/mathjax/2.7.3/latest.js?config=default'></script>"
            ],
            "text/plain": [
              "<IPython.core.display.HTML object>"
            ]
          },
          "metadata": {}
        },
        {
          "output_type": "execute_result",
          "data": {
            "text/latex": "$$x^{2} + 2 x + 1 = 0$$",
            "text/plain": [
              " 2              \n",
              "x  + 2⋅x + 1 = 0"
            ]
          },
          "metadata": {},
          "execution_count": 21
        }
      ]
    },
    {
      "cell_type": "code",
      "source": [
        "# 方程式を解く\n",
        "sym.solve(eq)"
      ],
      "metadata": {
        "colab": {
          "base_uri": "https://localhost:8080/",
          "height": 37
        },
        "id": "TeU_73WMdST5",
        "outputId": "3f7062a5-1e61-4eb2-f7fb-d6c319abe436"
      },
      "execution_count": null,
      "outputs": [
        {
          "output_type": "display_data",
          "data": {
            "text/html": [
              "<script src='https://cdnjs.cloudflare.com/ajax/libs/mathjax/2.7.3/latest.js?config=default'></script>"
            ],
            "text/plain": [
              "<IPython.core.display.HTML object>"
            ]
          },
          "metadata": {}
        },
        {
          "output_type": "execute_result",
          "data": {
            "text/latex": "$$\\left [ -1\\right ]$$",
            "text/plain": [
              "[-1]"
            ]
          },
          "metadata": {},
          "execution_count": 22
        }
      ]
    },
    {
      "cell_type": "code",
      "source": [
        "# 常微分方程式\n",
        "eq = sym.Eq(2 * f(x).diff(x,1) + 5 * f(x))\n",
        "eq"
      ],
      "metadata": {
        "colab": {
          "base_uri": "https://localhost:8080/",
          "height": 38
        },
        "id": "F06ywZxvdVFs",
        "outputId": "bab18a73-4874-4658-ef0f-41a6bfd9e11a"
      },
      "execution_count": null,
      "outputs": [
        {
          "output_type": "display_data",
          "data": {
            "text/html": [
              "<script src='https://cdnjs.cloudflare.com/ajax/libs/mathjax/2.7.3/latest.js?config=default'></script>"
            ],
            "text/plain": [
              "<IPython.core.display.HTML object>"
            ]
          },
          "metadata": {}
        },
        {
          "output_type": "execute_result",
          "data": {
            "text/latex": "$$5 f{\\left (x \\right )} + 2 \\frac{d}{d x} f{\\left (x \\right )} = 0$$",
            "text/plain": [
              "           d           \n",
              "5⋅f(x) + 2⋅──(f(x)) = 0\n",
              "           dx          "
            ]
          },
          "metadata": {},
          "execution_count": 23
        }
      ]
    },
    {
      "cell_type": "code",
      "source": [
        "# 一般解\n",
        "ans = sym.dsolve(eq)\n",
        "print(ans)\n",
        "ans"
      ],
      "metadata": {
        "colab": {
          "base_uri": "https://localhost:8080/",
          "height": 57
        },
        "id": "ShsIJonodiGJ",
        "outputId": "e11bd654-cc93-4f65-ab35-33a8eaccce28"
      },
      "execution_count": null,
      "outputs": [
        {
          "output_type": "stream",
          "name": "stdout",
          "text": [
            "Eq(f(x), C1*exp(-5*x/2))\n"
          ]
        },
        {
          "output_type": "display_data",
          "data": {
            "text/html": [
              "<script src='https://cdnjs.cloudflare.com/ajax/libs/mathjax/2.7.3/latest.js?config=default'></script>"
            ],
            "text/plain": [
              "<IPython.core.display.HTML object>"
            ]
          },
          "metadata": {}
        },
        {
          "output_type": "execute_result",
          "data": {
            "text/latex": "$$f{\\left (x \\right )} = C_{1} e^{- \\frac{5 x}{2}}$$",
            "text/plain": [
              "           -5⋅x \n",
              "           ─────\n",
              "             2  \n",
              "f(x) = C₁⋅ℯ     "
            ]
          },
          "metadata": {},
          "execution_count": 24
        }
      ]
    },
    {
      "cell_type": "code",
      "source": [
        "# 特殊解\n",
        "ans = sym.dsolve(eq, ics={f(0):1})\n",
        "print(ans)\n",
        "ans"
      ],
      "metadata": {
        "colab": {
          "base_uri": "https://localhost:8080/",
          "height": 57
        },
        "id": "QZePIYz3dkNa",
        "outputId": "66119d9c-27a9-4dd9-ca2d-f97738a84d98"
      },
      "execution_count": null,
      "outputs": [
        {
          "output_type": "stream",
          "name": "stdout",
          "text": [
            "Eq(f(x), exp(-5*x/2))\n"
          ]
        },
        {
          "output_type": "display_data",
          "data": {
            "text/html": [
              "<script src='https://cdnjs.cloudflare.com/ajax/libs/mathjax/2.7.3/latest.js?config=default'></script>"
            ],
            "text/plain": [
              "<IPython.core.display.HTML object>"
            ]
          },
          "metadata": {}
        },
        {
          "output_type": "execute_result",
          "data": {
            "text/latex": "$$f{\\left (x \\right )} = e^{- \\frac{5 x}{2}}$$",
            "text/plain": [
              "        -5⋅x \n",
              "        ─────\n",
              "          2  \n",
              "f(x) = ℯ     "
            ]
          },
          "metadata": {},
          "execution_count": 25
        }
      ]
    },
    {
      "cell_type": "code",
      "source": [
        "# 特殊解で x = 2 のとき\n",
        "print(ans.subs(x, 2))\n",
        "ans.subs(x, 2)"
      ],
      "metadata": {
        "colab": {
          "base_uri": "https://localhost:8080/",
          "height": 56
        },
        "id": "Z_ttD4wLdnBb",
        "outputId": "c9f5211d-097e-4f94-8743-63e7f32f77c1"
      },
      "execution_count": null,
      "outputs": [
        {
          "output_type": "stream",
          "name": "stdout",
          "text": [
            "Eq(f(2), exp(-5))\n"
          ]
        },
        {
          "output_type": "display_data",
          "data": {
            "text/html": [
              "<script src='https://cdnjs.cloudflare.com/ajax/libs/mathjax/2.7.3/latest.js?config=default'></script>"
            ],
            "text/plain": [
              "<IPython.core.display.HTML object>"
            ]
          },
          "metadata": {}
        },
        {
          "output_type": "execute_result",
          "data": {
            "text/latex": "$$f{\\left (2 \\right )} = e^{-5}$$",
            "text/plain": [
              "        -5\n",
              "f(2) = ℯ  "
            ]
          },
          "metadata": {},
          "execution_count": 26
        }
      ]
    },
    {
      "cell_type": "code",
      "source": [
        "# evalf というメソッドを使えば浮動小数点まで展開してくれる\n",
        "ans.subs(x, 2).evalf()"
      ],
      "metadata": {
        "colab": {
          "base_uri": "https://localhost:8080/",
          "height": 38
        },
        "id": "hX6w3IGLdtwB",
        "outputId": "c4e1388f-a011-4a21-f040-12749ca6f184"
      },
      "execution_count": null,
      "outputs": [
        {
          "output_type": "display_data",
          "data": {
            "text/html": [
              "<script src='https://cdnjs.cloudflare.com/ajax/libs/mathjax/2.7.3/latest.js?config=default'></script>"
            ],
            "text/plain": [
              "<IPython.core.display.HTML object>"
            ]
          },
          "metadata": {}
        },
        {
          "output_type": "execute_result",
          "data": {
            "text/latex": "$$f{\\left (2 \\right )} = 0.00673794699908547$$",
            "text/plain": [
              "f(2) = 0.00673794699908547"
            ]
          },
          "metadata": {},
          "execution_count": 27
        }
      ]
    },
    {
      "cell_type": "code",
      "source": [
        "expr = (x-a)*(b-x)\n",
        "eq = sym.Eq(sym.Integral(expr, (x, a, b)), sym.integrate(expr, (x, a, b))).factor()\n",
        "print(eq)\n",
        "eq"
      ],
      "metadata": {
        "colab": {
          "base_uri": "https://localhost:8080/",
          "height": 59
        },
        "id": "g_eGMnoqdx8O",
        "outputId": "b56baae1-cdc2-49c9-9ab3-cc10c3684f0f"
      },
      "execution_count": null,
      "outputs": [
        {
          "output_type": "stream",
          "name": "stdout",
          "text": [
            "Eq(-Integral((-a + x)*(-b + x), (x, a, b)), -(a - b)**3/6)\n"
          ]
        },
        {
          "output_type": "display_data",
          "data": {
            "text/html": [
              "<script src='https://cdnjs.cloudflare.com/ajax/libs/mathjax/2.7.3/latest.js?config=default'></script>"
            ],
            "text/plain": [
              "<IPython.core.display.HTML object>"
            ]
          },
          "metadata": {}
        },
        {
          "output_type": "execute_result",
          "data": {
            "text/latex": "$$- \\int_{a}^{b} \\left(- a + x\\right) \\left(- b + x\\right)\\, dx = - \\frac{\\left(a - b\\right)^{3}}{6}$$",
            "text/plain": [
              " b                                3 \n",
              " ⌠                        -(a - b)  \n",
              "-⎮ (-a + x)⋅(-b + x) dx = ──────────\n",
              " ⌡                            6     \n",
              " a                                  "
            ]
          },
          "metadata": {},
          "execution_count": 28
        }
      ]
    },
    {
      "cell_type": "code",
      "source": [
        "expr = x/(x**2 + 1)\n",
        "eq = sym.Eq(sym.Integral(expr, (x, 1, 2)), sym.integrate(expr, (x, 1, 2)))\n",
        "print(eq)\n",
        "eq"
      ],
      "metadata": {
        "colab": {
          "base_uri": "https://localhost:8080/",
          "height": 58
        },
        "id": "L5HloL8dd4vn",
        "outputId": "6326f648-2dfd-4bbd-e226-ee37455623c9"
      },
      "execution_count": null,
      "outputs": [
        {
          "output_type": "stream",
          "name": "stdout",
          "text": [
            "Eq(Integral(x/(x**2 + 1), (x, 1, 2)), -log(2)/2 + log(5)/2)\n"
          ]
        },
        {
          "output_type": "display_data",
          "data": {
            "text/html": [
              "<script src='https://cdnjs.cloudflare.com/ajax/libs/mathjax/2.7.3/latest.js?config=default'></script>"
            ],
            "text/plain": [
              "<IPython.core.display.HTML object>"
            ]
          },
          "metadata": {}
        },
        {
          "output_type": "execute_result",
          "data": {
            "text/latex": "$$\\int_{1}^{2} \\frac{x}{x^{2} + 1}\\, dx = - \\frac{\\log{\\left (2 \\right )}}{2} + \\frac{\\log{\\left (5 \\right )}}{2}$$",
            "text/plain": [
              "2                              \n",
              "⌠                              \n",
              "⎮   x           log(2)   log(5)\n",
              "⎮ ────── dx = - ────── + ──────\n",
              "⎮  2              2        2   \n",
              "⎮ x  + 1                       \n",
              "⌡                              \n",
              "1                              "
            ]
          },
          "metadata": {},
          "execution_count": 29
        }
      ]
    },
    {
      "cell_type": "code",
      "source": [
        "sym.integrate(expr, (x, 1, 2)).evalf()\n"
      ],
      "metadata": {
        "colab": {
          "base_uri": "https://localhost:8080/",
          "height": 37
        },
        "id": "GKqNi2Etd8gY",
        "outputId": "da415683-adf8-4276-d300-6439038fd64a"
      },
      "execution_count": null,
      "outputs": [
        {
          "output_type": "display_data",
          "data": {
            "text/html": [
              "<script src='https://cdnjs.cloudflare.com/ajax/libs/mathjax/2.7.3/latest.js?config=default'></script>"
            ],
            "text/plain": [
              "<IPython.core.display.HTML object>"
            ]
          },
          "metadata": {}
        },
        {
          "output_type": "execute_result",
          "data": {
            "text/latex": "$$0.458145365937078$$",
            "text/plain": [
              "0.458145365937078"
            ]
          },
          "metadata": {},
          "execution_count": 30
        }
      ]
    },
    {
      "cell_type": "markdown",
      "source": [
        "# 課題９２"
      ],
      "metadata": {
        "id": "U2VqC9tIeUd2"
      }
    },
    {
      "cell_type": "code",
      "source": [
        "import math\n",
        "\n",
        "f = lambda x: 4 / (x**2 + 1)"
      ],
      "metadata": {
        "id": "eq30O0DXd_jj"
      },
      "execution_count": null,
      "outputs": []
    },
    {
      "cell_type": "code",
      "source": [
        "import scipy.integrate as integrate\n",
        "\n",
        "result = integrate.quad(f, 0, 1)"
      ],
      "metadata": {
        "id": "9SzOd4EfekYn"
      },
      "execution_count": null,
      "outputs": []
    },
    {
      "cell_type": "code",
      "source": [
        "result"
      ],
      "metadata": {
        "colab": {
          "base_uri": "https://localhost:8080/",
          "height": 38
        },
        "id": "myez7V3ne1Xa",
        "outputId": "ecbd6a12-d6ca-4473-ea8e-7059a9a62f51"
      },
      "execution_count": null,
      "outputs": [
        {
          "output_type": "display_data",
          "data": {
            "text/html": [
              "<script src='https://cdnjs.cloudflare.com/ajax/libs/mathjax/2.7.3/latest.js?config=default'></script>"
            ],
            "text/plain": [
              "<IPython.core.display.HTML object>"
            ]
          },
          "metadata": {}
        },
        {
          "output_type": "execute_result",
          "data": {
            "text/latex": "$$\\left ( 3.1415926535897936, \\quad 3.4878684980086326e-14\\right )$$",
            "text/plain": [
              "(3.1415926535897936, 3.4878684980086326e-14)"
            ]
          },
          "metadata": {},
          "execution_count": 34
        }
      ]
    },
    {
      "cell_type": "markdown",
      "source": [
        "# 課題９３"
      ],
      "metadata": {
        "id": "T3AGmvY3fEMO"
      }
    },
    {
      "cell_type": "code",
      "source": [
        "from scipy import optimize\n",
        "\n",
        "f = lambda x: math.exp(x) - 3 * x"
      ],
      "metadata": {
        "id": "VQY0BhY7e2IK"
      },
      "execution_count": null,
      "outputs": []
    },
    {
      "cell_type": "code",
      "source": [
        "optimize.bisect(f, 0, 1)"
      ],
      "metadata": {
        "colab": {
          "base_uri": "https://localhost:8080/",
          "height": 37
        },
        "id": "zNcOayvqfjXb",
        "outputId": "f4c24aa9-9e00-4ecc-cad0-7888a45b2af4"
      },
      "execution_count": null,
      "outputs": [
        {
          "output_type": "display_data",
          "data": {
            "text/html": [
              "<script src='https://cdnjs.cloudflare.com/ajax/libs/mathjax/2.7.3/latest.js?config=default'></script>"
            ],
            "text/plain": [
              "<IPython.core.display.HTML object>"
            ]
          },
          "metadata": {}
        },
        {
          "output_type": "execute_result",
          "data": {
            "text/latex": "$$0.619061286737633$$",
            "text/plain": [
              "0.619061286737633"
            ]
          },
          "metadata": {},
          "execution_count": 37
        }
      ]
    },
    {
      "cell_type": "code",
      "source": [
        "optimize.newton(f, 0)"
      ],
      "metadata": {
        "colab": {
          "base_uri": "https://localhost:8080/",
          "height": 37
        },
        "id": "MGcmkRpbfzFD",
        "outputId": "7c2f1ebf-4cb1-48d0-b18b-3f9d82d4f76e"
      },
      "execution_count": null,
      "outputs": [
        {
          "output_type": "display_data",
          "data": {
            "text/html": [
              "<script src='https://cdnjs.cloudflare.com/ajax/libs/mathjax/2.7.3/latest.js?config=default'></script>"
            ],
            "text/plain": [
              "<IPython.core.display.HTML object>"
            ]
          },
          "metadata": {}
        },
        {
          "output_type": "execute_result",
          "data": {
            "text/latex": "$$0.6190612867359452$$",
            "text/plain": [
              "0.6190612867359452"
            ]
          },
          "metadata": {},
          "execution_count": 39
        }
      ]
    },
    {
      "cell_type": "markdown",
      "source": [
        "# 課題９４"
      ],
      "metadata": {
        "id": "C25IsJd_gBI8"
      }
    },
    {
      "cell_type": "code",
      "source": [
        "import numpy as np\n",
        "f = lambda x: 1/(1 + np.exp(-x))\n",
        "g = lambda x: 1.0/(1.0+x**2)\n",
        "h = lambda x: np.sin(x)\n",
        "\n",
        "x_observed = np.linspace(-10, 10, 11) # 観測点\n",
        "\n",
        "fx_observed = f(x_observed) # f(x) の観測値\n",
        "gx_observed = g(x_observed) # g(x) の観測値\n",
        "hx_observed = h(x_observed) # h(x) の観測値"
      ],
      "metadata": {
        "id": "MkIn15vsf3iG"
      },
      "execution_count": null,
      "outputs": []
    },
    {
      "cell_type": "code",
      "source": [
        "from scipy import interpolate\n",
        "\n",
        "x_latent = np.linspace(-10, 10, 101)"
      ],
      "metadata": {
        "id": "KNB4Pr8_gdXN"
      },
      "execution_count": null,
      "outputs": []
    },
    {
      "cell_type": "code",
      "source": [
        "spline = lambda x, y: interpolate.interp1d(x, y, kind=\"quadratic\")\n",
        "\n",
        "for function in [f, g, h]:\n",
        "    plt.scatter(x_observed, function(x_observed))\n",
        "    plt.plot(x_latent, function(x_latent))\n",
        "\n",
        "    #y_fit = interpolate.lagrange(x_observed, function(x_observed))\n",
        "    y_fit = spline(x_observed, function(x_observed))\n",
        "    plt.plot(x_latent, y_fit(x_latent))\n",
        "    plt.show()"
      ],
      "metadata": {
        "colab": {
          "base_uri": "https://localhost:8080/",
          "height": 761
        },
        "id": "sPYX-qdtgp8f",
        "outputId": "c7f63292-a4b9-4215-d06a-9141062a3333"
      },
      "execution_count": null,
      "outputs": [
        {
          "output_type": "display_data",
          "data": {
            "image/png": "[encoded data removed]",
            "text/plain": [
              "<Figure size 432x288 with 1 Axes>"
            ]
          },
          "metadata": {
            "needs_background": "light"
          }
        },
        {
          "output_type": "display_data",
          "data": {
            "image/png": "[encoded data removed]",
            "text/plain": [
              "<Figure size 432x288 with 1 Axes>"
            ]
          },
          "metadata": {
            "needs_background": "light"
          }
        },
        {
          "output_type": "display_data",
          "data": {
            "image/png": "[encoded data removed]",
            "text/plain": [
              "<Figure size 432x288 with 1 Axes>"
            ]
          },
          "metadata": {
            "needs_background": "light"
          }
        }
      ]
    },
    {
      "cell_type": "code",
      "source": [
        "x_observed = [9, 28, 38, 58, 88, 98, 108, 118, 128, 138, 148, 158, 168, 178, 188, 198, 208, 218, 228, 238, 278, 288, 298]\n",
        "y_observed = [51, 80, 112, 294, 286, 110, 59, 70, 56, 70, 104, 59, 59, 72, 87, 99, 64, 60, 74, 151, 157, 57, 83]"
      ],
      "metadata": {
        "id": "P0kbQYPMgwq_"
      },
      "execution_count": null,
      "outputs": []
    },
    {
      "cell_type": "code",
      "source": [
        "x_latent = np.linspace(min(x_observed), max(x_observed), 101)\n",
        "\n",
        "# spline = lambda x, y: interpolate.interp1d(x, y, kind=\"quadratic\")\n",
        "nearest = lambda x, y: interpolate.interp1d(x, y, kind=\"nearest\")\n",
        "\n",
        "plt.scatter(x_observed, y_observed)\n",
        "\n",
        "f1 = interpolate.lagrange(x_observed, y_observed) # ラグランジュ補間\n",
        "\n",
        "spline = lambda x, y: interpolate.interp1d(x, y, kind=\"quadratic\")\n",
        "f2 = spline(x_observed, y_observed) # スプライン補間\n",
        "\n",
        "f3 = nearest(x_observed, y_observed) # 最近傍\n",
        "\n",
        "plt.plot(x_latent, f3(x_latent))"
      ],
      "metadata": {
        "colab": {
          "base_uri": "https://localhost:8080/",
          "height": 282
        },
        "id": "NZQRIUGSiQkW",
        "outputId": "17edd22c-ca1d-472f-e9da-d7f1e09263ef"
      },
      "execution_count": null,
      "outputs": [
        {
          "output_type": "execute_result",
          "data": {
            "text/plain": [
              "[<matplotlib.lines.Line2D at 0x7f200d093d50>]"
            ]
          },
          "metadata": {},
          "execution_count": 67
        },
        {
          "output_type": "display_data",
          "data": {
            "image/png": "[encoded data removed]",
            "text/plain": [
              "<Figure size 432x288 with 1 Axes>"
            ]
          },
          "metadata": {
            "needs_background": "light"
          }
        }
      ]
    },
    {
      "cell_type": "markdown",
      "source": [
        "# 課題９５"
      ],
      "metadata": {
        "id": "PKji_KmAk3pP"
      }
    },
    {
      "cell_type": "code",
      "source": [
        "import numpy as np\n",
        "f = lambda x: 1/(1 + np.exp(-x))\n",
        "g = lambda x: 1.0/(1.0+x**2)\n",
        "h = lambda x: np.sin(x)\n",
        "\n",
        "x_observed = np.linspace(-10, 10, 11) # 観測点\n",
        "\n",
        "fx_observed = f(x_observed) # f(x) の観測値\n",
        "gx_observed = g(x_observed) # g(x) の観測値\n",
        "hx_observed = h(x_observed) # h(x) の観測値\n",
        "\n",
        "x_latent = np.linspace(-10, 10, 101)"
      ],
      "metadata": {
        "id": "UpGAYHu2lP5y"
      },
      "execution_count": null,
      "outputs": []
    },
    {
      "cell_type": "code",
      "source": [
        "import numpy as np\n",
        "\n",
        "n = 3\n",
        "coefficients = np.polyfit(x_observed, fx_observed, n)\n",
        "coefficients"
      ],
      "metadata": {
        "colab": {
          "base_uri": "https://localhost:8080/"
        },
        "id": "wqDVc_FOiTdq",
        "outputId": "c57b7df7-1bac-4308-8075-fb6435430875"
      },
      "execution_count": null,
      "outputs": [
        {
          "output_type": "execute_result",
          "data": {
            "text/plain": [
              "array([-7.46038675e-04,  2.50901863e-18,  1.19807394e-01,  5.00000000e-01])"
            ]
          },
          "metadata": {},
          "execution_count": 75
        }
      ]
    },
    {
      "cell_type": "code",
      "source": [
        "y_fit = np.poly1d(coefficients)"
      ],
      "metadata": {
        "id": "2iNjb0gdlQyp"
      },
      "execution_count": null,
      "outputs": []
    },
    {
      "cell_type": "code",
      "source": [
        "plt.scatter(x_observed, fx_observed)\n",
        "plt.plot(x_latent, y_fit(x_latent))"
      ],
      "metadata": {
        "colab": {
          "base_uri": "https://localhost:8080/",
          "height": 282
        },
        "id": "cK9gIOQ9ll-Q",
        "outputId": "5cf99730-c780-4d2a-f0d2-088a0704b0a7"
      },
      "execution_count": null,
      "outputs": [
        {
          "output_type": "execute_result",
          "data": {
            "text/plain": [
              "[<matplotlib.lines.Line2D at 0x7f200ce3ba10>]"
            ]
          },
          "metadata": {},
          "execution_count": 79
        },
        {
          "output_type": "display_data",
          "data": {
            "image/png": "[encoded data removed]",
            "text/plain": [
              "<Figure size 432x288 with 1 Axes>"
            ]
          },
          "metadata": {
            "needs_background": "light"
          }
        }
      ]
    },
    {
      "cell_type": "code",
      "source": [
        "for n in range(3, 11):\n",
        "    coefficients = np.polyfit(x_observed, fx_observed, n)\n",
        "    y_fit = np.poly1d(coefficients)\n",
        "    plt.scatter(x_observed, fx_observed)\n",
        "    plt.plot(x_latent, y_fit(x_latent))\n",
        "    plt.title(n)\n",
        "    plt.show()"
      ],
      "metadata": {
        "colab": {
          "base_uri": "https://localhost:8080/",
          "height": 1000
        },
        "id": "LLtrOMqilyE_",
        "outputId": "04e9eb5f-96f6-4229-ba59-d60c70162775"
      },
      "execution_count": null,
      "outputs": [
        {
          "output_type": "display_data",
          "data": {
            "image/png": "[encoded data removed]",
            "text/plain": [
              "<Figure size 432x288 with 1 Axes>"
            ]
          },
          "metadata": {
            "needs_background": "light"
          }
        },
        {
          "output_type": "display_data",
          "data": {
            "image/png": "[encoded data removed]",
            "text/plain": [
              "<Figure size 432x288 with 1 Axes>"
            ]
          },
          "metadata": {
            "needs_background": "light"
          }
        },
        {
          "output_type": "display_data",
          "data": {
            "image/png": "[encoded data removed]",
            "text/plain": [
              "<Figure size 432x288 with 1 Axes>"
            ]
          },
          "metadata": {
            "needs_background": "light"
          }
        },
        {
          "output_type": "display_data",
          "data": {
            "image/png": "[encoded data removed]",
            "text/plain": [
              "<Figure size 432x288 with 1 Axes>"
            ]
          },
          "metadata": {
            "needs_background": "light"
          }
        },
        {
          "output_type": "display_data",
          "data": {
            "image/png": "[encoded data removed]",
            "text/plain": [
              "<Figure size 432x288 with 1 Axes>"
            ]
          },
          "metadata": {
            "needs_background": "light"
          }
        },
        {
          "output_type": "display_data",
          "data": {
            "image/png": "[encoded data removed]",
            "text/plain": [
              "<Figure size 432x288 with 1 Axes>"
            ]
          },
          "metadata": {
            "needs_background": "light"
          }
        },
        {
          "output_type": "display_data",
          "data": {
            "image/png": "[encoded data removed]",
            "text/plain": [
              "<Figure size 432x288 with 1 Axes>"
            ]
          },
          "metadata": {
            "needs_background": "light"
          }
        },
        {
          "output_type": "display_data",
          "data": {
            "image/png": "[encoded data removed]",
            "text/plain": [
              "<Figure size 432x288 with 1 Axes>"
            ]
          },
          "metadata": {
            "needs_background": "light"
          }
        }
      ]
    },
    {
      "cell_type": "code",
      "source": [
        "x_observed = [9, 28, 38, 58, 88, 98, 108, 118, 128, 138, 148, 158, 168, 178, 188, 198, 208, 218, 228, 238, 278, 288, 298]\n",
        "y_observed = [51, 80, 112, 294, 286, 110, 59, 70, 56, 70, 104, 59, 59, 72, 87, 99, 64, 60, 74, 151, 157, 57, 83]"
      ],
      "metadata": {
        "id": "t3Glig8um7Cf"
      },
      "execution_count": null,
      "outputs": []
    },
    {
      "cell_type": "code",
      "source": [
        "x_latent = np.linspace(min(x_observed), max(x_observed), 101)\n",
        "\n",
        "for n in range(3, 11):\n",
        "    coefficients = np.polyfit(x_observed, y_observed, n)\n",
        "    y_fit = np.poly1d(coefficients)\n",
        "    plt.scatter(x_observed, y_observed)\n",
        "    plt.plot(x_latent, y_fit(x_latent))\n",
        "    plt.title(n)\n",
        "    plt.show()"
      ],
      "metadata": {
        "colab": {
          "base_uri": "https://localhost:8080/",
          "height": 1000
        },
        "id": "lj9pQzqdm8kh",
        "outputId": "49f80f49-3777-416e-fdfc-7f302ce893dd"
      },
      "execution_count": null,
      "outputs": [
        {
          "output_type": "display_data",
          "data": {
            "image/png": "[encoded data removed]",
            "text/plain": [
              "<Figure size 432x288 with 1 Axes>"
            ]
          },
          "metadata": {
            "needs_background": "light"
          }
        },
        {
          "output_type": "display_data",
          "data": {
            "image/png": "[encoded data removed]",
            "text/plain": [
              "<Figure size 432x288 with 1 Axes>"
            ]
          },
          "metadata": {
            "needs_background": "light"
          }
        },
        {
          "output_type": "display_data",
          "data": {
            "image/png": "[encoded data removed]",
            "text/plain": [
              "<Figure size 432x288 with 1 Axes>"
            ]
          },
          "metadata": {
            "needs_background": "light"
          }
        },
        {
          "output_type": "display_data",
          "data": {
            "image/png": "[encoded data removed]",
            "text/plain": [
              "<Figure size 432x288 with 1 Axes>"
            ]
          },
          "metadata": {
            "needs_background": "light"
          }
        },
        {
          "output_type": "display_data",
          "data": {
            "image/png": "[encoded data removed]",
            "text/plain": [
              "<Figure size 432x288 with 1 Axes>"
            ]
          },
          "metadata": {
            "needs_background": "light"
          }
        },
        {
          "output_type": "display_data",
          "data": {
            "image/png": "[encoded data removed]",
            "text/plain": [
              "<Figure size 432x288 with 1 Axes>"
            ]
          },
          "metadata": {
            "needs_background": "light"
          }
        },
        {
          "output_type": "display_data",
          "data": {
            "image/png": "[encoded data removed]",
            "text/plain": [
              "<Figure size 432x288 with 1 Axes>"
            ]
          },
          "metadata": {
            "needs_background": "light"
          }
        },
        {
          "output_type": "display_data",
          "data": {
            "image/png": "[encoded data removed]",
            "text/plain": [
              "<Figure size 432x288 with 1 Axes>"
            ]
          },
          "metadata": {
            "needs_background": "light"
          }
        }
      ]
    },
    {
      "cell_type": "markdown",
      "source": [
        "# 課題９６"
      ],
      "metadata": {
        "id": "98ES3gs6mqTL"
      }
    },
    {
      "cell_type": "code",
      "source": [
        "X1 = [4.7, 4.5, 4.9, 4.0, 4.6, 4.5, 4.7, 3.3, 4.6, 3.9, \n",
        "      3.5, 4.2, 4.0, 4.7, 3.6, 4.4, 4.5, 4.1, 4.5, 3.9, \n",
        "      4.8, 4.0, 4.9, 4.7, 4.3, 4.4, 4.8, 5.0, 4.5, 3.5, \n",
        "      3.8, 3.7, 3.9, 5.1, 4.5, 4.5, 4.7, 4.4, 4.1, 4.0, \n",
        "      4.4, 4.6, 4.0, 3.3, 4.2, 4.2, 4.2, 4.3, 3.0, 4.1, \n",
        "      6.0, 5.1, 5.9, 5.6, 5.8, 6.6, 4.5, 6.3, 5.8, 6.1, \n",
        "      5.1, 5.3, 5.5, 5.0, 5.1, 5.3, 5.5, 6.7, 6.9, 5.0, \n",
        "      5.7, 4.9, 6.7, 4.9, 5.7, 6.0, 4.8, 4.9, 5.6, 5.8, \n",
        "      6.1, 6.4, 5.6, 5.1, 5.6, 6.1, 5.6, 5.5, 4.8, 5.4, \n",
        "      5.6, 5.1, 5.1, 5.9, 5.7, 5.2, 5.0, 5.2, 5.4, 5.1]\n",
        "\n",
        "Y = [0, 0, 0, 0, 0, 0, 0, 0, 0, 0, \n",
        "     0, 0, 0, 0, 0, 0, 0, 0, 0, 0, \n",
        "     0, 0, 0, 0, 0, 0, 0, 0, 0, 0, \n",
        "     0, 0, 0, 0, 0, 0, 0, 0, 0, 0, \n",
        "     0, 0, 0, 0, 0, 0, 0, 0, 0, 0, \n",
        "     1, 1, 1, 1, 1, 1, 1, 1, 1, 1, \n",
        "     1, 1, 1, 1, 1, 1, 1, 1, 1, 1, \n",
        "     1, 1, 1, 1, 1, 1, 1, 1, 1, 1, \n",
        "     1, 1, 1, 1, 1, 1, 1, 1, 1, 1, \n",
        "     1, 1, 1, 1, 1, 1, 1, 1, 1, 1]"
      ],
      "metadata": {
        "id": "KP7M_XBwmLbD"
      },
      "execution_count": null,
      "outputs": []
    },
    {
      "cell_type": "code",
      "source": [
        "%matplotlib inline\n",
        "import matplotlib.pyplot as plt\n",
        "plt.figure(figsize=(12,4))\n",
        "plt.scatter(X1, Y)\n",
        "plt.grid()\n",
        "plt.show()"
      ],
      "metadata": {
        "colab": {
          "base_uri": "https://localhost:8080/",
          "height": 265
        },
        "id": "WWXSM1H_n2uT",
        "outputId": "fa565e39-09c3-4740-9f5b-c9ecb652ff87"
      },
      "execution_count": null,
      "outputs": [
        {
          "output_type": "display_data",
          "data": {
            "image/png": "[encoded data removed]",
            "text/plain": [
              "<Figure size 864x288 with 1 Axes>"
            ]
          },
          "metadata": {
            "needs_background": "light"
          }
        }
      ]
    },
    {
      "cell_type": "code",
      "source": [
        "# Python の List を Numpy の Array に変換しておきましょう。\n",
        "import numpy as np\n",
        "X1 = np.array(X1)\n",
        "Y = np.array(Y)"
      ],
      "metadata": {
        "id": "gscQNi3-n_JJ"
      },
      "execution_count": null,
      "outputs": []
    },
    {
      "cell_type": "code",
      "source": [
        "import numpy as np\n",
        "def func1(X, a, b): # シグモイド曲線\n",
        "    f = a + b * X\n",
        "    return 1. / (1. + np.exp(-f))"
      ],
      "metadata": {
        "id": "gDFMD8nsoYss"
      },
      "execution_count": null,
      "outputs": []
    },
    {
      "cell_type": "code",
      "source": [
        "func1(X1, 1, 1)"
      ],
      "metadata": {
        "colab": {
          "base_uri": "https://localhost:8080/"
        },
        "id": "5_YpJB9UocEZ",
        "outputId": "9544070f-7ac2-4d03-b281-fbdcc808f54d"
      },
      "execution_count": null,
      "outputs": [
        {
          "output_type": "execute_result",
          "data": {
            "text/plain": [
              "array([0.99666519, 0.99592986, 0.99726804, 0.99330715, 0.99631576,\n",
              "       0.99592986, 0.99666519, 0.98661308, 0.99631576, 0.99260846,\n",
              "       0.98901306, 0.9945137 , 0.99330715, 0.99666519, 0.9900482 ,\n",
              "       0.99550373, 0.99592986, 0.9939402 , 0.99592986, 0.99260846,\n",
              "       0.99698158, 0.99330715, 0.99726804, 0.99666519, 0.9950332 ,\n",
              "       0.99550373, 0.99698158, 0.99752738, 0.99592986, 0.98901306,\n",
              "       0.99183743, 0.9909867 , 0.99260846, 0.99776215, 0.99592986,\n",
              "       0.99592986, 0.99666519, 0.99550373, 0.9939402 , 0.99330715,\n",
              "       0.99550373, 0.99631576, 0.99330715, 0.98661308, 0.9945137 ,\n",
              "       0.9945137 , 0.9945137 , 0.9950332 , 0.98201379, 0.9939402 ,\n",
              "       0.99908895, 0.99776215, 0.99899323, 0.99864148, 0.99888746,\n",
              "       0.9994998 , 0.99592986, 0.99932492, 0.99888746, 0.99917558,\n",
              "       0.99776215, 0.99816706, 0.99849882, 0.99752738, 0.99776215,\n",
              "       0.99816706, 0.99849882, 0.99954738, 0.99962939, 0.99752738,\n",
              "       0.9987706 , 0.99726804, 0.99954738, 0.99726804, 0.9987706 ,\n",
              "       0.99908895, 0.99698158, 0.99726804, 0.99864148, 0.99888746,\n",
              "       0.99917558, 0.99938912, 0.99864148, 0.99776215, 0.99864148,\n",
              "       0.99917558, 0.99864148, 0.99849882, 0.99698158, 0.9983412 ,\n",
              "       0.99864148, 0.99776215, 0.99776215, 0.99899323, 0.9987706 ,\n",
              "       0.99797468, 0.99752738, 0.99797468, 0.9983412 , 0.99776215])"
            ]
          },
          "metadata": {},
          "execution_count": 89
        }
      ]
    },
    {
      "cell_type": "code",
      "source": [
        "from scipy.optimize import curve_fit  \n",
        "popt, pcov = curve_fit(func1,X1,Y) # poptは最適推定値、pcovは共分散\n",
        "popt"
      ],
      "metadata": {
        "colab": {
          "base_uri": "https://localhost:8080/"
        },
        "id": "ymyp1J2hoqrC",
        "outputId": "34cc4579-a1d5-4707-d5b1-f37ae31055a5"
      },
      "execution_count": null,
      "outputs": [
        {
          "output_type": "execute_result",
          "data": {
            "text/plain": [
              "array([-47.16056569,   9.6947444 ])"
            ]
          },
          "metadata": {},
          "execution_count": 90
        }
      ]
    },
    {
      "cell_type": "code",
      "source": [
        "plt.figure(figsize=(12,4))\n",
        "plt.hist(func1(X1, -47.16056569,   9.6947444))\n",
        "plt.grid()\n",
        "plt.show()"
      ],
      "metadata": {
        "colab": {
          "base_uri": "https://localhost:8080/",
          "height": 265
        },
        "id": "c5YRX3xvpBtL",
        "outputId": "21f7acda-ba93-4b72-e277-118ae2bf4eaa"
      },
      "execution_count": null,
      "outputs": [
        {
          "output_type": "display_data",
          "data": {
            "image/png": "[encoded data removed]",
            "text/plain": [
              "<Figure size 864x288 with 1 Axes>"
            ]
          },
          "metadata": {
            "needs_background": "light"
          }
        }
      ]
    },
    {
      "cell_type": "code",
      "source": [
        "X2 = [1.4, 1.5, 1.5, 1.3, 1.5, 1.3, 1.6, 1.0, 1.3, 1.4, \n",
        "      1.0, 1.5, 1.0, 1.4, 1.3, 1.4, 1.5, 1.0, 1.5, 1.1, \n",
        "      1.8, 1.3, 1.5, 1.2, 1.3, 1.4, 1.4, 1.7, 1.5, 1.0, \n",
        "      1.1, 1.0, 1.2, 1.6, 1.5, 1.6, 1.5, 1.3, 1.3, 1.3, \n",
        "      1.2, 1.4, 1.2, 1.0, 1.3, 1.2, 1.3, 1.3, 1.1, 1.3, \n",
        "      2.5, 1.9, 2.1, 1.8, 2.2, 2.1, 1.7, 1.8, 1.8, 2.5, \n",
        "      2.0, 1.9, 2.1, 2.0, 2.4, 2.3, 1.8, 2.2, 2.3, 1.5, \n",
        "      2.3, 2.0, 2.0, 1.8, 2.1, 1.8, 1.8, 1.8, 2.1, 1.6, \n",
        "      1.9, 2.0, 2.2, 1.5, 1.4, 2.3, 2.4, 1.8, 1.8, 2.1, \n",
        "      2.4, 2.3, 1.9, 2.3, 2.5, 2.3, 1.9, 2.0, 2.3, 1.8]\n",
        "\n",
        "X = np.array([X1, X2])"
      ],
      "metadata": {
        "id": "Byts7nPMpJ1O"
      },
      "execution_count": null,
      "outputs": []
    },
    {
      "cell_type": "code",
      "source": [
        "X[1]"
      ],
      "metadata": {
        "colab": {
          "base_uri": "https://localhost:8080/"
        },
        "id": "ndvQO7L-qkGh",
        "outputId": "b1ad95c4-e47a-4c3f-8def-f1a76b80bd07"
      },
      "execution_count": null,
      "outputs": [
        {
          "output_type": "execute_result",
          "data": {
            "text/plain": [
              "array([1.4, 1.5, 1.5, 1.3, 1.5, 1.3, 1.6, 1. , 1.3, 1.4, 1. , 1.5, 1. ,\n",
              "       1.4, 1.3, 1.4, 1.5, 1. , 1.5, 1.1, 1.8, 1.3, 1.5, 1.2, 1.3, 1.4,\n",
              "       1.4, 1.7, 1.5, 1. , 1.1, 1. , 1.2, 1.6, 1.5, 1.6, 1.5, 1.3, 1.3,\n",
              "       1.3, 1.2, 1.4, 1.2, 1. , 1.3, 1.2, 1.3, 1.3, 1.1, 1.3, 2.5, 1.9,\n",
              "       2.1, 1.8, 2.2, 2.1, 1.7, 1.8, 1.8, 2.5, 2. , 1.9, 2.1, 2. , 2.4,\n",
              "       2.3, 1.8, 2.2, 2.3, 1.5, 2.3, 2. , 2. , 1.8, 2.1, 1.8, 1.8, 1.8,\n",
              "       2.1, 1.6, 1.9, 2. , 2.2, 1.5, 1.4, 2.3, 2.4, 1.8, 1.8, 2.1, 2.4,\n",
              "       2.3, 1.9, 2.3, 2.5, 2.3, 1.9, 2. , 2.3, 1.8])"
            ]
          },
          "metadata": {},
          "execution_count": 96
        }
      ]
    },
    {
      "cell_type": "code",
      "source": [
        "import numpy as np\n",
        "def func2(X, a, b, c): # シグモイド曲線\n",
        "    f = a + b * X[0] + c * X[1]\n",
        "    return 1. / (1. + np.exp(-f))"
      ],
      "metadata": {
        "id": "7Qil94gmqN0R"
      },
      "execution_count": null,
      "outputs": []
    },
    {
      "cell_type": "code",
      "source": [
        "from scipy.optimize import curve_fit  \n",
        "popt, pcov = curve_fit(func2,X,Y) # poptは最適推定値、pcovは共分散\n",
        "popt"
      ],
      "metadata": {
        "colab": {
          "base_uri": "https://localhost:8080/"
        },
        "id": "ATAXKYkzqyDf",
        "outputId": "dbf42a4a-f2c4-4b5c-d3ed-f9e9c3416636"
      },
      "execution_count": null,
      "outputs": [
        {
          "output_type": "stream",
          "name": "stderr",
          "text": [
            "/usr/local/lib/python3.7/dist-packages/ipykernel_launcher.py:4: RuntimeWarning: overflow encountered in exp\n",
            "  after removing the cwd from sys.path.\n"
          ]
        },
        {
          "output_type": "execute_result",
          "data": {
            "text/plain": [
              "array([-34.73855708,   4.53539757,   7.68378878])"
            ]
          },
          "metadata": {},
          "execution_count": 99
        }
      ]
    },
    {
      "cell_type": "code",
      "source": [
        "plt.figure(figsize=(12,4))\n",
        "plt.hist(func2(X, -34.73855708,   4.53539757,   7.68378878))\n",
        "plt.grid()\n",
        "plt.show()"
      ],
      "metadata": {
        "colab": {
          "base_uri": "https://localhost:8080/",
          "height": 265
        },
        "id": "Bxky7wLcq60U",
        "outputId": "a61c7554-fde8-4d18-f2b9-53b47989c6b7"
      },
      "execution_count": null,
      "outputs": [
        {
          "output_type": "display_data",
          "data": {
            "image/png": "[encoded data removed]",
            "text/plain": [
              "<Figure size 864x288 with 1 Axes>"
            ]
          },
          "metadata": {
            "needs_background": "light"
          }
        }
      ]
    },
    {
      "cell_type": "code",
      "source": [
        "X3 = [7.0, 6.4, 6.9, 5.5, 6.5, 5.7, 6.3, 4.9, 6.6, 5.2, \n",
        "      5.0, 5.9, 6.0, 6.1, 5.6, 6.7, 5.6, 5.8, 6.2, 5.6, \n",
        "      5.9, 6.1, 6.3, 6.1, 6.4, 6.6, 6.8, 6.7, 6.0, 5.7, \n",
        "      5.5, 5.5, 5.8, 6.0, 5.4, 6.0, 6.7, 6.3, 5.6, 5.5, \n",
        "      5.5, 6.1, 5.8, 5.0, 5.6, 5.7, 5.7, 6.2, 5.1, 5.7, \n",
        "      6.3, 5.8, 7.1, 6.3, 6.5, 7.6, 4.9, 7.3, 6.7, 7.2, \n",
        "      6.5, 6.4, 6.8, 5.7, 5.8, 6.4, 6.5, 7.7, 7.7, 6.0, \n",
        "      6.9, 5.6, 7.7, 6.3, 6.7, 7.2, 6.2, 6.1, 6.4, 7.2, \n",
        "      7.4, 7.9, 6.4, 6.3, 6.1, 7.7, 6.3, 6.4, 6.0, 6.9, \n",
        "      6.7, 6.9, 5.8, 6.8, 6.7, 6.7, 6.3, 6.5, 6.2, 5.9]\n",
        "\n",
        "X4 = [3.2, 3.2, 3.1, 2.3, 2.8, 2.8, 3.3, 2.4, 2.9, 2.7, \n",
        "      2.0, 3.0, 2.2, 2.9, 2.9, 3.1, 3.0, 2.7, 2.2, 2.5, \n",
        "      3.2, 2.8, 2.5, 2.8, 2.9, 3.0, 2.8, 3.0, 2.9, 2.6, \n",
        "      2.4, 2.4, 2.7, 2.7, 3.0, 3.4, 3.1, 2.3, 3.0, 2.5, \n",
        "      2.6, 3.0, 2.6, 2.3, 2.7, 3.0, 2.9, 2.9, 2.5, 2.8, \n",
        "      3.3, 2.7, 3.0, 2.9, 3.0, 3.0, 2.5, 2.9, 2.5, 3.6, \n",
        "      3.2, 2.7, 3.0, 2.5, 2.8, 3.2, 3.0, 3.8, 2.6, 2.2, \n",
        "      3.2, 2.8, 2.8, 2.7, 3.3, 3.2, 2.8, 3.0, 2.8, 3.0, \n",
        "      2.8, 3.8, 2.8, 2.8, 2.6, 3.0, 3.4, 3.1, 3.0, 3.1, \n",
        "      3.1, 3.1, 2.7, 3.2, 3.3, 3.0, 2.5, 3.0, 3.4, 3.0]\n",
        "\n",
        "X = np.array([X1, X2, X3, X4])"
      ],
      "metadata": {
        "id": "l8OjZgkArK8M"
      },
      "execution_count": null,
      "outputs": []
    },
    {
      "cell_type": "code",
      "source": [
        "import numpy as np\n",
        "def func(X, *params):\n",
        "    f = np.zeros_like(X[0])\n",
        "    for i, param in enumerate(params):\n",
        "        if i == 0:\n",
        "            f = f + param\n",
        "        else:\n",
        "            f = f + np.array(param * X[i - 1])\n",
        "    return 1. / (1. + np.exp(-f))"
      ],
      "metadata": {
        "id": "aED8P-uvr1Uv"
      },
      "execution_count": null,
      "outputs": []
    },
    {
      "cell_type": "code",
      "source": [
        "import numpy as np\n",
        "\n",
        "np.random.rand(3)"
      ],
      "metadata": {
        "colab": {
          "base_uri": "https://localhost:8080/"
        },
        "id": "ziOMTmipsp7N",
        "outputId": "bef3d3a0-acf1-4d16-cff5-471c00c6afa8"
      },
      "execution_count": null,
      "outputs": [
        {
          "output_type": "execute_result",
          "data": {
            "text/plain": [
              "array([0.30589653, 0.09173544, 0.24864235])"
            ]
          },
          "metadata": {},
          "execution_count": 109
        }
      ]
    },
    {
      "cell_type": "code",
      "source": [
        "from scipy.optimize import curve_fit  \n",
        "popt, pcov = curve_fit(func, X, Y, p0=np.random.rand(1)) # poptは最適推定値、pcovは共分散\n",
        "popt"
      ],
      "metadata": {
        "colab": {
          "base_uri": "https://localhost:8080/"
        },
        "id": "i7A1cqXWr8Ds",
        "outputId": "cf641750-6e90-4dea-80f4-f534529700fa"
      },
      "execution_count": null,
      "outputs": [
        {
          "output_type": "execute_result",
          "data": {
            "text/plain": [
              "array([-1.05883289e-08])"
            ]
          },
          "metadata": {},
          "execution_count": 111
        }
      ]
    },
    {
      "cell_type": "code",
      "source": [
        "# 左１つの説明変数を使った近似\n",
        "from scipy.optimize import curve_fit  \n",
        "popt, pcov = curve_fit(func, X, Y, p0=np.random.rand(2)) # poptは最適推定値、pcovは共分散\n",
        "popt"
      ],
      "metadata": {
        "colab": {
          "base_uri": "https://localhost:8080/"
        },
        "id": "ZgaujR-4sG26",
        "outputId": "fe7e10fc-7214-4219-dc4e-d22648dcb99a"
      },
      "execution_count": null,
      "outputs": [
        {
          "output_type": "execute_result",
          "data": {
            "text/plain": [
              "array([-47.16071578,   9.69477584])"
            ]
          },
          "metadata": {},
          "execution_count": 112
        }
      ]
    },
    {
      "cell_type": "code",
      "source": [
        "# 左２つの説明変数を使った近似\n",
        "from scipy.optimize import curve_fit  \n",
        "popt, pcov = curve_fit(func, X, Y, p0=np.random.rand(3)) # poptは最適推定値、pcovは共分散\n",
        "popt"
      ],
      "metadata": {
        "colab": {
          "base_uri": "https://localhost:8080/"
        },
        "id": "GKatsY8TtA0A",
        "outputId": "0ddb8289-b3ea-4d20-f282-af1445b6de5a"
      },
      "execution_count": null,
      "outputs": [
        {
          "output_type": "execute_result",
          "data": {
            "text/plain": [
              "array([-34.73591942,   4.53511052,   7.6830464 ])"
            ]
          },
          "metadata": {},
          "execution_count": 113
        }
      ]
    },
    {
      "cell_type": "code",
      "source": [
        "from scipy.optimize import curve_fit  \n",
        "popt, pcov = curve_fit(func, X, Y, p0=np.random.rand(4)) # poptは最適推定値、pcovは共分散\n",
        "popt"
      ],
      "metadata": {
        "colab": {
          "base_uri": "https://localhost:8080/"
        },
        "id": "NvSQ4oJjtCWS",
        "outputId": "aa73f470-8ffb-4432-8d5f-1faca569f270"
      },
      "execution_count": null,
      "outputs": [
        {
          "output_type": "execute_result",
          "data": {
            "text/plain": [
              "array([-469.49119458,  153.08766201,  125.42408601,  -77.56043653])"
            ]
          },
          "metadata": {},
          "execution_count": 114
        }
      ]
    },
    {
      "cell_type": "code",
      "source": [
        "from scipy.optimize import curve_fit  \n",
        "popt, pcov = curve_fit(func, X, Y, p0=np.random.rand(5)) # poptは最適推定値、pcovは共分散\n",
        "popt"
      ],
      "metadata": {
        "colab": {
          "base_uri": "https://localhost:8080/"
        },
        "id": "jd-_LJXdtueu",
        "outputId": "97140055-b08a-4c83-ae73-cfc83009d426"
      },
      "execution_count": null,
      "outputs": [
        {
          "output_type": "execute_result",
          "data": {
            "text/plain": [
              "array([-1299.60158074,   330.23334466,   348.41621738,   -77.37997084,\n",
              "        -145.91550124])"
            ]
          },
          "metadata": {},
          "execution_count": 115
        }
      ]
    },
    {
      "cell_type": "code",
      "source": [
        ""
      ],
      "metadata": {
        "id": "Meeylk7Pt3a_"
      },
      "execution_count": null,
      "outputs": []
    }
  ]
}