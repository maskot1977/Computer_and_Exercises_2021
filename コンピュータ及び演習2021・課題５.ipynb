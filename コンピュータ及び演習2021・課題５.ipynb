{
  "nbformat": 4,
  "nbformat_minor": 0,
  "metadata": {
    "colab": {
      "name": "コンピュータ及び演習2021・課題５",
      "provenance": [],
      "collapsed_sections": [],
      "authorship_tag": "ABX9TyM74PAXe0tOyYmlbhgihNBd"
    },
    "kernelspec": {
      "name": "python3",
      "display_name": "Python 3"
    },
    "language_info": {
      "name": "python"
    }
  },
  "cells": [
    {
      "cell_type": "markdown",
      "metadata": {
        "id": "ofsSp1j8998P"
      },
      "source": [
        "# 課題５"
      ]
    },
    {
      "cell_type": "code",
      "metadata": {
        "id": "jWTxy55o9r-s"
      },
      "source": [
        "s1 = input('入力１：')\n",
        "s2 = input('入力２：')\n",
        "text_a = \"{}は{}です。\"\n",
        "print(text_a.format(s1, s2))"
      ],
      "execution_count": null,
      "outputs": []
    }
  ]
}