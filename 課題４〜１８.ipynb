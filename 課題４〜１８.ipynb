{
  "nbformat": 4,
  "nbformat_minor": 0,
  "metadata": {
    "colab": {
      "name": "課題４〜１８",
      "provenance": [],
      "collapsed_sections": [],
      "authorship_tag": "ABX9TyOso431oYWslsWHvrUUolnN",
      "include_colab_link": true
    },
    "kernelspec": {
      "name": "python3",
      "display_name": "Python 3"
    },
    "language_info": {
      "name": "python"
    }
  },
  "cells": [
    {
      "cell_type": "markdown",
      "metadata": {
        "id": "view-in-github",
        "colab_type": "text"
      },
      "source": [
        "<a href=\"https://colab.research.google.com/github/maskot1977/Computer_and_Exercises_2021/blob/Lp8PzGsm/%E8%AA%B2%E9%A1%8C%EF%BC%94%E3%80%9C%EF%BC%91%EF%BC%98.ipynb\" target=\"_parent\"><img src=\"https://colab.research.google.com/assets/colab-badge.svg\" alt=\"Open In Colab\"/></a>"
      ]
    },
    {
      "cell_type": "code",
      "metadata": {
        "colab": {
          "base_uri": "https://localhost:8080/"
        },
        "id": "Lkp-UyIxpxc5",
        "outputId": "88159f23-c1ab-43a6-94bb-3e5ce91d172d"
      },
      "source": [
        "s = input('続けるには y を入力してください。')"
      ],
      "execution_count": null,
      "outputs": [
        {
          "name": "stdout",
          "output_type": "stream",
          "text": [
            "続けるには y を入力してください。4556\n"
          ]
        }
      ]
    },
    {
      "cell_type": "code",
      "metadata": {
        "colab": {
          "base_uri": "https://localhost:8080/",
          "height": 35
        },
        "id": "0zo0mB72qMvy",
        "outputId": "7d8c3a51-730a-4bb7-9b5d-3c8230e1e971"
      },
      "source": [
        "s"
      ],
      "execution_count": null,
      "outputs": [
        {
          "output_type": "execute_result",
          "data": {
            "application/vnd.google.colaboratory.intrinsic+json": {
              "type": "string"
            },
            "text/plain": [
              "'4556'"
            ]
          },
          "metadata": {},
          "execution_count": 3
        }
      ]
    },
    {
      "cell_type": "markdown",
      "metadata": {
        "id": "RNgrJLeJuJcS"
      },
      "source": [
        "# 課題４"
      ]
    },
    {
      "cell_type": "code",
      "metadata": {
        "colab": {
          "base_uri": "https://localhost:8080/"
        },
        "id": "m-IPGiGwqPCw",
        "outputId": "01afe419-dd7a-43e9-f2ac-b1d3fe6a072c"
      },
      "source": [
        "s = input('こんにちは！')\n",
        "print(\"そうなんですね〜！\")"
      ],
      "execution_count": null,
      "outputs": [
        {
          "output_type": "stream",
          "name": "stdout",
          "text": [
            "こんにちは！あいうえお\n",
            "そうなんですね〜！\n"
          ]
        }
      ]
    },
    {
      "cell_type": "markdown",
      "metadata": {
        "id": "9cFsSRvJu-Fn"
      },
      "source": [
        "# 課題５"
      ]
    },
    {
      "cell_type": "code",
      "metadata": {
        "colab": {
          "base_uri": "https://localhost:8080/"
        },
        "id": "CDvMTuIoqUJo",
        "outputId": "21e2c937-70ec-456e-b7da-80f76eaa93c4"
      },
      "source": [
        "text_a = \"{}巻き髪、{}巻き髪、{}巻き髪。\"\n",
        "print(text_a.format(\"赤\", \"青\", \"黄\"))"
      ],
      "execution_count": null,
      "outputs": [
        {
          "output_type": "stream",
          "name": "stdout",
          "text": [
            "赤巻き髪、青巻き髪、黄巻き髪。\n"
          ]
        }
      ]
    },
    {
      "cell_type": "code",
      "metadata": {
        "colab": {
          "base_uri": "https://localhost:8080/"
        },
        "id": "H3a8uoj-u_jJ",
        "outputId": "061db9f1-9a30-403d-cfd9-d7683fe89b3f"
      },
      "source": [
        "text = \"{name}の戦闘力は{power}です。\"\n",
        "result = text.format(name=\"私\", power=530000)\n",
        "print(result)"
      ],
      "execution_count": null,
      "outputs": [
        {
          "output_type": "stream",
          "name": "stdout",
          "text": [
            "私の戦闘力は530000です。\n"
          ]
        }
      ]
    },
    {
      "cell_type": "code",
      "metadata": {
        "colab": {
          "base_uri": "https://localhost:8080/"
        },
        "id": "x44j_xb7vIUR",
        "outputId": "02c7ce6d-e143-4026-dd0b-d99419357326"
      },
      "source": [
        "text = \"{}の戦闘力は{}です。\"\n",
        "list = [\"私\", 530000]\n",
        "result = text.format(*list)\n",
        "print(result)"
      ],
      "execution_count": null,
      "outputs": [
        {
          "output_type": "stream",
          "name": "stdout",
          "text": [
            "私の戦闘力は530000です。\n"
          ]
        }
      ]
    },
    {
      "cell_type": "code",
      "metadata": {
        "colab": {
          "base_uri": "https://localhost:8080/"
        },
        "id": "ozohvT7dvKo6",
        "outputId": "4a867709-6b18-40a4-9a10-0364c29abcca"
      },
      "source": [
        "s1 = input(\"入力１：\")\n",
        "s2 = input(\"入力２：\")\n",
        "print(\"{} は {} です。\".format(s1, s2))"
      ],
      "execution_count": null,
      "outputs": [
        {
          "output_type": "stream",
          "name": "stdout",
          "text": [
            "入力１：私\n",
            "入力２：イケメン\n",
            "私 は イケメン です。\n"
          ]
        }
      ]
    },
    {
      "cell_type": "markdown",
      "metadata": {
        "id": "v2gOAibJwNy1"
      },
      "source": [
        "# 課題６"
      ]
    },
    {
      "cell_type": "code",
      "metadata": {
        "colab": {
          "base_uri": "https://localhost:8080/"
        },
        "id": "ecgxph9ovaHZ",
        "outputId": "04caab59-1ee9-46fb-b7d0-1d9bbb4fdde5"
      },
      "source": [
        "# 簡単な足し算をする\n",
        "1 + 2"
      ],
      "execution_count": null,
      "outputs": [
        {
          "output_type": "execute_result",
          "data": {
            "text/plain": [
              "3"
            ]
          },
          "metadata": {},
          "execution_count": 9
        }
      ]
    },
    {
      "cell_type": "code",
      "metadata": {
        "id": "RBNscEvuwTdn"
      },
      "source": [
        "# 数字を変数に代入する\n",
        "a = 4\n",
        "b = 5"
      ],
      "execution_count": null,
      "outputs": []
    },
    {
      "cell_type": "code",
      "metadata": {
        "colab": {
          "base_uri": "https://localhost:8080/"
        },
        "id": "kwV5NvqBwVfE",
        "outputId": "c2c49a65-4256-4534-b4e7-41787feaf580"
      },
      "source": [
        "# 代入した変数同士の掛け算\n",
        "a * b"
      ],
      "execution_count": null,
      "outputs": [
        {
          "output_type": "execute_result",
          "data": {
            "text/plain": [
              "20"
            ]
          },
          "metadata": {},
          "execution_count": 11
        }
      ]
    },
    {
      "cell_type": "code",
      "metadata": {
        "colab": {
          "base_uri": "https://localhost:8080/",
          "height": 234
        },
        "id": "2usgfurHwXMJ",
        "outputId": "36ac79aa-8b9c-41b6-bf2c-8196b9cd4480"
      },
      "source": [
        "s1 = input(\"入力１：\")\n",
        "s2 = input(\"入力２：\")\n",
        "print(float(s1) / float(s2))"
      ],
      "execution_count": null,
      "outputs": [
        {
          "name": "stdout",
          "output_type": "stream",
          "text": [
            "入力１：５\n",
            "入力２：あいうえお\n"
          ]
        },
        {
          "output_type": "error",
          "ename": "ValueError",
          "evalue": "ignored",
          "traceback": [
            "\u001b[0;31m---------------------------------------------------------------------------\u001b[0m",
            "\u001b[0;31mValueError\u001b[0m                                Traceback (most recent call last)",
            "\u001b[0;32m<ipython-input-15-4f388e2b927d>\u001b[0m in \u001b[0;36m<module>\u001b[0;34m()\u001b[0m\n\u001b[1;32m      1\u001b[0m \u001b[0ms1\u001b[0m \u001b[0;34m=\u001b[0m \u001b[0minput\u001b[0m\u001b[0;34m(\u001b[0m\u001b[0;34m\"入力１：\"\u001b[0m\u001b[0;34m)\u001b[0m\u001b[0;34m\u001b[0m\u001b[0;34m\u001b[0m\u001b[0m\n\u001b[1;32m      2\u001b[0m \u001b[0ms2\u001b[0m \u001b[0;34m=\u001b[0m \u001b[0minput\u001b[0m\u001b[0;34m(\u001b[0m\u001b[0;34m\"入力２：\"\u001b[0m\u001b[0;34m)\u001b[0m\u001b[0;34m\u001b[0m\u001b[0;34m\u001b[0m\u001b[0m\n\u001b[0;32m----> 3\u001b[0;31m \u001b[0mprint\u001b[0m\u001b[0;34m(\u001b[0m\u001b[0mfloat\u001b[0m\u001b[0;34m(\u001b[0m\u001b[0ms1\u001b[0m\u001b[0;34m)\u001b[0m \u001b[0;34m/\u001b[0m \u001b[0mfloat\u001b[0m\u001b[0;34m(\u001b[0m\u001b[0ms2\u001b[0m\u001b[0;34m)\u001b[0m\u001b[0;34m)\u001b[0m\u001b[0;34m\u001b[0m\u001b[0;34m\u001b[0m\u001b[0m\n\u001b[0m",
            "\u001b[0;31mValueError\u001b[0m: could not convert string to float: 'あいうえお'"
          ]
        }
      ]
    },
    {
      "cell_type": "markdown",
      "metadata": {
        "id": "lcDACsU5xP1Y"
      },
      "source": [
        "# 課題７"
      ]
    },
    {
      "cell_type": "code",
      "metadata": {
        "colab": {
          "base_uri": "https://localhost:8080/"
        },
        "id": "APF_OdxwwjDl",
        "outputId": "620a0bdf-f727-4bba-d6c4-dfe684842048"
      },
      "source": [
        "import math # 数学関数ライブラリ math のインポート\n",
        "\n",
        "a = 2\n",
        "print(math.sqrt(a))"
      ],
      "execution_count": null,
      "outputs": [
        {
          "output_type": "stream",
          "name": "stdout",
          "text": [
            "1.4142135623730951\n"
          ]
        }
      ]
    },
    {
      "cell_type": "code",
      "metadata": {
        "colab": {
          "base_uri": "https://localhost:8080/",
          "height": 234
        },
        "id": "VFXH5_J1xX-G",
        "outputId": "0febf1eb-5c06-4109-c20a-132ac67b5e41"
      },
      "source": [
        "import math\n",
        "\n",
        "s1 = input(\"入力１：\")\n",
        "s2 = input(\"入力２：\")\n",
        "print(math.log(float(s2), float(s1)))"
      ],
      "execution_count": null,
      "outputs": [
        {
          "name": "stdout",
          "output_type": "stream",
          "text": [
            "入力１：0\n",
            "入力２：8\n"
          ]
        },
        {
          "output_type": "error",
          "ename": "ValueError",
          "evalue": "ignored",
          "traceback": [
            "\u001b[0;31m---------------------------------------------------------------------------\u001b[0m",
            "\u001b[0;31mValueError\u001b[0m                                Traceback (most recent call last)",
            "\u001b[0;32m<ipython-input-20-194cadfb1d86>\u001b[0m in \u001b[0;36m<module>\u001b[0;34m()\u001b[0m\n\u001b[1;32m      3\u001b[0m \u001b[0ms1\u001b[0m \u001b[0;34m=\u001b[0m \u001b[0minput\u001b[0m\u001b[0;34m(\u001b[0m\u001b[0;34m\"入力１：\"\u001b[0m\u001b[0;34m)\u001b[0m\u001b[0;34m\u001b[0m\u001b[0;34m\u001b[0m\u001b[0m\n\u001b[1;32m      4\u001b[0m \u001b[0ms2\u001b[0m \u001b[0;34m=\u001b[0m \u001b[0minput\u001b[0m\u001b[0;34m(\u001b[0m\u001b[0;34m\"入力２：\"\u001b[0m\u001b[0;34m)\u001b[0m\u001b[0;34m\u001b[0m\u001b[0;34m\u001b[0m\u001b[0m\n\u001b[0;32m----> 5\u001b[0;31m \u001b[0mprint\u001b[0m\u001b[0;34m(\u001b[0m\u001b[0mmath\u001b[0m\u001b[0;34m.\u001b[0m\u001b[0mlog\u001b[0m\u001b[0;34m(\u001b[0m\u001b[0mfloat\u001b[0m\u001b[0;34m(\u001b[0m\u001b[0ms2\u001b[0m\u001b[0;34m)\u001b[0m\u001b[0;34m,\u001b[0m \u001b[0mfloat\u001b[0m\u001b[0;34m(\u001b[0m\u001b[0ms1\u001b[0m\u001b[0;34m)\u001b[0m\u001b[0;34m)\u001b[0m\u001b[0;34m)\u001b[0m\u001b[0;34m\u001b[0m\u001b[0;34m\u001b[0m\u001b[0m\n\u001b[0m",
            "\u001b[0;31mValueError\u001b[0m: math domain error"
          ]
        }
      ]
    },
    {
      "cell_type": "markdown",
      "metadata": {
        "id": "agoIlI_VyEGG"
      },
      "source": [
        "# 課題８"
      ]
    },
    {
      "cell_type": "code",
      "metadata": {
        "colab": {
          "base_uri": "https://localhost:8080/"
        },
        "id": "KJQoHvsaxqxj",
        "outputId": "5f2a45ec-00e0-418e-c996-1e8b3f6574ed"
      },
      "source": [
        "import math # 数学関数ライブラリ math のインポート\n",
        "\n",
        "print(math.pi)"
      ],
      "execution_count": null,
      "outputs": [
        {
          "output_type": "stream",
          "name": "stdout",
          "text": [
            "3.141592653589793\n"
          ]
        }
      ]
    },
    {
      "cell_type": "code",
      "metadata": {
        "colab": {
          "base_uri": "https://localhost:8080/"
        },
        "id": "NMXWtPAIylYh",
        "outputId": "1007d34e-53fd-47ef-87a8-d4d022fd64a3"
      },
      "source": [
        "s = input(\"角度を度の単位で入力してください：\")\n",
        "print(float(s) * math.pi / 180)"
      ],
      "execution_count": null,
      "outputs": [
        {
          "output_type": "stream",
          "name": "stdout",
          "text": [
            "角度を度の単位で入力してください：９０\n",
            "1.5707963267948966\n"
          ]
        }
      ]
    },
    {
      "cell_type": "code",
      "metadata": {
        "colab": {
          "base_uri": "https://localhost:8080/"
        },
        "id": "fo44xhmJy9Jo",
        "outputId": "134c0a82-2411-4433-d15a-21e2d8144d89"
      },
      "source": [
        "s = input(\"気圧をatmの単位で入力してください：\")\n",
        "print(float(s) * 760, \" mmHg\")\n",
        "print(float(s) / 9.86 * 1000000, \" Pa\")\n",
        "print(float(s) / 9.67 * 10, \" kgf/cm^2\")"
      ],
      "execution_count": null,
      "outputs": [
        {
          "output_type": "stream",
          "name": "stdout",
          "text": [
            "気圧をatmの単位で入力してください：1\n",
            "760.0  mmHg\n",
            "101419.87829614605  Pa\n",
            "1.0341261633919339  kgf/cm^2\n"
          ]
        }
      ]
    },
    {
      "cell_type": "markdown",
      "metadata": {
        "id": "8T2MiwSk096o"
      },
      "source": [
        "# 課題９"
      ]
    },
    {
      "cell_type": "code",
      "metadata": {
        "colab": {
          "base_uri": "https://localhost:8080/"
        },
        "id": "ZntjUGPdzMy9",
        "outputId": "d034f42a-1bf7-4997-90d0-36bcc67c8497"
      },
      "source": [
        "a = float(input(\"a = \"))\n",
        "b = float(input(\"b = \"))\n",
        "print(- b / a)"
      ],
      "execution_count": null,
      "outputs": [
        {
          "output_type": "stream",
          "name": "stdout",
          "text": [
            "a = 4\n",
            "b = 8\n",
            "-2.0\n"
          ]
        }
      ]
    },
    {
      "cell_type": "markdown",
      "metadata": {
        "id": "0QKQEyeQ1ZQF"
      },
      "source": [
        "# 課題１０"
      ]
    },
    {
      "cell_type": "code",
      "metadata": {
        "colab": {
          "base_uri": "https://localhost:8080/",
          "height": 284
        },
        "id": "vgT8H2Nk1M3t",
        "outputId": "f41362e9-014a-4e98-80b8-1f19454beaff"
      },
      "source": [
        "a = float(input(\"a = \"))\n",
        "if a == 0:\n",
        "    raise ValueError(\"aはゼロ以外を入力してください。\")\n",
        "b = float(input(\"b = \"))\n",
        "c = float(input(\"c = \"))\n",
        "\n",
        "if b**2 - 4 * a * c < 0:\n",
        "    raise ValueError(\"実数解が存在しません\")\n",
        "elif b**2 - 4 * a * c  == 0:\n",
        "    print(-b/(2 * a))\n",
        "else:\n",
        "    print(\n",
        "        (-b + (b**2 - 4 * a * c)**(1/2)) / (2 * a),\n",
        "        (-b - (b**2 - 4 * a * c)**(1/2)) / (2 * a)\n",
        "    )"
      ],
      "execution_count": null,
      "outputs": [
        {
          "name": "stdout",
          "output_type": "stream",
          "text": [
            "a = 1\n",
            "b = 4\n",
            "c = 13\n"
          ]
        },
        {
          "output_type": "error",
          "ename": "ValueError",
          "evalue": "ignored",
          "traceback": [
            "\u001b[0;31m---------------------------------------------------------------------------\u001b[0m",
            "\u001b[0;31mValueError\u001b[0m                                Traceback (most recent call last)",
            "\u001b[0;32m<ipython-input-34-4ac5fb96d822>\u001b[0m in \u001b[0;36m<module>\u001b[0;34m()\u001b[0m\n\u001b[1;32m      6\u001b[0m \u001b[0;34m\u001b[0m\u001b[0m\n\u001b[1;32m      7\u001b[0m \u001b[0;32mif\u001b[0m \u001b[0mb\u001b[0m\u001b[0;34m**\u001b[0m\u001b[0;36m2\u001b[0m \u001b[0;34m-\u001b[0m \u001b[0;36m4\u001b[0m \u001b[0;34m*\u001b[0m \u001b[0ma\u001b[0m \u001b[0;34m*\u001b[0m \u001b[0mc\u001b[0m \u001b[0;34m<\u001b[0m \u001b[0;36m0\u001b[0m\u001b[0;34m:\u001b[0m\u001b[0;34m\u001b[0m\u001b[0;34m\u001b[0m\u001b[0m\n\u001b[0;32m----> 8\u001b[0;31m     \u001b[0;32mraise\u001b[0m \u001b[0mValueError\u001b[0m\u001b[0;34m(\u001b[0m\u001b[0;34m\"実数解が存在しません\"\u001b[0m\u001b[0;34m)\u001b[0m\u001b[0;34m\u001b[0m\u001b[0;34m\u001b[0m\u001b[0m\n\u001b[0m\u001b[1;32m      9\u001b[0m \u001b[0;32melif\u001b[0m \u001b[0mb\u001b[0m\u001b[0;34m**\u001b[0m\u001b[0;36m2\u001b[0m \u001b[0;34m-\u001b[0m \u001b[0;36m4\u001b[0m \u001b[0;34m*\u001b[0m \u001b[0ma\u001b[0m \u001b[0;34m*\u001b[0m \u001b[0mc\u001b[0m  \u001b[0;34m==\u001b[0m \u001b[0;36m0\u001b[0m\u001b[0;34m:\u001b[0m\u001b[0;34m\u001b[0m\u001b[0;34m\u001b[0m\u001b[0m\n\u001b[1;32m     10\u001b[0m     \u001b[0mprint\u001b[0m\u001b[0;34m(\u001b[0m\u001b[0;34m-\u001b[0m\u001b[0mb\u001b[0m\u001b[0;34m/\u001b[0m\u001b[0;34m(\u001b[0m\u001b[0;36m2\u001b[0m \u001b[0;34m*\u001b[0m \u001b[0ma\u001b[0m\u001b[0;34m)\u001b[0m\u001b[0;34m)\u001b[0m\u001b[0;34m\u001b[0m\u001b[0;34m\u001b[0m\u001b[0m\n",
            "\u001b[0;31mValueError\u001b[0m: 実数解が存在しません"
          ]
        }
      ]
    },
    {
      "cell_type": "markdown",
      "metadata": {
        "id": "7fw9kpwb3ord"
      },
      "source": [
        "# 課題１１\n"
      ]
    },
    {
      "cell_type": "code",
      "metadata": {
        "colab": {
          "base_uri": "https://localhost:8080/"
        },
        "id": "3Yd1l0ps2itC",
        "outputId": "87d8d0f9-11ba-4062-faba-70190c38ac0d"
      },
      "source": [
        " s = input(\"３辺の長さをスペース区切りで入力してください：\")\n",
        " s = s.split()\n",
        "edges = [float(x) for x in s]\n",
        "if len(edges) != 3:\n",
        "    raise ValueError(\"データが不正です\")\n",
        "\n",
        "edges.sort()\n",
        "\n",
        "if edges[2] >= edges[1] + edges[0]:\n",
        "    raise ValueError(\"三角形を形成できません。\")\n",
        "elif edges[2]**2 == edges[1]**2 + edges[0]**2:\n",
        "    print(\"直角三角形です\")\n",
        "elif edges[2]**2 > edges[1]**2 + edges[0]**2:\n",
        "    print(\"鈍角三角形です\")\n",
        "else:\n",
        "    print(\"鋭角三角形です\")"
      ],
      "execution_count": null,
      "outputs": [
        {
          "output_type": "stream",
          "name": "stdout",
          "text": [
            "３辺の長さをスペース区切りで入力してください：5 3 6\n",
            "鈍角三角形です\n"
          ]
        }
      ]
    },
    {
      "cell_type": "code",
      "metadata": {
        "colab": {
          "base_uri": "https://localhost:8080/"
        },
        "id": "ZpEvwl4X1-xs",
        "outputId": "ebb6fa28-8f5a-47f3-a7d0-526ca4684285"
      },
      "source": [
        "edges.sort(reverse=True)\n",
        "edges"
      ],
      "execution_count": null,
      "outputs": [
        {
          "output_type": "execute_result",
          "data": {
            "text/plain": [
              "[6.0, 5.0, 3.0]"
            ]
          },
          "metadata": {},
          "execution_count": 52
        }
      ]
    },
    {
      "cell_type": "code",
      "metadata": {
        "colab": {
          "base_uri": "https://localhost:8080/"
        },
        "id": "w0ARybNp5cSW",
        "outputId": "43f51c6e-c34f-4372-c7fa-045ab4ec0f9d"
      },
      "source": [
        "edges.sort()\n",
        "edges"
      ],
      "execution_count": null,
      "outputs": [
        {
          "output_type": "execute_result",
          "data": {
            "text/plain": [
              "[3.0, 5.0, 6.0]"
            ]
          },
          "metadata": {},
          "execution_count": 53
        }
      ]
    },
    {
      "cell_type": "markdown",
      "metadata": {
        "id": "3Y8Nduke5vBe"
      },
      "source": [
        "# 課題１２"
      ]
    },
    {
      "cell_type": "code",
      "metadata": {
        "id": "-CViUxPD5lks"
      },
      "source": [
        "a = [2, -3, 1]\n",
        "b = [4, -2, 6]"
      ],
      "execution_count": null,
      "outputs": []
    },
    {
      "cell_type": "code",
      "metadata": {
        "id": "Yu9baHHz5y3s"
      },
      "source": [
        "def inner_product(x, y):\n",
        "    wa = 0\n",
        "    for i in range(len(x)):\n",
        "        #print(i, x[i], y[i])\n",
        "        wa += x[i] * y[i]\n",
        "    \n",
        "    return wa"
      ],
      "execution_count": null,
      "outputs": []
    },
    {
      "cell_type": "code",
      "metadata": {
        "colab": {
          "base_uri": "https://localhost:8080/"
        },
        "id": "PnS1yv8e6GNd",
        "outputId": "4ef93f71-fcbe-4491-fab6-b4741321236d"
      },
      "source": [
        "inner_product(a, b)"
      ],
      "execution_count": null,
      "outputs": [
        {
          "output_type": "execute_result",
          "data": {
            "text/plain": [
              "20"
            ]
          },
          "metadata": {},
          "execution_count": 58
        }
      ]
    },
    {
      "cell_type": "code",
      "metadata": {
        "id": "SnVx_Csj6JmR"
      },
      "source": [
        "def cross_product(x, y):\n",
        "    val = []\n",
        "    val.append(x[1] * y[2] - x[2] * y[1])\n",
        "    val.append(x[2] * y[0] - x[0] * y[2])\n",
        "    val.append(x[0] * y[1] - x[1] * y[0])\n",
        "    return val"
      ],
      "execution_count": null,
      "outputs": []
    },
    {
      "cell_type": "code",
      "metadata": {
        "colab": {
          "base_uri": "https://localhost:8080/"
        },
        "id": "ebgAeahA6_vh",
        "outputId": "0a533e9a-dd03-43c0-8b5e-64ca0ce84aac"
      },
      "source": [
        "cross_product(a, b)"
      ],
      "execution_count": null,
      "outputs": [
        {
          "output_type": "execute_result",
          "data": {
            "text/plain": [
              "[-16, -8, 8]"
            ]
          },
          "metadata": {},
          "execution_count": 60
        }
      ]
    },
    {
      "cell_type": "markdown",
      "metadata": {
        "id": "G-TG6ov67OGO"
      },
      "source": [
        "# 課題１３"
      ]
    },
    {
      "cell_type": "code",
      "metadata": {
        "colab": {
          "base_uri": "https://localhost:8080/"
        },
        "id": "iFkfWwDo7COi",
        "outputId": "6bdc96b5-57ad-4368-e389-f01a245bf5d1"
      },
      "source": [
        "import math\n",
        "\n",
        "x = 0.4\n",
        "math.sin(x)"
      ],
      "execution_count": null,
      "outputs": [
        {
          "output_type": "execute_result",
          "data": {
            "text/plain": [
              "0.3894183423086505"
            ]
          },
          "metadata": {},
          "execution_count": 61
        }
      ]
    },
    {
      "cell_type": "code",
      "metadata": {
        "colab": {
          "base_uri": "https://localhost:8080/"
        },
        "id": "h2McY0tR7Pf4",
        "outputId": "19e4febf-e4ca-4aa9-86a5-4058d796ad41"
      },
      "source": [
        "for n in range(10):\n",
        "    print(\"羊が {} 匹、\".format(n + 1))"
      ],
      "execution_count": null,
      "outputs": [
        {
          "output_type": "stream",
          "name": "stdout",
          "text": [
            "羊が 1 匹、\n",
            "羊が 2 匹、\n",
            "羊が 3 匹、\n",
            "羊が 4 匹、\n",
            "羊が 5 匹、\n",
            "羊が 6 匹、\n",
            "羊が 7 匹、\n",
            "羊が 8 匹、\n",
            "羊が 9 匹、\n",
            "羊が 10 匹、\n"
          ]
        }
      ]
    },
    {
      "cell_type": "code",
      "metadata": {
        "colab": {
          "base_uri": "https://localhost:8080/"
        },
        "id": "2wBQBVLr7Uv4",
        "outputId": "9cad539a-6f46-4a82-b5f7-49b1b744ea6e"
      },
      "source": [
        "for n in range(90000, 120000, 10000):\n",
        "    print(\"{} ...\".format(n))\n",
        "print(\"バ・・・バカな・・・まさか・・・。ま・・・まだ上昇している・・・！\")"
      ],
      "execution_count": null,
      "outputs": [
        {
          "output_type": "stream",
          "name": "stdout",
          "text": [
            "90000 ...\n",
            "100000 ...\n",
            "110000 ...\n",
            "バ・・・バカな・・・まさか・・・。ま・・・まだ上昇している・・・！\n"
          ]
        }
      ]
    },
    {
      "cell_type": "code",
      "metadata": {
        "colab": {
          "base_uri": "https://localhost:8080/"
        },
        "id": "G23NGBBc7dvl",
        "outputId": "c3bcc955-3738-4559-bdbc-e5154c3dcef3"
      },
      "source": [
        "[print(\"{} ...\".format(n)) for n in range(90000, 120000, 10000)]\n",
        "print(\"バ・・・バカな・・・まさか・・・。ま・・・まだ上昇している・・・！\")"
      ],
      "execution_count": null,
      "outputs": [
        {
          "output_type": "stream",
          "name": "stdout",
          "text": [
            "90000 ...\n",
            "100000 ...\n",
            "110000 ...\n",
            "バ・・・バカな・・・まさか・・・。ま・・・まだ上昇している・・・！\n"
          ]
        }
      ]
    },
    {
      "cell_type": "code",
      "metadata": {
        "colab": {
          "base_uri": "https://localhost:8080/"
        },
        "id": "xx4cWXa97iJ5",
        "outputId": "3a3a965f-38c1-403c-a1f7-704e810e9597"
      },
      "source": [
        "n = 90000\n",
        "while n < 120000:\n",
        "    print(\"{} ...\".format(n))\n",
        "    n += 10000\n",
        "print(\"バ・・・バカな・・・まさか・・・。ま・・・まだ上昇している・・・！\")"
      ],
      "execution_count": null,
      "outputs": [
        {
          "output_type": "stream",
          "name": "stdout",
          "text": [
            "90000 ...\n",
            "100000 ...\n",
            "110000 ...\n",
            "バ・・・バカな・・・まさか・・・。ま・・・まだ上昇している・・・！\n"
          ]
        }
      ]
    },
    {
      "cell_type": "code",
      "metadata": {
        "colab": {
          "base_uri": "https://localhost:8080/"
        },
        "id": "gtGCFRDO7nZi",
        "outputId": "a034b7e1-5af4-43df-8b23-472da9dfad8b"
      },
      "source": [
        "import math\n",
        "\n",
        "x = 0\n",
        "w = 0.02\n",
        "t = 0.4\n",
        "\n",
        "while x <= t + w:\n",
        "    print(\"{:.2f}\\t{:.5f}\\t{:.5f}\".format(x, math.sin(x), abs(x - math.sin(x))))\n",
        "    x += w"
      ],
      "execution_count": null,
      "outputs": [
        {
          "output_type": "stream",
          "name": "stdout",
          "text": [
            "0.00\t0.00000\t0.00000\n",
            "0.02\t0.02000\t0.00000\n",
            "0.04\t0.03999\t0.00001\n",
            "0.06\t0.05996\t0.00004\n",
            "0.08\t0.07991\t0.00009\n",
            "0.10\t0.09983\t0.00017\n",
            "0.12\t0.11971\t0.00029\n",
            "0.14\t0.13954\t0.00046\n",
            "0.16\t0.15932\t0.00068\n",
            "0.18\t0.17903\t0.00097\n",
            "0.20\t0.19867\t0.00133\n",
            "0.22\t0.21823\t0.00177\n",
            "0.24\t0.23770\t0.00230\n",
            "0.26\t0.25708\t0.00292\n",
            "0.28\t0.27636\t0.00364\n",
            "0.30\t0.29552\t0.00448\n",
            "0.32\t0.31457\t0.00543\n",
            "0.34\t0.33349\t0.00651\n",
            "0.36\t0.35227\t0.00773\n",
            "0.38\t0.37092\t0.00908\n",
            "0.40\t0.38942\t0.01058\n"
          ]
        }
      ]
    },
    {
      "cell_type": "markdown",
      "metadata": {
        "id": "LpP4v4RL94pS"
      },
      "source": [
        "# 課題１４"
      ]
    },
    {
      "cell_type": "code",
      "metadata": {
        "colab": {
          "base_uri": "https://localhost:8080/"
        },
        "id": "5HHr55Lk8iez",
        "outputId": "f932c594-9b1a-411a-be3d-bb6db48d817e"
      },
      "source": [
        "a = 2\n",
        "for n in range(1, 11):\n",
        "    a = a**2 - 1\n",
        "    print(n, \"\\t\", a)"
      ],
      "execution_count": null,
      "outputs": [
        {
          "output_type": "stream",
          "name": "stdout",
          "text": [
            "1 \t 3\n",
            "2 \t 8\n",
            "3 \t 63\n",
            "4 \t 3968\n",
            "5 \t 15745023\n",
            "6 \t 247905749270528\n",
            "7 \t 61457260521381894004129398783\n",
            "8 \t 3776994870793005510047522464634252677140721938309041881088\n",
            "9 \t 14265690253996672387291309349232388828298289458234016200317876247121873778287073518355813134107244701354409532063743\n",
            "10 \t 203509918422975643131625101557493482417516581321177887486174612349689723637228095885608636916042736102424433936617827686729959884103612889121780011527849662844136145473332830301242513425767433130492258922182178369327277600615170048\n"
          ]
        }
      ]
    },
    {
      "cell_type": "markdown",
      "metadata": {
        "id": "cXzhtBLt-uHR"
      },
      "source": [
        "# 課題１５"
      ]
    },
    {
      "cell_type": "code",
      "metadata": {
        "colab": {
          "base_uri": "https://localhost:8080/"
        },
        "id": "-R-9hr8I-HdS",
        "outputId": "1d6e526a-2797-40a8-a843-f4742b1ca18f"
      },
      "source": [
        "for i in range(1, 8):\n",
        "    n = 2**i\n",
        "    s = 0\n",
        "    for k in range(1, n + 1):\n",
        "        s += k**-2\n",
        "\n",
        "    print(i, n, s)"
      ],
      "execution_count": null,
      "outputs": [
        {
          "output_type": "stream",
          "name": "stdout",
          "text": [
            "1 2 1.25\n",
            "2 4 1.4236111111111112\n",
            "3 8 1.527422052154195\n",
            "4 16 1.584346533444987\n",
            "5 32 1.6141672628279242\n",
            "6 64 1.629430501408887\n",
            "7 128 1.6371520049544612\n"
          ]
        }
      ]
    },
    {
      "cell_type": "markdown",
      "metadata": {
        "id": "fcHevxarACEd"
      },
      "source": [
        "# 課題１６"
      ]
    },
    {
      "cell_type": "code",
      "metadata": {
        "id": "C09mVVKx--5F"
      },
      "source": [
        "stack = [1, 2, 3]"
      ],
      "execution_count": null,
      "outputs": []
    },
    {
      "cell_type": "code",
      "metadata": {
        "id": "Ma2zbLJrAIsF"
      },
      "source": [
        "stack.append(4)"
      ],
      "execution_count": null,
      "outputs": []
    },
    {
      "cell_type": "code",
      "metadata": {
        "colab": {
          "base_uri": "https://localhost:8080/"
        },
        "id": "WoVbD5VOAL7v",
        "outputId": "04516ba3-9b23-409a-dd27-1083b3b13c48"
      },
      "source": [
        "stack"
      ],
      "execution_count": null,
      "outputs": [
        {
          "output_type": "execute_result",
          "data": {
            "text/plain": [
              "[1, 2, 3, 4]"
            ]
          },
          "metadata": {},
          "execution_count": 84
        }
      ]
    },
    {
      "cell_type": "code",
      "metadata": {
        "id": "5RAIO7wPAMss"
      },
      "source": [
        "stack.append(5)"
      ],
      "execution_count": null,
      "outputs": []
    },
    {
      "cell_type": "code",
      "metadata": {
        "colab": {
          "base_uri": "https://localhost:8080/"
        },
        "id": "1mNQ8X9pAOgg",
        "outputId": "2b85e423-4e7c-45b5-85b0-eaa29744cb74"
      },
      "source": [
        "stack"
      ],
      "execution_count": null,
      "outputs": [
        {
          "output_type": "execute_result",
          "data": {
            "text/plain": [
              "[1, 2, 3, 4, 5]"
            ]
          },
          "metadata": {},
          "execution_count": 86
        }
      ]
    },
    {
      "cell_type": "code",
      "metadata": {
        "id": "brWFHJeMAPdf"
      },
      "source": [
        "stack.append(6)\n"
      ],
      "execution_count": null,
      "outputs": []
    },
    {
      "cell_type": "code",
      "metadata": {
        "colab": {
          "base_uri": "https://localhost:8080/"
        },
        "id": "FOzKRFc2ARlt",
        "outputId": "08563c21-e179-4cce-f371-16452defed65"
      },
      "source": [
        "stack"
      ],
      "execution_count": null,
      "outputs": [
        {
          "output_type": "execute_result",
          "data": {
            "text/plain": [
              "[1, 2, 3, 4, 5, 6]"
            ]
          },
          "metadata": {},
          "execution_count": 88
        }
      ]
    },
    {
      "cell_type": "code",
      "metadata": {
        "colab": {
          "base_uri": "https://localhost:8080/"
        },
        "id": "GSw8M8QNASl0",
        "outputId": "8e928717-bcc6-46c3-801a-fc07c15ff74d"
      },
      "source": [
        "stack.pop()"
      ],
      "execution_count": null,
      "outputs": [
        {
          "output_type": "execute_result",
          "data": {
            "text/plain": [
              "6"
            ]
          },
          "metadata": {},
          "execution_count": 89
        }
      ]
    },
    {
      "cell_type": "code",
      "metadata": {
        "colab": {
          "base_uri": "https://localhost:8080/"
        },
        "id": "nQ_bzPBAAUVT",
        "outputId": "7c806834-1341-47b8-d506-4763ed3213af"
      },
      "source": [
        "stack"
      ],
      "execution_count": null,
      "outputs": [
        {
          "output_type": "execute_result",
          "data": {
            "text/plain": [
              "[1, 2, 3, 4, 5]"
            ]
          },
          "metadata": {},
          "execution_count": 90
        }
      ]
    },
    {
      "cell_type": "code",
      "metadata": {
        "colab": {
          "base_uri": "https://localhost:8080/"
        },
        "id": "CnTd6d4yAWLV",
        "outputId": "65e641a7-a889-446b-ef76-19fb8eb6380b"
      },
      "source": [
        "queue = [1, 2, 3]\n",
        "queue.append(4)\n",
        "queue.append(5)\n",
        "queue.append(6)\n",
        "queue"
      ],
      "execution_count": null,
      "outputs": [
        {
          "output_type": "execute_result",
          "data": {
            "text/plain": [
              "[1, 2, 3, 4, 5, 6]"
            ]
          },
          "metadata": {},
          "execution_count": 91
        }
      ]
    },
    {
      "cell_type": "code",
      "metadata": {
        "colab": {
          "base_uri": "https://localhost:8080/"
        },
        "id": "WJ85yocHAj84",
        "outputId": "d364d4b2-d74c-4b70-9efd-7e4ed26aa696"
      },
      "source": [
        "queue.pop(0)"
      ],
      "execution_count": null,
      "outputs": [
        {
          "output_type": "execute_result",
          "data": {
            "text/plain": [
              "1"
            ]
          },
          "metadata": {},
          "execution_count": 92
        }
      ]
    },
    {
      "cell_type": "markdown",
      "metadata": {
        "id": "qwY0ZbD8A59X"
      },
      "source": [
        "# 課題１７"
      ]
    },
    {
      "cell_type": "code",
      "metadata": {
        "colab": {
          "base_uri": "https://localhost:8080/"
        },
        "id": "U04zBwldAlUm",
        "outputId": "694b5e86-814f-4f84-e07d-766a56f36ad9"
      },
      "source": [
        "%%timeit\n",
        "def sum(n):\n",
        "    ret = 0\n",
        "    for i in range(1, n + 1):\n",
        "        ret += i\n",
        "    return ret\n",
        "\n",
        "sum(10)"
      ],
      "execution_count": null,
      "outputs": [
        {
          "output_type": "stream",
          "name": "stdout",
          "text": [
            "The slowest run took 4.68 times longer than the fastest. This could mean that an intermediate result is being cached.\n",
            "1000000 loops, best of 5: 890 ns per loop\n"
          ]
        }
      ]
    },
    {
      "cell_type": "code",
      "metadata": {
        "colab": {
          "base_uri": "https://localhost:8080/"
        },
        "id": "v3oVcFF9A_1d",
        "outputId": "75a61d36-566b-4de2-d77d-37e183fb35fb"
      },
      "source": [
        "%%timeit\n",
        "def sum(n):\n",
        "    if n < 1:\n",
        "        return n\n",
        "    return n + sum(n-1)\n",
        "\n",
        "sum(10)"
      ],
      "execution_count": null,
      "outputs": [
        {
          "output_type": "stream",
          "name": "stdout",
          "text": [
            "1000000 loops, best of 5: 1.7 µs per loop\n"
          ]
        }
      ]
    },
    {
      "cell_type": "markdown",
      "metadata": {
        "id": "Jy4K8g_3Cwjm"
      },
      "source": [
        "# 課題１８"
      ]
    },
    {
      "cell_type": "code",
      "metadata": {
        "colab": {
          "base_uri": "https://localhost:8080/"
        },
        "id": "C3IM6t11BLcv",
        "outputId": "966a5059-ab40-41af-feb7-f4d752b8939a"
      },
      "source": [
        "import time\n",
        "\n",
        "start = time.time()\n",
        "for i in range(0, 10):\n",
        "    print (i)\n",
        "elapsed_time = time.time() - start\n",
        "print(\"elapsed_time:{0}\".format(elapsed_time) + \"[sec]\")"
      ],
      "execution_count": null,
      "outputs": [
        {
          "output_type": "stream",
          "name": "stdout",
          "text": [
            "0\n",
            "1\n",
            "2\n",
            "3\n",
            "4\n",
            "5\n",
            "6\n",
            "7\n",
            "8\n",
            "9\n",
            "elapsed_time:0.005929231643676758[sec]\n"
          ]
        }
      ]
    },
    {
      "cell_type": "code",
      "metadata": {
        "id": "pj7yrEVICzAq"
      },
      "source": [
        "def factorial_recursive(n):\n",
        "    if n < 1:\n",
        "        return 1\n",
        "    return n * factorial_recursive(n-1)"
      ],
      "execution_count": null,
      "outputs": []
    },
    {
      "cell_type": "code",
      "metadata": {
        "colab": {
          "base_uri": "https://localhost:8080/"
        },
        "id": "xTSnJRhpDQjV",
        "outputId": "b8fe1198-1868-4ff1-c218-dd97486bf868"
      },
      "source": [
        "factorial_recursive(10)"
      ],
      "execution_count": null,
      "outputs": [
        {
          "output_type": "execute_result",
          "data": {
            "text/plain": [
              "3628800"
            ]
          },
          "metadata": {},
          "execution_count": 104
        }
      ]
    },
    {
      "cell_type": "code",
      "metadata": {
        "id": "JY2IpoZADUaP"
      },
      "source": [
        "def factorial_not_recursive(n):\n",
        "    ret = 1\n",
        "    for i in range(1, n + 1):\n",
        "        ret *= i\n",
        "    return ret"
      ],
      "execution_count": null,
      "outputs": []
    },
    {
      "cell_type": "code",
      "metadata": {
        "colab": {
          "base_uri": "https://localhost:8080/"
        },
        "id": "kbO88GYxDgV9",
        "outputId": "40a0bce4-3e32-45b1-e029-9db008e3adf0"
      },
      "source": [
        "factorial_not_recursive(10)"
      ],
      "execution_count": null,
      "outputs": [
        {
          "output_type": "execute_result",
          "data": {
            "text/plain": [
              "3628800"
            ]
          },
          "metadata": {},
          "execution_count": 107
        }
      ]
    },
    {
      "cell_type": "code",
      "metadata": {
        "id": "fzYPL03_DjIh"
      },
      "source": [
        ""
      ],
      "execution_count": null,
      "outputs": []
    }
  ]
}