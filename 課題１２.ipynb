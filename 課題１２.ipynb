{
  "nbformat": 4,
  "nbformat_minor": 0,
  "metadata": {
    "colab": {
      "name": "課題１２",
      "provenance": [],
      "collapsed_sections": [],
      "authorship_tag": "ABX9TyPKz6ohpBAlxfnUBTE74GE3",
      "include_colab_link": true
    },
    "kernelspec": {
      "name": "python3",
      "display_name": "Python 3"
    }
  },
  "cells": [
    {
      "cell_type": "markdown",
      "metadata": {
        "id": "view-in-github",
        "colab_type": "text"
      },
      "source": [
        "<a href=\"https://colab.research.google.com/github/maskot1977/Computer_and_Exercises_2021/blob/Hq95NzAx/%E8%AA%B2%E9%A1%8C%EF%BC%91%EF%BC%92.ipynb\" target=\"_parent\"><img src=\"https://colab.research.google.com/assets/colab-badge.svg\" alt=\"Open In Colab\"/></a>"
      ]
    },
    {
      "cell_type": "code",
      "metadata": {
        "id": "-JcMoy_YWAcx"
      },
      "source": [
        "a = [2, -3, 1]\n",
        "b = [4, -2, 6]"
      ],
      "execution_count": null,
      "outputs": []
    },
    {
      "cell_type": "code",
      "metadata": {
        "id": "BQYcxuLoWDL7"
      },
      "source": [
        "def inner_product(x, y):\n",
        "    val = 0\n",
        "    for i in range(len(x)):\n",
        "        val += x[i] * y[i]\n",
        "    \n",
        "    return val"
      ],
      "execution_count": null,
      "outputs": []
    },
    {
      "cell_type": "code",
      "metadata": {
        "id": "YqvZ4zIlWRP9",
        "outputId": "ad84297a-9444-498c-e6d8-ed2b83fd1de6",
        "colab": {
          "base_uri": "https://localhost:8080/",
          "height": 35
        }
      },
      "source": [
        "inner_product(a, b)"
      ],
      "execution_count": null,
      "outputs": [
        {
          "output_type": "execute_result",
          "data": {
            "text/plain": [
              "20"
            ]
          },
          "metadata": {
            "tags": []
          },
          "execution_count": 16
        }
      ]
    },
    {
      "cell_type": "code",
      "metadata": {
        "id": "UyyKvweMWTuk"
      },
      "source": [
        "def cross_product(x, y):\n",
        "    val = []\n",
        "    val.append(x[1] * y[2] - x[2] * y[1])\n",
        "    val.append(x[2] * y[0] - x[0] * y[2])\n",
        "    val.append(x[0] * y[1] - x[1] * y[0])\n",
        "    return val"
      ],
      "execution_count": null,
      "outputs": []
    },
    {
      "cell_type": "code",
      "metadata": {
        "id": "EMj-prJ3XV8s",
        "outputId": "7155a5e9-0dd0-44a2-f49f-3ef5526d56b5",
        "colab": {
          "base_uri": "https://localhost:8080/",
          "height": 35
        }
      },
      "source": [
        "cross_product(a, b)"
      ],
      "execution_count": null,
      "outputs": [
        {
          "output_type": "execute_result",
          "data": {
            "text/plain": [
              "[-16, -8, 8]"
            ]
          },
          "metadata": {
            "tags": []
          },
          "execution_count": 19
        }
      ]
    },
    {
      "cell_type": "code",
      "metadata": {
        "id": "dagZLC2CXpNW"
      },
      "source": [
        ""
      ],
      "execution_count": null,
      "outputs": []
    }
  ]
}