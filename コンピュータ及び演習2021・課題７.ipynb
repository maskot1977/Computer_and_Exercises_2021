{
  "nbformat": 4,
  "nbformat_minor": 0,
  "metadata": {
    "colab": {
      "name": "コンピュータ及び演習2021・課題７",
      "provenance": [],
      "collapsed_sections": [],
      "authorship_tag": "ABX9TyO5zbHExYDBhvUXlMhwN3SE"
    },
    "kernelspec": {
      "name": "python3",
      "display_name": "Python 3"
    },
    "language_info": {
      "name": "python"
    }
  },
  "cells": [
    {
      "cell_type": "markdown",
      "metadata": {
        "id": "CeAYD5iR_mDJ"
      },
      "source": [
        "# 課題７"
      ]
    },
    {
      "cell_type": "code",
      "metadata": {
        "id": "eJwnEb4d_nn-"
      },
      "source": [
        "import math\n",
        "s1 = input('入力１：')\n",
        "s2 = input('入力２：')\n",
        "print(math.log(float(s2), float(s1)))"
      ],
      "execution_count": null,
      "outputs": []
    }
  ]
}