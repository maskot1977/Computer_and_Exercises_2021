{
  "nbformat": 4,
  "nbformat_minor": 0,
  "metadata": {
    "colab": {
      "name": "課題２３",
      "provenance": [],
      "collapsed_sections": [],
      "authorship_tag": "ABX9TyM/lApympQBXLNv4QGCEMCm",
      "include_colab_link": true
    },
    "kernelspec": {
      "name": "python3",
      "display_name": "Python 3"
    },
    "language_info": {
      "name": "python"
    }
  },
  "cells": [
    {
      "cell_type": "markdown",
      "metadata": {
        "id": "view-in-github",
        "colab_type": "text"
      },
      "source": [
        "<a href=\"https://colab.research.google.com/github/maskot1977/Computer_and_Exercises_2021/blob/Au2V67zb/%E8%AA%B2%E9%A1%8C%EF%BC%92%EF%BC%93.ipynb\" target=\"_parent\"><img src=\"https://colab.research.google.com/assets/colab-badge.svg\" alt=\"Open In Colab\"/></a>"
      ]
    },
    {
      "cell_type": "code",
      "execution_count": 1,
      "metadata": {
        "colab": {
          "base_uri": "https://localhost:8080/"
        },
        "id": "5aZzKffOmnJg",
        "outputId": "2e46d996-5c9b-4e4f-91e5-d893a1c42d41"
      },
      "outputs": [
        {
          "output_type": "execute_result",
          "data": {
            "text/plain": [
              "('iris.txt', <http.client.HTTPMessage at 0x7f62a097b0d0>)"
            ]
          },
          "metadata": {},
          "execution_count": 1
        }
      ],
      "source": [
        "import urllib.request\n",
        "\n",
        "url = 'https://raw.githubusercontent.com/maskot1977/ipython_notebook/master/toydata/iris.txt'\n",
        "\n",
        "urllib.request.urlretrieve(url, 'iris.txt')"
      ]
    },
    {
      "cell_type": "code",
      "source": [
        "col1 = []\n",
        "col2 = []\n",
        "col3 = []\n",
        "for i, line in enumerate(open('iris.txt')):\n",
        "    if i == 0:\n",
        "        continue\n",
        "    c = line.split(\"\\t\")\n",
        "    col1.append(c[0])\n",
        "    col2.append(float(c[1]))\n",
        "    col3.append(float(c[2]))"
      ],
      "metadata": {
        "id": "Rea7AQMkmr8i"
      },
      "execution_count": 2,
      "outputs": []
    },
    {
      "cell_type": "code",
      "source": [
        "import matplotlib.pyplot as plt\n",
        "\n",
        "plt.hist(col2, alpha=0.5)\n",
        "plt.hist(col3, alpha=0.5)\n",
        "plt.grid() \n",
        "plt.show()"
      ],
      "metadata": {
        "colab": {
          "base_uri": "https://localhost:8080/",
          "height": 265
        },
        "id": "PAfs4fXUmuzS",
        "outputId": "9b854e05-9f08-4421-8a33-887353914b2a"
      },
      "execution_count": 3,
      "outputs": [
        {
          "output_type": "display_data",
          "data": {
            "image/png": "[encoded data removed]",
            "text/plain": [
              "<Figure size 432x288 with 1 Axes>"
            ]
          },
          "metadata": {
            "needs_background": "light"
          }
        }
      ]
    },
    {
      "cell_type": "code",
      "source": [
        ""
      ],
      "metadata": {
        "id": "uJKspocVm4DG"
      },
      "execution_count": null,
      "outputs": []
    }
  ]
}