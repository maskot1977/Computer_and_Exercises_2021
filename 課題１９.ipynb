{
  "nbformat": 4,
  "nbformat_minor": 0,
  "metadata": {
    "colab": {
      "name": "課題１９",
      "provenance": [],
      "collapsed_sections": [],
      "authorship_tag": "ABX9TyPM6j1kv3/raTyEVZpVlE3a",
      "include_colab_link": true
    },
    "kernelspec": {
      "name": "python3",
      "display_name": "Python 3"
    }
  },
  "cells": [
    {
      "cell_type": "markdown",
      "metadata": {
        "id": "view-in-github",
        "colab_type": "text"
      },
      "source": [
        "<a href=\"https://colab.research.google.com/github/maskot1977/Computer_and_Exercises_2021/blob/nG5uDx9k/%E8%AA%B2%E9%A1%8C%EF%BC%91%EF%BC%99.ipynb\" target=\"_parent\"><img src=\"https://colab.research.google.com/assets/colab-badge.svg\" alt=\"Open In Colab\"/></a>"
      ]
    },
    {
      "cell_type": "code",
      "metadata": {
        "id": "jSDuIv-VvMp0"
      },
      "source": [
        "def fibonacci_recursive(n):\n",
        "    if n <= 1:\n",
        "        return n\n",
        "    \n",
        "    return fibonacci_recursive(n - 1)+fibonacci_recursive(n - 2)"
      ],
      "execution_count": 1,
      "outputs": []
    },
    {
      "cell_type": "code",
      "metadata": {
        "id": "j7Zo7kBavW28",
        "outputId": "971da6fe-a615-4f6f-a43c-0796484633fb",
        "colab": {
          "base_uri": "https://localhost:8080/"
        }
      },
      "source": [
        "%time\n",
        "fibonacci_recursive(20)"
      ],
      "execution_count": 6,
      "outputs": [
        {
          "output_type": "stream",
          "name": "stdout",
          "text": [
            "CPU times: user 4 µs, sys: 0 ns, total: 4 µs\n",
            "Wall time: 7.39 µs\n"
          ]
        },
        {
          "output_type": "execute_result",
          "data": {
            "text/plain": [
              "6765"
            ]
          },
          "metadata": {},
          "execution_count": 6
        }
      ]
    },
    {
      "cell_type": "code",
      "metadata": {
        "id": "OhC7rxDmvfMu"
      },
      "source": [
        "def fibonacci_not_recursive(n):\n",
        "    if 0 <= n <= 1:\n",
        "        return n\n",
        "\n",
        "    else:\n",
        "        a=0\n",
        "        b=1\n",
        "        for i in range(n - 1):\n",
        "            c = a + b\n",
        "            a = b\n",
        "            b = c\n",
        "            \n",
        "        return b"
      ],
      "execution_count": 3,
      "outputs": []
    },
    {
      "cell_type": "code",
      "metadata": {
        "id": "mmRS1c_dwRHB",
        "outputId": "34272631-c058-4c35-e138-da1c07ce443b",
        "colab": {
          "base_uri": "https://localhost:8080/"
        }
      },
      "source": [
        "%time\n",
        "fibonacci_not_recursive(20)"
      ],
      "execution_count": 7,
      "outputs": [
        {
          "output_type": "stream",
          "name": "stdout",
          "text": [
            "CPU times: user 2 µs, sys: 0 ns, total: 2 µs\n",
            "Wall time: 5.48 µs\n"
          ]
        },
        {
          "output_type": "execute_result",
          "data": {
            "text/plain": [
              "6765"
            ]
          },
          "metadata": {},
          "execution_count": 7
        }
      ]
    },
    {
      "cell_type": "code",
      "metadata": {
        "id": "0mKSIMJfwn6n"
      },
      "source": [
        ""
      ],
      "execution_count": null,
      "outputs": []
    }
  ]
}