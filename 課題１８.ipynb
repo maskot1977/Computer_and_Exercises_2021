{
  "nbformat": 4,
  "nbformat_minor": 0,
  "metadata": {
    "colab": {
      "name": "課題１８",
      "provenance": [],
      "collapsed_sections": [],
      "authorship_tag": "ABX9TyMaVgOsBsud2vH2F08RlaPg",
      "include_colab_link": true
    },
    "kernelspec": {
      "name": "python3",
      "display_name": "Python 3"
    }
  },
  "cells": [
    {
      "cell_type": "markdown",
      "metadata": {
        "id": "view-in-github",
        "colab_type": "text"
      },
      "source": [
        "<a href=\"https://colab.research.google.com/github/maskot1977/Computer_and_Exercises_2021/blob/cC2DjqM8/%E8%AA%B2%E9%A1%8C%EF%BC%91%EF%BC%98.ipynb\" target=\"_parent\"><img src=\"https://colab.research.google.com/assets/colab-badge.svg\" alt=\"Open In Colab\"/></a>"
      ]
    },
    {
      "cell_type": "code",
      "metadata": {
        "id": "xI3MCIrUs4fX"
      },
      "source": [
        "def factorial_recursive(n):\n",
        "    if n < 1 :\n",
        "        return 1\n",
        "    return n * factorial_recursive(n-1)"
      ],
      "execution_count": 1,
      "outputs": []
    },
    {
      "cell_type": "code",
      "metadata": {
        "id": "0RR7FaoztLrp"
      },
      "source": [
        "def factorial_not_recursive(n):\n",
        "    ans = 1\n",
        "    for i in range(1, n+1):\n",
        "        ans = ans * i\n",
        "    return ans"
      ],
      "execution_count": 2,
      "outputs": []
    },
    {
      "cell_type": "code",
      "metadata": {
        "id": "EBN3GMKDtWOo",
        "outputId": "549ef043-bfbf-40a6-8009-64f72449bd21",
        "colab": {
          "base_uri": "https://localhost:8080/"
        }
      },
      "source": [
        "import time\n",
        "\n",
        "start = time.time()\n",
        "print(factorial_recursive(10))\n",
        "elapsed_time = time.time() - start\n",
        "print(\"elapsed_time: {0:.3e} [sec]\".format(elapsed_time))"
      ],
      "execution_count": 10,
      "outputs": [
        {
          "output_type": "stream",
          "name": "stdout",
          "text": [
            "3628800\n",
            "elapsed_time: 2.015e-04 [sec]\n"
          ]
        }
      ]
    },
    {
      "cell_type": "code",
      "metadata": {
        "id": "O46Q-cRKtc3G",
        "outputId": "4d71f02b-5df3-4e39-8a32-c7f548f9a582",
        "colab": {
          "base_uri": "https://localhost:8080/"
        }
      },
      "source": [
        "import time\n",
        "\n",
        "start = time.time()\n",
        "print(factorial_not_recursive(10))\n",
        "elapsed_time = time.time() - start\n",
        "print(\"elapsed_time: {0:.3e} [sec]\".format(elapsed_time))"
      ],
      "execution_count": 11,
      "outputs": [
        {
          "output_type": "stream",
          "name": "stdout",
          "text": [
            "3628800\n",
            "elapsed_time: 1.187e-04 [sec]\n"
          ]
        }
      ]
    },
    {
      "cell_type": "code",
      "metadata": {
        "id": "1sv1AcLZthM1"
      },
      "source": [
        ""
      ],
      "execution_count": null,
      "outputs": []
    }
  ]
}