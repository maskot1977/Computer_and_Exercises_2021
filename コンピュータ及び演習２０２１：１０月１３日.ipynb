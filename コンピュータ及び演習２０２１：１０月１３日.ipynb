{
  "nbformat": 4,
  "nbformat_minor": 0,
  "metadata": {
    "colab": {
      "name": "コンピュータ及び演習２０２１：１０月１３日",
      "provenance": [],
      "collapsed_sections": [
        "1tS-sto9P6Gw",
        "OzDxSmnwSA5w",
        "yVzusN_VS5G4",
        "URdTljzWUbRy",
        "fpyFWT69WzaD",
        "ajHB-QpXXnSp",
        "bDtmjVAQZVZy",
        "AJbOPtosZ_em",
        "_vl7IpB7b9pZ",
        "mbVD1Vjncn0Z",
        "DRheIbW7c4aB",
        "3s-Vows2egca"
      ],
      "authorship_tag": "ABX9TyPPMqyn2ll1/XxVaLm3T4KX"
    },
    "kernelspec": {
      "name": "python3",
      "display_name": "Python 3"
    }
  },
  "cells": [
    {
      "cell_type": "markdown",
      "metadata": {
        "id": "Ef2qESM6OMA_"
      },
      "source": [
        "# 課題１４"
      ]
    },
    {
      "cell_type": "code",
      "metadata": {
        "id": "QCdSF5sMGYKq",
        "outputId": "49c271f2-8f75-494b-febd-cdb7585b80f5",
        "colab": {
          "base_uri": "https://localhost:8080/",
          "height": 138
        }
      },
      "source": [
        "s = 0\n",
        "s += 1 / (1**2)\n",
        "for i in range(7):\n",
        "    n = 2**(i + 1)\n",
        "    n_prev = 2**i\n",
        "\n",
        "    for k in range(n_prev + 1, n + 1):\n",
        "        s += 1 / (k**2)\n",
        "\n",
        "    print(\"n =\", n, \", s =\", s)"
      ],
      "execution_count": null,
      "outputs": [
        {
          "output_type": "stream",
          "text": [
            "n = 2 , s = 1.25\n",
            "n = 4 , s = 1.4236111111111112\n",
            "n = 8 , s = 1.527422052154195\n",
            "n = 16 , s = 1.584346533444987\n",
            "n = 32 , s = 1.6141672628279242\n",
            "n = 64 , s = 1.629430501408887\n",
            "n = 128 , s = 1.6371520049544612\n"
          ],
          "name": "stdout"
        }
      ]
    },
    {
      "cell_type": "code",
      "metadata": {
        "id": "ZAj2tiP1LVax",
        "outputId": "33a33fe7-42ce-4e11-b91f-2d8adbd8341c",
        "colab": {
          "base_uri": "https://localhost:8080/",
          "height": 138
        }
      },
      "source": [
        "for i in range(7):\n",
        "    n = 2**(i + 1)\n",
        "    \n",
        "    s = 0\n",
        "    for k in range(1, n + 1):\n",
        "        s += 1 / (k**2)\n",
        "\n",
        "    print(\"n =\", n, \", s =\", s)"
      ],
      "execution_count": null,
      "outputs": [
        {
          "output_type": "stream",
          "text": [
            "n = 2 , s = 1.25\n",
            "n = 4 , s = 1.4236111111111112\n",
            "n = 8 , s = 1.527422052154195\n",
            "n = 16 , s = 1.584346533444987\n",
            "n = 32 , s = 1.6141672628279242\n",
            "n = 64 , s = 1.629430501408887\n",
            "n = 128 , s = 1.6371520049544612\n"
          ],
          "name": "stdout"
        }
      ]
    },
    {
      "cell_type": "markdown",
      "metadata": {
        "id": "JKFombZBOS8s"
      },
      "source": [
        "# 課題１５"
      ]
    },
    {
      "cell_type": "code",
      "metadata": {
        "id": "cWn088J5NJF-",
        "outputId": "b21a7470-ee05-4214-84bd-df1b881306e1",
        "colab": {
          "base_uri": "https://localhost:8080/",
          "height": 35
        }
      },
      "source": [
        "stack = [1, 2, 3]\n",
        "stack.append(4)\n",
        "stack.append(5)\n",
        "stack.append(6)\n",
        "stack"
      ],
      "execution_count": null,
      "outputs": [
        {
          "output_type": "execute_result",
          "data": {
            "text/plain": [
              "[1, 2, 3, 4, 5, 6]"
            ]
          },
          "metadata": {
            "tags": []
          },
          "execution_count": 13
        }
      ]
    },
    {
      "cell_type": "code",
      "metadata": {
        "id": "kA9irXF4O7Hy",
        "outputId": "539ffef2-4975-4b3e-8a92-f74b61d181a3",
        "colab": {
          "base_uri": "https://localhost:8080/",
          "height": 35
        }
      },
      "source": [
        "stack.pop()"
      ],
      "execution_count": null,
      "outputs": [
        {
          "output_type": "execute_result",
          "data": {
            "text/plain": [
              "6"
            ]
          },
          "metadata": {
            "tags": []
          },
          "execution_count": 14
        }
      ]
    },
    {
      "cell_type": "code",
      "metadata": {
        "id": "bucS79EWPAqX",
        "outputId": "875fa016-5bfc-4f57-febb-7e9901749b37",
        "colab": {
          "base_uri": "https://localhost:8080/",
          "height": 35
        }
      },
      "source": [
        "stack"
      ],
      "execution_count": null,
      "outputs": [
        {
          "output_type": "execute_result",
          "data": {
            "text/plain": [
              "[1, 2, 3, 4, 5]"
            ]
          },
          "metadata": {
            "tags": []
          },
          "execution_count": 15
        }
      ]
    },
    {
      "cell_type": "code",
      "metadata": {
        "id": "2qshrPCFPCgO",
        "outputId": "0b045944-02cf-44e4-de58-02d594561896",
        "colab": {
          "base_uri": "https://localhost:8080/",
          "height": 35
        }
      },
      "source": [
        "stack.pop()"
      ],
      "execution_count": null,
      "outputs": [
        {
          "output_type": "execute_result",
          "data": {
            "text/plain": [
              "5"
            ]
          },
          "metadata": {
            "tags": []
          },
          "execution_count": 16
        }
      ]
    },
    {
      "cell_type": "code",
      "metadata": {
        "id": "34r8T3vCPEAy",
        "outputId": "628554e3-201b-4d67-b1a8-8299fb99a6a1",
        "colab": {
          "base_uri": "https://localhost:8080/",
          "height": 35
        }
      },
      "source": [
        "stack"
      ],
      "execution_count": null,
      "outputs": [
        {
          "output_type": "execute_result",
          "data": {
            "text/plain": [
              "[1, 2, 3, 4]"
            ]
          },
          "metadata": {
            "tags": []
          },
          "execution_count": 17
        }
      ]
    },
    {
      "cell_type": "code",
      "metadata": {
        "id": "MGBG9aEMPFF1"
      },
      "source": [
        "stack.append(7)"
      ],
      "execution_count": null,
      "outputs": []
    },
    {
      "cell_type": "code",
      "metadata": {
        "id": "Bax12eTkPH_D",
        "outputId": "1f349c8a-fe17-4a0a-cbc1-3b92805e2f34",
        "colab": {
          "base_uri": "https://localhost:8080/",
          "height": 35
        }
      },
      "source": [
        "stack"
      ],
      "execution_count": null,
      "outputs": [
        {
          "output_type": "execute_result",
          "data": {
            "text/plain": [
              "[1, 2, 3, 4, 7]"
            ]
          },
          "metadata": {
            "tags": []
          },
          "execution_count": 20
        }
      ]
    },
    {
      "cell_type": "code",
      "metadata": {
        "id": "4gXOAnnFPKdl",
        "outputId": "5a05f48a-f5ac-4dfa-d2f7-14deac744e8c",
        "colab": {
          "base_uri": "https://localhost:8080/",
          "height": 35
        }
      },
      "source": [
        "queue = [1, 2, 3]\n",
        "queue.append(4)\n",
        "queue.append(5)\n",
        "queue.append(6)\n",
        "queue"
      ],
      "execution_count": null,
      "outputs": [
        {
          "output_type": "execute_result",
          "data": {
            "text/plain": [
              "[1, 2, 3, 4, 5, 6]"
            ]
          },
          "metadata": {
            "tags": []
          },
          "execution_count": 21
        }
      ]
    },
    {
      "cell_type": "code",
      "metadata": {
        "id": "_9rSa16ePbWq",
        "outputId": "3ea13f4c-61cc-4068-a26f-0e13aac03ae7",
        "colab": {
          "base_uri": "https://localhost:8080/",
          "height": 35
        }
      },
      "source": [
        "queue.pop(0)"
      ],
      "execution_count": null,
      "outputs": [
        {
          "output_type": "execute_result",
          "data": {
            "text/plain": [
              "1"
            ]
          },
          "metadata": {
            "tags": []
          },
          "execution_count": 22
        }
      ]
    },
    {
      "cell_type": "code",
      "metadata": {
        "id": "0nayjmd5Pe8x",
        "outputId": "b6477902-c2a3-4068-9927-1a4446fbe91d",
        "colab": {
          "base_uri": "https://localhost:8080/",
          "height": 35
        }
      },
      "source": [
        "queue"
      ],
      "execution_count": null,
      "outputs": [
        {
          "output_type": "execute_result",
          "data": {
            "text/plain": [
              "[2, 3, 4, 5, 6]"
            ]
          },
          "metadata": {
            "tags": []
          },
          "execution_count": 23
        }
      ]
    },
    {
      "cell_type": "code",
      "metadata": {
        "id": "B-mG4YmhPgEb",
        "outputId": "47b114a7-fe77-4ab7-a838-10ce3a614a33",
        "colab": {
          "base_uri": "https://localhost:8080/",
          "height": 35
        }
      },
      "source": [
        "queue.pop(0)"
      ],
      "execution_count": null,
      "outputs": [
        {
          "output_type": "execute_result",
          "data": {
            "text/plain": [
              "2"
            ]
          },
          "metadata": {
            "tags": []
          },
          "execution_count": 24
        }
      ]
    },
    {
      "cell_type": "code",
      "metadata": {
        "id": "QuHrmJbgPhxR",
        "outputId": "961b12a8-c57e-41b3-e22f-2e02f23d1984",
        "colab": {
          "base_uri": "https://localhost:8080/",
          "height": 35
        }
      },
      "source": [
        "queue"
      ],
      "execution_count": null,
      "outputs": [
        {
          "output_type": "execute_result",
          "data": {
            "text/plain": [
              "[3, 4, 5, 6]"
            ]
          },
          "metadata": {
            "tags": []
          },
          "execution_count": 25
        }
      ]
    },
    {
      "cell_type": "code",
      "metadata": {
        "id": "RkYy_RskPnNR"
      },
      "source": [
        "queue.append(7)"
      ],
      "execution_count": null,
      "outputs": []
    },
    {
      "cell_type": "code",
      "metadata": {
        "id": "kOtIRX7GPuSw",
        "outputId": "012d5d65-7160-47e9-887f-42e755b95238",
        "colab": {
          "base_uri": "https://localhost:8080/",
          "height": 35
        }
      },
      "source": [
        "queue"
      ],
      "execution_count": null,
      "outputs": [
        {
          "output_type": "execute_result",
          "data": {
            "text/plain": [
              "[3, 4, 5, 6, 7]"
            ]
          },
          "metadata": {
            "tags": []
          },
          "execution_count": 27
        }
      ]
    },
    {
      "cell_type": "code",
      "metadata": {
        "id": "Uwwfg1_ZPvWP",
        "outputId": "96497027-1e92-4848-c8cc-ac5d936f3501",
        "colab": {
          "base_uri": "https://localhost:8080/",
          "height": 35
        }
      },
      "source": [
        "queue.pop(0)"
      ],
      "execution_count": null,
      "outputs": [
        {
          "output_type": "execute_result",
          "data": {
            "text/plain": [
              "3"
            ]
          },
          "metadata": {
            "tags": []
          },
          "execution_count": 28
        }
      ]
    },
    {
      "cell_type": "code",
      "metadata": {
        "id": "ARq1EOY4PxD3",
        "outputId": "6517af1e-eae9-481d-8b00-e2fe0c9c6459",
        "colab": {
          "base_uri": "https://localhost:8080/",
          "height": 35
        }
      },
      "source": [
        "queue"
      ],
      "execution_count": null,
      "outputs": [
        {
          "output_type": "execute_result",
          "data": {
            "text/plain": [
              "[4, 5, 6, 7]"
            ]
          },
          "metadata": {
            "tags": []
          },
          "execution_count": 29
        }
      ]
    },
    {
      "cell_type": "code",
      "metadata": {
        "id": "Zte4Ng6RQ_-L",
        "outputId": "6fd028ab-6df1-4de4-f86a-d065311fd11f",
        "colab": {
          "base_uri": "https://localhost:8080/",
          "height": 35
        }
      },
      "source": [
        "queue.pop(1)"
      ],
      "execution_count": null,
      "outputs": [
        {
          "output_type": "execute_result",
          "data": {
            "text/plain": [
              "5"
            ]
          },
          "metadata": {
            "tags": []
          },
          "execution_count": 35
        }
      ]
    },
    {
      "cell_type": "markdown",
      "metadata": {
        "id": "1tS-sto9P6Gw"
      },
      "source": [
        "# 課題１６"
      ]
    },
    {
      "cell_type": "code",
      "metadata": {
        "id": "aKRZbSclPyOJ",
        "outputId": "2de851a8-e7f1-4f72-e3ac-9f687c2e8e50",
        "colab": {
          "base_uri": "https://localhost:8080/",
          "height": 35
        }
      },
      "source": [
        "def sum_for(n):\n",
        "    ret = 0\n",
        "    for i in range(1, n + 1):\n",
        "        #print(\"i = \", i, \"ret=\", ret)\n",
        "        ret += i\n",
        "    return ret\n",
        "\n",
        "sum_for(10)"
      ],
      "execution_count": null,
      "outputs": [
        {
          "output_type": "execute_result",
          "data": {
            "text/plain": [
              "55"
            ]
          },
          "metadata": {
            "tags": []
          },
          "execution_count": 38
        }
      ]
    },
    {
      "cell_type": "code",
      "metadata": {
        "id": "xoXsNf6aQGum",
        "outputId": "3e4220b6-b202-443b-e74e-146ef0b01924",
        "colab": {
          "base_uri": "https://localhost:8080/",
          "height": 35
        }
      },
      "source": [
        "def sum_recursive(n):\n",
        "    if n < 1:\n",
        "        return n\n",
        "    #print(\"n=\", n)\n",
        "    return n + sum_recursive(n-1)\n",
        "\n",
        "sum_recursive(10)"
      ],
      "execution_count": null,
      "outputs": [
        {
          "output_type": "execute_result",
          "data": {
            "text/plain": [
              "55"
            ]
          },
          "metadata": {
            "tags": []
          },
          "execution_count": 39
        }
      ]
    },
    {
      "cell_type": "code",
      "metadata": {
        "id": "7s1RjzE2QaDB",
        "outputId": "69717726-5297-489c-f195-722b3ca2bb5c",
        "colab": {
          "base_uri": "https://localhost:8080/",
          "height": 35
        }
      },
      "source": [
        "%timeit sum_for(100)"
      ],
      "execution_count": null,
      "outputs": [
        {
          "output_type": "stream",
          "text": [
            "100000 loops, best of 3: 4.5 µs per loop\n"
          ],
          "name": "stdout"
        }
      ]
    },
    {
      "cell_type": "code",
      "metadata": {
        "id": "yzsOUYdQRlod",
        "outputId": "c6cf144b-b81f-4cbb-829e-f10372cf22e2",
        "colab": {
          "base_uri": "https://localhost:8080/",
          "height": 35
        }
      },
      "source": [
        "%timeit sum_recursive(100)"
      ],
      "execution_count": null,
      "outputs": [
        {
          "output_type": "stream",
          "text": [
            "100000 loops, best of 3: 12.2 µs per loop\n"
          ],
          "name": "stdout"
        }
      ]
    },
    {
      "cell_type": "markdown",
      "metadata": {
        "id": "OzDxSmnwSA5w"
      },
      "source": [
        "# 課題１７"
      ]
    },
    {
      "cell_type": "code",
      "metadata": {
        "id": "yxC7ajuRRuAI"
      },
      "source": [
        "def factorial_recursive(n):\n",
        "    if n < 1:\n",
        "        return 1\n",
        "    return n * factorial_recursive(n - 1)"
      ],
      "execution_count": null,
      "outputs": []
    },
    {
      "cell_type": "code",
      "metadata": {
        "id": "Y33KXXHISU3L",
        "outputId": "b06f580a-df1b-4105-964c-83cacb1029aa",
        "colab": {
          "base_uri": "https://localhost:8080/",
          "height": 35
        }
      },
      "source": [
        "factorial_recursive(10)"
      ],
      "execution_count": null,
      "outputs": [
        {
          "output_type": "execute_result",
          "data": {
            "text/plain": [
              "3628800"
            ]
          },
          "metadata": {
            "tags": []
          },
          "execution_count": 45
        }
      ]
    },
    {
      "cell_type": "code",
      "metadata": {
        "id": "ZfQAi3UWSXMZ"
      },
      "source": [
        "def factorial_for(n):\n",
        "    ret = 1\n",
        "    for i in range(1, n + 1):\n",
        "        ret *= i\n",
        "    return ret"
      ],
      "execution_count": null,
      "outputs": []
    },
    {
      "cell_type": "code",
      "metadata": {
        "id": "Y-ovi-bkSiKj",
        "outputId": "73405820-16cb-4c67-9949-a5d8e9d9b59c",
        "colab": {
          "base_uri": "https://localhost:8080/",
          "height": 35
        }
      },
      "source": [
        "factorial_for(10)"
      ],
      "execution_count": null,
      "outputs": [
        {
          "output_type": "execute_result",
          "data": {
            "text/plain": [
              "3628800"
            ]
          },
          "metadata": {
            "tags": []
          },
          "execution_count": 47
        }
      ]
    },
    {
      "cell_type": "code",
      "metadata": {
        "id": "aZdGmIddSj3N",
        "outputId": "be98edc9-2ffc-4902-8be4-e76de9fb16c2",
        "colab": {
          "base_uri": "https://localhost:8080/",
          "height": 35
        }
      },
      "source": [
        "%timeit factorial_recursive(100)"
      ],
      "execution_count": null,
      "outputs": [
        {
          "output_type": "stream",
          "text": [
            "100000 loops, best of 3: 15.1 µs per loop\n"
          ],
          "name": "stdout"
        }
      ]
    },
    {
      "cell_type": "code",
      "metadata": {
        "id": "lVB_kZkPSocJ",
        "outputId": "2b1fc2ac-d136-439f-d1f9-990a7559c7a9",
        "colab": {
          "base_uri": "https://localhost:8080/",
          "height": 35
        }
      },
      "source": [
        "%timeit factorial_for(100)"
      ],
      "execution_count": null,
      "outputs": [
        {
          "output_type": "stream",
          "text": [
            "100000 loops, best of 3: 6.84 µs per loop\n"
          ],
          "name": "stdout"
        }
      ]
    },
    {
      "cell_type": "markdown",
      "metadata": {
        "id": "yVzusN_VS5G4"
      },
      "source": [
        "# 課題１８"
      ]
    },
    {
      "cell_type": "code",
      "metadata": {
        "id": "iXnocKbjSqwm"
      },
      "source": [
        "def fibonacci_recursive(n):\n",
        "    if n <= 1:\n",
        "        return n\n",
        "    \n",
        "    return fibonacci_recursive(n - 1) + fibonacci_recursive(n - 2)"
      ],
      "execution_count": null,
      "outputs": []
    },
    {
      "cell_type": "code",
      "metadata": {
        "id": "_Rd39X5DTKMJ",
        "outputId": "8b8125d8-1391-4242-dc25-f9a476566260",
        "colab": {
          "base_uri": "https://localhost:8080/",
          "height": 35
        }
      },
      "source": [
        "fibonacci_recursive(20)"
      ],
      "execution_count": null,
      "outputs": [
        {
          "output_type": "execute_result",
          "data": {
            "text/plain": [
              "6765"
            ]
          },
          "metadata": {
            "tags": []
          },
          "execution_count": 59
        }
      ]
    },
    {
      "cell_type": "code",
      "metadata": {
        "id": "5R5pqg_4TNhD"
      },
      "source": [
        "def fibonacci_for(n):\n",
        "    if n <= 1:\n",
        "        return n\n",
        "\n",
        "    else:\n",
        "        a = 0\n",
        "        b = 1\n",
        "        for i in range(n - 1):\n",
        "            c = a + b\n",
        "            a = b\n",
        "            b = c\n",
        "\n",
        "        return b"
      ],
      "execution_count": null,
      "outputs": []
    },
    {
      "cell_type": "code",
      "metadata": {
        "id": "uetTIhvrTqAV",
        "outputId": "4af23c14-d8a4-460c-d81d-6dfd63dfca24",
        "colab": {
          "base_uri": "https://localhost:8080/",
          "height": 35
        }
      },
      "source": [
        "fibonacci_for(20)"
      ],
      "execution_count": null,
      "outputs": [
        {
          "output_type": "execute_result",
          "data": {
            "text/plain": [
              "6765"
            ]
          },
          "metadata": {
            "tags": []
          },
          "execution_count": 58
        }
      ]
    },
    {
      "cell_type": "code",
      "metadata": {
        "id": "evc1C7v1Tsys",
        "outputId": "5ca5e3b9-77f2-46df-8b5d-3fabefe6397f",
        "colab": {
          "base_uri": "https://localhost:8080/",
          "height": 35
        }
      },
      "source": [
        "%timeit fibonacci_recursive(30)"
      ],
      "execution_count": null,
      "outputs": [
        {
          "output_type": "stream",
          "text": [
            "1 loop, best of 3: 278 ms per loop\n"
          ],
          "name": "stdout"
        }
      ]
    },
    {
      "cell_type": "code",
      "metadata": {
        "id": "aFB4t64cTxU2",
        "outputId": "715d5113-178f-4052-85c7-ea353662c00d",
        "colab": {
          "base_uri": "https://localhost:8080/",
          "height": 35
        }
      },
      "source": [
        "%timeit fibonacci_for(30)"
      ],
      "execution_count": null,
      "outputs": [
        {
          "output_type": "stream",
          "text": [
            "1000000 loops, best of 3: 1.8 µs per loop\n"
          ],
          "name": "stdout"
        }
      ]
    },
    {
      "cell_type": "code",
      "metadata": {
        "id": "o3isCaWQUZrr"
      },
      "source": [
        "# 課題１９"
      ],
      "execution_count": null,
      "outputs": []
    },
    {
      "cell_type": "markdown",
      "metadata": {
        "id": "URdTljzWUbRy"
      },
      "source": [
        "# 課題１９"
      ]
    },
    {
      "cell_type": "code",
      "metadata": {
        "id": "4-gceC21T1Ml",
        "outputId": "4874ea03-ad5d-4a3a-b883-bade8035554a",
        "colab": {
          "base_uri": "https://localhost:8080/",
          "height": 35
        }
      },
      "source": [
        "import urllib.request\n",
        "url = 'https://raw.githubusercontent.com/maskot1977/ipython_notebook/master/toydata/location.txt'\n",
        "urllib.request.urlretrieve(url, 'location.txt') # データのダウンロード"
      ],
      "execution_count": null,
      "outputs": [
        {
          "output_type": "execute_result",
          "data": {
            "text/plain": [
              "('location.txt', <http.client.HTTPMessage at 0x7fc4ddd79b00>)"
            ]
          },
          "metadata": {
            "tags": []
          },
          "execution_count": 65
        }
      ]
    },
    {
      "cell_type": "code",
      "metadata": {
        "id": "k7CfG4YYUhql",
        "outputId": "6f3deb20-12cb-4cd3-8f4c-028e57eb7eeb",
        "colab": {
          "base_uri": "https://localhost:8080/",
          "height": 227
        }
      },
      "source": [
        "!wget https://raw.githubusercontent.com/maskot1977/ipython_notebook/master/toydata/location.txt"
      ],
      "execution_count": null,
      "outputs": [
        {
          "output_type": "stream",
          "text": [
            "--2020-10-13 00:18:36--  https://raw.githubusercontent.com/maskot1977/ipython_notebook/master/toydata/location.txt\n",
            "Resolving raw.githubusercontent.com (raw.githubusercontent.com)... 151.101.0.133, 151.101.64.133, 151.101.128.133, ...\n",
            "Connecting to raw.githubusercontent.com (raw.githubusercontent.com)|151.101.0.133|:443... connected.\n",
            "HTTP request sent, awaiting response... 200 OK\n",
            "Length: 1251 (1.2K) [text/plain]\n",
            "Saving to: ‘location.txt.1’\n",
            "\n",
            "\rlocation.txt.1        0%[                    ]       0  --.-KB/s               \rlocation.txt.1      100%[===================>]   1.22K  --.-KB/s    in 0s      \n",
            "\n",
            "2020-10-13 00:18:37 (58.0 MB/s) - ‘location.txt.1’ saved [1251/1251]\n",
            "\n"
          ],
          "name": "stdout"
        }
      ]
    },
    {
      "cell_type": "code",
      "metadata": {
        "id": "Zz-TnjxWUrUF"
      },
      "source": [
        "col1 = []\n",
        "col2 = []\n",
        "col3 = []\n",
        "# ファイルを開いて一行一行読み込む\n",
        "for i, line in enumerate(open('location.txt')):\n",
        "    # 行をコンマで分割したものをcというリストに入れる\n",
        "    c = line.split(\",\")\n",
        "    col1.append(c[0])\n",
        "    col2.append(c[1])\n",
        "    col3.append(c[2])"
      ],
      "execution_count": null,
      "outputs": []
    },
    {
      "cell_type": "code",
      "metadata": {
        "id": "AOjhkTxeU_96",
        "outputId": "294a4a95-0e11-466f-e776-908bd3d9ce05",
        "colab": {
          "base_uri": "https://localhost:8080/",
          "height": 55
        }
      },
      "source": [
        "print(col1)"
      ],
      "execution_count": null,
      "outputs": [
        {
          "output_type": "stream",
          "text": [
            "['Town', 'Sapporo', 'Aomori', 'Morioka', 'Sendai', 'Akita', 'Yamagata', 'Fukushima', 'Mito', 'Utsunomiya', 'Maebashi', 'Saitama', 'Chiba', 'Tokyo', 'Yokohama', 'Niigata', 'Toyama', 'Kanazawa', 'Fukui', 'Kofu', 'Nagano', 'Gifu', 'Shizuoka', 'Nagoya', 'Tsu', 'Otsu', 'Kyoto', 'Osaka', 'Kobe', 'Nara', 'Wakayama', 'Tottori', 'Matsue', 'Okayama', 'Hiroshima', 'Yamaguchi', 'Tokushima', 'Takamatsu', 'Matsuyama', 'Kochi', 'Fukuoka', 'Saga', 'Nagasaki', 'Kumamoto', 'Oita', 'Miyazaki', 'Kagoshima', 'Naha']\n"
          ],
          "name": "stdout"
        }
      ]
    },
    {
      "cell_type": "code",
      "metadata": {
        "id": "oGK91lXqVozc",
        "outputId": "0bdf639b-e27f-415d-9c61-af10be49ab24",
        "colab": {
          "base_uri": "https://localhost:8080/",
          "height": 55
        }
      },
      "source": [
        "print(col2)"
      ],
      "execution_count": null,
      "outputs": [
        {
          "output_type": "stream",
          "text": [
            "['Longitude', '43.06417', '40.82444', '39.70361', '38.26889', '39.71861', '38.24056', '37.75', '36.34139', '36.56583', '36.39111', '35.85694', '35.60472', '35.68944', '35.44778', '37.90222', '36.69528', '36.59444', '36.06528', '35.66389', '36.65139', '35.39111', '34.97694', '35.18028', '34.73028', '35.00444', '35.02139', '34.68639', '34.69139', '34.68528', '34.22611', '35.50361', '35.47222', '34.66167', '34.39639', '34.18583', '34.06583', '34.34028', '33.84167', '33.55972', '33.60639', '33.24944', '32.74472', '32.78972', '33.23806', '31.91111', '31.56028', '26.2125']\n"
          ],
          "name": "stdout"
        }
      ]
    },
    {
      "cell_type": "code",
      "metadata": {
        "id": "7u1sc8gaVzE6",
        "outputId": "59a7277c-133c-49b3-dd4b-8215399bd0d4",
        "colab": {
          "base_uri": "https://localhost:8080/",
          "height": 55
        }
      },
      "source": [
        "print(col3)"
      ],
      "execution_count": null,
      "outputs": [
        {
          "output_type": "stream",
          "text": [
            "['Latitude\\n', '141.34694\\n', '140.74\\n', '141.1525\\n', '140.87194\\n', '140.1025\\n', '140.36333\\n', '140.46778\\n', '140.44667\\n', '139.88361\\n', '139.06083\\n', '139.64889\\n', '140.12333\\n', '139.69167\\n', '139.6425\\n', '139.02361\\n', '137.21139\\n', '136.62556\\n', '136.22194\\n', '138.56833\\n', '138.18111\\n', '136.72222\\n', '138.38306\\n', '136.90667\\n', '136.50861\\n', '135.86833\\n', '135.75556\\n', '135.52\\n', '135.18306\\n', '135.83278\\n', '135.1675\\n', '134.23833\\n', '133.05056\\n', '133.935\\n', '132.45944\\n', '131.47139\\n', '134.55944\\n', '134.04333\\n', '132.76611\\n', '133.53111\\n', '130.41806\\n', '130.29889\\n', '129.87361\\n', '130.74167\\t\\n', '131.6125\\n', '131.42389\\n', '130.55806\\n', '127.68111']\n"
          ],
          "name": "stdout"
        }
      ]
    },
    {
      "cell_type": "code",
      "metadata": {
        "id": "uvMYFkwMV1-A"
      },
      "source": [
        "col1 = []\n",
        "col2 = []\n",
        "col3 = []\n",
        "# ファイルを開いて一行一行読み込む\n",
        "for i, line in enumerate(open('location.txt')):\n",
        "    if i == 0:\n",
        "        continue\n",
        "    # 行をコンマで分割したものをcというリストに入れる\n",
        "    c = line.split(\",\")\n",
        "    col1.append(c[0])\n",
        "    col2.append(float(c[1]))\n",
        "    col3.append(float(c[2]))"
      ],
      "execution_count": null,
      "outputs": []
    },
    {
      "cell_type": "code",
      "metadata": {
        "id": "opevfY3mWEf_",
        "outputId": "fff97188-2f43-4266-ccec-b293484d1382",
        "colab": {
          "base_uri": "https://localhost:8080/",
          "height": 55
        }
      },
      "source": [
        "print(col1)"
      ],
      "execution_count": null,
      "outputs": [
        {
          "output_type": "stream",
          "text": [
            "['Sapporo', 'Aomori', 'Morioka', 'Sendai', 'Akita', 'Yamagata', 'Fukushima', 'Mito', 'Utsunomiya', 'Maebashi', 'Saitama', 'Chiba', 'Tokyo', 'Yokohama', 'Niigata', 'Toyama', 'Kanazawa', 'Fukui', 'Kofu', 'Nagano', 'Gifu', 'Shizuoka', 'Nagoya', 'Tsu', 'Otsu', 'Kyoto', 'Osaka', 'Kobe', 'Nara', 'Wakayama', 'Tottori', 'Matsue', 'Okayama', 'Hiroshima', 'Yamaguchi', 'Tokushima', 'Takamatsu', 'Matsuyama', 'Kochi', 'Fukuoka', 'Saga', 'Nagasaki', 'Kumamoto', 'Oita', 'Miyazaki', 'Kagoshima', 'Naha']\n"
          ],
          "name": "stdout"
        }
      ]
    },
    {
      "cell_type": "code",
      "metadata": {
        "id": "nle_zCzwWGgt",
        "outputId": "a21cdcfe-cd01-41f4-e9a0-036673af1132",
        "colab": {
          "base_uri": "https://localhost:8080/",
          "height": 55
        }
      },
      "source": [
        "print(col2)"
      ],
      "execution_count": null,
      "outputs": [
        {
          "output_type": "stream",
          "text": [
            "[43.06417, 40.82444, 39.70361, 38.26889, 39.71861, 38.24056, 37.75, 36.34139, 36.56583, 36.39111, 35.85694, 35.60472, 35.68944, 35.44778, 37.90222, 36.69528, 36.59444, 36.06528, 35.66389, 36.65139, 35.39111, 34.97694, 35.18028, 34.73028, 35.00444, 35.02139, 34.68639, 34.69139, 34.68528, 34.22611, 35.50361, 35.47222, 34.66167, 34.39639, 34.18583, 34.06583, 34.34028, 33.84167, 33.55972, 33.60639, 33.24944, 32.74472, 32.78972, 33.23806, 31.91111, 31.56028, 26.2125]\n"
          ],
          "name": "stdout"
        }
      ]
    },
    {
      "cell_type": "code",
      "metadata": {
        "id": "6v-sTH-dWIZ1",
        "outputId": "1761792f-f40c-4c95-82e7-1ad67c64335c",
        "colab": {
          "base_uri": "https://localhost:8080/",
          "height": 55
        }
      },
      "source": [
        "print(col3)"
      ],
      "execution_count": null,
      "outputs": [
        {
          "output_type": "stream",
          "text": [
            "[141.34694, 140.74, 141.1525, 140.87194, 140.1025, 140.36333, 140.46778, 140.44667, 139.88361, 139.06083, 139.64889, 140.12333, 139.69167, 139.6425, 139.02361, 137.21139, 136.62556, 136.22194, 138.56833, 138.18111, 136.72222, 138.38306, 136.90667, 136.50861, 135.86833, 135.75556, 135.52, 135.18306, 135.83278, 135.1675, 134.23833, 133.05056, 133.935, 132.45944, 131.47139, 134.55944, 134.04333, 132.76611, 133.53111, 130.41806, 130.29889, 129.87361, 130.74167, 131.6125, 131.42389, 130.55806, 127.68111]\n"
          ],
          "name": "stdout"
        }
      ]
    },
    {
      "cell_type": "code",
      "metadata": {
        "id": "m4ZYa7clW9ul",
        "outputId": "ad658d12-4cc3-4930-d45d-98bfc084d231",
        "colab": {
          "base_uri": "https://localhost:8080/",
          "height": 829
        }
      },
      "source": [
        "col1"
      ],
      "execution_count": null,
      "outputs": [
        {
          "output_type": "execute_result",
          "data": {
            "text/plain": [
              "['Sapporo',\n",
              " 'Aomori',\n",
              " 'Morioka',\n",
              " 'Sendai',\n",
              " 'Akita',\n",
              " 'Yamagata',\n",
              " 'Fukushima',\n",
              " 'Mito',\n",
              " 'Utsunomiya',\n",
              " 'Maebashi',\n",
              " 'Saitama',\n",
              " 'Chiba',\n",
              " 'Tokyo',\n",
              " 'Yokohama',\n",
              " 'Niigata',\n",
              " 'Toyama',\n",
              " 'Kanazawa',\n",
              " 'Fukui',\n",
              " 'Kofu',\n",
              " 'Nagano',\n",
              " 'Gifu',\n",
              " 'Shizuoka',\n",
              " 'Nagoya',\n",
              " 'Tsu',\n",
              " 'Otsu',\n",
              " 'Kyoto',\n",
              " 'Osaka',\n",
              " 'Kobe',\n",
              " 'Nara',\n",
              " 'Wakayama',\n",
              " 'Tottori',\n",
              " 'Matsue',\n",
              " 'Okayama',\n",
              " 'Hiroshima',\n",
              " 'Yamaguchi',\n",
              " 'Tokushima',\n",
              " 'Takamatsu',\n",
              " 'Matsuyama',\n",
              " 'Kochi',\n",
              " 'Fukuoka',\n",
              " 'Saga',\n",
              " 'Nagasaki',\n",
              " 'Kumamoto',\n",
              " 'Oita',\n",
              " 'Miyazaki',\n",
              " 'Kagoshima',\n",
              " 'Naha']"
            ]
          },
          "metadata": {
            "tags": []
          },
          "execution_count": 82
        }
      ]
    },
    {
      "cell_type": "markdown",
      "metadata": {
        "id": "fpyFWT69WzaD"
      },
      "source": [
        "# 課題２０"
      ]
    },
    {
      "cell_type": "code",
      "metadata": {
        "id": "9vBvGa6yWJuN",
        "outputId": "ed94544c-a7e6-42bc-cc61-84622d955b62",
        "colab": {
          "base_uri": "https://localhost:8080/",
          "height": 295
        }
      },
      "source": [
        "import matplotlib.pyplot as plt\n",
        "%matplotlib inline\n",
        "\n",
        "plt.scatter(col3, col2)\n",
        "plt.title(\"Japan\")\n",
        "plt.xlabel(\"Latitude\")\n",
        "plt.ylabel(\"Longitude\")\n",
        "plt.grid() \n",
        "plt.show()"
      ],
      "execution_count": null,
      "outputs": [
        {
          "output_type": "display_data",
          "data": {
            "image/png": "[encoded data removed]",
            "text/plain": [
              "<Figure size 432x288 with 1 Axes>"
            ]
          },
          "metadata": {
            "tags": [],
            "needs_background": "light"
          }
        }
      ]
    },
    {
      "cell_type": "code",
      "metadata": {
        "id": "ZosTmBilXIBt",
        "outputId": "a671057e-60b1-45af-bf7f-e9ff78f02d7d",
        "colab": {
          "base_uri": "https://localhost:8080/",
          "height": 846
        }
      },
      "source": [
        "!cat location.txt"
      ],
      "execution_count": null,
      "outputs": [
        {
          "output_type": "stream",
          "text": [
            "Town,Longitude,Latitude\n",
            "Sapporo,43.06417,141.34694\n",
            "Aomori,40.82444,140.74\n",
            "Morioka,39.70361,141.1525\n",
            "Sendai,38.26889,140.87194\n",
            "Akita,39.71861,140.1025\n",
            "Yamagata,38.24056,140.36333\n",
            "Fukushima,37.75,140.46778\n",
            "Mito,36.34139,140.44667\n",
            "Utsunomiya,36.56583,139.88361\n",
            "Maebashi,36.39111,139.06083\n",
            "Saitama,35.85694,139.64889\n",
            "Chiba,35.60472,140.12333\n",
            "Tokyo,35.68944,139.69167\n",
            "Yokohama,35.44778,139.6425\n",
            "Niigata,37.90222,139.02361\n",
            "Toyama,36.69528,137.21139\n",
            "Kanazawa,36.59444,136.62556\n",
            "Fukui,36.06528,136.22194\n",
            "Kofu,35.66389,138.56833\n",
            "Nagano,36.65139,138.18111\n",
            "Gifu,35.39111,136.72222\n",
            "Shizuoka,34.97694,138.38306\n",
            "Nagoya,35.18028,136.90667\n",
            "Tsu,34.73028,136.50861\n",
            "Otsu,35.00444,135.86833\n",
            "Kyoto,35.02139,135.75556\n",
            "Osaka,34.68639,135.52\n",
            "Kobe,34.69139,135.18306\n",
            "Nara,34.68528,135.83278\n",
            "Wakayama,34.22611,135.1675\n",
            "Tottori,35.50361,134.23833\n",
            "Matsue,35.47222,133.05056\n",
            "Okayama,34.66167,133.935\n",
            "Hiroshima,34.39639,132.45944\n",
            "Yamaguchi,34.18583,131.47139\n",
            "Tokushima,34.06583,134.55944\n",
            "Takamatsu,34.34028,134.04333\n",
            "Matsuyama,33.84167,132.76611\n",
            "Kochi,33.55972,133.53111\n",
            "Fukuoka,33.60639,130.41806\n",
            "Saga,33.24944,130.29889\n",
            "Nagasaki,32.74472,129.87361\n",
            "Kumamoto,32.78972,130.74167\t\n",
            "Oita,33.23806,131.6125\n",
            "Miyazaki,31.91111,131.42389\n",
            "Kagoshima,31.56028,130.55806\n",
            "Naha,26.2125,127.68111"
          ],
          "name": "stdout"
        }
      ]
    },
    {
      "cell_type": "markdown",
      "metadata": {
        "id": "ajHB-QpXXnSp"
      },
      "source": [
        "# 課題２１"
      ]
    },
    {
      "cell_type": "code",
      "metadata": {
        "id": "Ya9CcRdYXWtO",
        "outputId": "8cbff572-e25b-4711-f812-3de37d3407e5",
        "colab": {
          "base_uri": "https://localhost:8080/",
          "height": 281
        }
      },
      "source": [
        "import matplotlib.pyplot as plt\n",
        "%matplotlib inline\n",
        "\n",
        "plt.hist(col2)\n",
        "plt.title(\"Col2\")\n",
        "plt.grid() \n",
        "plt.show()"
      ],
      "execution_count": null,
      "outputs": [
        {
          "output_type": "display_data",
          "data": {
            "image/png": "[encoded data removed]",
            "text/plain": [
              "<Figure size 432x288 with 1 Axes>"
            ]
          },
          "metadata": {
            "tags": [],
            "needs_background": "light"
          }
        }
      ]
    },
    {
      "cell_type": "code",
      "metadata": {
        "id": "oe7z10tBYzwh",
        "outputId": "ccf8c825-f20e-4c98-e66e-8b07ff9b7e89",
        "colab": {
          "base_uri": "https://localhost:8080/",
          "height": 281
        }
      },
      "source": [
        "import matplotlib.pyplot as plt\n",
        "%matplotlib inline\n",
        "\n",
        "plt.hist(col3)\n",
        "plt.title(\"Col3\")\n",
        "plt.grid() \n",
        "plt.show()"
      ],
      "execution_count": null,
      "outputs": [
        {
          "output_type": "display_data",
          "data": {
            "image/png": "[encoded data removed]",
            "text/plain": [
              "<Figure size 432x288 with 1 Axes>"
            ]
          },
          "metadata": {
            "tags": [],
            "needs_background": "light"
          }
        }
      ]
    },
    {
      "cell_type": "markdown",
      "metadata": {
        "id": "bDtmjVAQZVZy"
      },
      "source": [
        "# 課題２２"
      ]
    },
    {
      "cell_type": "code",
      "metadata": {
        "id": "YqDVgOssY9lO",
        "outputId": "c672e149-0c5c-4063-a6ca-c716c418d43c",
        "colab": {
          "base_uri": "https://localhost:8080/",
          "height": 281
        }
      },
      "source": [
        "import matplotlib.pyplot as plt\n",
        "%matplotlib inline\n",
        "\n",
        "plt.plot(col2)\n",
        "#plt.plot(col3)\n",
        "plt.title(\"This is a title\")\n",
        "plt.grid() \n",
        "plt.show()"
      ],
      "execution_count": null,
      "outputs": [
        {
          "output_type": "display_data",
          "data": {
            "image/png": "[encoded data removed]",
            "text/plain": [
              "<Figure size 432x288 with 1 Axes>"
            ]
          },
          "metadata": {
            "tags": [],
            "needs_background": "light"
          }
        }
      ]
    },
    {
      "cell_type": "markdown",
      "metadata": {
        "id": "IwzQux_fZ9M7"
      },
      "source": [
        ""
      ]
    },
    {
      "cell_type": "code",
      "metadata": {
        "id": "Yf8idax8ZXmB",
        "outputId": "93fcab1c-0b34-465d-abf6-133568f1fd99",
        "colab": {
          "base_uri": "https://localhost:8080/",
          "height": 281
        }
      },
      "source": [
        "import matplotlib.pyplot as plt\n",
        "%matplotlib inline\n",
        "\n",
        "#plt.plot(col2)\n",
        "plt.plot(col3)\n",
        "plt.title(\"This is a title\")\n",
        "plt.grid() \n",
        "plt.show()"
      ],
      "execution_count": null,
      "outputs": [
        {
          "output_type": "display_data",
          "data": {
            "image/png": "[encoded data removed]",
            "text/plain": [
              "<Figure size 432x288 with 1 Axes>"
            ]
          },
          "metadata": {
            "tags": [],
            "needs_background": "light"
          }
        }
      ]
    },
    {
      "cell_type": "markdown",
      "metadata": {
        "id": "AJbOPtosZ_em"
      },
      "source": [
        "# 課題２３"
      ]
    },
    {
      "cell_type": "code",
      "metadata": {
        "id": "8XPz3fzNZhHX",
        "outputId": "2e162634-d2d1-4450-acea-57ed47c7b451",
        "colab": {
          "base_uri": "https://localhost:8080/",
          "height": 35
        }
      },
      "source": [
        "import urllib.request\n",
        "url = 'https://raw.githubusercontent.com/maskot1977/ipython_notebook/master/toydata/iris.txt'\n",
        "urllib.request.urlretrieve(url, 'iris.txt') # データのダウンロード"
      ],
      "execution_count": null,
      "outputs": [
        {
          "output_type": "execute_result",
          "data": {
            "text/plain": [
              "('iris.txt', <http.client.HTTPMessage at 0x7fc4dcce57b8>)"
            ]
          },
          "metadata": {
            "tags": []
          },
          "execution_count": 96
        }
      ]
    },
    {
      "cell_type": "code",
      "metadata": {
        "id": "W0J52idSaKW2",
        "outputId": "c9e26913-f42b-43ce-9112-460693f050fb",
        "colab": {
          "base_uri": "https://localhost:8080/",
          "height": 187
        }
      },
      "source": [
        "!head iris.txt"
      ],
      "execution_count": null,
      "outputs": [
        {
          "output_type": "stream",
          "text": [
            "\tSepal.Length\tSepal.Width\tPetal.Length\tPetal.Width\tSpecies\r\n",
            "1\t5.1\t3.5\t1.4\t0.2\t0\r\n",
            "2\t4.9\t3\t1.4\t0.2\t0\r\n",
            "3\t4.7\t3.2\t1.3\t0.2\t0\r\n",
            "4\t4.6\t3.1\t1.5\t0.2\t0\r\n",
            "5\t5\t3.6\t1.4\t0.2\t0\r\n",
            "6\t5.4\t3.9\t1.7\t0.4\t0\r\n",
            "7\t4.6\t3.4\t1.4\t0.3\t0\r\n",
            "8\t5\t3.4\t1.5\t0.2\t0\r\n",
            "9\t4.4\t2.9\t1.4\t0.2\t0\r\n"
          ],
          "name": "stdout"
        }
      ]
    },
    {
      "cell_type": "code",
      "metadata": {
        "id": "tshgGgRwaNKu"
      },
      "source": [
        "col1 = []\n",
        "col2 = []\n",
        "col3 = []\n",
        "col4 = []\n",
        "col5 = []\n",
        "col6 = []\n",
        "# ファイルを開いて一行一行読み込む\n",
        "for i, line in enumerate(open('iris.txt')):\n",
        "    if i == 0:\n",
        "        continue\n",
        "    # 行をコンマで分割したものをcというリストに入れる\n",
        "    c = line.split(\"\\t\")\n",
        "    col1.append(c[0])\n",
        "    col2.append(float(c[1]))\n",
        "    col3.append(float(c[2]))\n",
        "    col4.append(float(c[3]))\n",
        "    col5.append(float(c[4]))\n",
        "    col6.append(float(c[5]))"
      ],
      "execution_count": null,
      "outputs": []
    },
    {
      "cell_type": "code",
      "metadata": {
        "id": "v6inC_3capAM",
        "outputId": "ef45582a-96e4-4e40-c01b-b2924465e9fd",
        "colab": {
          "base_uri": "https://localhost:8080/",
          "height": 54
        }
      },
      "source": [
        "print(col2)"
      ],
      "execution_count": null,
      "outputs": [
        {
          "output_type": "stream",
          "text": [
            "[5.1, 4.9, 4.7, 4.6, 5.0, 5.4, 4.6, 5.0, 4.4, 4.9, 5.4, 4.8, 4.8, 4.3, 5.8, 5.7, 5.4, 5.1, 5.7, 5.1, 5.4, 5.1, 4.6, 5.1, 4.8, 5.0, 5.0, 5.2, 5.2, 4.7, 4.8, 5.4, 5.2, 5.5, 4.9, 5.0, 5.5, 4.9, 4.4, 5.1, 5.0, 4.5, 4.4, 5.0, 5.1, 4.8, 5.1, 4.6, 5.3, 5.0, 7.0, 6.4, 6.9, 5.5, 6.5, 5.7, 6.3, 4.9, 6.6, 5.2, 5.0, 5.9, 6.0, 6.1, 5.6, 6.7, 5.6, 5.8, 6.2, 5.6, 5.9, 6.1, 6.3, 6.1, 6.4, 6.6, 6.8, 6.7, 6.0, 5.7, 5.5, 5.5, 5.8, 6.0, 5.4, 6.0, 6.7, 6.3, 5.6, 5.5, 5.5, 6.1, 5.8, 5.0, 5.6, 5.7, 5.7, 6.2, 5.1, 5.7, 6.3, 5.8, 7.1, 6.3, 6.5, 7.6, 4.9, 7.3, 6.7, 7.2, 6.5, 6.4, 6.8, 5.7, 5.8, 6.4, 6.5, 7.7, 7.7, 6.0, 6.9, 5.6, 7.7, 6.3, 6.7, 7.2, 6.2, 6.1, 6.4, 7.2, 7.4, 7.9, 6.4, 6.3, 6.1, 7.7, 6.3, 6.4, 6.0, 6.9, 6.7, 6.9, 5.8, 6.8, 6.7, 6.7, 6.3, 6.5, 6.2, 5.9]\n"
          ],
          "name": "stdout"
        }
      ]
    },
    {
      "cell_type": "code",
      "metadata": {
        "id": "DKKoZHQhbPJK"
      },
      "source": [
        "# 平均値を求める関数を作ろう\n",
        "def mean(list_):\n",
        "    s = 0\n",
        "    for x in list_:\n",
        "        s += x\n",
        "\n",
        "    return s / len(list_)"
      ],
      "execution_count": null,
      "outputs": []
    },
    {
      "cell_type": "code",
      "metadata": {
        "id": "FKtgtcGObkGq",
        "outputId": "971e398c-7fc1-4068-fb83-20a89855f737",
        "colab": {
          "base_uri": "https://localhost:8080/",
          "height": 34
        }
      },
      "source": [
        "mean(col2)"
      ],
      "execution_count": null,
      "outputs": [
        {
          "output_type": "execute_result",
          "data": {
            "text/plain": [
              "5.843333333333335"
            ]
          },
          "metadata": {
            "tags": []
          },
          "execution_count": 110
        }
      ]
    },
    {
      "cell_type": "code",
      "metadata": {
        "id": "QuCaQO4ebw2U",
        "outputId": "00677c77-26d4-401f-b855-ea800c31732e",
        "colab": {
          "base_uri": "https://localhost:8080/",
          "height": 34
        }
      },
      "source": [
        "mean(col3)"
      ],
      "execution_count": null,
      "outputs": [
        {
          "output_type": "execute_result",
          "data": {
            "text/plain": [
              "3.057333333333334"
            ]
          },
          "metadata": {
            "tags": []
          },
          "execution_count": 111
        }
      ]
    },
    {
      "cell_type": "code",
      "metadata": {
        "id": "FDvow36wb8id"
      },
      "source": [
        ""
      ],
      "execution_count": null,
      "outputs": []
    },
    {
      "cell_type": "code",
      "metadata": {
        "id": "Q-i_O8Gaby5k",
        "outputId": "4700ca73-2af5-4fe8-f089-bbc05e563f3f",
        "colab": {
          "base_uri": "https://localhost:8080/",
          "height": 34
        }
      },
      "source": [
        "mean(col4)"
      ],
      "execution_count": null,
      "outputs": [
        {
          "output_type": "execute_result",
          "data": {
            "text/plain": [
              "3.7580000000000027"
            ]
          },
          "metadata": {
            "tags": []
          },
          "execution_count": 112
        }
      ]
    },
    {
      "cell_type": "code",
      "metadata": {
        "id": "tDvWQtJ1b0bv",
        "outputId": "25413bf5-5463-4ff8-9473-484264413946",
        "colab": {
          "base_uri": "https://localhost:8080/",
          "height": 34
        }
      },
      "source": [
        "mean(col5)"
      ],
      "execution_count": null,
      "outputs": [
        {
          "output_type": "execute_result",
          "data": {
            "text/plain": [
              "1.199333333333334"
            ]
          },
          "metadata": {
            "tags": []
          },
          "execution_count": 113
        }
      ]
    },
    {
      "cell_type": "markdown",
      "metadata": {
        "id": "_vl7IpB7b9pZ"
      },
      "source": [
        "# kadai24 \n"
      ]
    },
    {
      "cell_type": "code",
      "metadata": {
        "id": "qp1xW-b3b2Em"
      },
      "source": [
        "# 分散を求める関数を作ろう\n",
        "def variance(list_):\n",
        "    s = 0\n",
        "    for x in list_:\n",
        "        s += (x - mean(list_))**2\n",
        "    \n",
        "    return s / len(list_)"
      ],
      "execution_count": null,
      "outputs": []
    },
    {
      "cell_type": "code",
      "metadata": {
        "id": "fk-cjxwVcRHx",
        "outputId": "9d144cec-4390-4d86-8afd-8b5a45b905e4",
        "colab": {
          "base_uri": "https://localhost:8080/",
          "height": 34
        }
      },
      "source": [
        "variance(col2)"
      ],
      "execution_count": null,
      "outputs": [
        {
          "output_type": "execute_result",
          "data": {
            "text/plain": [
              "0.6811222222222222"
            ]
          },
          "metadata": {
            "tags": []
          },
          "execution_count": 115
        }
      ]
    },
    {
      "cell_type": "markdown",
      "metadata": {
        "id": "mbVD1Vjncn0Z"
      },
      "source": [
        "# 課題２５"
      ]
    },
    {
      "cell_type": "code",
      "metadata": {
        "id": "T8sUSGYVcToq"
      },
      "source": [
        "import math\n",
        "def standard_deviation(list_):\n",
        "    return math.sqrt(variance(list_))"
      ],
      "execution_count": null,
      "outputs": []
    },
    {
      "cell_type": "code",
      "metadata": {
        "id": "6wdVA-FZcvIq",
        "outputId": "41e4e828-fe85-40bc-8f50-57995cd36b7b",
        "colab": {
          "base_uri": "https://localhost:8080/",
          "height": 34
        }
      },
      "source": [
        "standard_deviation(col2)"
      ],
      "execution_count": null,
      "outputs": [
        {
          "output_type": "execute_result",
          "data": {
            "text/plain": [
              "0.8253012917851409"
            ]
          },
          "metadata": {
            "tags": []
          },
          "execution_count": 117
        }
      ]
    },
    {
      "cell_type": "markdown",
      "metadata": {
        "id": "DRheIbW7c4aB"
      },
      "source": [
        "# 課題２６"
      ]
    },
    {
      "cell_type": "code",
      "metadata": {
        "id": "5xhw8FSwcyU2"
      },
      "source": [
        "# 共分散 = 偏差積の平均 （偏差値、ではありません。偏差積、です）を作ろう\n",
        "def covariance(list1, list2): \n",
        "    s  = 0\n",
        "    for x, y in zip(list1, list2):\n",
        "        s += (x - mean(list1)) * (y - mean(list2))\n",
        "\n",
        "    return s / len(list1)"
      ],
      "execution_count": null,
      "outputs": []
    },
    {
      "cell_type": "code",
      "metadata": {
        "id": "LrvlRao6dMt5",
        "outputId": "7710922c-7681-450c-b269-d622e29d7fa5",
        "colab": {
          "base_uri": "https://localhost:8080/",
          "height": 34
        }
      },
      "source": [
        "covariance(col2, col3)"
      ],
      "execution_count": null,
      "outputs": [
        {
          "output_type": "execute_result",
          "data": {
            "text/plain": [
              "-0.04215111111111109"
            ]
          },
          "metadata": {
            "tags": []
          },
          "execution_count": 120
        }
      ]
    },
    {
      "cell_type": "markdown",
      "metadata": {
        "id": "3s-Vows2egca"
      },
      "source": [
        "# 課題２７"
      ]
    },
    {
      "cell_type": "code",
      "metadata": {
        "id": "DulWwUZ_dPhd"
      },
      "source": [
        "# 相関係数 = 共分散を list1, list2 の標準偏差で割ったものを作ろう\n",
        "def correlation(list1, list2):\n",
        "    return covariance(list1, list2) / standard_deviation(list1) / standard_deviation(list2)"
      ],
      "execution_count": null,
      "outputs": []
    },
    {
      "cell_type": "code",
      "metadata": {
        "id": "mo_PU4kOet7E",
        "outputId": "ae8d097e-7bee-404e-9c80-ddebf9614284",
        "colab": {
          "base_uri": "https://localhost:8080/",
          "height": 34
        }
      },
      "source": [
        "correlation(col2, col3)"
      ],
      "execution_count": null,
      "outputs": [
        {
          "output_type": "execute_result",
          "data": {
            "text/plain": [
              "-0.11756978413300205"
            ]
          },
          "metadata": {
            "tags": []
          },
          "execution_count": 122
        }
      ]
    },
    {
      "cell_type": "code",
      "metadata": {
        "id": "jP0nFdOqfDwN"
      },
      "source": [
        "# 課題２８"
      ],
      "execution_count": null,
      "outputs": []
    },
    {
      "cell_type": "code",
      "metadata": {
        "id": "FwAOshu9eyaO"
      },
      "source": [
        "# 回帰直線の傾き＝相関係数＊（（yの標準偏差）／（xの標準偏差））を求める関数を作ろう\n",
        "def a_fit(xlist, ylist):\n",
        "    return correlation(xlist, ylist) * standard_deviation(ylist) / standard_deviation(xlist)"
      ],
      "execution_count": null,
      "outputs": []
    },
    {
      "cell_type": "code",
      "metadata": {
        "id": "iySbNQRUgR_a"
      },
      "source": [
        "# y切片＝yの平均－（傾き＊xの平均）を求める関数を作ろう\n",
        "def b_fit(xlist, ylist):\n",
        "    return mean(ylist) - a_fit(xlist, ylist) * mean(xlist)"
      ],
      "execution_count": null,
      "outputs": []
    },
    {
      "cell_type": "code",
      "metadata": {
        "id": "CYLesQc5gUDj",
        "outputId": "bbbfeadf-35cc-48b1-aa58-2cab81b4b8e4",
        "colab": {
          "base_uri": "https://localhost:8080/",
          "height": 34
        }
      },
      "source": [
        "X = col3\n",
        "Y = col2\n",
        "\n",
        "# 回帰直線の式を表示\n",
        "print(\"y = f(x) = {0} x + {1}\".format(a_fit(X, Y), b_fit(X, Y)))"
      ],
      "execution_count": null,
      "outputs": [
        {
          "output_type": "stream",
          "text": [
            "y = f(x) = -0.22336106112989992 x + 6.526222550894482\n"
          ],
          "name": "stdout"
        }
      ]
    },
    {
      "cell_type": "code",
      "metadata": {
        "id": "byLHVH31ge6Y"
      },
      "source": [
        "def f(x):\n",
        "    return a_fit(X, Y) * x + b_fit(X, Y)"
      ],
      "execution_count": null,
      "outputs": []
    },
    {
      "cell_type": "code",
      "metadata": {
        "id": "-WckkQz6gz5X",
        "outputId": "2ef78c47-a721-4820-8dc8-941361097428",
        "colab": {
          "base_uri": "https://localhost:8080/",
          "height": 282
        }
      },
      "source": [
        "%matplotlib inline\n",
        "import matplotlib.pyplot as plt\n",
        "plt.scatter(X, Y)\n",
        "plt.plot([2, 4.5], [f(2), f(4.5)])"
      ],
      "execution_count": null,
      "outputs": [
        {
          "output_type": "execute_result",
          "data": {
            "text/plain": [
              "[<matplotlib.lines.Line2D at 0x7fc4dcd20240>]"
            ]
          },
          "metadata": {
            "tags": []
          },
          "execution_count": 131
        },
        {
          "output_type": "display_data",
          "data": {
            "image/png": "[encoded data removed]",
            "text/plain": [
              "<Figure size 432x288 with 1 Axes>"
            ]
          },
          "metadata": {
            "tags": [],
            "needs_background": "light"
          }
        }
      ]
    },
    {
      "cell_type": "code",
      "metadata": {
        "id": "B7FlmhhWg5xy"
      },
      "source": [
        "col1 = []\n",
        "col2 = []\n",
        "col3 = []\n",
        "col4 = []\n",
        "col5 = []\n",
        "col6 = []\n",
        "# ファイルを開いて一行一行読み込む\n",
        "for i, line in enumerate(open('iris.txt')):\n",
        "    if i == 0:\n",
        "        continue\n",
        "    # 行をコンマで分割したものをcというリストに入れる\n",
        "    c = line.split(\"\\t\")\n",
        "    if float(c[5]) != 0:\n",
        "        continue\n",
        "    col1.append(c[0])\n",
        "    col2.append(float(c[1]))\n",
        "    col3.append(float(c[2]))\n",
        "    col4.append(float(c[3]))\n",
        "    col5.append(float(c[4]))\n",
        "    col6.append(float(c[5]))"
      ],
      "execution_count": null,
      "outputs": []
    },
    {
      "cell_type": "code",
      "metadata": {
        "id": "uQCTSqWUhSWe",
        "outputId": "8d9fdefe-e213-4d2d-bd55-321e1759203d",
        "colab": {
          "base_uri": "https://localhost:8080/",
          "height": 282
        }
      },
      "source": [
        "X = col3\n",
        "Y = col2\n",
        "\n",
        "%matplotlib inline\n",
        "import matplotlib.pyplot as plt\n",
        "plt.scatter(X, Y)\n",
        "plt.plot([2, 4.5], [f(2), f(4.5)])"
      ],
      "execution_count": null,
      "outputs": [
        {
          "output_type": "execute_result",
          "data": {
            "text/plain": [
              "[<matplotlib.lines.Line2D at 0x7fc4dccc3c18>]"
            ]
          },
          "metadata": {
            "tags": []
          },
          "execution_count": 138
        },
        {
          "output_type": "display_data",
          "data": {
            "image/png": "[encoded data removed]",
            "text/plain": [
              "<Figure size 432x288 with 1 Axes>"
            ]
          },
          "metadata": {
            "tags": [],
            "needs_background": "light"
          }
        }
      ]
    },
    {
      "cell_type": "code",
      "metadata": {
        "id": "iQTEoLijhYwA"
      },
      "source": [
        ""
      ],
      "execution_count": null,
      "outputs": []
    }
  ]
}