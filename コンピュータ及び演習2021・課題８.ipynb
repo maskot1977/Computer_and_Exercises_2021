{
  "nbformat": 4,
  "nbformat_minor": 0,
  "metadata": {
    "colab": {
      "name": "コンピュータ及び演習2021・課題８",
      "provenance": [],
      "collapsed_sections": [],
      "authorship_tag": "ABX9TyPqYXu6zLokPA4nIee4BFIv"
    },
    "kernelspec": {
      "name": "python3",
      "display_name": "Python 3"
    },
    "language_info": {
      "name": "python"
    }
  },
  "cells": [
    {
      "cell_type": "markdown",
      "metadata": {
        "id": "I35I_tAV-QZc"
      },
      "source": [
        "# 課題８"
      ]
    },
    {
      "cell_type": "code",
      "metadata": {
        "id": "e73wig-1-NE_"
      },
      "source": [
        "import math\n",
        "float(input(\"角度を入力してください\")) * math.pi / 180"
      ],
      "execution_count": null,
      "outputs": []
    },
    {
      "cell_type": "code",
      "metadata": {
        "id": "uzIT7NKj-eiu"
      },
      "source": [
        "x = float(input(\"気圧をatmの単位で入力してください\"))\n",
        "print(x * 760, \"mmHg\")\n",
        "print(x * 1000000 / 9.86923, \"Pa\")\n",
        "print(x * 10 / 9.67841, \"kgf/cm^2\")"
      ],
      "execution_count": null,
      "outputs": []
    }
  ]
}