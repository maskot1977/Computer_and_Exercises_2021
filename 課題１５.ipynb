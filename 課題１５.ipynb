{
  "nbformat": 4,
  "nbformat_minor": 0,
  "metadata": {
    "colab": {
      "name": "課題１５",
      "provenance": [],
      "collapsed_sections": [],
      "authorship_tag": "ABX9TyPQpqduf1SSlH6PAvp58HEX",
      "include_colab_link": true
    },
    "kernelspec": {
      "name": "python3",
      "display_name": "Python 3"
    }
  },
  "cells": [
    {
      "cell_type": "markdown",
      "metadata": {
        "id": "view-in-github",
        "colab_type": "text"
      },
      "source": [
        "<a href=\"https://colab.research.google.com/github/maskot1977/Computer_and_Exercises_2021/blob/xW8yb94N/%E8%AA%B2%E9%A1%8C%EF%BC%91%EF%BC%95.ipynb\" target=\"_parent\"><img src=\"https://colab.research.google.com/assets/colab-badge.svg\" alt=\"Open In Colab\"/></a>"
      ]
    },
    {
      "cell_type": "code",
      "metadata": {
        "id": "uWwcfkAIp_Ko",
        "outputId": "08636ae6-77e0-472c-b4b3-926593032a9d",
        "colab": {
          "base_uri": "https://localhost:8080/",
          "height": 138
        }
      },
      "source": [
        "s = 0\n",
        "for i in range(7):\n",
        "    n_prev = 2**i\n",
        "    n = 2**(i + 1)\n",
        "\n",
        "    for k in range(n_prev + 1, n +1):\n",
        "        s += k**-2\n",
        "    \n",
        "    print(\"n =\", n, \", s =\", s)"
      ],
      "execution_count": null,
      "outputs": [
        {
          "output_type": "stream",
          "text": [
            "n = 2 , s = 0.25\n",
            "n = 4 , s = 0.4236111111111111\n",
            "n = 8 , s = 0.527422052154195\n",
            "n = 16 , s = 0.5843465334449871\n",
            "n = 32 , s = 0.6141672628279246\n",
            "n = 64 , s = 0.6294305014088878\n",
            "n = 128 , s = 0.637152004954462\n"
          ],
          "name": "stdout"
        }
      ]
    },
    {
      "cell_type": "code",
      "metadata": {
        "id": "nYlrqYN9rBIW"
      },
      "source": [
        ""
      ],
      "execution_count": null,
      "outputs": []
    }
  ]
}