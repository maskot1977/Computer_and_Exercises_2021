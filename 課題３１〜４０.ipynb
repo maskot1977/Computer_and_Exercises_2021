{
  "nbformat": 4,
  "nbformat_minor": 0,
  "metadata": {
    "colab": {
      "name": "課題３１〜４０",
      "provenance": [],
      "collapsed_sections": [],
      "authorship_tag": "ABX9TyOses5ne7vlAGML7jlPmN8W",
      "include_colab_link": true
    },
    "kernelspec": {
      "name": "python3",
      "display_name": "Python 3"
    },
    "language_info": {
      "name": "python"
    }
  },
  "cells": [
    {
      "cell_type": "markdown",
      "metadata": {
        "id": "view-in-github",
        "colab_type": "text"
      },
      "source": [
        "<a href=\"https://colab.research.google.com/github/maskot1977/Computer_and_Exercises_2021/blob/d7MwW8Ay/%E8%AA%B2%E9%A1%8C%EF%BC%93%EF%BC%91%E3%80%9C%EF%BC%94%EF%BC%90.ipynb\" target=\"_parent\"><img src=\"https://colab.research.google.com/assets/colab-badge.svg\" alt=\"Open In Colab\"/></a>"
      ]
    },
    {
      "cell_type": "markdown",
      "metadata": {
        "id": "N5RoGL_s7ncL"
      },
      "source": [
        "# 課題３１"
      ]
    },
    {
      "cell_type": "code",
      "metadata": {
        "id": "h6_Ww9aj5p1W"
      },
      "source": [
        "def task31(k, m):\n",
        "    for k1 in k:\n",
        "        for k2 in k:\n",
        "            for k3 in k:\n",
        "                for k4 in k:\n",
        "                    if k1 + k2 + k3 + k4 == m:\n",
        "                        return True\n",
        "    return False"
      ],
      "execution_count": null,
      "outputs": []
    },
    {
      "cell_type": "code",
      "metadata": {
        "id": "fxMguyKf72bu"
      },
      "source": [
        "n = 20\n",
        "m =  496\n",
        "k =  [240, 471, 143, 482, 231, 127, 482, 145, 195, 336, 31, 83, 450, 376, 108, 133, 118, 340, 400, 170]\n"
      ],
      "execution_count": null,
      "outputs": []
    },
    {
      "cell_type": "code",
      "metadata": {
        "colab": {
          "base_uri": "https://localhost:8080/"
        },
        "id": "D8_OtT5v79Uc",
        "outputId": "85467d5c-d6ec-49a5-ed4c-f960d61a481c"
      },
      "source": [
        "%%timeit\n",
        "task31(k, m)"
      ],
      "execution_count": null,
      "outputs": [
        {
          "output_type": "stream",
          "name": "stdout",
          "text": [
            "100 loops, best of 5: 2.87 ms per loop\n"
          ]
        }
      ]
    },
    {
      "cell_type": "code",
      "metadata": {
        "id": "Fc29b8-d7_xt"
      },
      "source": [
        "def task31better(k, m):\n",
        "    for k1 in k:\n",
        "        for k2 in k:\n",
        "            if k1 + k2 > m:\n",
        "                continue\n",
        "            for k3 in k:\n",
        "                if k1 + k2 + k3 > m:\n",
        "                    continue\n",
        "                for k4 in k:\n",
        "                    if k1 + k2 + k3 + k4 == m:\n",
        "                        return True\n",
        "    return False"
      ],
      "execution_count": null,
      "outputs": []
    },
    {
      "cell_type": "code",
      "metadata": {
        "colab": {
          "base_uri": "https://localhost:8080/"
        },
        "id": "8f6Agujz8Xj6",
        "outputId": "b6d441bf-57e4-48c2-ab27-8e329947e216"
      },
      "source": [
        "%%timeit\n",
        "task31better(k, m)"
      ],
      "execution_count": null,
      "outputs": [
        {
          "output_type": "stream",
          "name": "stdout",
          "text": [
            "1000 loops, best of 5: 196 µs per loop\n"
          ]
        }
      ]
    },
    {
      "cell_type": "markdown",
      "metadata": {
        "id": "vj90YUG28vji"
      },
      "source": [
        "# 課題３３"
      ]
    },
    {
      "cell_type": "code",
      "metadata": {
        "id": "eiOj0yZd8a6Q"
      },
      "source": [
        "def task33(x):\n",
        "    V = [500, 100, 50, 10, 5, 1]\n",
        "    C = [10, 10, 10, 10, 10, 10]\n",
        "    nanmai = 0\n",
        "    for v, c in zip(V, C):\n",
        "        maisu = min(int(x / v), c)\n",
        "        if maisu < 0:\n",
        "            return False\n",
        "        nanmai += maisu\n",
        "        x -= v * maisu\n",
        "        print(v, \"円玉が\", maisu, \"枚\")\n",
        "\n",
        "    if x > 0:\n",
        "        return False\n",
        "    else:\n",
        "        print(\"合計枚数\", nanmai)"
      ],
      "execution_count": null,
      "outputs": []
    },
    {
      "cell_type": "code",
      "metadata": {
        "colab": {
          "base_uri": "https://localhost:8080/"
        },
        "id": "owicyr0K9y-L",
        "outputId": "5c2f2e57-e518-4db7-c581-4bf6b34982ed"
      },
      "source": [
        "x = 1672\n",
        "task33(x)"
      ],
      "execution_count": null,
      "outputs": [
        {
          "output_type": "stream",
          "name": "stdout",
          "text": [
            "500 円玉が 3 枚\n",
            "100 円玉が 1 枚\n",
            "50 円玉が 1 枚\n",
            "10 円玉が 2 枚\n",
            "5 円玉が 0 枚\n",
            "1 円玉が 2 枚\n",
            "合計枚数 9\n"
          ]
        }
      ]
    },
    {
      "cell_type": "code",
      "metadata": {
        "colab": {
          "base_uri": "https://localhost:8080/"
        },
        "id": "LIXol9DL-vfK",
        "outputId": "3d9edf18-3647-4536-a7d4-46e9d001702d"
      },
      "source": [
        "x =  5549\n",
        "task33(x)"
      ],
      "execution_count": null,
      "outputs": [
        {
          "output_type": "stream",
          "name": "stdout",
          "text": [
            "500 円玉が 10 枚\n",
            "100 円玉が 5 枚\n",
            "50 円玉が 0 枚\n",
            "10 円玉が 4 枚\n",
            "5 円玉が 1 枚\n",
            "1 円玉が 4 枚\n",
            "合計枚数 24\n"
          ]
        }
      ]
    },
    {
      "cell_type": "code",
      "metadata": {
        "colab": {
          "base_uri": "https://localhost:8080/"
        },
        "id": "7ChvRnxu-1FY",
        "outputId": "a5bd3548-6562-4b01-f66c-bcef420f4a24"
      },
      "source": [
        "x =  3067\n",
        "task33(x)"
      ],
      "execution_count": null,
      "outputs": [
        {
          "output_type": "stream",
          "name": "stdout",
          "text": [
            "500 円玉が 6 枚\n",
            "100 円玉が 0 枚\n",
            "50 円玉が 1 枚\n",
            "10 円玉が 1 枚\n",
            "5 円玉が 1 枚\n",
            "1 円玉が 2 枚\n",
            "合計枚数 11\n"
          ]
        }
      ]
    },
    {
      "cell_type": "code",
      "metadata": {
        "colab": {
          "base_uri": "https://localhost:8080/"
        },
        "id": "4illgtXf_Kja",
        "outputId": "22eea44e-2730-4ebe-8eff-8d5422ad0f2b"
      },
      "source": [
        "x =  -124\n",
        "task33(x)"
      ],
      "execution_count": null,
      "outputs": [
        {
          "output_type": "stream",
          "name": "stdout",
          "text": [
            "500 円玉が 0 枚\n"
          ]
        },
        {
          "output_type": "execute_result",
          "data": {
            "text/plain": [
              "False"
            ]
          },
          "metadata": {},
          "execution_count": 35
        }
      ]
    },
    {
      "cell_type": "code",
      "metadata": {
        "colab": {
          "base_uri": "https://localhost:8080/"
        },
        "id": "Whn32OBs_PPw",
        "outputId": "c29b203f-8741-4d2d-9754-bddbe434d117"
      },
      "source": [
        "x = 5300000\n",
        "task33(x)"
      ],
      "execution_count": null,
      "outputs": [
        {
          "output_type": "stream",
          "name": "stdout",
          "text": [
            "500 円玉が 10 枚\n",
            "100 円玉が 10 枚\n",
            "50 円玉が 10 枚\n",
            "10 円玉が 10 枚\n",
            "5 円玉が 10 枚\n",
            "1 円玉が 10 枚\n"
          ]
        },
        {
          "output_type": "execute_result",
          "data": {
            "text/plain": [
              "False"
            ]
          },
          "metadata": {},
          "execution_count": 36
        }
      ]
    },
    {
      "cell_type": "markdown",
      "metadata": {
        "id": "-zMIJfd9AOTm"
      },
      "source": [
        "# 課題３４"
      ]
    },
    {
      "cell_type": "code",
      "metadata": {
        "id": "VJ6SJQdo_umh"
      },
      "source": [
        "def task34(n):\n",
        "    result = []\n",
        "    for i in range(2, n):\n",
        "        if n%i == 0:\n",
        "            #print(i, n/i)\n",
        "            result.append(i)\n",
        "\n",
        "    return result"
      ],
      "execution_count": null,
      "outputs": []
    },
    {
      "cell_type": "code",
      "metadata": {
        "colab": {
          "base_uri": "https://localhost:8080/"
        },
        "id": "u1tukhraAf9o",
        "outputId": "e9ebe6ed-5284-4c7d-b331-02df62561756"
      },
      "source": [
        "n = 60\n",
        "task34(n)"
      ],
      "execution_count": null,
      "outputs": [
        {
          "output_type": "execute_result",
          "data": {
            "text/plain": [
              "[2, 3, 4, 5, 6, 10, 12, 15, 20, 30]"
            ]
          },
          "metadata": {},
          "execution_count": 46
        }
      ]
    },
    {
      "cell_type": "code",
      "metadata": {
        "colab": {
          "base_uri": "https://localhost:8080/"
        },
        "id": "ZQ-j08aLBCtt",
        "outputId": "32375ac2-cb24-46a6-d9e5-617e5e831562"
      },
      "source": [
        "n = 136\n",
        "task34(n)"
      ],
      "execution_count": null,
      "outputs": [
        {
          "output_type": "execute_result",
          "data": {
            "text/plain": [
              "[2, 4, 8, 17, 34, 68]"
            ]
          },
          "metadata": {},
          "execution_count": 47
        }
      ]
    },
    {
      "cell_type": "code",
      "metadata": {
        "colab": {
          "base_uri": "https://localhost:8080/"
        },
        "id": "jQAASzlDBKBy",
        "outputId": "2c921dbe-6914-4402-8eaa-1432810e2f9a"
      },
      "source": [
        "n = 8075\n",
        "task34(n)"
      ],
      "execution_count": null,
      "outputs": [
        {
          "output_type": "execute_result",
          "data": {
            "text/plain": [
              "[5, 17, 19, 25, 85, 95, 323, 425, 475, 1615]"
            ]
          },
          "metadata": {},
          "execution_count": 48
        }
      ]
    },
    {
      "cell_type": "code",
      "metadata": {
        "id": "hwVUhSr2BNAf"
      },
      "source": [
        "import math\n",
        "def task34better(n):\n",
        "    result = []\n",
        "    for i in range(2, int(math.sqrt(n)) + 1):\n",
        "        if n%i == 0:\n",
        "            #print(i, n/i)\n",
        "            result.append(i)\n",
        "            result.append(int(n/i))\n",
        "\n",
        "    return sorted(result)"
      ],
      "execution_count": null,
      "outputs": []
    },
    {
      "cell_type": "code",
      "metadata": {
        "colab": {
          "base_uri": "https://localhost:8080/"
        },
        "id": "ufvbLd8tBaAw",
        "outputId": "727109a6-dab8-4f23-dcda-fe7f9519ab77"
      },
      "source": [
        "n = 60\n",
        "task34better(n)"
      ],
      "execution_count": null,
      "outputs": [
        {
          "output_type": "execute_result",
          "data": {
            "text/plain": [
              "[2, 3, 4, 5, 6, 10, 12, 15, 20, 30]"
            ]
          },
          "metadata": {},
          "execution_count": 59
        }
      ]
    },
    {
      "cell_type": "code",
      "metadata": {
        "colab": {
          "base_uri": "https://localhost:8080/"
        },
        "id": "_ATBUQFgBlZG",
        "outputId": "60c063b6-4e83-4f1f-a9b0-03ee52947427"
      },
      "source": [
        "%%timeit\n",
        "n = 8075\n",
        "task34(n)"
      ],
      "execution_count": null,
      "outputs": [
        {
          "output_type": "stream",
          "name": "stdout",
          "text": [
            "1000 loops, best of 5: 669 µs per loop\n"
          ]
        }
      ]
    },
    {
      "cell_type": "code",
      "metadata": {
        "colab": {
          "base_uri": "https://localhost:8080/"
        },
        "id": "Uq7_6eq7B175",
        "outputId": "a32ec1e5-e7ca-4f6b-e7b2-b9401c381f09"
      },
      "source": [
        "%%timeit\n",
        "n = 8075\n",
        "task34better(n)"
      ],
      "execution_count": null,
      "outputs": [
        {
          "output_type": "stream",
          "name": "stdout",
          "text": [
            "100000 loops, best of 5: 8.24 µs per loop\n"
          ]
        }
      ]
    },
    {
      "cell_type": "markdown",
      "metadata": {
        "id": "Yw4_YSMsCWuj"
      },
      "source": [
        "# 課題３５"
      ]
    },
    {
      "cell_type": "code",
      "metadata": {
        "id": "6SXvKcSOB5eu"
      },
      "source": [
        "import math\n",
        "def task35(n):\n",
        "    if n == 1:\n",
        "        return False\n",
        "    result = []\n",
        "    for i in range(2, int(math.sqrt(n)) + 1):\n",
        "        if n%i == 0:\n",
        "            return False\n",
        "            \n",
        "    return True"
      ],
      "execution_count": null,
      "outputs": []
    },
    {
      "cell_type": "code",
      "metadata": {
        "colab": {
          "base_uri": "https://localhost:8080/"
        },
        "id": "JPMfxnPMC23n",
        "outputId": "83950ba9-d168-437f-efaa-a5ff127bec8c"
      },
      "source": [
        "n = 53\n",
        "task35(n)"
      ],
      "execution_count": null,
      "outputs": [
        {
          "output_type": "execute_result",
          "data": {
            "text/plain": [
              "True"
            ]
          },
          "metadata": {},
          "execution_count": 63
        }
      ]
    },
    {
      "cell_type": "code",
      "metadata": {
        "colab": {
          "base_uri": "https://localhost:8080/"
        },
        "id": "fKl3XBbLC6xI",
        "outputId": "c6a7ab46-4d7d-4dea-bc4e-51d29449b558"
      },
      "source": [
        "n = 12357\n",
        "task35(n)"
      ],
      "execution_count": null,
      "outputs": [
        {
          "output_type": "execute_result",
          "data": {
            "text/plain": [
              "False"
            ]
          },
          "metadata": {},
          "execution_count": 64
        }
      ]
    },
    {
      "cell_type": "code",
      "metadata": {
        "colab": {
          "base_uri": "https://localhost:8080/"
        },
        "id": "0cnSNBmEC9kU",
        "outputId": "60f5eed2-314e-4c5e-e5a1-a72b5dbaae37"
      },
      "source": [
        "n = 12357\n",
        "task34better(n)"
      ],
      "execution_count": null,
      "outputs": [
        {
          "output_type": "execute_result",
          "data": {
            "text/plain": [
              "[3, 9, 1373, 4119]"
            ]
          },
          "metadata": {},
          "execution_count": 65
        }
      ]
    },
    {
      "cell_type": "code",
      "metadata": {
        "colab": {
          "base_uri": "https://localhost:8080/"
        },
        "id": "oyWgM0jrDAhR",
        "outputId": "2f80edbe-50a6-4cd0-f4aa-5580bf0f47d0"
      },
      "source": [
        "n = 941471\n",
        "task35(n)"
      ],
      "execution_count": null,
      "outputs": [
        {
          "output_type": "execute_result",
          "data": {
            "text/plain": [
              "True"
            ]
          },
          "metadata": {},
          "execution_count": 66
        }
      ]
    },
    {
      "cell_type": "markdown",
      "metadata": {
        "id": "bzySJA6mDRjL"
      },
      "source": [
        "# 課題３６"
      ]
    },
    {
      "cell_type": "code",
      "metadata": {
        "id": "thO3GQ5JDELr"
      },
      "source": [
        "import math\n",
        "def task36(n):\n",
        "    result = []\n",
        "    for i in range(2, int(math.sqrt(n)) + 1):\n",
        "        while n%i == 0:\n",
        "            result.append(i)\n",
        "            n /= i\n",
        "\n",
        "    if n != 1:\n",
        "        result.append(int(n))\n",
        "\n",
        "    return sorted(result)"
      ],
      "execution_count": null,
      "outputs": []
    },
    {
      "cell_type": "code",
      "metadata": {
        "colab": {
          "base_uri": "https://localhost:8080/"
        },
        "id": "6VjwSDrGDvJy",
        "outputId": "da007f97-4580-4414-be59-9f9738a2ac17"
      },
      "source": [
        "n = 60\n",
        "task36(n)"
      ],
      "execution_count": null,
      "outputs": [
        {
          "output_type": "execute_result",
          "data": {
            "text/plain": [
              "[2, 2, 3, 5]"
            ]
          },
          "metadata": {},
          "execution_count": 74
        }
      ]
    },
    {
      "cell_type": "code",
      "metadata": {
        "colab": {
          "base_uri": "https://localhost:8080/"
        },
        "id": "gN9WPq_3Dx9R",
        "outputId": "63ef8771-cbde-4c38-8147-5ba0f3aeffae"
      },
      "source": [
        "n = 136\n",
        "task36(n)"
      ],
      "execution_count": null,
      "outputs": [
        {
          "output_type": "execute_result",
          "data": {
            "text/plain": [
              "[2, 2, 2, 17]"
            ]
          },
          "metadata": {},
          "execution_count": 75
        }
      ]
    },
    {
      "cell_type": "code",
      "metadata": {
        "colab": {
          "base_uri": "https://localhost:8080/"
        },
        "id": "m8P9QfzPD1uo",
        "outputId": "63fcf962-bf40-43a9-ee4e-5594f4c9e9d9"
      },
      "source": [
        "n = 8075\n",
        "task36(n)"
      ],
      "execution_count": null,
      "outputs": [
        {
          "output_type": "execute_result",
          "data": {
            "text/plain": [
              "[5, 5, 17, 19]"
            ]
          },
          "metadata": {},
          "execution_count": 76
        }
      ]
    },
    {
      "cell_type": "markdown",
      "metadata": {
        "id": "OJ7lyfOyEdXQ"
      },
      "source": [
        "# 課題３７"
      ]
    },
    {
      "cell_type": "code",
      "metadata": {
        "id": "3UIBCcXjEPAv"
      },
      "source": [
        "def task37(n):\n",
        "    is_prime = [True for _ in range(n + 1)]\n",
        "    is_prime[0] = False\n",
        "    is_prime[1] = False\n",
        "    primes = []\n",
        "    for i in range(2, n + 1):\n",
        "        if is_prime[i]:\n",
        "            primes.append(i)\n",
        "            j = i * 2\n",
        "            while j <= n:\n",
        "                is_prime[j] = False\n",
        "                j += i\n",
        "\n",
        "    print(primes)\n",
        "    return len(primes)"
      ],
      "execution_count": null,
      "outputs": []
    },
    {
      "cell_type": "code",
      "metadata": {
        "colab": {
          "base_uri": "https://localhost:8080/"
        },
        "id": "XdijREcVE4Oa",
        "outputId": "6a3191fb-bab2-41a2-ce9c-bdd4c05f5b47"
      },
      "source": [
        "n = 10\n",
        "task37(n)"
      ],
      "execution_count": null,
      "outputs": [
        {
          "output_type": "stream",
          "name": "stdout",
          "text": [
            "[2, 3, 5, 7]\n"
          ]
        },
        {
          "output_type": "execute_result",
          "data": {
            "text/plain": [
              "4"
            ]
          },
          "metadata": {},
          "execution_count": 88
        }
      ]
    },
    {
      "cell_type": "code",
      "metadata": {
        "colab": {
          "base_uri": "https://localhost:8080/"
        },
        "id": "wiKBzsx3E5hx",
        "outputId": "89b10f7c-efd8-457b-dc2f-1c71680b82a2"
      },
      "source": [
        "n = 100\n",
        "task37(n)"
      ],
      "execution_count": null,
      "outputs": [
        {
          "output_type": "stream",
          "name": "stdout",
          "text": [
            "[2, 3, 5, 7, 11, 13, 17, 19, 23, 29, 31, 37, 41, 43, 47, 53, 59, 61, 67, 71, 73, 79, 83, 89, 97]\n"
          ]
        },
        {
          "output_type": "execute_result",
          "data": {
            "text/plain": [
              "25"
            ]
          },
          "metadata": {},
          "execution_count": 89
        }
      ]
    },
    {
      "cell_type": "code",
      "metadata": {
        "colab": {
          "base_uri": "https://localhost:8080/"
        },
        "id": "TI24DggXGiL1",
        "outputId": "5ba9bebf-fbd1-4873-88fe-4caa74dbd8c9"
      },
      "source": [
        "n = 1000\n",
        "task37(n)"
      ],
      "execution_count": null,
      "outputs": [
        {
          "output_type": "stream",
          "name": "stdout",
          "text": [
            "[2, 3, 5, 7, 11, 13, 17, 19, 23, 29, 31, 37, 41, 43, 47, 53, 59, 61, 67, 71, 73, 79, 83, 89, 97, 101, 103, 107, 109, 113, 127, 131, 137, 139, 149, 151, 157, 163, 167, 173, 179, 181, 191, 193, 197, 199, 211, 223, 227, 229, 233, 239, 241, 251, 257, 263, 269, 271, 277, 281, 283, 293, 307, 311, 313, 317, 331, 337, 347, 349, 353, 359, 367, 373, 379, 383, 389, 397, 401, 409, 419, 421, 431, 433, 439, 443, 449, 457, 461, 463, 467, 479, 487, 491, 499, 503, 509, 521, 523, 541, 547, 557, 563, 569, 571, 577, 587, 593, 599, 601, 607, 613, 617, 619, 631, 641, 643, 647, 653, 659, 661, 673, 677, 683, 691, 701, 709, 719, 727, 733, 739, 743, 751, 757, 761, 769, 773, 787, 797, 809, 811, 821, 823, 827, 829, 839, 853, 857, 859, 863, 877, 881, 883, 887, 907, 911, 919, 929, 937, 941, 947, 953, 967, 971, 977, 983, 991, 997]\n"
          ]
        },
        {
          "output_type": "execute_result",
          "data": {
            "text/plain": [
              "168"
            ]
          },
          "metadata": {},
          "execution_count": 90
        }
      ]
    },
    {
      "cell_type": "markdown",
      "metadata": {
        "id": "xmn6YpjXGuor"
      },
      "source": [
        "# 課題３８"
      ]
    },
    {
      "cell_type": "code",
      "metadata": {
        "id": "LAfyCV7qGlEt"
      },
      "source": [
        "def gcd(a, b):\n",
        "    if b == 0:\n",
        "        return a\n",
        "    return gcd(b, a % b)"
      ],
      "execution_count": null,
      "outputs": []
    },
    {
      "cell_type": "code",
      "metadata": {
        "id": "HJl-8jAbHkHp"
      },
      "source": [
        "def task38(P, Q):\n",
        "    return gcd(abs(P[0] - Q[0]), abs(P[1] - Q[1])) - 1"
      ],
      "execution_count": null,
      "outputs": []
    },
    {
      "cell_type": "code",
      "metadata": {
        "colab": {
          "base_uri": "https://localhost:8080/"
        },
        "id": "BiETLNlMINS1",
        "outputId": "221982c7-8a23-49b9-d05a-8b79c2df1bec"
      },
      "source": [
        "x1 =  -2\n",
        "y1 =  -9\n",
        "x2 =  6\n",
        "y2 =  7\n",
        "P = [x1, y1]\n",
        "Q = [x2, y2]\n",
        "task38(P, Q)"
      ],
      "execution_count": null,
      "outputs": [
        {
          "output_type": "execute_result",
          "data": {
            "text/plain": [
              "7"
            ]
          },
          "metadata": {},
          "execution_count": 98
        }
      ]
    },
    {
      "cell_type": "code",
      "metadata": {
        "colab": {
          "base_uri": "https://localhost:8080/"
        },
        "id": "v10RLUOjIQQN",
        "outputId": "22d65257-d562-46a8-b357-582c0131b624"
      },
      "source": [
        "x1 =  -42\n",
        "y1 =  -65\n",
        "x2 =  62\n",
        "y2 =  -91\n",
        "P = [x1, y1]\n",
        "Q = [x2, y2]\n",
        "task38(P, Q)"
      ],
      "execution_count": null,
      "outputs": [
        {
          "output_type": "execute_result",
          "data": {
            "text/plain": [
              "25"
            ]
          },
          "metadata": {},
          "execution_count": 99
        }
      ]
    },
    {
      "cell_type": "code",
      "metadata": {
        "colab": {
          "base_uri": "https://localhost:8080/"
        },
        "id": "Wfwyxi6PIcN6",
        "outputId": "4ab2debd-aa4a-4c51-b863-edf2ccae125b"
      },
      "source": [
        "x1 =  908\n",
        "y1 =  -307\n",
        "x2 =  -86\n",
        "y2 =  -679\n",
        "P = [x1, y1]\n",
        "Q = [x2, y2]\n",
        "task38(P, Q)"
      ],
      "execution_count": null,
      "outputs": [
        {
          "output_type": "execute_result",
          "data": {
            "text/plain": [
              "1"
            ]
          },
          "metadata": {},
          "execution_count": 100
        }
      ]
    },
    {
      "cell_type": "markdown",
      "metadata": {
        "id": "TwC7zOCCI80f"
      },
      "source": [
        "# 課題３９"
      ]
    },
    {
      "cell_type": "code",
      "metadata": {
        "colab": {
          "base_uri": "https://localhost:8080/"
        },
        "id": "rGZw-7BoIfwT",
        "outputId": "9747221f-9333-44b9-dd0e-076e080be957"
      },
      "source": [
        "!wget https://raw.githubusercontent.com/maskot1977/ipython_notebook/master/toydata/islands.txt"
      ],
      "execution_count": null,
      "outputs": [
        {
          "output_type": "stream",
          "name": "stdout",
          "text": [
            "--2021-11-04 08:50:13--  https://raw.githubusercontent.com/maskot1977/ipython_notebook/master/toydata/islands.txt\n",
            "Resolving raw.githubusercontent.com (raw.githubusercontent.com)... 185.199.108.133, 185.199.109.133, 185.199.110.133, ...\n",
            "Connecting to raw.githubusercontent.com (raw.githubusercontent.com)|185.199.108.133|:443... connected.\n",
            "HTTP request sent, awaiting response... 200 OK\n",
            "Length: 671 [text/plain]\n",
            "Saving to: ‘islands.txt’\n",
            "\n",
            "\rislands.txt           0%[                    ]       0  --.-KB/s               \rislands.txt         100%[===================>]     671  --.-KB/s    in 0s      \n",
            "\n",
            "2021-11-04 08:50:13 (25.1 MB/s) - ‘islands.txt’ saved [671/671]\n",
            "\n"
          ]
        }
      ]
    },
    {
      "cell_type": "code",
      "metadata": {
        "id": "wxNdGDmHJDIi"
      },
      "source": [
        "data = []\n",
        "for line in open('islands.txt'):\n",
        "    c = line.split(\"\\t\")\n",
        "    data.append([c[0], int(c[1])])"
      ],
      "execution_count": null,
      "outputs": []
    },
    {
      "cell_type": "code",
      "metadata": {
        "colab": {
          "base_uri": "https://localhost:8080/"
        },
        "id": "uJ-31pt6KYsG",
        "outputId": "3425c3b7-75f0-4344-faa7-2e20c6f1098a"
      },
      "source": [
        "data"
      ],
      "execution_count": null,
      "outputs": [
        {
          "output_type": "execute_result",
          "data": {
            "text/plain": [
              "[['Africa', 11506],\n",
              " ['Antarctica', 5500],\n",
              " ['Asia', 16988],\n",
              " ['Australia', 2968],\n",
              " ['Axel Heiberg', 16],\n",
              " ['Baffin', 184],\n",
              " ['Banks', 23],\n",
              " ['Borneo', 280],\n",
              " ['Britain', 84],\n",
              " ['Celebes', 73],\n",
              " ['Celon', 25],\n",
              " ['Cuba', 43],\n",
              " ['Devon', 21],\n",
              " ['Ellesmere', 82],\n",
              " ['Europe', 3745],\n",
              " ['Greenland', 840],\n",
              " ['Hainan', 13],\n",
              " ['Hispaniola', 30],\n",
              " ['Hokkaido', 30],\n",
              " ['Honshu', 89],\n",
              " ['Iceland', 40],\n",
              " ['Ireland', 33],\n",
              " ['Java', 49],\n",
              " ['Kyushu', 14],\n",
              " ['Luzon', 42],\n",
              " ['Madagascar', 227],\n",
              " ['Melville', 16],\n",
              " ['Mindanao', 36],\n",
              " ['Moluccas', 29],\n",
              " ['New Britain', 15],\n",
              " ['New Guinea', 306],\n",
              " ['New Zealand (N)', 44],\n",
              " ['New Zealand (S)', 58],\n",
              " ['Newfoundland', 43],\n",
              " ['North America', 9390],\n",
              " ['Novaya Zemlya', 32],\n",
              " ['Prince of Wales', 13],\n",
              " ['Sakhalin', 29],\n",
              " ['South America', 6795],\n",
              " ['Southampton', 16],\n",
              " ['Spitsbergen', 15],\n",
              " ['Sumatra', 183],\n",
              " ['Taiwan', 14],\n",
              " ['Tasmania', 26],\n",
              " ['Tierra del Fuego', 19],\n",
              " ['Timor', 13],\n",
              " ['Vancouver', 12],\n",
              " ['Victoria', 82]]"
            ]
          },
          "metadata": {},
          "execution_count": 118
        }
      ]
    },
    {
      "cell_type": "code",
      "metadata": {
        "id": "17gdcmrAJZLK"
      },
      "source": [
        "def bubble_sort(data):\n",
        "    for i in range(len(data)):\n",
        "        for j in range(len(data) - 1, i, -1):\n",
        "            if data[j - 1][1] < data[j][1]:\n",
        "                data[j - 1][0], data[j][0] = data[j][0], data[j - 1][0]\n",
        "                data[j - 1][1], data[j][1] = data[j][1], data[j - 1][1]\n",
        "    return data"
      ],
      "execution_count": null,
      "outputs": []
    },
    {
      "cell_type": "code",
      "metadata": {
        "colab": {
          "base_uri": "https://localhost:8080/"
        },
        "id": "xn2Jbdk7JxEa",
        "outputId": "912c2306-8100-4716-fc89-76dd6bcb189a"
      },
      "source": [
        "bubble_sort(data)"
      ],
      "execution_count": null,
      "outputs": [
        {
          "output_type": "execute_result",
          "data": {
            "text/plain": [
              "[['Asia', 16988],\n",
              " ['Africa', 11506],\n",
              " ['North America', 9390],\n",
              " ['South America', 6795],\n",
              " ['Antarctica', 5500],\n",
              " ['Europe', 3745],\n",
              " ['Australia', 2968],\n",
              " ['Greenland', 840],\n",
              " ['New Guinea', 306],\n",
              " ['Borneo', 280],\n",
              " ['Madagascar', 227],\n",
              " ['Baffin', 184],\n",
              " ['Sumatra', 183],\n",
              " ['Honshu', 89],\n",
              " ['Britain', 84],\n",
              " ['Ellesmere', 82],\n",
              " ['Victoria', 82],\n",
              " ['Celebes', 73],\n",
              " ['New Zealand (S)', 58],\n",
              " ['Java', 49],\n",
              " ['New Zealand (N)', 44],\n",
              " ['Cuba', 43],\n",
              " ['Newfoundland', 43],\n",
              " ['Luzon', 42],\n",
              " ['Iceland', 40],\n",
              " ['Mindanao', 36],\n",
              " ['Ireland', 33],\n",
              " ['Novaya Zemlya', 32],\n",
              " ['Hispaniola', 30],\n",
              " ['Hokkaido', 30],\n",
              " ['Moluccas', 29],\n",
              " ['Sakhalin', 29],\n",
              " ['Tasmania', 26],\n",
              " ['Celon', 25],\n",
              " ['Banks', 23],\n",
              " ['Devon', 21],\n",
              " ['Tierra del Fuego', 19],\n",
              " ['Axel Heiberg', 16],\n",
              " ['Melville', 16],\n",
              " ['Southampton', 16],\n",
              " ['New Britain', 15],\n",
              " ['Spitsbergen', 15],\n",
              " ['Kyushu', 14],\n",
              " ['Taiwan', 14],\n",
              " ['Hainan', 13],\n",
              " ['Prince of Wales', 13],\n",
              " ['Timor', 13],\n",
              " ['Vancouver', 12]]"
            ]
          },
          "metadata": {},
          "execution_count": 121
        }
      ]
    },
    {
      "cell_type": "code",
      "metadata": {
        "id": "VMHJZ728Lk5f"
      },
      "source": [
        "data = []\n",
        "for line in open('islands.txt'):\n",
        "    c = line.split(\"\\t\")\n",
        "    data.append([c[0], int(c[1])])"
      ],
      "execution_count": null,
      "outputs": []
    },
    {
      "cell_type": "code",
      "metadata": {
        "id": "ZvrY8S8fL76Q"
      },
      "source": [
        "def selection_sort(data):\n",
        "    n = len(data)\n",
        "    for i in range(0, n - 1):\n",
        "        max = i\n",
        "        for j in range(i + 1, n):\n",
        "            if data[max][1] < data[j][1]:\n",
        "                max = j\n",
        "\n",
        "        data[max], data[i] = data[i], data[max]\n",
        "    \n",
        "    return data"
      ],
      "execution_count": null,
      "outputs": []
    },
    {
      "cell_type": "code",
      "metadata": {
        "colab": {
          "base_uri": "https://localhost:8080/"
        },
        "id": "hZ4icb_XM33S",
        "outputId": "32da91a6-acd6-407e-b266-99500eb92ac4"
      },
      "source": [
        "selection_sort(data)"
      ],
      "execution_count": null,
      "outputs": [
        {
          "output_type": "execute_result",
          "data": {
            "text/plain": [
              "[['Asia', 16988],\n",
              " ['Africa', 11506],\n",
              " ['North America', 9390],\n",
              " ['South America', 6795],\n",
              " ['Antarctica', 5500],\n",
              " ['Europe', 3745],\n",
              " ['Australia', 2968],\n",
              " ['Greenland', 840],\n",
              " ['New Guinea', 306],\n",
              " ['Borneo', 280],\n",
              " ['Madagascar', 227],\n",
              " ['Baffin', 184],\n",
              " ['Sumatra', 183],\n",
              " ['Honshu', 89],\n",
              " ['Britain', 84],\n",
              " ['Ellesmere', 82],\n",
              " ['Victoria', 82],\n",
              " ['Celebes', 73],\n",
              " ['New Zealand (S)', 58],\n",
              " ['Java', 49],\n",
              " ['New Zealand (N)', 44],\n",
              " ['Cuba', 43],\n",
              " ['Newfoundland', 43],\n",
              " ['Luzon', 42],\n",
              " ['Iceland', 40],\n",
              " ['Mindanao', 36],\n",
              " ['Ireland', 33],\n",
              " ['Novaya Zemlya', 32],\n",
              " ['Hokkaido', 30],\n",
              " ['Hispaniola', 30],\n",
              " ['Moluccas', 29],\n",
              " ['Sakhalin', 29],\n",
              " ['Tasmania', 26],\n",
              " ['Celon', 25],\n",
              " ['Banks', 23],\n",
              " ['Devon', 21],\n",
              " ['Tierra del Fuego', 19],\n",
              " ['Axel Heiberg', 16],\n",
              " ['Southampton', 16],\n",
              " ['Melville', 16],\n",
              " ['Spitsbergen', 15],\n",
              " ['New Britain', 15],\n",
              " ['Taiwan', 14],\n",
              " ['Kyushu', 14],\n",
              " ['Prince of Wales', 13],\n",
              " ['Timor', 13],\n",
              " ['Hainan', 13],\n",
              " ['Vancouver', 12]]"
            ]
          },
          "metadata": {},
          "execution_count": 127
        }
      ]
    },
    {
      "cell_type": "code",
      "metadata": {
        "colab": {
          "base_uri": "https://localhost:8080/"
        },
        "id": "9noCozDlNBCW",
        "outputId": "8c135a96-c96a-4749-9725-42d83c964e54"
      },
      "source": [
        "data = []\n",
        "for line in open('islands.txt'):\n",
        "    c = line.split(\"\\t\")\n",
        "    data.append([c[0], int(c[1])])\n",
        "data"
      ],
      "execution_count": null,
      "outputs": [
        {
          "output_type": "execute_result",
          "data": {
            "text/plain": [
              "[['Africa', 11506],\n",
              " ['Antarctica', 5500],\n",
              " ['Asia', 16988],\n",
              " ['Australia', 2968],\n",
              " ['Axel Heiberg', 16],\n",
              " ['Baffin', 184],\n",
              " ['Banks', 23],\n",
              " ['Borneo', 280],\n",
              " ['Britain', 84],\n",
              " ['Celebes', 73],\n",
              " ['Celon', 25],\n",
              " ['Cuba', 43],\n",
              " ['Devon', 21],\n",
              " ['Ellesmere', 82],\n",
              " ['Europe', 3745],\n",
              " ['Greenland', 840],\n",
              " ['Hainan', 13],\n",
              " ['Hispaniola', 30],\n",
              " ['Hokkaido', 30],\n",
              " ['Honshu', 89],\n",
              " ['Iceland', 40],\n",
              " ['Ireland', 33],\n",
              " ['Java', 49],\n",
              " ['Kyushu', 14],\n",
              " ['Luzon', 42],\n",
              " ['Madagascar', 227],\n",
              " ['Melville', 16],\n",
              " ['Mindanao', 36],\n",
              " ['Moluccas', 29],\n",
              " ['New Britain', 15],\n",
              " ['New Guinea', 306],\n",
              " ['New Zealand (N)', 44],\n",
              " ['New Zealand (S)', 58],\n",
              " ['Newfoundland', 43],\n",
              " ['North America', 9390],\n",
              " ['Novaya Zemlya', 32],\n",
              " ['Prince of Wales', 13],\n",
              " ['Sakhalin', 29],\n",
              " ['South America', 6795],\n",
              " ['Southampton', 16],\n",
              " ['Spitsbergen', 15],\n",
              " ['Sumatra', 183],\n",
              " ['Taiwan', 14],\n",
              " ['Tasmania', 26],\n",
              " ['Tierra del Fuego', 19],\n",
              " ['Timor', 13],\n",
              " ['Vancouver', 12],\n",
              " ['Victoria', 82]]"
            ]
          },
          "metadata": {},
          "execution_count": 132
        }
      ]
    },
    {
      "cell_type": "code",
      "metadata": {
        "id": "Xe-Pr2WANJUJ"
      },
      "source": [
        "def insertion_sort(data):\n",
        "    n = len(data)\n",
        "    for i in range(n - 1):\n",
        "        j = i + 1\n",
        "        while i >= 0:\n",
        "            if data[j][1] > data[i][1]:\n",
        "                data[j][0], data[i][0] = data[i][0], data[j][0]\n",
        "                data[j][1], data[i][1] = data[i][1], data[j][1]\n",
        "                i -= 1\n",
        "                j -= 1\n",
        "            else:\n",
        "                break\n",
        "    return data"
      ],
      "execution_count": null,
      "outputs": []
    },
    {
      "cell_type": "code",
      "metadata": {
        "colab": {
          "base_uri": "https://localhost:8080/"
        },
        "id": "3owWdLX-NKbT",
        "outputId": "68295f05-2bde-46ae-acee-62fecf10c0dc"
      },
      "source": [
        "insertion_sort(data)"
      ],
      "execution_count": null,
      "outputs": [
        {
          "output_type": "execute_result",
          "data": {
            "text/plain": [
              "[['Asia', 16988],\n",
              " ['Africa', 11506],\n",
              " ['North America', 9390],\n",
              " ['South America', 6795],\n",
              " ['Antarctica', 5500],\n",
              " ['Europe', 3745],\n",
              " ['Australia', 2968],\n",
              " ['Greenland', 840],\n",
              " ['New Guinea', 306],\n",
              " ['Borneo', 280],\n",
              " ['Madagascar', 227],\n",
              " ['Baffin', 184],\n",
              " ['Sumatra', 183],\n",
              " ['Honshu', 89],\n",
              " ['Britain', 84],\n",
              " ['Ellesmere', 82],\n",
              " ['Victoria', 82],\n",
              " ['Celebes', 73],\n",
              " ['New Zealand (S)', 58],\n",
              " ['Java', 49],\n",
              " ['New Zealand (N)', 44],\n",
              " ['Cuba', 43],\n",
              " ['Newfoundland', 43],\n",
              " ['Luzon', 42],\n",
              " ['Iceland', 40],\n",
              " ['Mindanao', 36],\n",
              " ['Ireland', 33],\n",
              " ['Novaya Zemlya', 32],\n",
              " ['Hispaniola', 30],\n",
              " ['Hokkaido', 30],\n",
              " ['Moluccas', 29],\n",
              " ['Sakhalin', 29],\n",
              " ['Tasmania', 26],\n",
              " ['Celon', 25],\n",
              " ['Banks', 23],\n",
              " ['Devon', 21],\n",
              " ['Tierra del Fuego', 19],\n",
              " ['Axel Heiberg', 16],\n",
              " ['Melville', 16],\n",
              " ['Southampton', 16],\n",
              " ['New Britain', 15],\n",
              " ['Spitsbergen', 15],\n",
              " ['Kyushu', 14],\n",
              " ['Taiwan', 14],\n",
              " ['Hainan', 13],\n",
              " ['Prince of Wales', 13],\n",
              " ['Timor', 13],\n",
              " ['Vancouver', 12]]"
            ]
          },
          "metadata": {},
          "execution_count": 134
        }
      ]
    },
    {
      "cell_type": "code",
      "metadata": {
        "colab": {
          "base_uri": "https://localhost:8080/"
        },
        "id": "i_8tI1JMPCi2",
        "outputId": "a350412b-a08f-4cba-c8a8-eda8b069923c"
      },
      "source": [
        "data = []\n",
        "for line in open('islands.txt'):\n",
        "    c = line.split(\"\\t\")\n",
        "    data.append([c[0], int(c[1])])\n",
        "data"
      ],
      "execution_count": null,
      "outputs": [
        {
          "output_type": "execute_result",
          "data": {
            "text/plain": [
              "[['Africa', 11506],\n",
              " ['Antarctica', 5500],\n",
              " ['Asia', 16988],\n",
              " ['Australia', 2968],\n",
              " ['Axel Heiberg', 16],\n",
              " ['Baffin', 184],\n",
              " ['Banks', 23],\n",
              " ['Borneo', 280],\n",
              " ['Britain', 84],\n",
              " ['Celebes', 73],\n",
              " ['Celon', 25],\n",
              " ['Cuba', 43],\n",
              " ['Devon', 21],\n",
              " ['Ellesmere', 82],\n",
              " ['Europe', 3745],\n",
              " ['Greenland', 840],\n",
              " ['Hainan', 13],\n",
              " ['Hispaniola', 30],\n",
              " ['Hokkaido', 30],\n",
              " ['Honshu', 89],\n",
              " ['Iceland', 40],\n",
              " ['Ireland', 33],\n",
              " ['Java', 49],\n",
              " ['Kyushu', 14],\n",
              " ['Luzon', 42],\n",
              " ['Madagascar', 227],\n",
              " ['Melville', 16],\n",
              " ['Mindanao', 36],\n",
              " ['Moluccas', 29],\n",
              " ['New Britain', 15],\n",
              " ['New Guinea', 306],\n",
              " ['New Zealand (N)', 44],\n",
              " ['New Zealand (S)', 58],\n",
              " ['Newfoundland', 43],\n",
              " ['North America', 9390],\n",
              " ['Novaya Zemlya', 32],\n",
              " ['Prince of Wales', 13],\n",
              " ['Sakhalin', 29],\n",
              " ['South America', 6795],\n",
              " ['Southampton', 16],\n",
              " ['Spitsbergen', 15],\n",
              " ['Sumatra', 183],\n",
              " ['Taiwan', 14],\n",
              " ['Tasmania', 26],\n",
              " ['Tierra del Fuego', 19],\n",
              " ['Timor', 13],\n",
              " ['Vancouver', 12],\n",
              " ['Victoria', 82]]"
            ]
          },
          "metadata": {},
          "execution_count": 137
        }
      ]
    },
    {
      "cell_type": "code",
      "metadata": {
        "id": "10a3m-EDPSE8"
      },
      "source": [
        "def quick_sort(data):\n",
        "    bigger_data = []\n",
        "    smaller_data = []\n",
        "    pivot_data = []\n",
        "    if len(data) <= 1:\n",
        "        return data\n",
        "\n",
        "    pivot = data[0][1]\n",
        "\n",
        "    for i in range(len(data)):\n",
        "        if data[i][1] > pivot:\n",
        "            bigger_data.append(data[i])\n",
        "        elif data[i][1] < pivot:\n",
        "            smaller_data.append(data[i])\n",
        "        else:\n",
        "            pivot_data.append(data[i])\n",
        "    \n",
        "    bigger_data = quick_sort(bigger_data)\n",
        "    smaller_data = quick_sort(smaller_data)\n",
        "\n",
        "    return bigger_data + pivot_data + smaller_data"
      ],
      "execution_count": null,
      "outputs": []
    },
    {
      "cell_type": "code",
      "metadata": {
        "colab": {
          "base_uri": "https://localhost:8080/"
        },
        "id": "c8HB15GPQcE3",
        "outputId": "01381399-736d-441b-dea8-983cc57663dc"
      },
      "source": [
        "quick_sort(data)"
      ],
      "execution_count": null,
      "outputs": [
        {
          "output_type": "execute_result",
          "data": {
            "text/plain": [
              "[['Asia', 16988],\n",
              " ['Africa', 11506],\n",
              " ['North America', 9390],\n",
              " ['South America', 6795],\n",
              " ['Antarctica', 5500],\n",
              " ['Europe', 3745],\n",
              " ['Australia', 2968],\n",
              " ['Greenland', 840],\n",
              " ['New Guinea', 306],\n",
              " ['Borneo', 280],\n",
              " ['Madagascar', 227],\n",
              " ['Baffin', 184],\n",
              " ['Sumatra', 183],\n",
              " ['Honshu', 89],\n",
              " ['Britain', 84],\n",
              " ['Ellesmere', 82],\n",
              " ['Victoria', 82],\n",
              " ['Celebes', 73],\n",
              " ['New Zealand (S)', 58],\n",
              " ['Java', 49],\n",
              " ['New Zealand (N)', 44],\n",
              " ['Cuba', 43],\n",
              " ['Newfoundland', 43],\n",
              " ['Luzon', 42],\n",
              " ['Iceland', 40],\n",
              " ['Mindanao', 36],\n",
              " ['Ireland', 33],\n",
              " ['Novaya Zemlya', 32],\n",
              " ['Hispaniola', 30],\n",
              " ['Hokkaido', 30],\n",
              " ['Moluccas', 29],\n",
              " ['Sakhalin', 29],\n",
              " ['Tasmania', 26],\n",
              " ['Celon', 25],\n",
              " ['Banks', 23],\n",
              " ['Devon', 21],\n",
              " ['Tierra del Fuego', 19],\n",
              " ['Axel Heiberg', 16],\n",
              " ['Melville', 16],\n",
              " ['Southampton', 16],\n",
              " ['New Britain', 15],\n",
              " ['Spitsbergen', 15],\n",
              " ['Kyushu', 14],\n",
              " ['Taiwan', 14],\n",
              " ['Hainan', 13],\n",
              " ['Prince of Wales', 13],\n",
              " ['Timor', 13],\n",
              " ['Vancouver', 12]]"
            ]
          },
          "metadata": {},
          "execution_count": 138
        }
      ]
    },
    {
      "cell_type": "code",
      "metadata": {
        "colab": {
          "base_uri": "https://localhost:8080/"
        },
        "id": "tZV8jhgzQhj4",
        "outputId": "8f6436c9-d23c-4184-f008-a96d9b607857"
      },
      "source": [
        "%%timeit\n",
        "data = []\n",
        "for line in open('islands.txt'):\n",
        "    c = line.split(\"\\t\")\n",
        "    data.append([c[0], int(c[1])])\n",
        "bubble_sort(data)"
      ],
      "execution_count": null,
      "outputs": [
        {
          "output_type": "stream",
          "name": "stdout",
          "text": [
            "1000 loops, best of 5: 515 µs per loop\n"
          ]
        }
      ]
    },
    {
      "cell_type": "code",
      "metadata": {
        "colab": {
          "base_uri": "https://localhost:8080/"
        },
        "id": "yS9v1PwlQ1o4",
        "outputId": "10ce9c62-794c-42fe-fae7-23a0d729fe84"
      },
      "source": [
        "%%timeit\n",
        "data = []\n",
        "for line in open('islands.txt'):\n",
        "    c = line.split(\"\\t\")\n",
        "    data.append([c[0], int(c[1])])\n",
        "selection_sort(data)"
      ],
      "execution_count": null,
      "outputs": [
        {
          "output_type": "stream",
          "name": "stdout",
          "text": [
            "The slowest run took 4.03 times longer than the fastest. This could mean that an intermediate result is being cached.\n",
            "1000 loops, best of 5: 252 µs per loop\n"
          ]
        }
      ]
    },
    {
      "cell_type": "code",
      "metadata": {
        "colab": {
          "base_uri": "https://localhost:8080/"
        },
        "id": "S7UB-6NmQ5u0",
        "outputId": "1762dc42-fe28-40cd-9b69-091f1c2fa73d"
      },
      "source": [
        "%%timeit\n",
        "data = []\n",
        "for line in open('islands.txt'):\n",
        "    c = line.split(\"\\t\")\n",
        "    data.append([c[0], int(c[1])])\n",
        "insertion_sort(data)"
      ],
      "execution_count": null,
      "outputs": [
        {
          "output_type": "stream",
          "name": "stdout",
          "text": [
            "The slowest run took 4.76 times longer than the fastest. This could mean that an intermediate result is being cached.\n",
            "1000 loops, best of 5: 357 µs per loop\n"
          ]
        }
      ]
    },
    {
      "cell_type": "code",
      "metadata": {
        "colab": {
          "base_uri": "https://localhost:8080/"
        },
        "id": "ClEXRlhLQ-2B",
        "outputId": "dc96fa3a-ed13-47a9-88ff-26f2daf966a5"
      },
      "source": [
        "%%timeit\n",
        "data = []\n",
        "for line in open('islands.txt'):\n",
        "    c = line.split(\"\\t\")\n",
        "    data.append([c[0], int(c[1])])\n",
        "quick_sort(data)"
      ],
      "execution_count": null,
      "outputs": [
        {
          "output_type": "stream",
          "name": "stdout",
          "text": [
            "The slowest run took 7.40 times longer than the fastest. This could mean that an intermediate result is being cached.\n",
            "10000 loops, best of 5: 181 µs per loop\n"
          ]
        }
      ]
    },
    {
      "cell_type": "markdown",
      "metadata": {
        "id": "AVy87VN7RT2e"
      },
      "source": [
        "# 課題４０"
      ]
    },
    {
      "cell_type": "code",
      "metadata": {
        "id": "wzbgQghuREQ3"
      },
      "source": [
        "def task40(infected, acc=0.95):\n",
        "    tp = infected * acc / (infected * acc + (1 - infected) * (1 - acc))\n",
        "    fn = infected * (1 - acc) / (infected * (1 - acc) + (1 - infected) * acc)\n",
        "    return tp, fn"
      ],
      "execution_count": null,
      "outputs": []
    },
    {
      "cell_type": "code",
      "metadata": {
        "colab": {
          "base_uri": "https://localhost:8080/"
        },
        "id": "4K8xudcESfV4",
        "outputId": "caef4f28-b9b1-4f93-e915-16b67aff31d9"
      },
      "source": [
        "task40(0.5, acc=0.99)"
      ],
      "execution_count": null,
      "outputs": [
        {
          "output_type": "execute_result",
          "data": {
            "text/plain": [
              "(0.99, 0.010000000000000009)"
            ]
          },
          "metadata": {},
          "execution_count": 149
        }
      ]
    },
    {
      "cell_type": "code",
      "metadata": {
        "colab": {
          "base_uri": "https://localhost:8080/"
        },
        "id": "fQy6gGaaSjvw",
        "outputId": "bad1f137-916c-41cc-c6bf-b3abc6dde828"
      },
      "source": [
        "task40(0.1,  acc=0.99)"
      ],
      "execution_count": null,
      "outputs": [
        {
          "output_type": "execute_result",
          "data": {
            "text/plain": [
              "(0.9166666666666666, 0.0011210762331838576)"
            ]
          },
          "metadata": {},
          "execution_count": 150
        }
      ]
    },
    {
      "cell_type": "code",
      "metadata": {
        "colab": {
          "base_uri": "https://localhost:8080/"
        },
        "id": "yTYa3GFOSw8C",
        "outputId": "405d045b-3ea7-4815-8286-83d892e2634e"
      },
      "source": [
        "task40(0.01, acc=0.99)"
      ],
      "execution_count": null,
      "outputs": [
        {
          "output_type": "execute_result",
          "data": {
            "text/plain": [
              "(0.4999999999999997, 0.00010201999591920026)"
            ]
          },
          "metadata": {},
          "execution_count": 151
        }
      ]
    },
    {
      "cell_type": "code",
      "metadata": {
        "id": "uejH0VV_S3Yy"
      },
      "source": [
        ""
      ],
      "execution_count": null,
      "outputs": []
    }
  ]
}