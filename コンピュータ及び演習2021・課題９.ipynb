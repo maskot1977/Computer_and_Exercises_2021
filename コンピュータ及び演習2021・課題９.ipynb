{
  "nbformat": 4,
  "nbformat_minor": 0,
  "metadata": {
    "colab": {
      "name": "コンピュータ及び演習2021・課題９",
      "provenance": [],
      "collapsed_sections": [],
      "authorship_tag": "ABX9TyMmSGoui7baYTb54TTQhNe/"
    },
    "kernelspec": {
      "name": "python3",
      "display_name": "Python 3"
    },
    "language_info": {
      "name": "python"
    }
  },
  "cells": [
    {
      "cell_type": "markdown",
      "metadata": {
        "id": "IjIuj-73_9lc"
      },
      "source": [
        "# 課題９"
      ]
    },
    {
      "cell_type": "code",
      "metadata": {
        "id": "zJW4nqJWAAQi"
      },
      "source": [
        "a = input('aを入力してください: ')\n",
        "b = input('bを入力してください: ')\n",
        "print(-float(b)/float(a))"
      ],
      "execution_count": null,
      "outputs": []
    }
  ]
}