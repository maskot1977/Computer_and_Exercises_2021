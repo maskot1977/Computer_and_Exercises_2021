{
  "nbformat": 4,
  "nbformat_minor": 0,
  "metadata": {
    "colab": {
      "name": "課題３０〜３２",
      "provenance": [],
      "collapsed_sections": [],
      "authorship_tag": "ABX9TyM90s4dyz3SqcDj8fQWwgyq",
      "include_colab_link": true
    },
    "kernelspec": {
      "name": "python3",
      "display_name": "Python 3"
    },
    "language_info": {
      "name": "python"
    }
  },
  "cells": [
    {
      "cell_type": "markdown",
      "metadata": {
        "id": "view-in-github",
        "colab_type": "text"
      },
      "source": [
        "<a href=\"https://colab.research.google.com/github/maskot1977/Computer_and_Exercises_2021/blob/iS7D9j4R/%E8%AA%B2%E9%A1%8C%EF%BC%93%EF%BC%90%E3%80%9C%EF%BC%93%EF%BC%92.ipynb\" target=\"_parent\"><img src=\"https://colab.research.google.com/assets/colab-badge.svg\" alt=\"Open In Colab\"/></a>"
      ]
    },
    {
      "cell_type": "code",
      "metadata": {
        "colab": {
          "base_uri": "https://localhost:8080/"
        },
        "id": "yX_ZnqWlyfqU",
        "outputId": "24ba50ce-d0c1-49f6-e5aa-2bf111a74b23"
      },
      "source": [
        "!wget https://raw.githubusercontent.com/maskot1977/toydata/main/data/honey.tsv"
      ],
      "execution_count": null,
      "outputs": [
        {
          "output_type": "stream",
          "name": "stdout",
          "text": [
            "--2021-10-28 08:43:25--  https://raw.githubusercontent.com/maskot1977/toydata/main/data/honey.tsv\n",
            "Resolving raw.githubusercontent.com (raw.githubusercontent.com)... 185.199.108.133, 185.199.109.133, 185.199.110.133, ...\n",
            "Connecting to raw.githubusercontent.com (raw.githubusercontent.com)|185.199.108.133|:443... connected.\n",
            "HTTP request sent, awaiting response... 200 OK\n",
            "Length: 715 [text/plain]\n",
            "Saving to: ‘honey.tsv’\n",
            "\n",
            "\rhoney.tsv             0%[                    ]       0  --.-KB/s               \rhoney.tsv           100%[===================>]     715  --.-KB/s    in 0s      \n",
            "\n",
            "2021-10-28 08:43:25 (38.2 MB/s) - ‘honey.tsv’ saved [715/715]\n",
            "\n"
          ]
        }
      ]
    },
    {
      "cell_type": "code",
      "metadata": {
        "colab": {
          "base_uri": "https://localhost:8080/"
        },
        "id": "2QjkUCJh85Iy",
        "outputId": "266c36dd-e63e-4eff-e9d9-83e65ce6575e"
      },
      "source": [
        "!cat honey.tsv"
      ],
      "execution_count": null,
      "outputs": [
        {
          "output_type": "stream",
          "name": "stdout",
          "text": [
            "Year\tHoney producing bee colonies (US)\tMarriage rate in Vermont\tComputer science doctorates awarded (US)\tDivorce rate in South Carolina\tDivorce rate in Massachusetts\tLegal executions\n",
            "\tThousands of colonies (USDA)\tMarriages per 1000 people (US Census)\tDegrees awarded (National Science Foundation)\tDivorces per 1000 people (US Census)\tDivorces per 1000 people (US Census)\tDeaths (US) (CDC)\n",
            "1999\t2652\t10.0\t856\t3.8\t2.5\t88\n",
            "2000\t2622\t10.0\t861\t3.8\t2.5\t80\n",
            "2001\t2550\t9.8\t830\t3.6\t2.4\t63\n",
            "2002\t2574\t9.8\t809\t3.4\t2.5\t67\n",
            "2003\t2599\t9.7\t867\t3.3\t2.5\t60\n",
            "2004\t2554\t9.4\t948\t3.2\t2.2\t52\n",
            "2005\t2409\t8.9\t1129\t2.9\t2.2\t54\n",
            "2006\t2394\t8.6\t1453\t2.9\t2.3\t48\n",
            "2007\t2443\t8.5\t1656\t3.0\t2.3\t40\n",
            "2008\t2342\t7.9\t1787\t2.8\t2.0\t35\n",
            "2009\t2498\t8.7\t1611\t3.0\t2.2\t49\n"
          ]
        }
      ]
    },
    {
      "cell_type": "code",
      "metadata": {
        "id": "8vZy9eMU9A3j"
      },
      "source": [
        "col1 = []\n",
        "col2 = []\n",
        "col3 = []\n",
        "col4 = []\n",
        "col5 = []\n",
        "col6 = []\n",
        "col7 = []"
      ],
      "execution_count": null,
      "outputs": []
    },
    {
      "cell_type": "code",
      "metadata": {
        "colab": {
          "base_uri": "https://localhost:8080/"
        },
        "id": "JaAkW86Q-3kZ",
        "outputId": "b9b09a74-3a86-4125-a77a-7d0d2ed5c4a1"
      },
      "source": [
        "data = [110, 120, 130]\n",
        "for i, x in enumerate(data):\n",
        "    print(i, x)"
      ],
      "execution_count": null,
      "outputs": [
        {
          "output_type": "stream",
          "name": "stdout",
          "text": [
            "0 110\n",
            "1 120\n",
            "2 130\n"
          ]
        }
      ]
    },
    {
      "cell_type": "code",
      "metadata": {
        "colab": {
          "base_uri": "https://localhost:8080/"
        },
        "id": "YYDTrUkd_QZr",
        "outputId": "77cafe3e-1fa5-4781-a850-839d53f4fbfc"
      },
      "source": [
        "for i in range(3):\n",
        "    print(i, data[i])"
      ],
      "execution_count": null,
      "outputs": [
        {
          "output_type": "stream",
          "name": "stdout",
          "text": [
            "0 110\n",
            "1 120\n",
            "2 130\n"
          ]
        }
      ]
    },
    {
      "cell_type": "code",
      "metadata": {
        "colab": {
          "base_uri": "https://localhost:8080/"
        },
        "id": "GxKkx6dg_lbR",
        "outputId": "b696f25f-4300-48dd-d3a9-5951f239dffe"
      },
      "source": [
        "def x3(a):\n",
        "    return a[1]\n",
        "\n",
        "data = [110, 120, 130]\n",
        "x3(data)"
      ],
      "execution_count": null,
      "outputs": [
        {
          "output_type": "execute_result",
          "data": {
            "text/plain": [
              "120"
            ]
          },
          "metadata": {},
          "execution_count": 6
        }
      ]
    },
    {
      "cell_type": "code",
      "metadata": {
        "colab": {
          "base_uri": "https://localhost:8080/"
        },
        "id": "aI_oCo7zACJW",
        "outputId": "daf11b70-5b69-497e-eafe-e7e97bc936e7"
      },
      "source": [
        "import random\n",
        "\n",
        "data = []\n",
        "for x in range(10):\n",
        "    data.append([x, random.random()])\n",
        "\n",
        "data"
      ],
      "execution_count": null,
      "outputs": [
        {
          "output_type": "execute_result",
          "data": {
            "text/plain": [
              "[[0, 0.746508615270313],\n",
              " [1, 0.6473117926446835],\n",
              " [2, 0.6121944069055036],\n",
              " [3, 0.027794135769172446],\n",
              " [4, 0.1814129403074367],\n",
              " [5, 0.8897015392043688],\n",
              " [6, 0.18437290779228455],\n",
              " [7, 0.748721897502266],\n",
              " [8, 0.9990051202257886],\n",
              " [9, 0.2727516925844672]]"
            ]
          },
          "metadata": {},
          "execution_count": 7
        }
      ]
    },
    {
      "cell_type": "code",
      "metadata": {
        "colab": {
          "base_uri": "https://localhost:8080/"
        },
        "id": "OmJFE53qEFiH",
        "outputId": "5258ed76-0f28-4633-d9e3-ffd878d4a5d2"
      },
      "source": [
        "data"
      ],
      "execution_count": null,
      "outputs": [
        {
          "output_type": "execute_result",
          "data": {
            "text/plain": [
              "[[0, 0.746508615270313],\n",
              " [1, 0.6473117926446835],\n",
              " [2, 0.6121944069055036],\n",
              " [3, 0.027794135769172446],\n",
              " [4, 0.1814129403074367],\n",
              " [5, 0.8897015392043688],\n",
              " [6, 0.18437290779228455],\n",
              " [7, 0.748721897502266],\n",
              " [8, 0.9990051202257886],\n",
              " [9, 0.2727516925844672]]"
            ]
          },
          "metadata": {},
          "execution_count": 8
        }
      ]
    },
    {
      "cell_type": "code",
      "metadata": {
        "colab": {
          "base_uri": "https://localhost:8080/"
        },
        "id": "tAptpSUZAWRY",
        "outputId": "e753cd65-8096-4955-abb7-960dc3a023fd"
      },
      "source": [
        "data.sort(reverse=True, key=lambda x: x[1])\n",
        "data"
      ],
      "execution_count": null,
      "outputs": [
        {
          "output_type": "execute_result",
          "data": {
            "text/plain": [
              "[[8, 0.9990051202257886],\n",
              " [5, 0.8897015392043688],\n",
              " [7, 0.748721897502266],\n",
              " [0, 0.746508615270313],\n",
              " [1, 0.6473117926446835],\n",
              " [2, 0.6121944069055036],\n",
              " [9, 0.2727516925844672],\n",
              " [6, 0.18437290779228455],\n",
              " [4, 0.1814129403074367],\n",
              " [3, 0.027794135769172446]]"
            ]
          },
          "metadata": {},
          "execution_count": 9
        }
      ]
    },
    {
      "cell_type": "code",
      "metadata": {
        "colab": {
          "base_uri": "https://localhost:8080/"
        },
        "id": "pgxQjLVw9nyp",
        "outputId": "9ef57c65-aa52-45d8-a7ce-ea3370e082cd"
      },
      "source": [
        "for line in open(\"honey.tsv\"):\n",
        "    print(line)"
      ],
      "execution_count": null,
      "outputs": [
        {
          "output_type": "stream",
          "name": "stdout",
          "text": [
            "Year\tHoney producing bee colonies (US)\tMarriage rate in Vermont\tComputer science doctorates awarded (US)\tDivorce rate in South Carolina\tDivorce rate in Massachusetts\tLegal executions\n",
            "\n",
            "\tThousands of colonies (USDA)\tMarriages per 1000 people (US Census)\tDegrees awarded (National Science Foundation)\tDivorces per 1000 people (US Census)\tDivorces per 1000 people (US Census)\tDeaths (US) (CDC)\n",
            "\n",
            "1999\t2652\t10.0\t856\t3.8\t2.5\t88\n",
            "\n",
            "2000\t2622\t10.0\t861\t3.8\t2.5\t80\n",
            "\n",
            "2001\t2550\t9.8\t830\t3.6\t2.4\t63\n",
            "\n",
            "2002\t2574\t9.8\t809\t3.4\t2.5\t67\n",
            "\n",
            "2003\t2599\t9.7\t867\t3.3\t2.5\t60\n",
            "\n",
            "2004\t2554\t9.4\t948\t3.2\t2.2\t52\n",
            "\n",
            "2005\t2409\t8.9\t1129\t2.9\t2.2\t54\n",
            "\n",
            "2006\t2394\t8.6\t1453\t2.9\t2.3\t48\n",
            "\n",
            "2007\t2443\t8.5\t1656\t3.0\t2.3\t40\n",
            "\n",
            "2008\t2342\t7.9\t1787\t2.8\t2.0\t35\n",
            "\n",
            "2009\t2498\t8.7\t1611\t3.0\t2.2\t49\n",
            "\n"
          ]
        }
      ]
    },
    {
      "cell_type": "code",
      "metadata": {
        "colab": {
          "base_uri": "https://localhost:8080/"
        },
        "id": "dFqwLbze-mA4",
        "outputId": "2bc64564-94e3-4d4e-925e-6f422ef4ddf0"
      },
      "source": [
        "col1 = []\n",
        "col2 = []\n",
        "col3 = []\n",
        "col4 = []\n",
        "col5 = []\n",
        "col6 = []\n",
        "col7 = []\n",
        "\n",
        "for line in open(\"honey.tsv\"):\n",
        "    c = line.split(\"\\t\")\n",
        "    print(c)"
      ],
      "execution_count": null,
      "outputs": [
        {
          "output_type": "stream",
          "name": "stdout",
          "text": [
            "['Year', 'Honey producing bee colonies (US)', 'Marriage rate in Vermont', 'Computer science doctorates awarded (US)', 'Divorce rate in South Carolina', 'Divorce rate in Massachusetts', 'Legal executions\\n']\n",
            "['', 'Thousands of colonies (USDA)', 'Marriages per 1000 people (US Census)', 'Degrees awarded (National Science Foundation)', 'Divorces per 1000 people (US Census)', 'Divorces per 1000 people (US Census)', 'Deaths (US) (CDC)\\n']\n",
            "['1999', '2652', '10.0', '856', '3.8', '2.5', '88\\n']\n",
            "['2000', '2622', '10.0', '861', '3.8', '2.5', '80\\n']\n",
            "['2001', '2550', '9.8', '830', '3.6', '2.4', '63\\n']\n",
            "['2002', '2574', '9.8', '809', '3.4', '2.5', '67\\n']\n",
            "['2003', '2599', '9.7', '867', '3.3', '2.5', '60\\n']\n",
            "['2004', '2554', '9.4', '948', '3.2', '2.2', '52\\n']\n",
            "['2005', '2409', '8.9', '1129', '2.9', '2.2', '54\\n']\n",
            "['2006', '2394', '8.6', '1453', '2.9', '2.3', '48\\n']\n",
            "['2007', '2443', '8.5', '1656', '3.0', '2.3', '40\\n']\n",
            "['2008', '2342', '7.9', '1787', '2.8', '2.0', '35\\n']\n",
            "['2009', '2498', '8.7', '1611', '3.0', '2.2', '49\\n']\n"
          ]
        }
      ]
    },
    {
      "cell_type": "code",
      "metadata": {
        "id": "bxHW97d-BaRP"
      },
      "source": [
        "for i, line in enumerate(open(\"honey.tsv\")):\n",
        "    c = line.split(\"\\t\")\n",
        "    if i < 2:\n",
        "        continue\n",
        "    col1.append(float(c[0]))\n",
        "    col2.append(float(c[1]))\n",
        "    col3.append(float(c[2]))\n",
        "    col4.append(float(c[3]))\n",
        "    col5.append(float(c[4]))\n",
        "    col6.append(float(c[5]))\n",
        "    col7.append(float(c[6]))"
      ],
      "execution_count": null,
      "outputs": []
    },
    {
      "cell_type": "code",
      "metadata": {
        "id": "Y5doTpdgRumZ",
        "outputId": "63fd84d4-58bb-4f40-ea3a-d0027859072a",
        "colab": {
          "base_uri": "https://localhost:8080/"
        }
      },
      "source": [
        "col2"
      ],
      "execution_count": null,
      "outputs": [
        {
          "output_type": "execute_result",
          "data": {
            "text/plain": [
              "[2652.0,\n",
              " 2622.0,\n",
              " 2550.0,\n",
              " 2574.0,\n",
              " 2599.0,\n",
              " 2554.0,\n",
              " 2409.0,\n",
              " 2394.0,\n",
              " 2443.0,\n",
              " 2342.0,\n",
              " 2498.0,\n",
              " 2652.0,\n",
              " 2622.0,\n",
              " 2550.0,\n",
              " 2574.0,\n",
              " 2599.0,\n",
              " 2554.0,\n",
              " 2409.0,\n",
              " 2394.0,\n",
              " 2443.0,\n",
              " 2342.0,\n",
              " 2498.0]"
            ]
          },
          "metadata": {},
          "execution_count": 79
        }
      ]
    },
    {
      "cell_type": "markdown",
      "metadata": {
        "id": "iLGVmEvaCx0z"
      },
      "source": [
        "# ２５"
      ]
    },
    {
      "cell_type": "code",
      "metadata": {
        "id": "DXGVShuHB8ty"
      },
      "source": [
        "def mean(list_):\n",
        "    sum = 0\n",
        "    for x in list_:\n",
        "        sum += x\n",
        "    return sum/len(list_)"
      ],
      "execution_count": null,
      "outputs": []
    },
    {
      "cell_type": "markdown",
      "metadata": {
        "id": "ufZKI96hC9Nj"
      },
      "source": [
        "# ２６"
      ]
    },
    {
      "cell_type": "code",
      "metadata": {
        "id": "W3edeUVbCXpG"
      },
      "source": [
        "def variance(list_):\n",
        "    average = mean(list_)\n",
        "    sum = 0\n",
        "    for x in list_:\n",
        "        sum += (x - average)**2 \n",
        "    return sum/len(list_)"
      ],
      "execution_count": null,
      "outputs": []
    },
    {
      "cell_type": "code",
      "metadata": {
        "id": "B32xfY2PDUKi"
      },
      "source": [
        "import math\n",
        "def standard_deviation(list_):\n",
        "    return math.sqrt(variance(list_))"
      ],
      "execution_count": null,
      "outputs": []
    },
    {
      "cell_type": "markdown",
      "metadata": {
        "id": "t4rp7oawDRyb"
      },
      "source": [
        "# ２７"
      ]
    },
    {
      "cell_type": "code",
      "metadata": {
        "colab": {
          "base_uri": "https://localhost:8080/"
        },
        "id": "hQts1AF9DzQj",
        "outputId": "d493183c-41fd-4129-aef9-6b1d5b154615"
      },
      "source": [
        "a = [1, 2, 3]\n",
        "b = [4, 5, 6]\n",
        "\n",
        "for x, y in zip(a, b):\n",
        "    print(x, y)"
      ],
      "execution_count": null,
      "outputs": [
        {
          "output_type": "stream",
          "name": "stdout",
          "text": [
            "1 4\n",
            "2 5\n",
            "3 6\n"
          ]
        }
      ]
    },
    {
      "cell_type": "code",
      "metadata": {
        "id": "gCFWJDNGDL9S"
      },
      "source": [
        "def covariance(list1, list2):\n",
        "    ave1 = mean(list1)\n",
        "    ave2 = mean(list2)\n",
        "    sum = 0\n",
        "    for x, y in zip(list1, list2):\n",
        "        sum += (x - ave1) * (y - ave2)\n",
        "    return sum/len(list1)"
      ],
      "execution_count": null,
      "outputs": []
    },
    {
      "cell_type": "markdown",
      "metadata": {
        "id": "dn5981N9Ev4T"
      },
      "source": [
        "# ２８"
      ]
    },
    {
      "cell_type": "code",
      "metadata": {
        "id": "tWtixgfUEsnw"
      },
      "source": [
        "def correlation(list1, list2):\n",
        "    return covariance(list1, list2) / (standard_deviation(list1) * standard_deviation(list2))"
      ],
      "execution_count": null,
      "outputs": []
    },
    {
      "cell_type": "markdown",
      "metadata": {
        "id": "PJZcBpspFJev"
      },
      "source": [
        "# ２９"
      ]
    },
    {
      "cell_type": "code",
      "metadata": {
        "id": "KYBcUtecE-y7"
      },
      "source": [
        "def a_fit(xlist, ylist):\n",
        "    return correlation(xlist, ylist) * standard_deviation(ylist) / standard_deviation(xlist)"
      ],
      "execution_count": null,
      "outputs": []
    },
    {
      "cell_type": "code",
      "metadata": {
        "id": "Nu7kV0hEFrlO"
      },
      "source": [
        "def b_fit(xlist, ylist):\n",
        "    return mean(ylist) - a_fit(xlist, ylist) * mean(xlist)"
      ],
      "execution_count": null,
      "outputs": []
    },
    {
      "cell_type": "code",
      "metadata": {
        "colab": {
          "base_uri": "https://localhost:8080/"
        },
        "id": "Tg7gZyPmF1F6",
        "outputId": "7ab501ec-6f78-4db0-d30b-399a398491e9"
      },
      "source": [
        "X = col3\n",
        "Y = col2\n",
        "print(\"y = f(x) = {0} x + {1}\".format(a_fit(X, Y), b_fit(X, Y)))"
      ],
      "execution_count": null,
      "outputs": [
        {
          "output_type": "stream",
          "name": "stdout",
          "text": [
            "y = f(x) = 133.45761519521628 x + 1283.4312346113265\n"
          ]
        }
      ]
    },
    {
      "cell_type": "code",
      "metadata": {
        "colab": {
          "base_uri": "https://localhost:8080/",
          "height": 281
        },
        "id": "BFErXE66F7Ws",
        "outputId": "0b481ef0-7969-4166-90ef-b384bb066877"
      },
      "source": [
        "import matplotlib.pyplot as plt\n",
        "\n",
        "def f(x):\n",
        "    return a_fit(X, Y) * x + b_fit(X, Y)\n",
        "\n",
        "plt.scatter(X, Y)\n",
        "plt.plot([7, 11], [f(7), f(11)])\n",
        "plt.title(\"this is a title\")\n",
        "plt.grid()"
      ],
      "execution_count": null,
      "outputs": [
        {
          "output_type": "display_data",
          "data": {
            "image/png": "[encoded data removed]",
            "text/plain": [
              "<Figure size 432x288 with 1 Axes>"
            ]
          },
          "metadata": {
            "needs_background": "light"
          }
        }
      ]
    },
    {
      "cell_type": "markdown",
      "metadata": {
        "id": "CkFhdpffG-qB"
      },
      "source": [
        "# ３０"
      ]
    },
    {
      "cell_type": "code",
      "metadata": {
        "colab": {
          "base_uri": "https://localhost:8080/",
          "height": 133
        },
        "id": "3ejrizgXGSG4",
        "outputId": "afae9234-98bb-491a-8256-f285c7a17c48"
      },
      "source": [
        "def partial_regression(B, A, Y):\n",
        "    bunsi = standard_deviation(Y) * (correlation(A, Y) - correlation(B, Y) * correlation(A, B))\n",
        "    bunbo = standard_deviation(A) * (1 - correlation(A, B)**2)\n",
        "    return bunsi/bunbo"
      ],
      "execution_count": null,
      "outputs": [
        {
          "output_type": "error",
          "ename": "SyntaxError",
          "evalue": "ignored",
          "traceback": [
            "\u001b[0;36m  File \u001b[0;32m\"<ipython-input-71-6f25c84ba86f>\"\u001b[0;36m, line \u001b[0;32m3\u001b[0m\n\u001b[0;31m    bunbo = standard_deviation(A) * (1 - correlation(A, B)**2)\u001b[0m\n\u001b[0m        ^\u001b[0m\n\u001b[0;31mSyntaxError\u001b[0m\u001b[0;31m:\u001b[0m invalid syntax\n"
          ]
        }
      ]
    },
    {
      "cell_type": "code",
      "metadata": {
        "id": "AI7ISfW5Ialj"
      },
      "source": [
        "Y = col2\n",
        "X1 = col3\n",
        "X2 = col4\n",
        "\n",
        "w1 = partial_regression(X2, X1, Y)\n",
        "w2 = partial_regression(X1, X2, Y)\n",
        "\n",
        "# 定数 t　＝　yの平均　－　w1*「x1の平均」　－　w2*「x2の平均」\n",
        "t = mean(Y) - w1 * mean(X1) - w2 * mean(X2)"
      ],
      "execution_count": null,
      "outputs": []
    },
    {
      "cell_type": "code",
      "metadata": {
        "colab": {
          "base_uri": "https://localhost:8080/"
        },
        "id": "mKNazWYCI7V7",
        "outputId": "b89a5caf-c82f-4c0e-fe57-fd66ac9b2bfa"
      },
      "source": [
        "# 回帰直線の式を表示\n",
        "print(\"y = f(x) = {0} X1 + {1} X2 + {2}\".format(w1, w2, t))"
      ],
      "execution_count": null,
      "outputs": [
        {
          "output_type": "stream",
          "name": "stdout",
          "text": [
            "y = f(x) = 246.0088561945105 X1 + 0.2208234928252702 X2 + -10.162145919740794\n"
          ]
        }
      ]
    },
    {
      "cell_type": "markdown",
      "metadata": {
        "id": "7XzisG5pJJeI"
      },
      "source": [
        "# ３１"
      ]
    },
    {
      "cell_type": "code",
      "metadata": {
        "colab": {
          "base_uri": "https://localhost:8080/"
        },
        "id": "pPKRYVd-I9X5",
        "outputId": "896386ec-9ddb-4041-baf7-2c6c33e6eddd"
      },
      "source": [
        "X = [0, 1, 2, 3, 4]\n",
        "Y = [5, 6, 7, 8, 9]\n",
        "\n",
        "for x in X:\n",
        "    for y in Y:\n",
        "        print(x, y)"
      ],
      "execution_count": null,
      "outputs": [
        {
          "output_type": "stream",
          "name": "stdout",
          "text": [
            "0 5\n",
            "0 6\n",
            "0 7\n",
            "0 8\n",
            "0 9\n",
            "1 5\n",
            "1 6\n",
            "1 7\n",
            "1 8\n",
            "1 9\n",
            "2 5\n",
            "2 6\n",
            "2 7\n",
            "2 8\n",
            "2 9\n",
            "3 5\n",
            "3 6\n",
            "3 7\n",
            "3 8\n",
            "3 9\n",
            "4 5\n",
            "4 6\n",
            "4 7\n",
            "4 8\n",
            "4 9\n"
          ]
        }
      ]
    },
    {
      "cell_type": "code",
      "metadata": {
        "colab": {
          "base_uri": "https://localhost:8080/"
        },
        "id": "KEilW2_6JtVg",
        "outputId": "af28ea1d-441a-4013-ba39-0301d569bb7e"
      },
      "source": [
        "X = [0, 1, 2, 3, 4]\n",
        "Y = [5, 6, 7, 8, 9]\n",
        "\n",
        "for x, y in zip(X, Y):\n",
        "    print(x, y)"
      ],
      "execution_count": null,
      "outputs": [
        {
          "output_type": "stream",
          "name": "stdout",
          "text": [
            "0 5\n",
            "1 6\n",
            "2 7\n",
            "3 8\n",
            "4 9\n"
          ]
        }
      ]
    },
    {
      "cell_type": "code",
      "metadata": {
        "id": "6_f0uETQJ0Zh"
      },
      "source": [
        "n = 10\n",
        "m =  36\n",
        "k =  [13, 39, 63, 70, 18, 87, 46, 99, 68, 47]"
      ],
      "execution_count": null,
      "outputs": []
    },
    {
      "cell_type": "code",
      "metadata": {
        "id": "a_BtLLToKQ2R"
      },
      "source": [
        "def task31(k, m):\n",
        "    for x1 in k:\n",
        "        for x2 in k:\n",
        "            for x3 in k:\n",
        "                for x4 in k:\n",
        "                    if x1 + x2 + x3 + x4 == m:\n",
        "                        return True\n",
        "    return False"
      ],
      "execution_count": null,
      "outputs": []
    },
    {
      "cell_type": "code",
      "metadata": {
        "colab": {
          "base_uri": "https://localhost:8080/"
        },
        "id": "57sXyr87KUwY",
        "outputId": "c88e0c30-14f6-4116-8d18-38af94ae53b9"
      },
      "source": [
        "task31(k, m)"
      ],
      "execution_count": null,
      "outputs": [
        {
          "output_type": "execute_result",
          "data": {
            "text/plain": [
              "False"
            ]
          },
          "metadata": {},
          "execution_count": 43
        }
      ]
    },
    {
      "cell_type": "code",
      "metadata": {
        "id": "tnz2ZUXDLJYr"
      },
      "source": [
        "n = 10\n",
        "m =  66\n",
        "k =  [60, 45, 73, 100, 57, 82, 2, 85, 43, 8]"
      ],
      "execution_count": null,
      "outputs": []
    },
    {
      "cell_type": "code",
      "metadata": {
        "colab": {
          "base_uri": "https://localhost:8080/"
        },
        "id": "GyTSSLQtLMnl",
        "outputId": "d22a5e23-70a3-4e7e-fe69-fbd5e65d393a"
      },
      "source": [
        "task31(k, m)"
      ],
      "execution_count": null,
      "outputs": [
        {
          "output_type": "execute_result",
          "data": {
            "text/plain": [
              "True"
            ]
          },
          "metadata": {},
          "execution_count": 45
        }
      ]
    },
    {
      "cell_type": "code",
      "metadata": {
        "id": "8Nf7yvHWLN3w"
      },
      "source": [
        "n = 20\n",
        "m =  496\n",
        "k =  [240, 471, 143, 482, 231, 127, 482, 145, 195, 336, 31, 83, 450, 376, 108, 133, 118, 340, 400, 170]"
      ],
      "execution_count": null,
      "outputs": []
    },
    {
      "cell_type": "code",
      "metadata": {
        "colab": {
          "base_uri": "https://localhost:8080/"
        },
        "id": "gulGR-37LUE9",
        "outputId": "b5a7c6c3-365b-416e-8f51-d5cb73855457"
      },
      "source": [
        "task31(k, m)"
      ],
      "execution_count": null,
      "outputs": [
        {
          "output_type": "execute_result",
          "data": {
            "text/plain": [
              "True"
            ]
          },
          "metadata": {},
          "execution_count": 47
        }
      ]
    },
    {
      "cell_type": "markdown",
      "metadata": {
        "id": "SkvrJwnXLaqE"
      },
      "source": [
        "# ３２"
      ]
    },
    {
      "cell_type": "code",
      "metadata": {
        "colab": {
          "base_uri": "https://localhost:8080/"
        },
        "id": "BfyiN6KgLWbF",
        "outputId": "f6ccf8a0-bb30-4592-ae2a-6c76b7a1ecd6"
      },
      "source": [
        "X = [0, 2, 5, 1, 7, 3, 9, 4]\n",
        "\n",
        "max_ = -100\n",
        "for x in X:\n",
        "    if max_ < x:\n",
        "        max_ = x\n",
        "\n",
        "print(max_)"
      ],
      "execution_count": null,
      "outputs": [
        {
          "output_type": "stream",
          "name": "stdout",
          "text": [
            "9\n"
          ]
        }
      ]
    },
    {
      "cell_type": "code",
      "metadata": {
        "id": "om0Y8-iJLf2c"
      },
      "source": [
        "n =  5\n",
        "a =  [28.54, 13.36, 54.82, 13.91, 44.29]"
      ],
      "execution_count": null,
      "outputs": []
    },
    {
      "cell_type": "code",
      "metadata": {
        "id": "cq7OJe-cL4ac"
      },
      "source": [
        "def task32(a):\n",
        "    answers = []\n",
        "    for i in range(len(a)):\n",
        "        for j in range(len(a)):\n",
        "            if i >= j:\n",
        "                continue\n",
        "            for k in range(len(a)):\n",
        "                if j >= k:\n",
        "                    continue\n",
        "\n",
        "                sum_edge = sum([a[i], a[j], a[k]])\n",
        "                max_edge = max([a[i], a[j], a[k]])\n",
        "                rest_edge = sum_edge - max_edge\n",
        "                if max_edge < rest_edge: # 三角形として成立する条件\n",
        "                    #print(i, j, k, sum_edge)\n",
        "                    answers.append(sum_edge)\n",
        "\n",
        "    if len(answers) == 0:\n",
        "        return 0\n",
        "    else:\n",
        "        return max(answers)"
      ],
      "execution_count": null,
      "outputs": []
    },
    {
      "cell_type": "code",
      "metadata": {
        "colab": {
          "base_uri": "https://localhost:8080/"
        },
        "id": "y14r-sAELyCP",
        "outputId": "49464916-4cf0-4a14-f36d-91dfc3f6d31a"
      },
      "source": [
        "task32(a)"
      ],
      "execution_count": null,
      "outputs": [
        {
          "output_type": "execute_result",
          "data": {
            "text/plain": [
              "127.65"
            ]
          },
          "metadata": {},
          "execution_count": 61
        }
      ]
    },
    {
      "cell_type": "code",
      "metadata": {
        "id": "Twr5UM9cOMT8"
      },
      "source": [
        "n =  4\n",
        "a =  [24.73, 53.4, 0.25, 97.89]"
      ],
      "execution_count": null,
      "outputs": []
    },
    {
      "cell_type": "code",
      "metadata": {
        "colab": {
          "base_uri": "https://localhost:8080/"
        },
        "id": "Pe28Il9vOP7w",
        "outputId": "2267d653-b7d3-4553-fd32-3e738cb4d22b"
      },
      "source": [
        "task32(a)"
      ],
      "execution_count": null,
      "outputs": [
        {
          "output_type": "execute_result",
          "data": {
            "text/plain": [
              "0"
            ]
          },
          "metadata": {},
          "execution_count": 63
        }
      ]
    },
    {
      "cell_type": "code",
      "metadata": {
        "id": "Z6LWVkw_OROL"
      },
      "source": [
        "n =  19\n",
        "a =  [493.13, 615.02, 340.68, 462.98, 988.55, 572.16, 572.91, 963.01, 12.07, 95.51, 733.24, 810.39, 105.99, 574.57, 945.38, 937.82, 976.24, 245.43, 260.06]"
      ],
      "execution_count": null,
      "outputs": []
    },
    {
      "cell_type": "code",
      "metadata": {
        "colab": {
          "base_uri": "https://localhost:8080/"
        },
        "id": "9cNA54XtOVAb",
        "outputId": "87648de3-0152-42c0-c9f0-1bc13f7d35ad"
      },
      "source": [
        "task32(a)"
      ],
      "execution_count": null,
      "outputs": [
        {
          "output_type": "execute_result",
          "data": {
            "text/plain": [
              "2927.8"
            ]
          },
          "metadata": {},
          "execution_count": 65
        }
      ]
    },
    {
      "cell_type": "code",
      "metadata": {
        "colab": {
          "base_uri": "https://localhost:8080/"
        },
        "id": "i_NGH4qwOWmx",
        "outputId": "3ce7804c-48e3-48ae-99bb-ca281c6796ab"
      },
      "source": [
        "import copy\n",
        "\n",
        "a = [1, 3, 4]\n",
        "\n",
        "b = copy.deepcopy(a)\n",
        "b"
      ],
      "execution_count": null,
      "outputs": [
        {
          "output_type": "execute_result",
          "data": {
            "text/plain": [
              "[1, 3, 4]"
            ]
          },
          "metadata": {},
          "execution_count": 66
        }
      ]
    },
    {
      "cell_type": "code",
      "metadata": {
        "colab": {
          "base_uri": "https://localhost:8080/",
          "height": 267
        },
        "id": "B08XE1wSPRqu",
        "outputId": "e74ed6ae-a456-494a-f3e3-9dc566275ea1"
      },
      "source": [
        "\n",
        "bunbo=standard_deviation(A)*(1-correlation(A, B)**2)"
      ],
      "execution_count": null,
      "outputs": [
        {
          "output_type": "error",
          "ename": "ZeroDivisionError",
          "evalue": "ignored",
          "traceback": [
            "\u001b[0;31m---------------------------------------------------------------------------\u001b[0m",
            "\u001b[0;31mZeroDivisionError\u001b[0m                         Traceback (most recent call last)",
            "\u001b[0;32m<ipython-input-70-53d5308d4a2b>\u001b[0m in \u001b[0;36m<module>\u001b[0;34m()\u001b[0m\n\u001b[1;32m      1\u001b[0m \u001b[0mA\u001b[0m \u001b[0;34m=\u001b[0m \u001b[0;34m[\u001b[0m\u001b[0;36m10\u001b[0m\u001b[0;34m]\u001b[0m\u001b[0;34m\u001b[0m\u001b[0;34m\u001b[0m\u001b[0m\n\u001b[1;32m      2\u001b[0m \u001b[0mB\u001b[0m \u001b[0;34m=\u001b[0m \u001b[0;34m[\u001b[0m\u001b[0;36m10\u001b[0m\u001b[0;34m]\u001b[0m\u001b[0;34m\u001b[0m\u001b[0;34m\u001b[0m\u001b[0m\n\u001b[0;32m----> 3\u001b[0;31m \u001b[0mbunbo\u001b[0m\u001b[0;34m=\u001b[0m\u001b[0mstandard_deviation\u001b[0m\u001b[0;34m(\u001b[0m\u001b[0mA\u001b[0m\u001b[0;34m)\u001b[0m\u001b[0;34m*\u001b[0m\u001b[0;34m(\u001b[0m\u001b[0;36m1\u001b[0m\u001b[0;34m-\u001b[0m\u001b[0mcorrelation\u001b[0m\u001b[0;34m(\u001b[0m\u001b[0mA\u001b[0m\u001b[0;34m,\u001b[0m \u001b[0mB\u001b[0m\u001b[0;34m)\u001b[0m\u001b[0;34m**\u001b[0m\u001b[0;36m2\u001b[0m\u001b[0;34m)\u001b[0m\u001b[0;34m\u001b[0m\u001b[0;34m\u001b[0m\u001b[0m\n\u001b[0m",
            "\u001b[0;32m<ipython-input-20-e32ff0ba0e68>\u001b[0m in \u001b[0;36mcorrelation\u001b[0;34m(list1, list2)\u001b[0m\n\u001b[1;32m      1\u001b[0m \u001b[0;32mdef\u001b[0m \u001b[0mcorrelation\u001b[0m\u001b[0;34m(\u001b[0m\u001b[0mlist1\u001b[0m\u001b[0;34m,\u001b[0m \u001b[0mlist2\u001b[0m\u001b[0;34m)\u001b[0m\u001b[0;34m:\u001b[0m\u001b[0;34m\u001b[0m\u001b[0;34m\u001b[0m\u001b[0m\n\u001b[0;32m----> 2\u001b[0;31m     \u001b[0;32mreturn\u001b[0m \u001b[0mcovariance\u001b[0m\u001b[0;34m(\u001b[0m\u001b[0mlist1\u001b[0m\u001b[0;34m,\u001b[0m \u001b[0mlist2\u001b[0m\u001b[0;34m)\u001b[0m \u001b[0;34m/\u001b[0m \u001b[0;34m(\u001b[0m\u001b[0mstandard_deviation\u001b[0m\u001b[0;34m(\u001b[0m\u001b[0mlist1\u001b[0m\u001b[0;34m)\u001b[0m \u001b[0;34m*\u001b[0m \u001b[0mstandard_deviation\u001b[0m\u001b[0;34m(\u001b[0m\u001b[0mlist2\u001b[0m\u001b[0;34m)\u001b[0m\u001b[0;34m)\u001b[0m\u001b[0;34m\u001b[0m\u001b[0;34m\u001b[0m\u001b[0m\n\u001b[0m",
            "\u001b[0;31mZeroDivisionError\u001b[0m: float division by zero"
          ]
        }
      ]
    },
    {
      "cell_type": "code",
      "metadata": {
        "id": "zyQZunGQPugN"
      },
      "source": [
        "def partial_regression(B, A, Y):\n",
        "    bunsi=standard_deviation(Y) * (correlation(A, Y)-correlation(B, Y)*correlation(A, B))\n",
        "    bunbo=standard_deviation(A)*(1-correlation(A, B)**2)\n",
        "    return bunsi/bunbo"
      ],
      "execution_count": null,
      "outputs": []
    },
    {
      "cell_type": "code",
      "metadata": {
        "id": "3d5NB35rQrsy"
      },
      "source": [
        ""
      ],
      "execution_count": null,
      "outputs": []
    }
  ]
}