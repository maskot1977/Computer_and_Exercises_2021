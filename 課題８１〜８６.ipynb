{
  "nbformat": 4,
  "nbformat_minor": 0,
  "metadata": {
    "colab": {
      "name": "課題８１〜８６",
      "provenance": [],
      "collapsed_sections": [],
      "authorship_tag": "ABX9TyPsPxbysTj0LDo+b7oM1TM8",
      "include_colab_link": true
    },
    "kernelspec": {
      "name": "python3",
      "display_name": "Python 3"
    },
    "language_info": {
      "name": "python"
    }
  },
  "cells": [
    {
      "cell_type": "markdown",
      "metadata": {
        "id": "view-in-github",
        "colab_type": "text"
      },
      "source": [
        "<a href=\"https://colab.research.google.com/github/maskot1977/Computer_and_Exercises_2021/blob/Q5kCxB2w/%E8%AA%B2%E9%A1%8C%EF%BC%98%EF%BC%91%E3%80%9C%EF%BC%98%EF%BC%96.ipynb\" target=\"_parent\"><img src=\"https://colab.research.google.com/assets/colab-badge.svg\" alt=\"Open In Colab\"/></a>"
      ]
    },
    {
      "cell_type": "markdown",
      "source": [
        "# 課題８１"
      ],
      "metadata": {
        "id": "QNesj_TuP_xL"
      }
    },
    {
      "cell_type": "code",
      "execution_count": null,
      "metadata": {
        "id": "K2trQmiWILLQ"
      },
      "outputs": [],
      "source": [
        "import numpy as np\n",
        "f = lambda x: 1/(1 + np.exp(-x))\n",
        "g = lambda x: 1.0/(1.0+x**2)\n",
        "h = lambda x: np.sin(x)\n",
        "\n",
        "x_observed = np.linspace(-10, 10, 11) # 観測点\n",
        "\n",
        "fx_observed = f(x_observed) # f(x) の観測値\n",
        "gx_observed = g(x_observed) # g(x) の観測値\n",
        "hx_observed = h(x_observed) # h(x) の観測値"
      ]
    },
    {
      "cell_type": "code",
      "source": [
        "x_observed = np.linspace(-10, 10, 11) # 観測点\n",
        "x_observed"
      ],
      "metadata": {
        "colab": {
          "base_uri": "https://localhost:8080/"
        },
        "id": "-GJnc7teQHmq",
        "outputId": "40d6a476-258b-4e67-db2c-efd447b6ba42"
      },
      "execution_count": null,
      "outputs": [
        {
          "output_type": "execute_result",
          "data": {
            "text/plain": [
              "array([-10.,  -8.,  -6.,  -4.,  -2.,   0.,   2.,   4.,   6.,   8.,  10.])"
            ]
          },
          "metadata": {},
          "execution_count": 2
        }
      ]
    },
    {
      "cell_type": "code",
      "source": [
        "fx_observed"
      ],
      "metadata": {
        "colab": {
          "base_uri": "https://localhost:8080/"
        },
        "id": "iIMpoVWRQZ4u",
        "outputId": "8238055c-f249-44ba-886d-4b819370a373"
      },
      "execution_count": null,
      "outputs": [
        {
          "output_type": "execute_result",
          "data": {
            "text/plain": [
              "array([4.53978687e-05, 3.35350130e-04, 2.47262316e-03, 1.79862100e-02,\n",
              "       1.19202922e-01, 5.00000000e-01, 8.80797078e-01, 9.82013790e-01,\n",
              "       9.97527377e-01, 9.99664650e-01, 9.99954602e-01])"
            ]
          },
          "metadata": {},
          "execution_count": 3
        }
      ]
    },
    {
      "cell_type": "code",
      "source": [
        "import matplotlib.pyplot as plt\n",
        "\n",
        "plt.plot(x_observed, fx_observed, marker=\"x\")"
      ],
      "metadata": {
        "colab": {
          "base_uri": "https://localhost:8080/",
          "height": 282
        },
        "id": "nfUgER0bQ6J_",
        "outputId": "191c559d-2d7f-4ace-c354-8bbbd4edbd51"
      },
      "execution_count": null,
      "outputs": [
        {
          "output_type": "execute_result",
          "data": {
            "text/plain": [
              "[<matplotlib.lines.Line2D at 0x7fd752c00ed0>]"
            ]
          },
          "metadata": {},
          "execution_count": 4
        },
        {
          "output_type": "display_data",
          "data": {
            "image/png": "[encoded data removed]",
            "text/plain": [
              "<Figure size 432x288 with 1 Axes>"
            ]
          },
          "metadata": {
            "needs_background": "light"
          }
        }
      ]
    },
    {
      "cell_type": "code",
      "source": [
        "x_latent = np.linspace(-10, 10, 101)"
      ],
      "metadata": {
        "id": "Cil4tt-RRH7B"
      },
      "execution_count": null,
      "outputs": []
    },
    {
      "cell_type": "code",
      "source": [
        "import matplotlib.pyplot as plt\n",
        "\n",
        "plt.plot(x_observed, fx_observed, marker=\"x\", label=\"observed\")\n",
        "plt.plot(x_latent, f(x_latent), label=\"latent\")\n",
        "plt.legend()"
      ],
      "metadata": {
        "colab": {
          "base_uri": "https://localhost:8080/",
          "height": 282
        },
        "id": "AhtVPtaaRc5p",
        "outputId": "8a52a3f8-e278-4c96-891e-dc385612d7cd"
      },
      "execution_count": null,
      "outputs": [
        {
          "output_type": "execute_result",
          "data": {
            "text/plain": [
              "<matplotlib.legend.Legend at 0x7fd7526f8450>"
            ]
          },
          "metadata": {},
          "execution_count": 6
        },
        {
          "output_type": "display_data",
          "data": {
            "image/png": "[encoded data removed]",
            "text/plain": [
              "<Figure size 432x288 with 1 Axes>"
            ]
          },
          "metadata": {
            "needs_background": "light"
          }
        }
      ]
    },
    {
      "cell_type": "code",
      "source": [
        "import matplotlib.pyplot as plt\n",
        "\n",
        "plt.plot(x_observed, gx_observed, marker=\"x\", label=\"observed\")\n",
        "plt.plot(x_latent, g(x_latent), label=\"latent\")\n",
        "plt.legend()"
      ],
      "metadata": {
        "colab": {
          "base_uri": "https://localhost:8080/",
          "height": 282
        },
        "id": "bY1XoJMARnAX",
        "outputId": "83d7a5b7-f43d-4233-e995-8921c2229def"
      },
      "execution_count": null,
      "outputs": [
        {
          "output_type": "execute_result",
          "data": {
            "text/plain": [
              "<matplotlib.legend.Legend at 0x7fd7526f8910>"
            ]
          },
          "metadata": {},
          "execution_count": 7
        },
        {
          "output_type": "display_data",
          "data": {
            "image/png": "[encoded data removed]",
            "text/plain": [
              "<Figure size 432x288 with 1 Axes>"
            ]
          },
          "metadata": {
            "needs_background": "light"
          }
        }
      ]
    },
    {
      "cell_type": "code",
      "source": [
        "import matplotlib.pyplot as plt\n",
        "\n",
        "plt.plot(x_observed, hx_observed, marker=\"x\", label=\"observed\")\n",
        "plt.plot(x_latent, h(x_latent), label=\"latent\")\n",
        "plt.legend()"
      ],
      "metadata": {
        "colab": {
          "base_uri": "https://localhost:8080/",
          "height": 282
        },
        "id": "VJNrW_SbR8Xs",
        "outputId": "f257bdb6-40f1-4eb7-d58c-072e2fe00ad7"
      },
      "execution_count": null,
      "outputs": [
        {
          "output_type": "execute_result",
          "data": {
            "text/plain": [
              "<matplotlib.legend.Legend at 0x7fd752608fd0>"
            ]
          },
          "metadata": {},
          "execution_count": 8
        },
        {
          "output_type": "display_data",
          "data": {
            "image/png": "[encoded data removed]",
            "text/plain": [
              "<Figure size 432x288 with 1 Axes>"
            ]
          },
          "metadata": {
            "needs_background": "light"
          }
        }
      ]
    },
    {
      "cell_type": "code",
      "source": [
        "def get_coeff(i, x, x_observed):\n",
        "    c = 1\n",
        "    for j in range(len(x_observed)):\n",
        "        if j != i:\n",
        "            c *= (x - x_observed[j]) / (x_observed[i] - x_observed[j])\n",
        "    return c"
      ],
      "metadata": {
        "id": "Is70gzlqSA5j"
      },
      "execution_count": null,
      "outputs": []
    },
    {
      "cell_type": "code",
      "source": [
        "def lagrange(x, x_observed, y_observed):\n",
        "    sum = 0\n",
        "    for i in range(len(x_observed)):\n",
        "        sum += get_coeff(i, x, x_observed) * y_observed[i]\n",
        "    return sum"
      ],
      "metadata": {
        "id": "1JJ1-3VtTlML"
      },
      "execution_count": null,
      "outputs": []
    },
    {
      "cell_type": "code",
      "source": [
        "lagrange(0.5, x_observed, fx_observed)"
      ],
      "metadata": {
        "colab": {
          "base_uri": "https://localhost:8080/"
        },
        "id": "96c4pmp8UXm4",
        "outputId": "bda04381-2cb7-41c9-f930-51475a969c82"
      },
      "execution_count": null,
      "outputs": [
        {
          "output_type": "execute_result",
          "data": {
            "text/plain": [
              "0.6125216643857131"
            ]
          },
          "metadata": {},
          "execution_count": 11
        }
      ]
    },
    {
      "cell_type": "code",
      "source": [
        "lagrange([0.5, 1, 1.5], x_observed, fx_observed)"
      ],
      "metadata": {
        "colab": {
          "base_uri": "https://localhost:8080/"
        },
        "id": "KML3BrogUlzy",
        "outputId": "95ac4497-a800-4f56-e7eb-9236ed7126f6"
      },
      "execution_count": null,
      "outputs": [
        {
          "output_type": "execute_result",
          "data": {
            "text/plain": [
              "array([0.61252166, 0.71752066, 0.8084858 ])"
            ]
          },
          "metadata": {},
          "execution_count": 12
        }
      ]
    },
    {
      "cell_type": "code",
      "source": [
        "plt.scatter(x_observed, fx_observed, label=\"observed\")\n",
        "plt.plot(x_latent, f(x_latent), label=\"latent\")\n",
        "plt.plot(x_latent, lagrange(x_latent, x_observed, fx_observed), label=\"interporated\")\n",
        "plt.legend()"
      ],
      "metadata": {
        "colab": {
          "base_uri": "https://localhost:8080/",
          "height": 282
        },
        "id": "XIrziQjxUwGS",
        "outputId": "5a40a6d2-fe94-46be-d3d4-9aea3b880939"
      },
      "execution_count": null,
      "outputs": [
        {
          "output_type": "execute_result",
          "data": {
            "text/plain": [
              "<matplotlib.legend.Legend at 0x7fd7525dbe50>"
            ]
          },
          "metadata": {},
          "execution_count": 13
        },
        {
          "output_type": "display_data",
          "data": {
            "image/png": "[encoded data removed]",
            "text/plain": [
              "<Figure size 432x288 with 1 Axes>"
            ]
          },
          "metadata": {
            "needs_background": "light"
          }
        }
      ]
    },
    {
      "cell_type": "code",
      "source": [
        "plt.scatter(x_observed, gx_observed, label=\"observed\")\n",
        "plt.plot(x_latent, g(x_latent), label=\"latent\")\n",
        "plt.plot(x_latent, lagrange(x_latent, x_observed, gx_observed), label=\"interporated\")\n",
        "plt.legend()"
      ],
      "metadata": {
        "colab": {
          "base_uri": "https://localhost:8080/",
          "height": 282
        },
        "id": "iYMpXjUMU8-h",
        "outputId": "40908569-e169-47ff-f5c5-8cb5bd402d0e"
      },
      "execution_count": null,
      "outputs": [
        {
          "output_type": "execute_result",
          "data": {
            "text/plain": [
              "<matplotlib.legend.Legend at 0x7fd7524fd690>"
            ]
          },
          "metadata": {},
          "execution_count": 14
        },
        {
          "output_type": "display_data",
          "data": {
            "image/png": "[encoded data removed]",
            "text/plain": [
              "<Figure size 432x288 with 1 Axes>"
            ]
          },
          "metadata": {
            "needs_background": "light"
          }
        }
      ]
    },
    {
      "cell_type": "code",
      "source": [
        "plt.scatter(x_observed, hx_observed, label=\"observed\")\n",
        "plt.plot(x_latent, h(x_latent), label=\"latent\")\n",
        "plt.plot(x_latent, lagrange(x_latent, x_observed, hx_observed), label=\"interporated\")\n",
        "plt.legend()"
      ],
      "metadata": {
        "colab": {
          "base_uri": "https://localhost:8080/",
          "height": 282
        },
        "id": "8hm5tA1pWaCB",
        "outputId": "39a374c1-4b06-4c04-bdec-1d37410a0334"
      },
      "execution_count": null,
      "outputs": [
        {
          "output_type": "execute_result",
          "data": {
            "text/plain": [
              "<matplotlib.legend.Legend at 0x7fd752493a10>"
            ]
          },
          "metadata": {},
          "execution_count": 15
        },
        {
          "output_type": "display_data",
          "data": {
            "image/png": "[encoded data removed]",
            "text/plain": [
              "<Figure size 432x288 with 1 Axes>"
            ]
          },
          "metadata": {
            "needs_background": "light"
          }
        }
      ]
    },
    {
      "cell_type": "markdown",
      "source": [
        "# 課題８２"
      ],
      "metadata": {
        "id": "HuE5CY4tXBvj"
      }
    },
    {
      "cell_type": "code",
      "source": [
        "def spline(x_latent, x_observed, y_observed):\n",
        "    n = len(x_observed) - 1 # 何個の3次式を定義するか\n",
        "    A = np.zeros((4 * n, 4 * n))\n",
        "    b = np.zeros(4 * n)\n",
        "    for i in range(n - 1):\n",
        "        A[4 * i][4 * i + 0] = x_observed[i] ** 3\n",
        "        A[4 * i][4 * i + 1] = x_observed[i] ** 2\n",
        "        A[4 * i][4 * i + 2] = x_observed[i] \n",
        "        A[4 * i][4 * i + 3] = 1\n",
        "        b[4 * i] = y_observed[i]\n",
        "\n",
        "        A[4 * i + 1][4 * i + 0] = x_observed[i + 1] ** 3\n",
        "        A[4 * i + 1][4 * i + 1] = x_observed[i + 1] ** 2\n",
        "        A[4 * i + 1][4 * i + 2] = x_observed[i + 1] \n",
        "        A[4 * i + 1][4 * i + 3] = 1\n",
        "        b[4 * i + 1] = y_observed[i + 1]\n",
        "\n",
        "        A[4 * i + 2][4 * i + 0] = 3 * x_observed[i + 1] ** 2\n",
        "        A[4 * i + 2][4 * i + 1] = 2 * x_observed[i + 1] \n",
        "        A[4 * i + 2][4 * i + 2] = 1\n",
        "        A[4 * i + 2][4 * i + 4] = -3 * x_observed[i + 1] ** 2\n",
        "        A[4 * i + 2][4 * i + 5] = -2 * x_observed[i + 1] \n",
        "        A[4 * i + 2][4 * i + 6] = -1\n",
        "\n",
        "        A[4 * i + 3][4 * i + 0] = 6 * x_observed[i + 1] \n",
        "        A[4 * i + 3][4 * i + 1] = 2\n",
        "        A[4 * i + 3][4 * i + 4] = -6 * x_observed[i + 1] \n",
        "        A[4 * i + 3][4 * i + 5] = -2\n",
        "\n",
        "    A[4 * n - 4][4 * n - 4] = x_observed[n - 1] ** 3 \n",
        "    A[4 * n - 4][4 * n - 3] = x_observed[n - 1] ** 2 \n",
        "    A[4 * n - 4][4 * n - 2] = x_observed[n - 1]\n",
        "    A[4 * n - 4][4 * n - 1] = 1\n",
        "    b[4 * n - 4] = y_observed[n - 1]\n",
        "\n",
        "    A[4 * n - 3][4 * n - 4] = x_observed[n] ** 3 \n",
        "    A[4 * n - 3][4 * n - 3] = x_observed[n] ** 2 \n",
        "    A[4 * n - 3][4 * n - 2] = x_observed[n]\n",
        "    A[4 * n - 3][4 * n - 1] = 1\n",
        "    b[4 * n - 3] = y_observed[n]\n",
        "\n",
        "    A[4 * n - 2][0] = 6 * x_observed[0]\n",
        "    A[4 * n - 2][1] = 2\n",
        "\n",
        "    A[4 * n - 1][4 * n - 4] = 6 * x_observed[n]\n",
        "    A[4 * n - 1][4 * n - 3] = 2\n",
        "\n",
        "    coeff = np.linalg.solve(A, b)\n",
        "\n",
        "    interpolated = []\n",
        "    for x in x_latent:\n",
        "        for j in range(len(x_observed - 1)):\n",
        "            if x_observed[j] <= x and x <= x_observed[j + 1]:\n",
        "                a = coeff[4 * j]\n",
        "                b = coeff[4 * j + 1]\n",
        "                c = coeff[4 * j + 2]\n",
        "                d = coeff[4 * j + 3]\n",
        "                y = a * x**3 + b * x**2 + c * x + d\n",
        "                interpolated.append(y)\n",
        "                break\n",
        "\n",
        "    return interpolated"
      ],
      "metadata": {
        "id": "jmmWsTnEWlDv"
      },
      "execution_count": null,
      "outputs": []
    },
    {
      "cell_type": "code",
      "source": [
        "plt.scatter(x_observed, fx_observed, label=\"observed\")\n",
        "plt.plot(x_latent, f(x_latent), label=\"latent\")\n",
        "plt.plot(x_latent, spline(x_latent, x_observed, fx_observed), label=\"interporated\")\n",
        "plt.legend()"
      ],
      "metadata": {
        "colab": {
          "base_uri": "https://localhost:8080/",
          "height": 282
        },
        "id": "Gr_2sM91X9Vj",
        "outputId": "3a2d83dd-7e9e-46f6-8939-a54d55c58634"
      },
      "execution_count": null,
      "outputs": [
        {
          "output_type": "execute_result",
          "data": {
            "text/plain": [
              "<matplotlib.legend.Legend at 0x7fd752414310>"
            ]
          },
          "metadata": {},
          "execution_count": 17
        },
        {
          "output_type": "display_data",
          "data": {
            "image/png": "[encoded data removed]",
            "text/plain": [
              "<Figure size 432x288 with 1 Axes>"
            ]
          },
          "metadata": {
            "needs_background": "light"
          }
        }
      ]
    },
    {
      "cell_type": "code",
      "source": [
        "plt.scatter(x_observed, gx_observed, label=\"observed\")\n",
        "plt.plot(x_latent, g(x_latent), label=\"latent\")\n",
        "plt.plot(x_latent, spline(x_latent, x_observed, gx_observed), label=\"interporated\")\n",
        "plt.legend()"
      ],
      "metadata": {
        "colab": {
          "base_uri": "https://localhost:8080/",
          "height": 282
        },
        "id": "5ttGqQi0YI_3",
        "outputId": "2637c597-4440-4701-cd45-3039ad731a7f"
      },
      "execution_count": null,
      "outputs": [
        {
          "output_type": "execute_result",
          "data": {
            "text/plain": [
              "<matplotlib.legend.Legend at 0x7fd74a354c90>"
            ]
          },
          "metadata": {},
          "execution_count": 18
        },
        {
          "output_type": "display_data",
          "data": {
            "image/png": "[encoded data removed]",
            "text/plain": [
              "<Figure size 432x288 with 1 Axes>"
            ]
          },
          "metadata": {
            "needs_background": "light"
          }
        }
      ]
    },
    {
      "cell_type": "code",
      "source": [
        "plt.scatter(x_observed, hx_observed, label=\"observed\")\n",
        "plt.plot(x_latent, h(x_latent), label=\"latent\")\n",
        "plt.plot(x_latent, spline(x_latent, x_observed, hx_observed), label=\"interporated\")\n",
        "plt.legend()"
      ],
      "metadata": {
        "colab": {
          "base_uri": "https://localhost:8080/",
          "height": 282
        },
        "id": "Ru-8jA2zZN7H",
        "outputId": "c8eaaab4-0363-440c-ce47-26e037bd95c6"
      },
      "execution_count": null,
      "outputs": [
        {
          "output_type": "execute_result",
          "data": {
            "text/plain": [
              "<matplotlib.legend.Legend at 0x7fd752642f50>"
            ]
          },
          "metadata": {},
          "execution_count": 19
        },
        {
          "output_type": "display_data",
          "data": {
            "image/png": "[encoded data removed]",
            "text/plain": [
              "<Figure size 432x288 with 1 Axes>"
            ]
          },
          "metadata": {
            "needs_background": "light"
          }
        }
      ]
    },
    {
      "cell_type": "markdown",
      "source": [
        "# 課題８３"
      ],
      "metadata": {
        "id": "1G4g7aHHfxRr"
      }
    },
    {
      "cell_type": "code",
      "source": [
        "f2 = lambda x: x**3 + 2 * x**2 - 6 * x + 4"
      ],
      "metadata": {
        "id": "61D_M-KsZSu2"
      },
      "execution_count": null,
      "outputs": []
    },
    {
      "cell_type": "code",
      "source": [
        "plt.scatter(x_observed, f2(x_observed), label=\"observed\")\n",
        "plt.plot(x_latent, f2(x_latent), label=\"latent\")"
      ],
      "metadata": {
        "colab": {
          "base_uri": "https://localhost:8080/",
          "height": 282
        },
        "id": "7xqvuq43gfJ2",
        "outputId": "6ea7594f-160f-4172-a0f9-bc75b7b152f6"
      },
      "execution_count": null,
      "outputs": [
        {
          "output_type": "execute_result",
          "data": {
            "text/plain": [
              "[<matplotlib.lines.Line2D at 0x7fd7452c6890>]"
            ]
          },
          "metadata": {},
          "execution_count": 54
        },
        {
          "output_type": "display_data",
          "data": {
            "image/png": "[encoded data removed]",
            "text/plain": [
              "<Figure size 432x288 with 1 Axes>"
            ]
          },
          "metadata": {
            "needs_background": "light"
          }
        }
      ]
    },
    {
      "cell_type": "code",
      "source": [
        "x_ones = np.ones(len(x_observed))\n",
        "x_ones"
      ],
      "metadata": {
        "colab": {
          "base_uri": "https://localhost:8080/"
        },
        "id": "SJHMSJJXgooV",
        "outputId": "be2c0625-1cea-4f43-bbe7-7a083a5f9c71"
      },
      "execution_count": null,
      "outputs": [
        {
          "output_type": "execute_result",
          "data": {
            "text/plain": [
              "array([1., 1., 1., 1., 1., 1., 1., 1., 1., 1., 1.])"
            ]
          },
          "metadata": {},
          "execution_count": 55
        }
      ]
    },
    {
      "cell_type": "code",
      "source": [
        "x_observed * x_ones"
      ],
      "metadata": {
        "colab": {
          "base_uri": "https://localhost:8080/"
        },
        "id": "8wW5_6RljFGe",
        "outputId": "00410f8c-d04c-449f-e330-575cdebcf309"
      },
      "execution_count": null,
      "outputs": [
        {
          "output_type": "execute_result",
          "data": {
            "text/plain": [
              "array([-10.,  -8.,  -6.,  -4.,  -2.,   0.,   2.,   4.,   6.,   8.,  10.])"
            ]
          },
          "metadata": {},
          "execution_count": 56
        }
      ]
    },
    {
      "cell_type": "code",
      "source": [
        "d = 3\n",
        "x_tmp = x_ones\n",
        "X_tmp = [x_tmp]\n",
        "for i in range(d):\n",
        "    x_tmp = x_observed * x_tmp\n",
        "    X_tmp.append(x_tmp)\n",
        "\n",
        "X_tmp = np.matrix(X_tmp)\n",
        "X_tmp"
      ],
      "metadata": {
        "colab": {
          "base_uri": "https://localhost:8080/"
        },
        "id": "uZwqHbzeiqSm",
        "outputId": "8dcda1e6-3422-41f8-ecfb-caa927395d31"
      },
      "execution_count": null,
      "outputs": [
        {
          "output_type": "execute_result",
          "data": {
            "text/plain": [
              "matrix([[    1.,     1.,     1.,     1.,     1.,     1.,     1.,     1.,\n",
              "             1.,     1.,     1.],\n",
              "        [  -10.,    -8.,    -6.,    -4.,    -2.,     0.,     2.,     4.,\n",
              "             6.,     8.,    10.],\n",
              "        [  100.,    64.,    36.,    16.,     4.,     0.,     4.,    16.,\n",
              "            36.,    64.,   100.],\n",
              "        [-1000.,  -512.,  -216.,   -64.,    -8.,     0.,     8.,    64.,\n",
              "           216.,   512.,  1000.]])"
            ]
          },
          "metadata": {},
          "execution_count": 57
        }
      ]
    },
    {
      "cell_type": "code",
      "source": [
        "S = X_tmp * X_tmp.T\n",
        "S"
      ],
      "metadata": {
        "colab": {
          "base_uri": "https://localhost:8080/"
        },
        "id": "xRVZEOlVjvxO",
        "outputId": "88409397-ade2-499f-885e-dbbc95e9ea80"
      },
      "execution_count": null,
      "outputs": [
        {
          "output_type": "execute_result",
          "data": {
            "text/plain": [
              "matrix([[1.10000e+01, 0.00000e+00, 4.40000e+02, 0.00000e+00],\n",
              "        [0.00000e+00, 4.40000e+02, 0.00000e+00, 3.13280e+04],\n",
              "        [4.40000e+02, 0.00000e+00, 3.13280e+04, 0.00000e+00],\n",
              "        [0.00000e+00, 3.13280e+04, 0.00000e+00, 2.62592e+06]])"
            ]
          },
          "metadata": {},
          "execution_count": 58
        }
      ]
    },
    {
      "cell_type": "code",
      "source": [
        "T = X_tmp @ f2(x_observed).reshape(len(x_observed), 1)"
      ],
      "metadata": {
        "id": "lLzcYz9Jj_3Y"
      },
      "execution_count": null,
      "outputs": []
    },
    {
      "cell_type": "code",
      "source": [
        "np.linalg.solve(S, T)"
      ],
      "metadata": {
        "colab": {
          "base_uri": "https://localhost:8080/"
        },
        "id": "NkxjHYhglGBK",
        "outputId": "ba6f723f-4488-4c5f-f7a3-a9f878b478d8"
      },
      "execution_count": null,
      "outputs": [
        {
          "output_type": "execute_result",
          "data": {
            "text/plain": [
              "matrix([[ 4.],\n",
              "        [-6.],\n",
              "        [ 2.],\n",
              "        [ 1.]])"
            ]
          },
          "metadata": {},
          "execution_count": 60
        }
      ]
    },
    {
      "cell_type": "code",
      "source": [
        "f2(x_observed).reshape(len(x_observed), 1)"
      ],
      "metadata": {
        "colab": {
          "base_uri": "https://localhost:8080/"
        },
        "id": "JXwjhaYXlIU3",
        "outputId": "2dc44c1c-07d0-4220-832d-7628bdaecb1d"
      },
      "execution_count": null,
      "outputs": [
        {
          "output_type": "execute_result",
          "data": {
            "text/plain": [
              "array([[-736.],\n",
              "       [-332.],\n",
              "       [-104.],\n",
              "       [  -4.],\n",
              "       [  16.],\n",
              "       [   4.],\n",
              "       [   8.],\n",
              "       [  76.],\n",
              "       [ 256.],\n",
              "       [ 596.],\n",
              "       [1144.]])"
            ]
          },
          "metadata": {},
          "execution_count": 61
        }
      ]
    },
    {
      "cell_type": "code",
      "source": [
        "import numpy as np\n",
        "def get_coeff_poly(x_observed, y_observed, d=3):\n",
        "    x_ones = np.ones(len(x_observed))\n",
        "    x_tmp = x_ones\n",
        "    X_tmp = [x_tmp]\n",
        "    for i in range(d):\n",
        "        x_tmp = x_observed * x_tmp\n",
        "        X_tmp.append(x_tmp)\n",
        "\n",
        "    X_tmp = np.matrix(X_tmp)\n",
        "    S = X_tmp * X_tmp.T\n",
        "    T = X_tmp @ y_observed.reshape(len(x_observed), 1)\n",
        "    return np.linalg.solve(S, T).reshape(1, d + 1).A1"
      ],
      "metadata": {
        "id": "Lu9JQgbllK32"
      },
      "execution_count": null,
      "outputs": []
    },
    {
      "cell_type": "code",
      "source": [
        "get_coeff_poly(x_observed, f(x_observed), d=4)"
      ],
      "metadata": {
        "colab": {
          "base_uri": "https://localhost:8080/"
        },
        "id": "fE3lDddrTaFE",
        "outputId": "770e68d0-5c86-42ce-afb3-855a214ec4b3"
      },
      "execution_count": null,
      "outputs": [
        {
          "output_type": "execute_result",
          "data": {
            "text/plain": [
              "array([ 5.00000000e-01,  1.19807394e-01,  4.12367493e-18, -7.46038675e-04,\n",
              "       -4.12367493e-20])"
            ]
          },
          "metadata": {},
          "execution_count": 71
        }
      ]
    },
    {
      "cell_type": "code",
      "source": [
        "def fit_polynominal(coeff, x_latent):\n",
        "    y = 0\n",
        "    for i in range(len(coeff)):\n",
        "        y += coeff[i] * pow(x_latent, i)\n",
        "    return y"
      ],
      "metadata": {
        "id": "K93WV4fvTiqS"
      },
      "execution_count": null,
      "outputs": []
    },
    {
      "cell_type": "code",
      "source": [
        "coeff = get_coeff_poly(x_observed, fx_observed, d=10)\n",
        "y_pred = fit_polynominal(coeff, x_latent)\n",
        "\n",
        "plt.scatter(x_observed, fx_observed, label=\"observed\")\n",
        "plt.plot(x_latent, f(x_latent), label=\"latent\")\n",
        "plt.plot(x_latent, y_pred, label=\"fitted\")\n",
        "plt.legend()"
      ],
      "metadata": {
        "colab": {
          "base_uri": "https://localhost:8080/",
          "height": 282
        },
        "id": "tw8zQ2ANUbxm",
        "outputId": "50912bf7-814e-4445-c99b-764afe767652"
      },
      "execution_count": null,
      "outputs": [
        {
          "output_type": "execute_result",
          "data": {
            "text/plain": [
              "<matplotlib.legend.Legend at 0x7fd7450ebe50>"
            ]
          },
          "metadata": {},
          "execution_count": 75
        },
        {
          "output_type": "display_data",
          "data": {
            "image/png": "[encoded data removed]",
            "text/plain": [
              "<Figure size 432x288 with 1 Axes>"
            ]
          },
          "metadata": {
            "needs_background": "light"
          }
        }
      ]
    },
    {
      "cell_type": "code",
      "source": [
        "coeff = get_coeff_poly(x_observed, gx_observed, d=4)\n",
        "y_pred = fit_polynominal(coeff, x_latent)\n",
        "\n",
        "plt.scatter(x_observed, gx_observed, label=\"observed\")\n",
        "plt.plot(x_latent, g(x_latent), label=\"latent\")\n",
        "plt.plot(x_latent, y_pred, label=\"fitted\")\n",
        "plt.legend()"
      ],
      "metadata": {
        "colab": {
          "base_uri": "https://localhost:8080/",
          "height": 282
        },
        "id": "lh2MuOgJUlvq",
        "outputId": "ea16d079-a1d0-4717-931c-0edebc643b93"
      },
      "execution_count": null,
      "outputs": [
        {
          "output_type": "execute_result",
          "data": {
            "text/plain": [
              "<matplotlib.legend.Legend at 0x7fd745043d50>"
            ]
          },
          "metadata": {},
          "execution_count": 77
        },
        {
          "output_type": "display_data",
          "data": {
            "image/png": "[encoded data removed]",
            "text/plain": [
              "<Figure size 432x288 with 1 Axes>"
            ]
          },
          "metadata": {
            "needs_background": "light"
          }
        }
      ]
    },
    {
      "cell_type": "code",
      "source": [
        "y_observed = np.array([6, 16, 17, 16, 10, 8, 1, 0, 2, 8, 19])"
      ],
      "metadata": {
        "id": "TC6ryVPnWlw5"
      },
      "execution_count": null,
      "outputs": []
    },
    {
      "cell_type": "code",
      "source": [
        "plt.scatter(x_observed, y_observed, label=\"observed\")\n",
        "plt.plot(x_latent, lagrange(x_latent, x_observed, y_observed), label=\"lagrange\")\n",
        "plt.plot(x_latent, spline(x_latent, x_observed, y_observed), label=\"spline\")\n",
        "plt.legend()"
      ],
      "metadata": {
        "colab": {
          "base_uri": "https://localhost:8080/",
          "height": 285
        },
        "id": "XjJK3nQZW9QD",
        "outputId": "f088e608-374e-422a-e941-958fa1332c2d"
      },
      "execution_count": null,
      "outputs": [
        {
          "output_type": "execute_result",
          "data": {
            "text/plain": [
              "<matplotlib.legend.Legend at 0x7fd7448e4d50>"
            ]
          },
          "metadata": {},
          "execution_count": 82
        },
        {
          "output_type": "display_data",
          "data": {
            "image/png": "[encoded data removed]",
            "text/plain": [
              "<Figure size 432x288 with 1 Axes>"
            ]
          },
          "metadata": {
            "needs_background": "light"
          }
        }
      ]
    },
    {
      "cell_type": "code",
      "source": [
        "coeff = get_coeff_poly(x_observed, y_observed, d=3)\n",
        "y_pred = fit_polynominal(coeff, x_latent)\n",
        "\n",
        "plt.scatter(x_observed, y_observed, label=\"observed\")\n",
        "plt.plot(x_latent, y_pred, label=\"fitted\")\n",
        "plt.legend()"
      ],
      "metadata": {
        "colab": {
          "base_uri": "https://localhost:8080/",
          "height": 282
        },
        "id": "a5uPeCEZXAMM",
        "outputId": "40843edd-a4f1-4f7d-dce1-b0a375f3e70c"
      },
      "execution_count": null,
      "outputs": [
        {
          "output_type": "execute_result",
          "data": {
            "text/plain": [
              "<matplotlib.legend.Legend at 0x7fd744785c10>"
            ]
          },
          "metadata": {},
          "execution_count": 84
        },
        {
          "output_type": "display_data",
          "data": {
            "image/png": "[encoded data removed]",
            "text/plain": [
              "<Figure size 432x288 with 1 Axes>"
            ]
          },
          "metadata": {
            "needs_background": "light"
          }
        }
      ]
    },
    {
      "cell_type": "markdown",
      "source": [
        "# 課題８４"
      ],
      "metadata": {
        "id": "xSQsVGTEYqvA"
      }
    },
    {
      "cell_type": "code",
      "source": [
        "!pip install pulp"
      ],
      "metadata": {
        "colab": {
          "base_uri": "https://localhost:8080/"
        },
        "id": "iAbY22d5Xo_c",
        "outputId": "e63f2eba-3202-434a-cfc3-e629a878b87f"
      },
      "execution_count": null,
      "outputs": [
        {
          "output_type": "stream",
          "name": "stdout",
          "text": [
            "Collecting pulp\n",
            "  Downloading PuLP-2.6.0-py3-none-any.whl (14.2 MB)\n",
            "\u001b[K     |████████████████████████████████| 14.2 MB 27.9 MB/s \n",
            "\u001b[?25hInstalling collected packages: pulp\n",
            "Successfully installed pulp-2.6.0\n"
          ]
        }
      ]
    },
    {
      "cell_type": "code",
      "source": [
        "import pulp\n",
        "\n",
        "prob = pulp.LpProblem(name='A_simple_Linear_Programming', sense=pulp.LpMaximize)"
      ],
      "metadata": {
        "id": "tZmQvkD1Y83i"
      },
      "execution_count": null,
      "outputs": []
    },
    {
      "cell_type": "code",
      "source": [
        "x = pulp.LpVariable('x', lowBound = 0)\n",
        "y = pulp.LpVariable('y', lowBound = 0)"
      ],
      "metadata": {
        "id": "rLfHJXofZHde"
      },
      "execution_count": null,
      "outputs": []
    },
    {
      "cell_type": "code",
      "source": [
        "prob += x + y"
      ],
      "metadata": {
        "id": "nnHFF-t6ZNQ4"
      },
      "execution_count": null,
      "outputs": []
    },
    {
      "cell_type": "code",
      "source": [
        "prob += x + 2 * y <= 6\n",
        "prob += 2 * x + y <= 6"
      ],
      "metadata": {
        "id": "ySppDhzPZQwl"
      },
      "execution_count": null,
      "outputs": []
    },
    {
      "cell_type": "code",
      "source": [
        "prob"
      ],
      "metadata": {
        "colab": {
          "base_uri": "https://localhost:8080/"
        },
        "id": "cJ1GQOpOZThd",
        "outputId": "eae96e17-994a-4027-dea1-f6bef4420858"
      },
      "execution_count": null,
      "outputs": [
        {
          "output_type": "execute_result",
          "data": {
            "text/plain": [
              "A_simple_Linear_Programming:\n",
              "MAXIMIZE\n",
              "1*x + 1*y + 0\n",
              "SUBJECT TO\n",
              "_C1: x + 2 y <= 6\n",
              "\n",
              "_C2: 2 x + y <= 6\n",
              "\n",
              "VARIABLES\n",
              "x Continuous\n",
              "y Continuous"
            ]
          },
          "metadata": {},
          "execution_count": 90
        }
      ]
    },
    {
      "cell_type": "code",
      "source": [
        "status = prob.solve()"
      ],
      "metadata": {
        "id": "ya8SWyYpZYr_"
      },
      "execution_count": null,
      "outputs": []
    },
    {
      "cell_type": "code",
      "source": [
        "pulp.LpStatus[status]"
      ],
      "metadata": {
        "colab": {
          "base_uri": "https://localhost:8080/",
          "height": 34
        },
        "id": "R03XEu8SZdlK",
        "outputId": "ef2fee7d-d130-4ff5-9984-e789ed3c2840"
      },
      "execution_count": null,
      "outputs": [
        {
          "output_type": "execute_result",
          "data": {
            "application/vnd.google.colaboratory.intrinsic+json": {
              "type": "string"
            },
            "text/plain": [
              "'Optimal'"
            ]
          },
          "metadata": {},
          "execution_count": 92
        }
      ]
    },
    {
      "cell_type": "code",
      "source": [
        "print(\"Optimal x=\", x.value())\n",
        "print(\"Optimal y=\", y.value())\n",
        "print(\"Optimal z=\", prob.objective.value())"
      ],
      "metadata": {
        "colab": {
          "base_uri": "https://localhost:8080/"
        },
        "id": "Bemw5ZKHZfp3",
        "outputId": "5bd0e03d-3e93-41c8-e293-2dff390834b9"
      },
      "execution_count": null,
      "outputs": [
        {
          "output_type": "stream",
          "name": "stdout",
          "text": [
            "Optimal x= 2.0\n",
            "Optimal y= 2.0\n",
            "Optimal z= 4.0\n"
          ]
        }
      ]
    },
    {
      "cell_type": "code",
      "source": [
        "import pulp\n",
        "\n",
        "prob = pulp.LpProblem(name='A_simple_Linear_Programming', sense=pulp.LpMinimize)"
      ],
      "metadata": {
        "id": "4iFnEPLKZiFo"
      },
      "execution_count": null,
      "outputs": []
    },
    {
      "cell_type": "code",
      "source": [
        "a = pulp.LpVariable('a', lowBound = 0)\n",
        "b = pulp.LpVariable('b', lowBound = 0)\n",
        "c = pulp.LpVariable('c', lowBound = 0)"
      ],
      "metadata": {
        "id": "LFLlo4pRcPsE"
      },
      "execution_count": null,
      "outputs": []
    },
    {
      "cell_type": "code",
      "source": [
        "prob += 40 * a + 20 * b + 50 * c"
      ],
      "metadata": {
        "id": "Hmr1jy7PcbMB"
      },
      "execution_count": null,
      "outputs": []
    },
    {
      "cell_type": "code",
      "source": [
        "prob += 3 * a + 1 * b + 2 * c >= 15"
      ],
      "metadata": {
        "id": "DOE-JOrFcmZ0"
      },
      "execution_count": null,
      "outputs": []
    },
    {
      "cell_type": "code",
      "source": [
        "prob += 1 * a + 2 * b + 4 * c >= 10"
      ],
      "metadata": {
        "id": "6zmo9OUhcxOS"
      },
      "execution_count": null,
      "outputs": []
    },
    {
      "cell_type": "code",
      "source": [
        "prob"
      ],
      "metadata": {
        "colab": {
          "base_uri": "https://localhost:8080/"
        },
        "id": "zp4R66Occ1u-",
        "outputId": "8aec9abf-f5d1-498a-8c8f-9ddb6b888578"
      },
      "execution_count": null,
      "outputs": [
        {
          "output_type": "execute_result",
          "data": {
            "text/plain": [
              "A_simple_Linear_Programming:\n",
              "MINIMIZE\n",
              "40*a + 20*b + 50*c + 0\n",
              "SUBJECT TO\n",
              "_C1: 3 a + b + 2 c >= 15\n",
              "\n",
              "_C2: a + 2 b + 4 c >= 10\n",
              "\n",
              "VARIABLES\n",
              "a Continuous\n",
              "b Continuous\n",
              "c Continuous"
            ]
          },
          "metadata": {},
          "execution_count": 100
        }
      ]
    },
    {
      "cell_type": "code",
      "source": [
        "status = prob.solve()"
      ],
      "metadata": {
        "id": "00gDF_nMc3mS"
      },
      "execution_count": null,
      "outputs": []
    },
    {
      "cell_type": "code",
      "source": [
        "pulp.LpStatus[status]"
      ],
      "metadata": {
        "colab": {
          "base_uri": "https://localhost:8080/",
          "height": 34
        },
        "id": "LxPHUvmtc98e",
        "outputId": "c037f05c-2b65-46f0-b835-e19745a89c72"
      },
      "execution_count": null,
      "outputs": [
        {
          "output_type": "execute_result",
          "data": {
            "application/vnd.google.colaboratory.intrinsic+json": {
              "type": "string"
            },
            "text/plain": [
              "'Optimal'"
            ]
          },
          "metadata": {},
          "execution_count": 102
        }
      ]
    },
    {
      "cell_type": "code",
      "source": [
        "print(\"Optimal a=\", a.value())\n",
        "print(\"Optimal b=\", b.value())\n",
        "print(\"Optimal c=\", c.value())\n",
        "print(\"Optimal z=\", prob.objective.value())"
      ],
      "metadata": {
        "colab": {
          "base_uri": "https://localhost:8080/"
        },
        "id": "H53axaxDc_7E",
        "outputId": "7a6e94ae-26ee-4cf6-ccbb-a6c8aaaa388e"
      },
      "execution_count": null,
      "outputs": [
        {
          "output_type": "stream",
          "name": "stdout",
          "text": [
            "Optimal a= 4.0\n",
            "Optimal b= 3.0\n",
            "Optimal c= 0.0\n",
            "Optimal z= 220.0\n"
          ]
        }
      ]
    },
    {
      "cell_type": "markdown",
      "source": [
        "# 84-2"
      ],
      "metadata": {
        "id": "zatCBgSodROq"
      }
    },
    {
      "cell_type": "code",
      "source": [
        "n =  20\n",
        "a =  [-36, 52, 24, 64, 16, -10, -44, 93, -37, -86, 100, 55, 77, -11, -62, 16, -14, -2, -57, 47]\n",
        "m =  -83"
      ],
      "metadata": {
        "id": "sqzoGBzOeQIQ"
      },
      "execution_count": null,
      "outputs": []
    },
    {
      "cell_type": "code",
      "source": [
        "import pulp\n",
        "\n",
        "prob = pulp.LpProblem(name='A_simple_Linear_Programming', sense=pulp.LpMinimize)\n",
        "vs = [pulp.LpVariable('a{}'.format(x), cat='Binary') for x in range(len(a))]\n",
        "prob += pulp.lpDot(vs, a) == m\n",
        "status = prob.solve()\n",
        "if pulp.LpStatus[status] == 'Optimal':\n",
        "    print(True)\n",
        "    print([vs[i].value() for i in range(len(a))])\n",
        "else:\n",
        "    print(False)"
      ],
      "metadata": {
        "colab": {
          "base_uri": "https://localhost:8080/"
        },
        "id": "_ShZx1mJdFLp",
        "outputId": "d2ecf5d1-45fb-4670-ee9e-18315e70816f"
      },
      "execution_count": null,
      "outputs": [
        {
          "output_type": "stream",
          "name": "stdout",
          "text": [
            "True\n",
            "[1.0, 1.0, 0.0, 0.0, 0.0, 0.0, 0.0, 0.0, 0.0, 1.0, 0.0, 0.0, 0.0, 1.0, 0.0, 0.0, 0.0, 1.0, 0.0, 0.0]\n"
          ]
        }
      ]
    },
    {
      "cell_type": "markdown",
      "source": [
        ""
      ],
      "metadata": {
        "id": "fuSb-8ieedhW"
      }
    },
    {
      "cell_type": "code",
      "source": [
        "n =  20\n",
        "a =  [-7711, -4112, -1207, -2950, -4434, 2544, -5463, -1524, -8374, -9426, -1934, -2191, -8625, 7108, -7383, 4248, -930, 1616, -8065, -7854]\n",
        "m =  -2009"
      ],
      "metadata": {
        "id": "-oi-i_7CeOgY"
      },
      "execution_count": null,
      "outputs": []
    },
    {
      "cell_type": "code",
      "source": [
        "import pulp\n",
        "\n",
        "prob = pulp.LpProblem(name='A_simple_Linear_Programming', sense=pulp.LpMinimize)\n",
        "vs = [pulp.LpVariable('a{}'.format(x), cat='Binary') for x in range(len(a))]\n",
        "prob += pulp.lpDot(vs, a) == m\n",
        "status = prob.solve()\n",
        "if pulp.LpStatus[status] == 'Optimal':\n",
        "    print(True)\n",
        "    print([vs[i].value() for i in range(len(a))])\n",
        "else:\n",
        "    print(False)"
      ],
      "metadata": {
        "colab": {
          "base_uri": "https://localhost:8080/"
        },
        "id": "RwCTfq96etBN",
        "outputId": "e5b8d530-aab3-4889-9d75-c7ba62d9e36b"
      },
      "execution_count": null,
      "outputs": [
        {
          "output_type": "stream",
          "name": "stdout",
          "text": [
            "False\n"
          ]
        }
      ]
    },
    {
      "cell_type": "markdown",
      "source": [
        "# 課題８５"
      ],
      "metadata": {
        "id": "CtLzoYoSf1HO"
      }
    },
    {
      "cell_type": "code",
      "source": [
        "n =  5\n",
        "G = \\\n",
        "[[0, 0, 0, 0, 1],\n",
        " [0, 0, 0, 1, 1],\n",
        " [0, 0, 0, 1, 0],\n",
        " [0, 1, 1, 0, 1],\n",
        " [1, 1, 0, 1, 0]]"
      ],
      "metadata": {
        "id": "zcDZgh19fb1F"
      },
      "execution_count": null,
      "outputs": []
    },
    {
      "cell_type": "code",
      "source": [
        "import copy\n",
        "def task85(G):\n",
        "    longest_cycle = []\n",
        "    for i in range(len(G)):\n",
        "        queue = []\n",
        "        for j in range(len(G)):\n",
        "            if G[i][j] == 1: # 隣接している\n",
        "                queue.append([i, j])\n",
        "\n",
        "    while len(queue) > 0:\n",
        "        path = queue.pop()\n",
        "        for j in range(len(G)):\n",
        "            if G[path[-1]][j] == 1: # 隣接している\n",
        "                new_path = copy.deepcopy(path)\n",
        "                if j in new_path: # 既存の点に戻ってきた時\n",
        "                        if j == new_path[0] and len(new_path) > 2: # 長さ３以上のサイクルが見つかった時\n",
        "                            if len(longest_cycle) < len(new_path): # 最長のサイクルが見つかった時\n",
        "                                longest_cycle = new_path\n",
        "                else: # 既存の点ではなかったとき\n",
        "                    new_path.append(j)\n",
        "                    queue.append(new_path)\n",
        "\n",
        "    return longest_cycle\n",
        "\n",
        "task85(G)"
      ],
      "metadata": {
        "colab": {
          "base_uri": "https://localhost:8080/"
        },
        "id": "XxlUbvUagQQg",
        "outputId": "41b59676-9591-45aa-f28c-7a01f953268d"
      },
      "execution_count": null,
      "outputs": [
        {
          "output_type": "execute_result",
          "data": {
            "text/plain": [
              "[4, 3, 1]"
            ]
          },
          "metadata": {},
          "execution_count": 127
        }
      ]
    },
    {
      "cell_type": "code",
      "source": [
        "n =  8\n",
        "G = \\\n",
        "[[0, 0, 1, 0, 0, 0, 0, 0],\n",
        " [0, 0, 0, 0, 0, 0, 1, 0],\n",
        " [1, 0, 0, 0, 0, 0, 1, 0],\n",
        " [0, 0, 0, 0, 0, 1, 0, 1],\n",
        " [0, 0, 0, 0, 0, 0, 1, 0],\n",
        " [0, 0, 0, 1, 0, 0, 1, 0],\n",
        " [0, 1, 1, 0, 1, 1, 0, 0],\n",
        " [0, 0, 0, 1, 0, 0, 0, 0]]\n",
        "\n",
        "task85(G)"
      ],
      "metadata": {
        "colab": {
          "base_uri": "https://localhost:8080/"
        },
        "id": "b3gdkR_DgdFu",
        "outputId": "e7c18cf8-fcc8-4de8-a096-3fc91cbe5391"
      },
      "execution_count": null,
      "outputs": [
        {
          "output_type": "execute_result",
          "data": {
            "text/plain": [
              "[]"
            ]
          },
          "metadata": {},
          "execution_count": 129
        }
      ]
    },
    {
      "cell_type": "code",
      "source": [
        "n =  10\n",
        "G = \\\n",
        "[[0, 1, 0, 0, 0, 0, 0, 0, 0, 1],\n",
        " [1, 0, 0, 0, 0, 0, 0, 1, 1, 0],\n",
        " [0, 0, 0, 0, 0, 0, 0, 0, 1, 0],\n",
        " [0, 0, 0, 0, 0, 0, 0, 1, 0, 1],\n",
        " [0, 0, 0, 0, 0, 1, 0, 0, 0, 0],\n",
        " [0, 0, 0, 0, 1, 0, 1, 0, 0, 0],\n",
        " [0, 0, 0, 0, 0, 1, 0, 0, 0, 1],\n",
        " [0, 1, 0, 1, 0, 0, 0, 0, 1, 0],\n",
        " [0, 1, 1, 0, 0, 0, 0, 1, 0, 0],\n",
        " [1, 0, 0, 1, 0, 0, 1, 0, 0, 0]]\n",
        "\n",
        "task85(G)"
      ],
      "metadata": {
        "colab": {
          "base_uri": "https://localhost:8080/"
        },
        "id": "LiRJb3UCi1Wa",
        "outputId": "516f6cb0-2e26-4d04-ea7c-acd30aead1b0"
      },
      "execution_count": null,
      "outputs": [
        {
          "output_type": "execute_result",
          "data": {
            "text/plain": [
              "[9, 3, 7, 8, 1, 0]"
            ]
          },
          "metadata": {},
          "execution_count": 131
        }
      ]
    },
    {
      "cell_type": "markdown",
      "source": [
        "# 課題８６"
      ],
      "metadata": {
        "id": "CxjgRXdljlpa"
      }
    },
    {
      "cell_type": "code",
      "source": [
        "n =  5\n",
        "G = \\\n",
        "[[0, 0, 1, 0, 1],\n",
        " [0, 0, 0, 1, 0],\n",
        " [1, 0, 0, 0, 0],\n",
        " [0, 1, 0, 0, 1],\n",
        " [1, 0, 0, 1, 0]]"
      ],
      "metadata": {
        "id": "Qgzd8XmFjqkT"
      },
      "execution_count": null,
      "outputs": []
    },
    {
      "cell_type": "code",
      "source": [
        "import copy\n",
        "\n",
        "def task86(G):\n",
        "    colors = {}\n",
        "    for i in range(len(G)):\n",
        "        if i in colors.keys():\n",
        "            continue\n",
        "        \n",
        "        colors[i] = 0 # ゼロ＝たとえば黒\n",
        "        queue = []\n",
        "        for j in range(len(G)):\n",
        "            if G[i][j] == 1: #隣接している時\n",
        "                #if j in colors.keys(): # 隣接しているノードにすでに色がついていた時\n",
        "                #    if colors[j] == colors[i]: # 隣接しているノードの色が同じ時\n",
        "                #        return False\n",
        "\n",
        "                colors[j] = 1 # たとえば白\n",
        "                queue.append([i, j])\n",
        "\n",
        "        while len(queue) > 0:\n",
        "            path = queue.pop(0)\n",
        "            for j in range(len(G)):\n",
        "                if G[path[-1]][j] == 1: # 隣接している\n",
        "                    if j in colors.keys(): # 隣接しているノードにすでに色がついていた時\n",
        "                        if colors[j] == colors[path[-1]]: # 隣接しているノードの色が同じ時\n",
        "                            return False\n",
        "                        elif colors[path[-1]] == 1: #最後のノードが白の時\n",
        "                            colors[j] = 0 # 次のノードは黒\n",
        "                        else:\n",
        "                            colors[j] = 1 # そうでなければ白\n",
        "\n",
        "                        new_path = copy.deepcopy(path)\n",
        "                        if j not in new_path:\n",
        "                            new_path.append(j)\n",
        "                            queue.append(new_path)\n",
        "    return True"
      ],
      "metadata": {
        "id": "LtepQ885i7oN"
      },
      "execution_count": null,
      "outputs": []
    },
    {
      "cell_type": "code",
      "source": [
        "n =  5\n",
        "G = \\\n",
        "[[0, 0, 1, 0, 1],\n",
        " [0, 0, 0, 1, 0],\n",
        " [1, 0, 0, 0, 0],\n",
        " [0, 1, 0, 0, 1],\n",
        " [1, 0, 0, 1, 0]]\n",
        "\n",
        "task86(G)"
      ],
      "metadata": {
        "colab": {
          "base_uri": "https://localhost:8080/"
        },
        "id": "k7Z0lGEelpru",
        "outputId": "c270fa33-c917-4f10-b8a5-6bebc8a36bee"
      },
      "execution_count": null,
      "outputs": [
        {
          "output_type": "execute_result",
          "data": {
            "text/plain": [
              "False"
            ]
          },
          "metadata": {},
          "execution_count": 146
        }
      ]
    },
    {
      "cell_type": "code",
      "source": [
        "n =  5\n",
        "G = \\\n",
        "[[0, 1, 0, 0, 0],\n",
        " [1, 0, 0, 1, 1],\n",
        " [0, 0, 0, 0, 0],\n",
        " [0, 1, 0, 0, 1],\n",
        " [0, 1, 0, 1, 0]]\n",
        "\n",
        "task86(G)"
      ],
      "metadata": {
        "colab": {
          "base_uri": "https://localhost:8080/"
        },
        "id": "R0_1DHzulwGi",
        "outputId": "44783dfb-beb2-43eb-c639-5422f91dfcd3"
      },
      "execution_count": null,
      "outputs": [
        {
          "output_type": "execute_result",
          "data": {
            "text/plain": [
              "False"
            ]
          },
          "metadata": {},
          "execution_count": 143
        }
      ]
    },
    {
      "cell_type": "code",
      "source": [
        "n =  8\n",
        "G = \\\n",
        "[[0, 0, 0, 0, 0, 1, 0, 0],\n",
        " [0, 0, 0, 1, 0, 0, 0, 0],\n",
        " [0, 0, 0, 1, 0, 0, 0, 0],\n",
        " [0, 1, 1, 0, 0, 1, 0, 0],\n",
        " [0, 0, 0, 0, 0, 0, 1, 1],\n",
        " [1, 0, 0, 1, 0, 0, 1, 1],\n",
        " [0, 0, 0, 0, 1, 1, 0, 0],\n",
        " [0, 0, 0, 0, 1, 1, 0, 0]]\n",
        "\n",
        "task86(G)"
      ],
      "metadata": {
        "colab": {
          "base_uri": "https://localhost:8080/"
        },
        "id": "SzXyrCpZmnvO",
        "outputId": "c50cc953-bfa6-486a-9ae0-d215ed6086ad"
      },
      "execution_count": null,
      "outputs": [
        {
          "output_type": "execute_result",
          "data": {
            "text/plain": [
              "False"
            ]
          },
          "metadata": {},
          "execution_count": 144
        }
      ]
    },
    {
      "cell_type": "markdown",
      "source": [
        "# 課題８７"
      ],
      "metadata": {
        "id": "o0x68vLYnDCj"
      }
    },
    {
      "cell_type": "code",
      "source": [
        "!wget https://raw.githubusercontent.com/maskot1977/ipython_notebook/master/toydata/location.txt "
      ],
      "metadata": {
        "colab": {
          "base_uri": "https://localhost:8080/"
        },
        "id": "k0PPRN84mrES",
        "outputId": "f9aad066-fe10-442a-e7e8-0a8c91afa8a6"
      },
      "execution_count": null,
      "outputs": [
        {
          "output_type": "stream",
          "name": "stdout",
          "text": [
            "--2021-12-23 09:26:17--  https://raw.githubusercontent.com/maskot1977/ipython_notebook/master/toydata/location.txt\n",
            "Resolving raw.githubusercontent.com (raw.githubusercontent.com)... 185.199.108.133, 185.199.109.133, 185.199.110.133, ...\n",
            "Connecting to raw.githubusercontent.com (raw.githubusercontent.com)|185.199.108.133|:443... connected.\n",
            "HTTP request sent, awaiting response... 200 OK\n",
            "Length: 1251 (1.2K) [text/plain]\n",
            "Saving to: ‘location.txt’\n",
            "\n",
            "\rlocation.txt          0%[                    ]       0  --.-KB/s               \rlocation.txt        100%[===================>]   1.22K  --.-KB/s    in 0s      \n",
            "\n",
            "2021-12-23 09:26:17 (33.5 MB/s) - ‘location.txt’ saved [1251/1251]\n",
            "\n"
          ]
        }
      ]
    },
    {
      "cell_type": "code",
      "source": [
        "import pandas as pd\n"
      ],
      "metadata": {
        "id": "qBdgrLJwnM0J"
      },
      "execution_count": null,
      "outputs": []
    }
  ]
}