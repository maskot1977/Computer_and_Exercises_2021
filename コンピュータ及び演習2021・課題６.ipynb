{
  "nbformat": 4,
  "nbformat_minor": 0,
  "metadata": {
    "colab": {
      "name": "コンピュータ及び演習2021・課題６",
      "provenance": [],
      "collapsed_sections": [],
      "authorship_tag": "ABX9TyOpZpWypL3CkdGXRfudTni+"
    },
    "kernelspec": {
      "name": "python3",
      "display_name": "Python 3"
    },
    "language_info": {
      "name": "python"
    }
  },
  "cells": [
    {
      "cell_type": "markdown",
      "metadata": {
        "id": "ZgA5t3uI-DEA"
      },
      "source": [
        "# 課題６"
      ]
    },
    {
      "cell_type": "code",
      "metadata": {
        "id": "7MZBxUAm9_-L"
      },
      "source": [
        "s1 = input('入力１：')\n",
        "s2 = input('入力２：')\n",
        "print(float(s1) / float(s2))"
      ],
      "execution_count": null,
      "outputs": []
    }
  ]
}