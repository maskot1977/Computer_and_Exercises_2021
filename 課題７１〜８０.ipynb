{
  "nbformat": 4,
  "nbformat_minor": 0,
  "metadata": {
    "colab": {
      "name": "課題７１〜８０",
      "provenance": [],
      "collapsed_sections": [],
      "authorship_tag": "ABX9TyOyfzN0jcZZPhRCzSDWzNvf",
      "include_colab_link": true
    },
    "kernelspec": {
      "name": "python3",
      "display_name": "Python 3"
    },
    "language_info": {
      "name": "python"
    }
  },
  "cells": [
    {
      "cell_type": "markdown",
      "metadata": {
        "id": "view-in-github",
        "colab_type": "text"
      },
      "source": [
        "<a href=\"https://colab.research.google.com/github/maskot1977/Computer_and_Exercises_2021/blob/z7HSnQ4F/%E8%AA%B2%E9%A1%8C%EF%BC%97%EF%BC%91%E3%80%9C%EF%BC%98%EF%BC%90.ipynb\" target=\"_parent\"><img src=\"https://colab.research.google.com/assets/colab-badge.svg\" alt=\"Open In Colab\"/></a>"
      ]
    },
    {
      "cell_type": "markdown",
      "source": [
        "# 課題７１"
      ],
      "metadata": {
        "id": "WZLHoVzbMF1p"
      }
    },
    {
      "cell_type": "code",
      "execution_count": null,
      "metadata": {
        "id": "okYddZGyLC90"
      },
      "outputs": [],
      "source": [
        "import pandas as pd\n",
        "df = pd.DataFrame([[100, -20, -60, -20, 100, 300, 580, 940, 1380, 1900],\n",
        " [92, -24, -60, -16, 108, 312, 596, 960, 1404, 1928],\n",
        " [84, -28, -60, -12, 116, 324, 612, 980, 1428, 1956],\n",
        " [77, -31, -59, -7, 125, 337, 629, 1001, 1453, 1985],\n",
        " [70, -34, -58, -2, 134, 350, 646, 1022, 1478, 2014],\n",
        " [62, -38, -58, 2, 142, 362, 662, 1042, 1502, 2042],\n",
        " [56, -40, -56, 8, 152, 376, 680, 1064, 1528, 2072],\n",
        " [49, -43, -55, 13, 161, 389, 697, 1085, 1553, 2101],\n",
        " [42, -46, -54, 18, 170, 402, 714, 1106, 1578, 2130],\n",
        " [36, -48, -52, 24, 180, 416, 732, 1128, 1604, 2160],\n",
        " [30, -50, -50, 30, 190, 430, 750, 1150, 1630, 2190],\n",
        " [24, -52, -48, 36, 200, 444, 768, 1172, 1656, 2220],\n",
        " [18, -54, -46, 42, 210, 458, 786, 1194, 1682, 2250],\n",
        " [13, -55, -43, 49, 221, 473, 805, 1217, 1709, 2281],\n",
        " [8, -56, -40, 56, 232, 488, 824, 1240, 1736, 2312],\n",
        " [2, -58, -38, 62, 242, 502, 842, 1262, 1762, 2342],\n",
        " [-2, -58, -34, 70, 254, 518, 862, 1286, 1790, 2374],\n",
        " [-7, -59, -31, 77, 265, 533, 881, 1309, 1817, 2405],\n",
        " [-12, -60, -28, 84, 276, 548, 900, 1332, 1844, 2436],\n",
        " [-16, -60, -24, 92, 288, 564, 920, 1356, 1872, 2468]],\n",
        "                   index = list(\"abcdefghijklmnopqrst\"),\n",
        "                   columns = list(\"ABCDEFGHIJ\"))"
      ]
    },
    {
      "cell_type": "code",
      "source": [
        "df"
      ],
      "metadata": {
        "colab": {
          "base_uri": "https://localhost:8080/",
          "height": 665
        },
        "id": "RDr4D7GVMR26",
        "outputId": "adc14c7f-a4df-4081-faee-db6198910979"
      },
      "execution_count": null,
      "outputs": [
        {
          "output_type": "execute_result",
          "data": {
            "text/html": [
              "<div>\n",
              "<style scoped>\n",
              "    .dataframe tbody tr th:only-of-type {\n",
              "        vertical-align: middle;\n",
              "    }\n",
              "\n",
              "    .dataframe tbody tr th {\n",
              "        vertical-align: top;\n",
              "    }\n",
              "\n",
              "    .dataframe thead th {\n",
              "        text-align: right;\n",
              "    }\n",
              "</style>\n",
              "<table border=\"1\" class=\"dataframe\">\n",
              "  <thead>\n",
              "    <tr style=\"text-align: right;\">\n",
              "      <th></th>\n",
              "      <th>A</th>\n",
              "      <th>B</th>\n",
              "      <th>C</th>\n",
              "      <th>D</th>\n",
              "      <th>E</th>\n",
              "      <th>F</th>\n",
              "      <th>G</th>\n",
              "      <th>H</th>\n",
              "      <th>I</th>\n",
              "      <th>J</th>\n",
              "    </tr>\n",
              "  </thead>\n",
              "  <tbody>\n",
              "    <tr>\n",
              "      <th>a</th>\n",
              "      <td>100</td>\n",
              "      <td>-20</td>\n",
              "      <td>-60</td>\n",
              "      <td>-20</td>\n",
              "      <td>100</td>\n",
              "      <td>300</td>\n",
              "      <td>580</td>\n",
              "      <td>940</td>\n",
              "      <td>1380</td>\n",
              "      <td>1900</td>\n",
              "    </tr>\n",
              "    <tr>\n",
              "      <th>b</th>\n",
              "      <td>92</td>\n",
              "      <td>-24</td>\n",
              "      <td>-60</td>\n",
              "      <td>-16</td>\n",
              "      <td>108</td>\n",
              "      <td>312</td>\n",
              "      <td>596</td>\n",
              "      <td>960</td>\n",
              "      <td>1404</td>\n",
              "      <td>1928</td>\n",
              "    </tr>\n",
              "    <tr>\n",
              "      <th>c</th>\n",
              "      <td>84</td>\n",
              "      <td>-28</td>\n",
              "      <td>-60</td>\n",
              "      <td>-12</td>\n",
              "      <td>116</td>\n",
              "      <td>324</td>\n",
              "      <td>612</td>\n",
              "      <td>980</td>\n",
              "      <td>1428</td>\n",
              "      <td>1956</td>\n",
              "    </tr>\n",
              "    <tr>\n",
              "      <th>d</th>\n",
              "      <td>77</td>\n",
              "      <td>-31</td>\n",
              "      <td>-59</td>\n",
              "      <td>-7</td>\n",
              "      <td>125</td>\n",
              "      <td>337</td>\n",
              "      <td>629</td>\n",
              "      <td>1001</td>\n",
              "      <td>1453</td>\n",
              "      <td>1985</td>\n",
              "    </tr>\n",
              "    <tr>\n",
              "      <th>e</th>\n",
              "      <td>70</td>\n",
              "      <td>-34</td>\n",
              "      <td>-58</td>\n",
              "      <td>-2</td>\n",
              "      <td>134</td>\n",
              "      <td>350</td>\n",
              "      <td>646</td>\n",
              "      <td>1022</td>\n",
              "      <td>1478</td>\n",
              "      <td>2014</td>\n",
              "    </tr>\n",
              "    <tr>\n",
              "      <th>f</th>\n",
              "      <td>62</td>\n",
              "      <td>-38</td>\n",
              "      <td>-58</td>\n",
              "      <td>2</td>\n",
              "      <td>142</td>\n",
              "      <td>362</td>\n",
              "      <td>662</td>\n",
              "      <td>1042</td>\n",
              "      <td>1502</td>\n",
              "      <td>2042</td>\n",
              "    </tr>\n",
              "    <tr>\n",
              "      <th>g</th>\n",
              "      <td>56</td>\n",
              "      <td>-40</td>\n",
              "      <td>-56</td>\n",
              "      <td>8</td>\n",
              "      <td>152</td>\n",
              "      <td>376</td>\n",
              "      <td>680</td>\n",
              "      <td>1064</td>\n",
              "      <td>1528</td>\n",
              "      <td>2072</td>\n",
              "    </tr>\n",
              "    <tr>\n",
              "      <th>h</th>\n",
              "      <td>49</td>\n",
              "      <td>-43</td>\n",
              "      <td>-55</td>\n",
              "      <td>13</td>\n",
              "      <td>161</td>\n",
              "      <td>389</td>\n",
              "      <td>697</td>\n",
              "      <td>1085</td>\n",
              "      <td>1553</td>\n",
              "      <td>2101</td>\n",
              "    </tr>\n",
              "    <tr>\n",
              "      <th>i</th>\n",
              "      <td>42</td>\n",
              "      <td>-46</td>\n",
              "      <td>-54</td>\n",
              "      <td>18</td>\n",
              "      <td>170</td>\n",
              "      <td>402</td>\n",
              "      <td>714</td>\n",
              "      <td>1106</td>\n",
              "      <td>1578</td>\n",
              "      <td>2130</td>\n",
              "    </tr>\n",
              "    <tr>\n",
              "      <th>j</th>\n",
              "      <td>36</td>\n",
              "      <td>-48</td>\n",
              "      <td>-52</td>\n",
              "      <td>24</td>\n",
              "      <td>180</td>\n",
              "      <td>416</td>\n",
              "      <td>732</td>\n",
              "      <td>1128</td>\n",
              "      <td>1604</td>\n",
              "      <td>2160</td>\n",
              "    </tr>\n",
              "    <tr>\n",
              "      <th>k</th>\n",
              "      <td>30</td>\n",
              "      <td>-50</td>\n",
              "      <td>-50</td>\n",
              "      <td>30</td>\n",
              "      <td>190</td>\n",
              "      <td>430</td>\n",
              "      <td>750</td>\n",
              "      <td>1150</td>\n",
              "      <td>1630</td>\n",
              "      <td>2190</td>\n",
              "    </tr>\n",
              "    <tr>\n",
              "      <th>l</th>\n",
              "      <td>24</td>\n",
              "      <td>-52</td>\n",
              "      <td>-48</td>\n",
              "      <td>36</td>\n",
              "      <td>200</td>\n",
              "      <td>444</td>\n",
              "      <td>768</td>\n",
              "      <td>1172</td>\n",
              "      <td>1656</td>\n",
              "      <td>2220</td>\n",
              "    </tr>\n",
              "    <tr>\n",
              "      <th>m</th>\n",
              "      <td>18</td>\n",
              "      <td>-54</td>\n",
              "      <td>-46</td>\n",
              "      <td>42</td>\n",
              "      <td>210</td>\n",
              "      <td>458</td>\n",
              "      <td>786</td>\n",
              "      <td>1194</td>\n",
              "      <td>1682</td>\n",
              "      <td>2250</td>\n",
              "    </tr>\n",
              "    <tr>\n",
              "      <th>n</th>\n",
              "      <td>13</td>\n",
              "      <td>-55</td>\n",
              "      <td>-43</td>\n",
              "      <td>49</td>\n",
              "      <td>221</td>\n",
              "      <td>473</td>\n",
              "      <td>805</td>\n",
              "      <td>1217</td>\n",
              "      <td>1709</td>\n",
              "      <td>2281</td>\n",
              "    </tr>\n",
              "    <tr>\n",
              "      <th>o</th>\n",
              "      <td>8</td>\n",
              "      <td>-56</td>\n",
              "      <td>-40</td>\n",
              "      <td>56</td>\n",
              "      <td>232</td>\n",
              "      <td>488</td>\n",
              "      <td>824</td>\n",
              "      <td>1240</td>\n",
              "      <td>1736</td>\n",
              "      <td>2312</td>\n",
              "    </tr>\n",
              "    <tr>\n",
              "      <th>p</th>\n",
              "      <td>2</td>\n",
              "      <td>-58</td>\n",
              "      <td>-38</td>\n",
              "      <td>62</td>\n",
              "      <td>242</td>\n",
              "      <td>502</td>\n",
              "      <td>842</td>\n",
              "      <td>1262</td>\n",
              "      <td>1762</td>\n",
              "      <td>2342</td>\n",
              "    </tr>\n",
              "    <tr>\n",
              "      <th>q</th>\n",
              "      <td>-2</td>\n",
              "      <td>-58</td>\n",
              "      <td>-34</td>\n",
              "      <td>70</td>\n",
              "      <td>254</td>\n",
              "      <td>518</td>\n",
              "      <td>862</td>\n",
              "      <td>1286</td>\n",
              "      <td>1790</td>\n",
              "      <td>2374</td>\n",
              "    </tr>\n",
              "    <tr>\n",
              "      <th>r</th>\n",
              "      <td>-7</td>\n",
              "      <td>-59</td>\n",
              "      <td>-31</td>\n",
              "      <td>77</td>\n",
              "      <td>265</td>\n",
              "      <td>533</td>\n",
              "      <td>881</td>\n",
              "      <td>1309</td>\n",
              "      <td>1817</td>\n",
              "      <td>2405</td>\n",
              "    </tr>\n",
              "    <tr>\n",
              "      <th>s</th>\n",
              "      <td>-12</td>\n",
              "      <td>-60</td>\n",
              "      <td>-28</td>\n",
              "      <td>84</td>\n",
              "      <td>276</td>\n",
              "      <td>548</td>\n",
              "      <td>900</td>\n",
              "      <td>1332</td>\n",
              "      <td>1844</td>\n",
              "      <td>2436</td>\n",
              "    </tr>\n",
              "    <tr>\n",
              "      <th>t</th>\n",
              "      <td>-16</td>\n",
              "      <td>-60</td>\n",
              "      <td>-24</td>\n",
              "      <td>92</td>\n",
              "      <td>288</td>\n",
              "      <td>564</td>\n",
              "      <td>920</td>\n",
              "      <td>1356</td>\n",
              "      <td>1872</td>\n",
              "      <td>2468</td>\n",
              "    </tr>\n",
              "  </tbody>\n",
              "</table>\n",
              "</div>"
            ],
            "text/plain": [
              "     A   B   C   D    E    F    G     H     I     J\n",
              "a  100 -20 -60 -20  100  300  580   940  1380  1900\n",
              "b   92 -24 -60 -16  108  312  596   960  1404  1928\n",
              "c   84 -28 -60 -12  116  324  612   980  1428  1956\n",
              "d   77 -31 -59  -7  125  337  629  1001  1453  1985\n",
              "e   70 -34 -58  -2  134  350  646  1022  1478  2014\n",
              "f   62 -38 -58   2  142  362  662  1042  1502  2042\n",
              "g   56 -40 -56   8  152  376  680  1064  1528  2072\n",
              "h   49 -43 -55  13  161  389  697  1085  1553  2101\n",
              "i   42 -46 -54  18  170  402  714  1106  1578  2130\n",
              "j   36 -48 -52  24  180  416  732  1128  1604  2160\n",
              "k   30 -50 -50  30  190  430  750  1150  1630  2190\n",
              "l   24 -52 -48  36  200  444  768  1172  1656  2220\n",
              "m   18 -54 -46  42  210  458  786  1194  1682  2250\n",
              "n   13 -55 -43  49  221  473  805  1217  1709  2281\n",
              "o    8 -56 -40  56  232  488  824  1240  1736  2312\n",
              "p    2 -58 -38  62  242  502  842  1262  1762  2342\n",
              "q   -2 -58 -34  70  254  518  862  1286  1790  2374\n",
              "r   -7 -59 -31  77  265  533  881  1309  1817  2405\n",
              "s  -12 -60 -28  84  276  548  900  1332  1844  2436\n",
              "t  -16 -60 -24  92  288  564  920  1356  1872  2468"
            ]
          },
          "metadata": {},
          "execution_count": 3
        }
      ]
    },
    {
      "cell_type": "code",
      "source": [
        "df.iloc[10:20, 5:9] # 指定した行、指定した列だけ抜き出す\n",
        "df.describe()"
      ],
      "metadata": {
        "colab": {
          "base_uri": "https://localhost:8080/",
          "height": 357
        },
        "id": "KI7CgLSOMTGB",
        "outputId": "9726d706-84d9-4947-a5b1-98241df355bb"
      },
      "execution_count": null,
      "outputs": [
        {
          "output_type": "execute_result",
          "data": {
            "text/html": [
              "<div>\n",
              "<style scoped>\n",
              "    .dataframe tbody tr th:only-of-type {\n",
              "        vertical-align: middle;\n",
              "    }\n",
              "\n",
              "    .dataframe tbody tr th {\n",
              "        vertical-align: top;\n",
              "    }\n",
              "\n",
              "    .dataframe thead th {\n",
              "        text-align: right;\n",
              "    }\n",
              "</style>\n",
              "<table border=\"1\" class=\"dataframe\">\n",
              "  <thead>\n",
              "    <tr style=\"text-align: right;\">\n",
              "      <th></th>\n",
              "      <th>F</th>\n",
              "      <th>G</th>\n",
              "      <th>H</th>\n",
              "      <th>I</th>\n",
              "    </tr>\n",
              "  </thead>\n",
              "  <tbody>\n",
              "    <tr>\n",
              "      <th>k</th>\n",
              "      <td>430</td>\n",
              "      <td>750</td>\n",
              "      <td>1150</td>\n",
              "      <td>1630</td>\n",
              "    </tr>\n",
              "    <tr>\n",
              "      <th>l</th>\n",
              "      <td>444</td>\n",
              "      <td>768</td>\n",
              "      <td>1172</td>\n",
              "      <td>1656</td>\n",
              "    </tr>\n",
              "    <tr>\n",
              "      <th>m</th>\n",
              "      <td>458</td>\n",
              "      <td>786</td>\n",
              "      <td>1194</td>\n",
              "      <td>1682</td>\n",
              "    </tr>\n",
              "    <tr>\n",
              "      <th>n</th>\n",
              "      <td>473</td>\n",
              "      <td>805</td>\n",
              "      <td>1217</td>\n",
              "      <td>1709</td>\n",
              "    </tr>\n",
              "    <tr>\n",
              "      <th>o</th>\n",
              "      <td>488</td>\n",
              "      <td>824</td>\n",
              "      <td>1240</td>\n",
              "      <td>1736</td>\n",
              "    </tr>\n",
              "    <tr>\n",
              "      <th>p</th>\n",
              "      <td>502</td>\n",
              "      <td>842</td>\n",
              "      <td>1262</td>\n",
              "      <td>1762</td>\n",
              "    </tr>\n",
              "    <tr>\n",
              "      <th>q</th>\n",
              "      <td>518</td>\n",
              "      <td>862</td>\n",
              "      <td>1286</td>\n",
              "      <td>1790</td>\n",
              "    </tr>\n",
              "    <tr>\n",
              "      <th>r</th>\n",
              "      <td>533</td>\n",
              "      <td>881</td>\n",
              "      <td>1309</td>\n",
              "      <td>1817</td>\n",
              "    </tr>\n",
              "    <tr>\n",
              "      <th>s</th>\n",
              "      <td>548</td>\n",
              "      <td>900</td>\n",
              "      <td>1332</td>\n",
              "      <td>1844</td>\n",
              "    </tr>\n",
              "    <tr>\n",
              "      <th>t</th>\n",
              "      <td>564</td>\n",
              "      <td>920</td>\n",
              "      <td>1356</td>\n",
              "      <td>1872</td>\n",
              "    </tr>\n",
              "  </tbody>\n",
              "</table>\n",
              "</div>"
            ],
            "text/plain": [
              "     F    G     H     I\n",
              "k  430  750  1150  1630\n",
              "l  444  768  1172  1656\n",
              "m  458  786  1194  1682\n",
              "n  473  805  1217  1709\n",
              "o  488  824  1240  1736\n",
              "p  502  842  1262  1762\n",
              "q  518  862  1286  1790\n",
              "r  533  881  1309  1817\n",
              "s  548  900  1332  1844\n",
              "t  564  920  1356  1872"
            ]
          },
          "metadata": {},
          "execution_count": 4
        }
      ]
    },
    {
      "cell_type": "code",
      "source": [
        "df.describe()"
      ],
      "metadata": {
        "colab": {
          "base_uri": "https://localhost:8080/",
          "height": 315
        },
        "id": "_c8uFqN8MhKg",
        "outputId": "965f8bb7-41c0-4d8a-aeed-1f7a3ba760b1"
      },
      "execution_count": null,
      "outputs": [
        {
          "output_type": "execute_result",
          "data": {
            "text/html": [
              "<div>\n",
              "<style scoped>\n",
              "    .dataframe tbody tr th:only-of-type {\n",
              "        vertical-align: middle;\n",
              "    }\n",
              "\n",
              "    .dataframe tbody tr th {\n",
              "        vertical-align: top;\n",
              "    }\n",
              "\n",
              "    .dataframe thead th {\n",
              "        text-align: right;\n",
              "    }\n",
              "</style>\n",
              "<table border=\"1\" class=\"dataframe\">\n",
              "  <thead>\n",
              "    <tr style=\"text-align: right;\">\n",
              "      <th></th>\n",
              "      <th>A</th>\n",
              "      <th>B</th>\n",
              "      <th>C</th>\n",
              "      <th>D</th>\n",
              "      <th>E</th>\n",
              "      <th>F</th>\n",
              "      <th>G</th>\n",
              "      <th>H</th>\n",
              "      <th>I</th>\n",
              "      <th>J</th>\n",
              "    </tr>\n",
              "  </thead>\n",
              "  <tbody>\n",
              "    <tr>\n",
              "      <th>count</th>\n",
              "      <td>20.000000</td>\n",
              "      <td>20.000000</td>\n",
              "      <td>20.000000</td>\n",
              "      <td>20.000000</td>\n",
              "      <td>20.000000</td>\n",
              "      <td>20.000000</td>\n",
              "      <td>20.000000</td>\n",
              "      <td>20.000000</td>\n",
              "      <td>20.000000</td>\n",
              "      <td>20.000000</td>\n",
              "    </tr>\n",
              "    <tr>\n",
              "      <th>mean</th>\n",
              "      <td>36.300000</td>\n",
              "      <td>-45.700000</td>\n",
              "      <td>-47.700000</td>\n",
              "      <td>30.300000</td>\n",
              "      <td>188.300000</td>\n",
              "      <td>426.300000</td>\n",
              "      <td>744.300000</td>\n",
              "      <td>1142.300000</td>\n",
              "      <td>1620.300000</td>\n",
              "      <td>2178.300000</td>\n",
              "    </tr>\n",
              "    <tr>\n",
              "      <th>std</th>\n",
              "      <td>36.220233</td>\n",
              "      <td>12.794324</td>\n",
              "      <td>11.639768</td>\n",
              "      <td>35.032466</td>\n",
              "      <td>58.643526</td>\n",
              "      <td>82.285191</td>\n",
              "      <td>105.936972</td>\n",
              "      <td>129.593332</td>\n",
              "      <td>153.252149</td>\n",
              "      <td>176.912437</td>\n",
              "    </tr>\n",
              "    <tr>\n",
              "      <th>min</th>\n",
              "      <td>-16.000000</td>\n",
              "      <td>-60.000000</td>\n",
              "      <td>-60.000000</td>\n",
              "      <td>-20.000000</td>\n",
              "      <td>100.000000</td>\n",
              "      <td>300.000000</td>\n",
              "      <td>580.000000</td>\n",
              "      <td>940.000000</td>\n",
              "      <td>1380.000000</td>\n",
              "      <td>1900.000000</td>\n",
              "    </tr>\n",
              "    <tr>\n",
              "      <th>25%</th>\n",
              "      <td>6.500000</td>\n",
              "      <td>-56.500000</td>\n",
              "      <td>-58.000000</td>\n",
              "      <td>1.000000</td>\n",
              "      <td>140.000000</td>\n",
              "      <td>359.000000</td>\n",
              "      <td>658.000000</td>\n",
              "      <td>1037.000000</td>\n",
              "      <td>1496.000000</td>\n",
              "      <td>2035.000000</td>\n",
              "    </tr>\n",
              "    <tr>\n",
              "      <th>50%</th>\n",
              "      <td>33.000000</td>\n",
              "      <td>-49.000000</td>\n",
              "      <td>-51.000000</td>\n",
              "      <td>27.000000</td>\n",
              "      <td>185.000000</td>\n",
              "      <td>423.000000</td>\n",
              "      <td>741.000000</td>\n",
              "      <td>1139.000000</td>\n",
              "      <td>1617.000000</td>\n",
              "      <td>2175.000000</td>\n",
              "    </tr>\n",
              "    <tr>\n",
              "      <th>75%</th>\n",
              "      <td>64.000000</td>\n",
              "      <td>-37.000000</td>\n",
              "      <td>-39.500000</td>\n",
              "      <td>57.500000</td>\n",
              "      <td>234.500000</td>\n",
              "      <td>491.500000</td>\n",
              "      <td>828.500000</td>\n",
              "      <td>1245.500000</td>\n",
              "      <td>1742.500000</td>\n",
              "      <td>2319.500000</td>\n",
              "    </tr>\n",
              "    <tr>\n",
              "      <th>max</th>\n",
              "      <td>100.000000</td>\n",
              "      <td>-20.000000</td>\n",
              "      <td>-24.000000</td>\n",
              "      <td>92.000000</td>\n",
              "      <td>288.000000</td>\n",
              "      <td>564.000000</td>\n",
              "      <td>920.000000</td>\n",
              "      <td>1356.000000</td>\n",
              "      <td>1872.000000</td>\n",
              "      <td>2468.000000</td>\n",
              "    </tr>\n",
              "  </tbody>\n",
              "</table>\n",
              "</div>"
            ],
            "text/plain": [
              "                A          B          C  ...            H            I            J\n",
              "count   20.000000  20.000000  20.000000  ...    20.000000    20.000000    20.000000\n",
              "mean    36.300000 -45.700000 -47.700000  ...  1142.300000  1620.300000  2178.300000\n",
              "std     36.220233  12.794324  11.639768  ...   129.593332   153.252149   176.912437\n",
              "min    -16.000000 -60.000000 -60.000000  ...   940.000000  1380.000000  1900.000000\n",
              "25%      6.500000 -56.500000 -58.000000  ...  1037.000000  1496.000000  2035.000000\n",
              "50%     33.000000 -49.000000 -51.000000  ...  1139.000000  1617.000000  2175.000000\n",
              "75%     64.000000 -37.000000 -39.500000  ...  1245.500000  1742.500000  2319.500000\n",
              "max    100.000000 -20.000000 -24.000000  ...  1356.000000  1872.000000  2468.000000\n",
              "\n",
              "[8 rows x 10 columns]"
            ]
          },
          "metadata": {},
          "execution_count": 5
        }
      ]
    },
    {
      "cell_type": "code",
      "source": [
        "df.corr()"
      ],
      "metadata": {
        "colab": {
          "base_uri": "https://localhost:8080/",
          "height": 377
        },
        "id": "-kt_HNeGMsiQ",
        "outputId": "a11ff957-c4fa-4f29-e07b-260ef725bc9d"
      },
      "execution_count": null,
      "outputs": [
        {
          "output_type": "execute_result",
          "data": {
            "text/html": [
              "<div>\n",
              "<style scoped>\n",
              "    .dataframe tbody tr th:only-of-type {\n",
              "        vertical-align: middle;\n",
              "    }\n",
              "\n",
              "    .dataframe tbody tr th {\n",
              "        vertical-align: top;\n",
              "    }\n",
              "\n",
              "    .dataframe thead th {\n",
              "        text-align: right;\n",
              "    }\n",
              "</style>\n",
              "<table border=\"1\" class=\"dataframe\">\n",
              "  <thead>\n",
              "    <tr style=\"text-align: right;\">\n",
              "      <th></th>\n",
              "      <th>A</th>\n",
              "      <th>B</th>\n",
              "      <th>C</th>\n",
              "      <th>D</th>\n",
              "      <th>E</th>\n",
              "      <th>F</th>\n",
              "      <th>G</th>\n",
              "      <th>H</th>\n",
              "      <th>I</th>\n",
              "      <th>J</th>\n",
              "    </tr>\n",
              "  </thead>\n",
              "  <tbody>\n",
              "    <tr>\n",
              "      <th>A</th>\n",
              "      <td>1.000000</td>\n",
              "      <td>0.987887</td>\n",
              "      <td>-0.940014</td>\n",
              "      <td>-0.985441</td>\n",
              "      <td>-0.990788</td>\n",
              "      <td>-0.992696</td>\n",
              "      <td>-0.993658</td>\n",
              "      <td>-0.994233</td>\n",
              "      <td>-0.994615</td>\n",
              "      <td>-0.994886</td>\n",
              "    </tr>\n",
              "    <tr>\n",
              "      <th>B</th>\n",
              "      <td>0.987887</td>\n",
              "      <td>1.000000</td>\n",
              "      <td>-0.875691</td>\n",
              "      <td>-0.947122</td>\n",
              "      <td>-0.957773</td>\n",
              "      <td>-0.961951</td>\n",
              "      <td>-0.964172</td>\n",
              "      <td>-0.965549</td>\n",
              "      <td>-0.966485</td>\n",
              "      <td>-0.967162</td>\n",
              "    </tr>\n",
              "    <tr>\n",
              "      <th>C</th>\n",
              "      <td>-0.940014</td>\n",
              "      <td>-0.875691</td>\n",
              "      <td>1.000000</td>\n",
              "      <td>0.984327</td>\n",
              "      <td>0.977551</td>\n",
              "      <td>0.974303</td>\n",
              "      <td>0.972412</td>\n",
              "      <td>0.971176</td>\n",
              "      <td>0.970307</td>\n",
              "      <td>0.969662</td>\n",
              "    </tr>\n",
              "    <tr>\n",
              "      <th>D</th>\n",
              "      <td>-0.985441</td>\n",
              "      <td>-0.947122</td>\n",
              "      <td>0.984327</td>\n",
              "      <td>1.000000</td>\n",
              "      <td>0.999387</td>\n",
              "      <td>0.998755</td>\n",
              "      <td>0.998309</td>\n",
              "      <td>0.997991</td>\n",
              "      <td>0.997755</td>\n",
              "      <td>0.997574</td>\n",
              "    </tr>\n",
              "    <tr>\n",
              "      <th>E</th>\n",
              "      <td>-0.990788</td>\n",
              "      <td>-0.957773</td>\n",
              "      <td>0.977551</td>\n",
              "      <td>0.999387</td>\n",
              "      <td>1.000000</td>\n",
              "      <td>0.999889</td>\n",
              "      <td>0.999732</td>\n",
              "      <td>0.999597</td>\n",
              "      <td>0.999488</td>\n",
              "      <td>0.999399</td>\n",
              "    </tr>\n",
              "    <tr>\n",
              "      <th>F</th>\n",
              "      <td>-0.992696</td>\n",
              "      <td>-0.961951</td>\n",
              "      <td>0.974303</td>\n",
              "      <td>0.998755</td>\n",
              "      <td>0.999889</td>\n",
              "      <td>1.000000</td>\n",
              "      <td>0.999966</td>\n",
              "      <td>0.999909</td>\n",
              "      <td>0.999854</td>\n",
              "      <td>0.999805</td>\n",
              "    </tr>\n",
              "    <tr>\n",
              "      <th>G</th>\n",
              "      <td>-0.993658</td>\n",
              "      <td>-0.964172</td>\n",
              "      <td>0.972412</td>\n",
              "      <td>0.998309</td>\n",
              "      <td>0.999732</td>\n",
              "      <td>0.999966</td>\n",
              "      <td>1.000000</td>\n",
              "      <td>0.999986</td>\n",
              "      <td>0.999961</td>\n",
              "      <td>0.999934</td>\n",
              "    </tr>\n",
              "    <tr>\n",
              "      <th>H</th>\n",
              "      <td>-0.994233</td>\n",
              "      <td>-0.965549</td>\n",
              "      <td>0.971176</td>\n",
              "      <td>0.997991</td>\n",
              "      <td>0.999597</td>\n",
              "      <td>0.999909</td>\n",
              "      <td>0.999986</td>\n",
              "      <td>1.000000</td>\n",
              "      <td>0.999993</td>\n",
              "      <td>0.999980</td>\n",
              "    </tr>\n",
              "    <tr>\n",
              "      <th>I</th>\n",
              "      <td>-0.994615</td>\n",
              "      <td>-0.966485</td>\n",
              "      <td>0.970307</td>\n",
              "      <td>0.997755</td>\n",
              "      <td>0.999488</td>\n",
              "      <td>0.999854</td>\n",
              "      <td>0.999961</td>\n",
              "      <td>0.999993</td>\n",
              "      <td>1.000000</td>\n",
              "      <td>0.999996</td>\n",
              "    </tr>\n",
              "    <tr>\n",
              "      <th>J</th>\n",
              "      <td>-0.994886</td>\n",
              "      <td>-0.967162</td>\n",
              "      <td>0.969662</td>\n",
              "      <td>0.997574</td>\n",
              "      <td>0.999399</td>\n",
              "      <td>0.999805</td>\n",
              "      <td>0.999934</td>\n",
              "      <td>0.999980</td>\n",
              "      <td>0.999996</td>\n",
              "      <td>1.000000</td>\n",
              "    </tr>\n",
              "  </tbody>\n",
              "</table>\n",
              "</div>"
            ],
            "text/plain": [
              "          A         B         C  ...         H         I         J\n",
              "A  1.000000  0.987887 -0.940014  ... -0.994233 -0.994615 -0.994886\n",
              "B  0.987887  1.000000 -0.875691  ... -0.965549 -0.966485 -0.967162\n",
              "C -0.940014 -0.875691  1.000000  ...  0.971176  0.970307  0.969662\n",
              "D -0.985441 -0.947122  0.984327  ...  0.997991  0.997755  0.997574\n",
              "E -0.990788 -0.957773  0.977551  ...  0.999597  0.999488  0.999399\n",
              "F -0.992696 -0.961951  0.974303  ...  0.999909  0.999854  0.999805\n",
              "G -0.993658 -0.964172  0.972412  ...  0.999986  0.999961  0.999934\n",
              "H -0.994233 -0.965549  0.971176  ...  1.000000  0.999993  0.999980\n",
              "I -0.994615 -0.966485  0.970307  ...  0.999993  1.000000  0.999996\n",
              "J -0.994886 -0.967162  0.969662  ...  0.999980  0.999996  1.000000\n",
              "\n",
              "[10 rows x 10 columns]"
            ]
          },
          "metadata": {},
          "execution_count": 6
        }
      ]
    },
    {
      "cell_type": "code",
      "source": [
        "import urllib.request\n",
        "import pandas as pd\n",
        "\n",
        "# ニューヨークの大気状態観測値データ\n",
        "url = 'https://raw.githubusercontent.com/maskot1977/ipython_notebook/master/toydata/airquality.txt' \n",
        "urllib.request.urlretrieve(url, 'airquality.txt')\n",
        "\n",
        "df = pd.read_csv('airquality.txt', sep='\\t', index_col=0) "
      ],
      "metadata": {
        "id": "WhDKz-uUM_Q7"
      },
      "execution_count": null,
      "outputs": []
    },
    {
      "cell_type": "code",
      "source": [
        "df"
      ],
      "metadata": {
        "colab": {
          "base_uri": "https://localhost:8080/",
          "height": 417
        },
        "id": "YC9pun7RNi4x",
        "outputId": "f210572b-9146-477a-d46a-8cb759d9f90c"
      },
      "execution_count": null,
      "outputs": [
        {
          "output_type": "execute_result",
          "data": {
            "text/html": [
              "<div>\n",
              "<style scoped>\n",
              "    .dataframe tbody tr th:only-of-type {\n",
              "        vertical-align: middle;\n",
              "    }\n",
              "\n",
              "    .dataframe tbody tr th {\n",
              "        vertical-align: top;\n",
              "    }\n",
              "\n",
              "    .dataframe thead th {\n",
              "        text-align: right;\n",
              "    }\n",
              "</style>\n",
              "<table border=\"1\" class=\"dataframe\">\n",
              "  <thead>\n",
              "    <tr style=\"text-align: right;\">\n",
              "      <th></th>\n",
              "      <th>Ozone</th>\n",
              "      <th>Solar.R</th>\n",
              "      <th>Wind</th>\n",
              "      <th>Temp</th>\n",
              "      <th>Month</th>\n",
              "      <th>Day</th>\n",
              "    </tr>\n",
              "  </thead>\n",
              "  <tbody>\n",
              "    <tr>\n",
              "      <th>1</th>\n",
              "      <td>41</td>\n",
              "      <td>190</td>\n",
              "      <td>7.4</td>\n",
              "      <td>67</td>\n",
              "      <td>5</td>\n",
              "      <td>1</td>\n",
              "    </tr>\n",
              "    <tr>\n",
              "      <th>2</th>\n",
              "      <td>36</td>\n",
              "      <td>118</td>\n",
              "      <td>8.0</td>\n",
              "      <td>72</td>\n",
              "      <td>5</td>\n",
              "      <td>2</td>\n",
              "    </tr>\n",
              "    <tr>\n",
              "      <th>3</th>\n",
              "      <td>12</td>\n",
              "      <td>149</td>\n",
              "      <td>12.6</td>\n",
              "      <td>74</td>\n",
              "      <td>5</td>\n",
              "      <td>3</td>\n",
              "    </tr>\n",
              "    <tr>\n",
              "      <th>4</th>\n",
              "      <td>18</td>\n",
              "      <td>313</td>\n",
              "      <td>11.5</td>\n",
              "      <td>62</td>\n",
              "      <td>5</td>\n",
              "      <td>4</td>\n",
              "    </tr>\n",
              "    <tr>\n",
              "      <th>7</th>\n",
              "      <td>23</td>\n",
              "      <td>299</td>\n",
              "      <td>8.6</td>\n",
              "      <td>65</td>\n",
              "      <td>5</td>\n",
              "      <td>7</td>\n",
              "    </tr>\n",
              "    <tr>\n",
              "      <th>...</th>\n",
              "      <td>...</td>\n",
              "      <td>...</td>\n",
              "      <td>...</td>\n",
              "      <td>...</td>\n",
              "      <td>...</td>\n",
              "      <td>...</td>\n",
              "    </tr>\n",
              "    <tr>\n",
              "      <th>148</th>\n",
              "      <td>14</td>\n",
              "      <td>20</td>\n",
              "      <td>16.6</td>\n",
              "      <td>63</td>\n",
              "      <td>9</td>\n",
              "      <td>25</td>\n",
              "    </tr>\n",
              "    <tr>\n",
              "      <th>149</th>\n",
              "      <td>30</td>\n",
              "      <td>193</td>\n",
              "      <td>6.9</td>\n",
              "      <td>70</td>\n",
              "      <td>9</td>\n",
              "      <td>26</td>\n",
              "    </tr>\n",
              "    <tr>\n",
              "      <th>151</th>\n",
              "      <td>14</td>\n",
              "      <td>191</td>\n",
              "      <td>14.3</td>\n",
              "      <td>75</td>\n",
              "      <td>9</td>\n",
              "      <td>28</td>\n",
              "    </tr>\n",
              "    <tr>\n",
              "      <th>152</th>\n",
              "      <td>18</td>\n",
              "      <td>131</td>\n",
              "      <td>8.0</td>\n",
              "      <td>76</td>\n",
              "      <td>9</td>\n",
              "      <td>29</td>\n",
              "    </tr>\n",
              "    <tr>\n",
              "      <th>153</th>\n",
              "      <td>20</td>\n",
              "      <td>223</td>\n",
              "      <td>11.5</td>\n",
              "      <td>68</td>\n",
              "      <td>9</td>\n",
              "      <td>30</td>\n",
              "    </tr>\n",
              "  </tbody>\n",
              "</table>\n",
              "<p>111 rows × 6 columns</p>\n",
              "</div>"
            ],
            "text/plain": [
              "     Ozone  Solar.R  Wind  Temp  Month  Day\n",
              "1       41      190   7.4    67      5    1\n",
              "2       36      118   8.0    72      5    2\n",
              "3       12      149  12.6    74      5    3\n",
              "4       18      313  11.5    62      5    4\n",
              "7       23      299   8.6    65      5    7\n",
              "..     ...      ...   ...   ...    ...  ...\n",
              "148     14       20  16.6    63      9   25\n",
              "149     30      193   6.9    70      9   26\n",
              "151     14      191  14.3    75      9   28\n",
              "152     18      131   8.0    76      9   29\n",
              "153     20      223  11.5    68      9   30\n",
              "\n",
              "[111 rows x 6 columns]"
            ]
          },
          "metadata": {},
          "execution_count": 8
        }
      ]
    },
    {
      "cell_type": "code",
      "source": [
        "df.describe()"
      ],
      "metadata": {
        "colab": {
          "base_uri": "https://localhost:8080/",
          "height": 295
        },
        "id": "11a9iJZkNj1I",
        "outputId": "cad51c11-1c6e-4f12-82ff-59745edd8aed"
      },
      "execution_count": null,
      "outputs": [
        {
          "output_type": "execute_result",
          "data": {
            "text/html": [
              "<div>\n",
              "<style scoped>\n",
              "    .dataframe tbody tr th:only-of-type {\n",
              "        vertical-align: middle;\n",
              "    }\n",
              "\n",
              "    .dataframe tbody tr th {\n",
              "        vertical-align: top;\n",
              "    }\n",
              "\n",
              "    .dataframe thead th {\n",
              "        text-align: right;\n",
              "    }\n",
              "</style>\n",
              "<table border=\"1\" class=\"dataframe\">\n",
              "  <thead>\n",
              "    <tr style=\"text-align: right;\">\n",
              "      <th></th>\n",
              "      <th>Ozone</th>\n",
              "      <th>Solar.R</th>\n",
              "      <th>Wind</th>\n",
              "      <th>Temp</th>\n",
              "      <th>Month</th>\n",
              "      <th>Day</th>\n",
              "    </tr>\n",
              "  </thead>\n",
              "  <tbody>\n",
              "    <tr>\n",
              "      <th>count</th>\n",
              "      <td>111.000000</td>\n",
              "      <td>111.000000</td>\n",
              "      <td>111.000000</td>\n",
              "      <td>111.000000</td>\n",
              "      <td>111.000000</td>\n",
              "      <td>111.000000</td>\n",
              "    </tr>\n",
              "    <tr>\n",
              "      <th>mean</th>\n",
              "      <td>42.099099</td>\n",
              "      <td>184.801802</td>\n",
              "      <td>9.939640</td>\n",
              "      <td>77.792793</td>\n",
              "      <td>7.216216</td>\n",
              "      <td>15.945946</td>\n",
              "    </tr>\n",
              "    <tr>\n",
              "      <th>std</th>\n",
              "      <td>33.275969</td>\n",
              "      <td>91.152302</td>\n",
              "      <td>3.557713</td>\n",
              "      <td>9.529969</td>\n",
              "      <td>1.473434</td>\n",
              "      <td>8.707194</td>\n",
              "    </tr>\n",
              "    <tr>\n",
              "      <th>min</th>\n",
              "      <td>1.000000</td>\n",
              "      <td>7.000000</td>\n",
              "      <td>2.300000</td>\n",
              "      <td>57.000000</td>\n",
              "      <td>5.000000</td>\n",
              "      <td>1.000000</td>\n",
              "    </tr>\n",
              "    <tr>\n",
              "      <th>25%</th>\n",
              "      <td>18.000000</td>\n",
              "      <td>113.500000</td>\n",
              "      <td>7.400000</td>\n",
              "      <td>71.000000</td>\n",
              "      <td>6.000000</td>\n",
              "      <td>9.000000</td>\n",
              "    </tr>\n",
              "    <tr>\n",
              "      <th>50%</th>\n",
              "      <td>31.000000</td>\n",
              "      <td>207.000000</td>\n",
              "      <td>9.700000</td>\n",
              "      <td>79.000000</td>\n",
              "      <td>7.000000</td>\n",
              "      <td>16.000000</td>\n",
              "    </tr>\n",
              "    <tr>\n",
              "      <th>75%</th>\n",
              "      <td>62.000000</td>\n",
              "      <td>255.500000</td>\n",
              "      <td>11.500000</td>\n",
              "      <td>84.500000</td>\n",
              "      <td>9.000000</td>\n",
              "      <td>22.500000</td>\n",
              "    </tr>\n",
              "    <tr>\n",
              "      <th>max</th>\n",
              "      <td>168.000000</td>\n",
              "      <td>334.000000</td>\n",
              "      <td>20.700000</td>\n",
              "      <td>97.000000</td>\n",
              "      <td>9.000000</td>\n",
              "      <td>31.000000</td>\n",
              "    </tr>\n",
              "  </tbody>\n",
              "</table>\n",
              "</div>"
            ],
            "text/plain": [
              "            Ozone     Solar.R        Wind        Temp       Month         Day\n",
              "count  111.000000  111.000000  111.000000  111.000000  111.000000  111.000000\n",
              "mean    42.099099  184.801802    9.939640   77.792793    7.216216   15.945946\n",
              "std     33.275969   91.152302    3.557713    9.529969    1.473434    8.707194\n",
              "min      1.000000    7.000000    2.300000   57.000000    5.000000    1.000000\n",
              "25%     18.000000  113.500000    7.400000   71.000000    6.000000    9.000000\n",
              "50%     31.000000  207.000000    9.700000   79.000000    7.000000   16.000000\n",
              "75%     62.000000  255.500000   11.500000   84.500000    9.000000   22.500000\n",
              "max    168.000000  334.000000   20.700000   97.000000    9.000000   31.000000"
            ]
          },
          "metadata": {},
          "execution_count": 9
        }
      ]
    },
    {
      "cell_type": "code",
      "source": [
        "df.mean()"
      ],
      "metadata": {
        "colab": {
          "base_uri": "https://localhost:8080/"
        },
        "id": "VZ97FNW6Nsmc",
        "outputId": "b5470c05-ffaa-42a0-b6c9-bff5211a4555"
      },
      "execution_count": null,
      "outputs": [
        {
          "output_type": "execute_result",
          "data": {
            "text/plain": [
              "Ozone       42.099099\n",
              "Solar.R    184.801802\n",
              "Wind         9.939640\n",
              "Temp        77.792793\n",
              "Month        7.216216\n",
              "Day         15.945946\n",
              "dtype: float64"
            ]
          },
          "metadata": {},
          "execution_count": 10
        }
      ]
    },
    {
      "cell_type": "code",
      "source": [
        "df.iloc[:, :4].mean()"
      ],
      "metadata": {
        "colab": {
          "base_uri": "https://localhost:8080/"
        },
        "id": "7SK6f5oNNxY-",
        "outputId": "e00d03b1-9e78-479b-d1ea-7553a099c1c3"
      },
      "execution_count": null,
      "outputs": [
        {
          "output_type": "execute_result",
          "data": {
            "text/plain": [
              "Ozone       42.099099\n",
              "Solar.R    184.801802\n",
              "Wind         9.939640\n",
              "Temp        77.792793\n",
              "dtype: float64"
            ]
          },
          "metadata": {},
          "execution_count": 11
        }
      ]
    },
    {
      "cell_type": "code",
      "source": [
        "df.iloc[:, :4].describe().T[\"50%\"]"
      ],
      "metadata": {
        "colab": {
          "base_uri": "https://localhost:8080/"
        },
        "id": "7kNZYU-dN5NZ",
        "outputId": "2018cf31-b930-4860-d23e-75c51ff9866f"
      },
      "execution_count": null,
      "outputs": [
        {
          "output_type": "execute_result",
          "data": {
            "text/plain": [
              "Ozone       31.0\n",
              "Solar.R    207.0\n",
              "Wind         9.7\n",
              "Temp        79.0\n",
              "Name: 50%, dtype: float64"
            ]
          },
          "metadata": {},
          "execution_count": 16
        }
      ]
    },
    {
      "cell_type": "markdown",
      "source": [
        "# 課題７２"
      ],
      "metadata": {
        "id": "atlNzLxROQsB"
      }
    },
    {
      "cell_type": "code",
      "source": [
        "import urllib.request \n",
        "\n",
        "url = \"https://github.com/maskot1977/ipython_notebook/blob/master/toydata/Teikoku-Shoin-Japan.xlsx?raw=true\"\n",
        "urllib.request.urlretrieve(url, 'Teikoku-Shoin-Japan.xlsx') "
      ],
      "metadata": {
        "colab": {
          "base_uri": "https://localhost:8080/"
        },
        "id": "BEC29HQ7OBTD",
        "outputId": "3d8a25c4-b62a-43c0-9307-26c62a106168"
      },
      "execution_count": null,
      "outputs": [
        {
          "output_type": "execute_result",
          "data": {
            "text/plain": [
              "('Teikoku-Shoin-Japan.xlsx', <http.client.HTTPMessage at 0x7fe06f7d3810>)"
            ]
          },
          "metadata": {},
          "execution_count": 17
        }
      ]
    },
    {
      "cell_type": "code",
      "source": [
        "import pandas as pd\n",
        "excel = pd.ExcelFile('Teikoku-Shoin-Japan.xlsx') "
      ],
      "metadata": {
        "id": "ccnTdFOUOYf_"
      },
      "execution_count": null,
      "outputs": []
    },
    {
      "cell_type": "code",
      "source": [
        "for s in enumerate(excel.sheet_names):\n",
        "    print(s) # シートの名前と番号を列挙"
      ],
      "metadata": {
        "colab": {
          "base_uri": "https://localhost:8080/"
        },
        "id": "KtgMILarObnV",
        "outputId": "fa96d911-1975-4f91-b551-9dc08d30b261"
      },
      "execution_count": null,
      "outputs": [
        {
          "output_type": "stream",
          "name": "stdout",
          "text": [
            "(0, '面積\\u3000〔2017年〕')\n",
            "(1, '人口\\u3000〔2018年〕')\n",
            "(2, '人口密度\\u3000〔2018年〕')\n",
            "(3, '人口増加率\\u3000〔2010～2015年〕')\n",
            "(4, '老年（65歳以上）人口率\\u3000〔2018年〕')\n",
            "(5, '産業別人口割合(2015年)')\n",
            "(6, '平均寿命（女）\\u3000〔2015年〕')\n",
            "(7, '平均寿命（男）\\u3000〔2015年〕')\n",
            "(8, '耕地面積〔2017年〕')\n",
            "(9, '耕地率\\u3000〔2017年〕')\n",
            "(10, '森林率・人工林率〔2017年〕')\n",
            "(11, '小麦の生産\\u3000〔2018年〕')\n",
            "(12, '米の生産\\u3000〔2017年〕')\n",
            "(13, 'さつまいもの生産\\u3000〔2017年〕')\n",
            "(14, 'じゃがいもの生産\\u3000〔2017年〕')\n",
            "(15, '大豆の生産\\u3000〔2017年〕')\n",
            "(16, '落花生の生産\\u3000〔2017年〕')\n",
            "(17, 'キャベツの生産\\u3000〔2017年〕')\n",
            "(18, 'きゅうりの生産\\u3000〔2017年〕')\n",
            "(19, 'すいかの生産\\u3000〔2017年〕')\n",
            "(20, 'だいこんの生産\\u3000〔2017年〕')\n",
            "(21, 'なたねの生産〔2017年〕')\n",
            "(22, 'にんじんの生産\\u3000〔2017年〕')\n",
            "(23, 'ねぎの生産\\u3000〔2017年〕')\n",
            "(24, 'はくさいの生産\\u3000〔2017年〕')\n",
            "(25, 'ピーマンの生産\\u3000〔2017年〕')\n",
            "(26, 'ほうれん草の生産\\u3000〔2017年〕')\n",
            "(27, '茶（荒茶）の生産\\u3000〔2017年〕')\n",
            "(28, 'いちごの生産\\u3000〔2017年〕')\n",
            "(29, 'うめの生産\\u3000〔2017年〕')\n",
            "(30, 'メロンの生産\\u3000〔2017年〕')\n",
            "(31, '柿の生産\\u3000〔2017年〕')\n",
            "(32, 'さくらんぼの生産\\u3000〔2017年〕')\n",
            "(33, 'みかんの生産\\u3000〔2017年〕')\n",
            "(34, 'ももの生産\\u3000〔2017年〕')\n",
            "(35, 'りんごの生産\\u3000〔2017年〕')\n",
            "(36, '菊の出荷量 〔2017年〕')\n",
            "(37, 'パンジーの出荷量 〔2017年〕')\n",
            "(38, '洋ラン類（切り花）の出荷量\\u3000〔2017年〕')\n",
            "(39, 'ブロイラーの飼養羽数\\u3000〔2018年〕')\n",
            "(40, '豚の飼養頭数\\u3000〔2018年〕')\n",
            "(41, '肉牛の飼養頭数\\u3000〔2018年〕')\n",
            "(42, '乳牛の飼養頭数\\u3000〔2018年〕')\n",
            "(43, 'まゆの生産 〔2017年〕')\n",
            "(44, '農業産出額\\u3000〔2017年〕')\n",
            "(45, '米の産出額\\u3000〔2017年〕')\n",
            "(46, '麦類の産出額\\u3000〔2017年〕')\n",
            "(47, '豆類の産出額\\u3000〔2017年〕')\n",
            "(48, 'いも類の産出額\\u3000〔2017年〕')\n",
            "(49, '野菜の産出額\\u3000〔2017年〕')\n",
            "(50, '果実の産出額\\u3000〔2017年〕')\n",
            "(51, '花きの産出額\\u3000〔2017年〕')\n",
            "(52, '工芸農作物の産出額\\u3000〔2017年〕')\n",
            "(53, '畜産の産出額\\u3000〔2017年〕')\n",
            "(54, '漁業生産量（漁業・養殖業）〔2016年〕')\n",
            "(55, 'いかの漁獲量\\u3000〔2016年〕')\n",
            "(56, 'かつおの漁獲量\\u3000〔2016年〕')\n",
            "(57, 'さんまの漁獲量\\u3000〔2016年〕')\n",
            "(58, 'まいわしの漁獲量\\u3000〔2016年〕')\n",
            "(59, 'まぐろの漁獲量\\u3000〔2016年〕')\n",
            "(60, 'かきの養殖\\u3000〔2016年〕')\n",
            "(61, 'ほたてがいの養殖\\u3000〔2016年〕')\n",
            "(62, 'わかめの養殖\\u3000〔2016年〕')\n",
            "(63, '素材（原木）の生産\\u3000〔2016年〕')\n",
            "(64, '工業出荷額\\u3000〔2016年〕')\n",
            "(65, '果実酒の生産 〔2016年〕')\n",
            "(66, '焼ちゅうの生産 〔2016年〕')\n",
            "(67, '清酒(濁酒を含む)の生産\\u3000〔2016年〕')\n",
            "(68, 'ビールの生産\\u3000〔2016年〕')\n",
            "(69, '石油・石炭製品の生産 〔2016年〕')\n",
            "(70, '半導体の生産\\u3000〔2016年〕')\n",
            "(71, '産業用ロボットの生産\\u3000〔2016年〕')\n",
            "(72, '自動車（二輪自動車を含む）の生産\\u3000〔2016年〕')\n",
            "(73, '繊維の生産\\u3000〔2016年〕')\n",
            "(74, '鉄鋼の生産\\u3000〔2016年〕')\n",
            "(75, '集積回路の生産\\u3000〔2016年〕')\n",
            "(76, '1人あたりの県民所得\\u3000〔2015年〕')\n",
            "(77, '1人あたりの都市公園面積\\u3000〔2017年3月末〕')\n",
            "(78, '1人あたりの電力需要量\\u3000〔2015年〕')\n",
            "(79, '1日1人あたりのごみ排出量\\u3000〔2016年〕')\n",
            "(80, '下水道の普及率\\u3000〔2018年〕')\n",
            "(81, '1世帯あたりの乗用車台数\\u3000〔2018年〕')\n",
            "(82, '小売業年間販売額\\u30002015年')\n",
            "(83, '公害苦情件数\\u3000〔2017年〕')\n"
          ]
        }
      ]
    },
    {
      "cell_type": "code",
      "source": [
        "sheet_index = 2\n",
        "print(excel.sheet_names[sheet_index])\n",
        "sheet = excel.parse(excel.sheet_names[sheet_index], header=None) # 2枚目のシートの中身を pandas 形式にする"
      ],
      "metadata": {
        "colab": {
          "base_uri": "https://localhost:8080/"
        },
        "id": "7hUYXtIkOeca",
        "outputId": "975eae90-c4d3-44d1-f38e-0757efc8d3f8"
      },
      "execution_count": null,
      "outputs": [
        {
          "output_type": "stream",
          "name": "stdout",
          "text": [
            "人口密度　〔2018年〕\n"
          ]
        }
      ]
    },
    {
      "cell_type": "code",
      "source": [
        "sheet"
      ],
      "metadata": {
        "colab": {
          "base_uri": "https://localhost:8080/",
          "height": 1000
        },
        "id": "lNsOeZCaOrN5",
        "outputId": "a83bddc5-146a-4133-8c3a-e05b89f53d64"
      },
      "execution_count": null,
      "outputs": [
        {
          "output_type": "execute_result",
          "data": {
            "text/html": [
              "<div>\n",
              "<style scoped>\n",
              "    .dataframe tbody tr th:only-of-type {\n",
              "        vertical-align: middle;\n",
              "    }\n",
              "\n",
              "    .dataframe tbody tr th {\n",
              "        vertical-align: top;\n",
              "    }\n",
              "\n",
              "    .dataframe thead th {\n",
              "        text-align: right;\n",
              "    }\n",
              "</style>\n",
              "<table border=\"1\" class=\"dataframe\">\n",
              "  <thead>\n",
              "    <tr style=\"text-align: right;\">\n",
              "      <th></th>\n",
              "      <th>0</th>\n",
              "      <th>1</th>\n",
              "      <th>2</th>\n",
              "    </tr>\n",
              "  </thead>\n",
              "  <tbody>\n",
              "    <tr>\n",
              "      <th>0</th>\n",
              "      <td>出典：平成30年住民基本台帳人口・世帯数表、平成29年全国都道府県市区町村別面積調</td>\n",
              "      <td>NaN</td>\n",
              "      <td>NaN</td>\n",
              "    </tr>\n",
              "    <tr>\n",
              "      <th>1</th>\n",
              "      <td>県コード</td>\n",
              "      <td>県名</td>\n",
              "      <td>(人/km2）</td>\n",
              "    </tr>\n",
              "    <tr>\n",
              "      <th>2</th>\n",
              "      <td>1</td>\n",
              "      <td>北海道</td>\n",
              "      <td>64</td>\n",
              "    </tr>\n",
              "    <tr>\n",
              "      <th>3</th>\n",
              "      <td>2</td>\n",
              "      <td>青森</td>\n",
              "      <td>136</td>\n",
              "    </tr>\n",
              "    <tr>\n",
              "      <th>4</th>\n",
              "      <td>3</td>\n",
              "      <td>岩手</td>\n",
              "      <td>83</td>\n",
              "    </tr>\n",
              "    <tr>\n",
              "      <th>5</th>\n",
              "      <td>4</td>\n",
              "      <td>宮城</td>\n",
              "      <td>317</td>\n",
              "    </tr>\n",
              "    <tr>\n",
              "      <th>6</th>\n",
              "      <td>5</td>\n",
              "      <td>秋田</td>\n",
              "      <td>87</td>\n",
              "    </tr>\n",
              "    <tr>\n",
              "      <th>7</th>\n",
              "      <td>6</td>\n",
              "      <td>山形</td>\n",
              "      <td>119</td>\n",
              "    </tr>\n",
              "    <tr>\n",
              "      <th>8</th>\n",
              "      <td>7</td>\n",
              "      <td>福島</td>\n",
              "      <td>139</td>\n",
              "    </tr>\n",
              "    <tr>\n",
              "      <th>9</th>\n",
              "      <td>8</td>\n",
              "      <td>茨城</td>\n",
              "      <td>484</td>\n",
              "    </tr>\n",
              "    <tr>\n",
              "      <th>10</th>\n",
              "      <td>9</td>\n",
              "      <td>栃木</td>\n",
              "      <td>310</td>\n",
              "    </tr>\n",
              "    <tr>\n",
              "      <th>11</th>\n",
              "      <td>10</td>\n",
              "      <td>群馬</td>\n",
              "      <td>313</td>\n",
              "    </tr>\n",
              "    <tr>\n",
              "      <th>12</th>\n",
              "      <td>11</td>\n",
              "      <td>埼玉</td>\n",
              "      <td>1939</td>\n",
              "    </tr>\n",
              "    <tr>\n",
              "      <th>13</th>\n",
              "      <td>12</td>\n",
              "      <td>千葉</td>\n",
              "      <td>1221</td>\n",
              "    </tr>\n",
              "    <tr>\n",
              "      <th>14</th>\n",
              "      <td>13</td>\n",
              "      <td>東京</td>\n",
              "      <td>6216</td>\n",
              "    </tr>\n",
              "    <tr>\n",
              "      <th>15</th>\n",
              "      <td>14</td>\n",
              "      <td>神奈川</td>\n",
              "      <td>3796</td>\n",
              "    </tr>\n",
              "    <tr>\n",
              "      <th>16</th>\n",
              "      <td>15</td>\n",
              "      <td>新潟</td>\n",
              "      <td>181</td>\n",
              "    </tr>\n",
              "    <tr>\n",
              "      <th>17</th>\n",
              "      <td>16</td>\n",
              "      <td>富山</td>\n",
              "      <td>252</td>\n",
              "    </tr>\n",
              "    <tr>\n",
              "      <th>18</th>\n",
              "      <td>17</td>\n",
              "      <td>石川</td>\n",
              "      <td>275</td>\n",
              "    </tr>\n",
              "    <tr>\n",
              "      <th>19</th>\n",
              "      <td>18</td>\n",
              "      <td>福井</td>\n",
              "      <td>189</td>\n",
              "    </tr>\n",
              "    <tr>\n",
              "      <th>20</th>\n",
              "      <td>19</td>\n",
              "      <td>山梨</td>\n",
              "      <td>188</td>\n",
              "    </tr>\n",
              "    <tr>\n",
              "      <th>21</th>\n",
              "      <td>20</td>\n",
              "      <td>長野</td>\n",
              "      <td>156</td>\n",
              "    </tr>\n",
              "    <tr>\n",
              "      <th>22</th>\n",
              "      <td>21</td>\n",
              "      <td>岐阜</td>\n",
              "      <td>193</td>\n",
              "    </tr>\n",
              "    <tr>\n",
              "      <th>23</th>\n",
              "      <td>22</td>\n",
              "      <td>静岡</td>\n",
              "      <td>481</td>\n",
              "    </tr>\n",
              "    <tr>\n",
              "      <th>24</th>\n",
              "      <td>23</td>\n",
              "      <td>愛知</td>\n",
              "      <td>1460</td>\n",
              "    </tr>\n",
              "    <tr>\n",
              "      <th>25</th>\n",
              "      <td>24</td>\n",
              "      <td>三重</td>\n",
              "      <td>318</td>\n",
              "    </tr>\n",
              "    <tr>\n",
              "      <th>26</th>\n",
              "      <td>25</td>\n",
              "      <td>滋賀</td>\n",
              "      <td>353</td>\n",
              "    </tr>\n",
              "    <tr>\n",
              "      <th>27</th>\n",
              "      <td>26</td>\n",
              "      <td>京都</td>\n",
              "      <td>556</td>\n",
              "    </tr>\n",
              "    <tr>\n",
              "      <th>28</th>\n",
              "      <td>27</td>\n",
              "      <td>大阪</td>\n",
              "      <td>4649</td>\n",
              "    </tr>\n",
              "    <tr>\n",
              "      <th>29</th>\n",
              "      <td>28</td>\n",
              "      <td>兵庫</td>\n",
              "      <td>665</td>\n",
              "    </tr>\n",
              "    <tr>\n",
              "      <th>30</th>\n",
              "      <td>29</td>\n",
              "      <td>奈良</td>\n",
              "      <td>372</td>\n",
              "    </tr>\n",
              "    <tr>\n",
              "      <th>31</th>\n",
              "      <td>30</td>\n",
              "      <td>和歌山</td>\n",
              "      <td>206</td>\n",
              "    </tr>\n",
              "    <tr>\n",
              "      <th>32</th>\n",
              "      <td>31</td>\n",
              "      <td>鳥取</td>\n",
              "      <td>163</td>\n",
              "    </tr>\n",
              "    <tr>\n",
              "      <th>33</th>\n",
              "      <td>32</td>\n",
              "      <td>島根</td>\n",
              "      <td>103</td>\n",
              "    </tr>\n",
              "    <tr>\n",
              "      <th>34</th>\n",
              "      <td>33</td>\n",
              "      <td>岡山</td>\n",
              "      <td>270</td>\n",
              "    </tr>\n",
              "    <tr>\n",
              "      <th>35</th>\n",
              "      <td>34</td>\n",
              "      <td>広島</td>\n",
              "      <td>336</td>\n",
              "    </tr>\n",
              "    <tr>\n",
              "      <th>36</th>\n",
              "      <td>35</td>\n",
              "      <td>山口</td>\n",
              "      <td>228</td>\n",
              "    </tr>\n",
              "    <tr>\n",
              "      <th>37</th>\n",
              "      <td>36</td>\n",
              "      <td>徳島</td>\n",
              "      <td>183</td>\n",
              "    </tr>\n",
              "    <tr>\n",
              "      <th>38</th>\n",
              "      <td>37</td>\n",
              "      <td>香川</td>\n",
              "      <td>529</td>\n",
              "    </tr>\n",
              "    <tr>\n",
              "      <th>39</th>\n",
              "      <td>38</td>\n",
              "      <td>愛媛</td>\n",
              "      <td>246</td>\n",
              "    </tr>\n",
              "    <tr>\n",
              "      <th>40</th>\n",
              "      <td>39</td>\n",
              "      <td>高知</td>\n",
              "      <td>102</td>\n",
              "    </tr>\n",
              "    <tr>\n",
              "      <th>41</th>\n",
              "      <td>40</td>\n",
              "      <td>福岡</td>\n",
              "      <td>1029</td>\n",
              "    </tr>\n",
              "    <tr>\n",
              "      <th>42</th>\n",
              "      <td>41</td>\n",
              "      <td>佐賀</td>\n",
              "      <td>341</td>\n",
              "    </tr>\n",
              "    <tr>\n",
              "      <th>43</th>\n",
              "      <td>42</td>\n",
              "      <td>長崎</td>\n",
              "      <td>334</td>\n",
              "    </tr>\n",
              "    <tr>\n",
              "      <th>44</th>\n",
              "      <td>43</td>\n",
              "      <td>熊本</td>\n",
              "      <td>241</td>\n",
              "    </tr>\n",
              "    <tr>\n",
              "      <th>45</th>\n",
              "      <td>44</td>\n",
              "      <td>大分</td>\n",
              "      <td>184</td>\n",
              "    </tr>\n",
              "    <tr>\n",
              "      <th>46</th>\n",
              "      <td>45</td>\n",
              "      <td>宮崎</td>\n",
              "      <td>144</td>\n",
              "    </tr>\n",
              "    <tr>\n",
              "      <th>47</th>\n",
              "      <td>46</td>\n",
              "      <td>鹿児島</td>\n",
              "      <td>180</td>\n",
              "    </tr>\n",
              "    <tr>\n",
              "      <th>48</th>\n",
              "      <td>47</td>\n",
              "      <td>沖縄</td>\n",
              "      <td>645</td>\n",
              "    </tr>\n",
              "    <tr>\n",
              "      <th>49</th>\n",
              "      <td>48</td>\n",
              "      <td>全国</td>\n",
              "      <td>338</td>\n",
              "    </tr>\n",
              "    <tr>\n",
              "      <th>50</th>\n",
              "      <td>＊人口（2018年）/面積（2017年）</td>\n",
              "      <td>NaN</td>\n",
              "      <td>NaN</td>\n",
              "    </tr>\n",
              "  </tbody>\n",
              "</table>\n",
              "</div>"
            ],
            "text/plain": [
              "                                            0    1        2\n",
              "0   出典：平成30年住民基本台帳人口・世帯数表、平成29年全国都道府県市区町村別面積調  NaN      NaN\n",
              "1                                        県コード   県名  (人/km2）\n",
              "2                                           1  北海道       64\n",
              "3                                           2   青森      136\n",
              "4                                           3   岩手       83\n",
              "5                                           4   宮城      317\n",
              "6                                           5   秋田       87\n",
              "7                                           6   山形      119\n",
              "8                                           7   福島      139\n",
              "9                                           8   茨城      484\n",
              "10                                          9   栃木      310\n",
              "11                                         10   群馬      313\n",
              "12                                         11   埼玉     1939\n",
              "13                                         12   千葉     1221\n",
              "14                                         13   東京     6216\n",
              "15                                         14  神奈川     3796\n",
              "16                                         15   新潟      181\n",
              "17                                         16   富山      252\n",
              "18                                         17   石川      275\n",
              "19                                         18   福井      189\n",
              "20                                         19   山梨      188\n",
              "21                                         20   長野      156\n",
              "22                                         21   岐阜      193\n",
              "23                                         22   静岡      481\n",
              "24                                         23   愛知     1460\n",
              "25                                         24   三重      318\n",
              "26                                         25   滋賀      353\n",
              "27                                         26   京都      556\n",
              "28                                         27   大阪     4649\n",
              "29                                         28   兵庫      665\n",
              "30                                         29   奈良      372\n",
              "31                                         30  和歌山      206\n",
              "32                                         31   鳥取      163\n",
              "33                                         32   島根      103\n",
              "34                                         33   岡山      270\n",
              "35                                         34   広島      336\n",
              "36                                         35   山口      228\n",
              "37                                         36   徳島      183\n",
              "38                                         37   香川      529\n",
              "39                                         38   愛媛      246\n",
              "40                                         39   高知      102\n",
              "41                                         40   福岡     1029\n",
              "42                                         41   佐賀      341\n",
              "43                                         42   長崎      334\n",
              "44                                         43   熊本      241\n",
              "45                                         44   大分      184\n",
              "46                                         45   宮崎      144\n",
              "47                                         46  鹿児島      180\n",
              "48                                         47   沖縄      645\n",
              "49                                         48   全国      338\n",
              "50                       ＊人口（2018年）/面積（2017年）  NaN      NaN"
            ]
          },
          "metadata": {},
          "execution_count": 21
        }
      ]
    },
    {
      "cell_type": "markdown",
      "source": [
        "# 課題７３"
      ],
      "metadata": {
        "id": "T7sZn-G6PXkg"
      }
    },
    {
      "cell_type": "code",
      "source": [
        "import matplotlib.pyplot as plt\n",
        "# ヒストグラム\n",
        "df.iloc[:, :4].hist(figsize=(8,8))\n",
        "plt.show()"
      ],
      "metadata": {
        "colab": {
          "base_uri": "https://localhost:8080/",
          "height": 499
        },
        "id": "I0alG_4SOvL7",
        "outputId": "30175499-4ff7-4f81-8dae-30412031cc86"
      },
      "execution_count": null,
      "outputs": [
        {
          "output_type": "display_data",
          "data": {
            "image/png": "[encoded data removed]",
            "text/plain": [
              "<Figure size 576x576 with 4 Axes>"
            ]
          },
          "metadata": {
            "needs_background": "light"
          }
        }
      ]
    },
    {
      "cell_type": "markdown",
      "source": [
        "# 課題７４"
      ],
      "metadata": {
        "id": "QxLHtcMGP8tV"
      }
    },
    {
      "cell_type": "code",
      "source": [
        "# ボックスプロット\n",
        "fig = plt.figure()\n",
        "ax = fig.add_subplot(111)\n",
        "ax.boxplot(df.iloc[:, :4].values.T.tolist())\n",
        "ax.set_xticklabels(df.columns[0:4], rotation=90)\n",
        "plt.grid()\n",
        "plt.show()"
      ],
      "metadata": {
        "colab": {
          "base_uri": "https://localhost:8080/",
          "height": 294
        },
        "id": "JQxzkrpaPasE",
        "outputId": "e8be8248-7af6-4af6-f5bc-2032c78eb0b8"
      },
      "execution_count": null,
      "outputs": [
        {
          "output_type": "display_data",
          "data": {
            "image/png": "[encoded data removed]",
            "text/plain": [
              "<Figure size 432x288 with 1 Axes>"
            ]
          },
          "metadata": {
            "needs_background": "light"
          }
        }
      ]
    },
    {
      "cell_type": "markdown",
      "source": [
        "# 課題７５"
      ],
      "metadata": {
        "id": "lnVHdOL2Qihg"
      }
    },
    {
      "cell_type": "code",
      "source": [
        "# バイオリンプロット\n",
        "fig = plt.figure()\n",
        "ax = fig.add_subplot(111)\n",
        "ax.violinplot(df.iloc[:, :4].values.T.tolist())\n",
        "ax.set_xticks([1, 2, 3, 4]) #データ範囲のどこに目盛りが入るかを指定する\n",
        "ax.set_xticklabels(df.columns[0:4], rotation=90)\n",
        "plt.grid()\n",
        "plt.show()"
      ],
      "metadata": {
        "colab": {
          "base_uri": "https://localhost:8080/",
          "height": 294
        },
        "id": "BtaI6iDuP_pO",
        "outputId": "aa75936a-314d-43e2-ca00-155014814270"
      },
      "execution_count": null,
      "outputs": [
        {
          "output_type": "display_data",
          "data": {
            "image/png": "[encoded data removed]",
            "text/plain": [
              "<Figure size 432x288 with 1 Axes>"
            ]
          },
          "metadata": {
            "needs_background": "light"
          }
        }
      ]
    },
    {
      "cell_type": "markdown",
      "source": [
        "# 課題７６"
      ],
      "metadata": {
        "id": "029j-lCiRBRr"
      }
    },
    {
      "cell_type": "code",
      "source": [
        "from pandas import plotting \n",
        "plotting.scatter_matrix(df[df.columns[0:4]], figsize=(8, 8)) "
      ],
      "metadata": {
        "colab": {
          "base_uri": "https://localhost:8080/",
          "height": 788
        },
        "id": "lVNU0MOXQlxs",
        "outputId": "7ddfdc7f-8553-4277-acee-e092ef20e574"
      },
      "execution_count": null,
      "outputs": [
        {
          "output_type": "execute_result",
          "data": {
            "text/plain": [
              "array([[<matplotlib.axes._subplots.AxesSubplot object at 0x7fe06f442a90>,\n",
              "        <matplotlib.axes._subplots.AxesSubplot object at 0x7fe06f4e0b10>,\n",
              "        <matplotlib.axes._subplots.AxesSubplot object at 0x7fe06f4ad150>,\n",
              "        <matplotlib.axes._subplots.AxesSubplot object at 0x7fe06e966950>],\n",
              "       [<matplotlib.axes._subplots.AxesSubplot object at 0x7fe06eaddd50>,\n",
              "        <matplotlib.axes._subplots.AxesSubplot object at 0x7fe06e69d390>,\n",
              "        <matplotlib.axes._subplots.AxesSubplot object at 0x7fe06e651a10>,\n",
              "        <matplotlib.axes._subplots.AxesSubplot object at 0x7fe06e609f90>],\n",
              "       [<matplotlib.axes._subplots.AxesSubplot object at 0x7fe06e616050>,\n",
              "        <matplotlib.axes._subplots.AxesSubplot object at 0x7fe06e5ca6d0>,\n",
              "        <matplotlib.axes._subplots.AxesSubplot object at 0x7fe06e545210>,\n",
              "        <matplotlib.axes._subplots.AxesSubplot object at 0x7fe06e4f9810>],\n",
              "       [<matplotlib.axes._subplots.AxesSubplot object at 0x7fe06e4afe10>,\n",
              "        <matplotlib.axes._subplots.AxesSubplot object at 0x7fe06e473450>,\n",
              "        <matplotlib.axes._subplots.AxesSubplot object at 0x7fe06e4a9a50>,\n",
              "        <matplotlib.axes._subplots.AxesSubplot object at 0x7fe06e455b90>]],\n",
              "      dtype=object)"
            ]
          },
          "metadata": {},
          "execution_count": 33
        },
        {
          "output_type": "display_data",
          "data": {
            "image/png": "[encoded data removed]",
            "text/plain": [
              "<Figure size 576x576 with 16 Axes>"
            ]
          },
          "metadata": {
            "needs_background": "light"
          }
        }
      ]
    },
    {
      "cell_type": "markdown",
      "source": [
        "# 課題77"
      ],
      "metadata": {
        "id": "pkiwJDUzRSiX"
      }
    },
    {
      "cell_type": "code",
      "source": [
        "df.corr()"
      ],
      "metadata": {
        "colab": {
          "base_uri": "https://localhost:8080/",
          "height": 234
        },
        "id": "OYnL6eSRREEU",
        "outputId": "811e848f-da98-4655-abba-006dcedbddcf"
      },
      "execution_count": null,
      "outputs": [
        {
          "output_type": "execute_result",
          "data": {
            "text/html": [
              "<div>\n",
              "<style scoped>\n",
              "    .dataframe tbody tr th:only-of-type {\n",
              "        vertical-align: middle;\n",
              "    }\n",
              "\n",
              "    .dataframe tbody tr th {\n",
              "        vertical-align: top;\n",
              "    }\n",
              "\n",
              "    .dataframe thead th {\n",
              "        text-align: right;\n",
              "    }\n",
              "</style>\n",
              "<table border=\"1\" class=\"dataframe\">\n",
              "  <thead>\n",
              "    <tr style=\"text-align: right;\">\n",
              "      <th></th>\n",
              "      <th>Ozone</th>\n",
              "      <th>Solar.R</th>\n",
              "      <th>Wind</th>\n",
              "      <th>Temp</th>\n",
              "      <th>Month</th>\n",
              "      <th>Day</th>\n",
              "    </tr>\n",
              "  </thead>\n",
              "  <tbody>\n",
              "    <tr>\n",
              "      <th>Ozone</th>\n",
              "      <td>1.000000</td>\n",
              "      <td>0.348342</td>\n",
              "      <td>-0.612497</td>\n",
              "      <td>0.698541</td>\n",
              "      <td>0.142885</td>\n",
              "      <td>-0.005190</td>\n",
              "    </tr>\n",
              "    <tr>\n",
              "      <th>Solar.R</th>\n",
              "      <td>0.348342</td>\n",
              "      <td>1.000000</td>\n",
              "      <td>-0.127183</td>\n",
              "      <td>0.294088</td>\n",
              "      <td>-0.074067</td>\n",
              "      <td>-0.057754</td>\n",
              "    </tr>\n",
              "    <tr>\n",
              "      <th>Wind</th>\n",
              "      <td>-0.612497</td>\n",
              "      <td>-0.127183</td>\n",
              "      <td>1.000000</td>\n",
              "      <td>-0.497190</td>\n",
              "      <td>-0.194496</td>\n",
              "      <td>0.049871</td>\n",
              "    </tr>\n",
              "    <tr>\n",
              "      <th>Temp</th>\n",
              "      <td>0.698541</td>\n",
              "      <td>0.294088</td>\n",
              "      <td>-0.497190</td>\n",
              "      <td>1.000000</td>\n",
              "      <td>0.403972</td>\n",
              "      <td>-0.096546</td>\n",
              "    </tr>\n",
              "    <tr>\n",
              "      <th>Month</th>\n",
              "      <td>0.142885</td>\n",
              "      <td>-0.074067</td>\n",
              "      <td>-0.194496</td>\n",
              "      <td>0.403972</td>\n",
              "      <td>1.000000</td>\n",
              "      <td>-0.009001</td>\n",
              "    </tr>\n",
              "    <tr>\n",
              "      <th>Day</th>\n",
              "      <td>-0.005190</td>\n",
              "      <td>-0.057754</td>\n",
              "      <td>0.049871</td>\n",
              "      <td>-0.096546</td>\n",
              "      <td>-0.009001</td>\n",
              "      <td>1.000000</td>\n",
              "    </tr>\n",
              "  </tbody>\n",
              "</table>\n",
              "</div>"
            ],
            "text/plain": [
              "            Ozone   Solar.R      Wind      Temp     Month       Day\n",
              "Ozone    1.000000  0.348342 -0.612497  0.698541  0.142885 -0.005190\n",
              "Solar.R  0.348342  1.000000 -0.127183  0.294088 -0.074067 -0.057754\n",
              "Wind    -0.612497 -0.127183  1.000000 -0.497190 -0.194496  0.049871\n",
              "Temp     0.698541  0.294088 -0.497190  1.000000  0.403972 -0.096546\n",
              "Month    0.142885 -0.074067 -0.194496  0.403972  1.000000 -0.009001\n",
              "Day     -0.005190 -0.057754  0.049871 -0.096546 -0.009001  1.000000"
            ]
          },
          "metadata": {},
          "execution_count": 34
        }
      ]
    },
    {
      "cell_type": "code",
      "source": [
        "import numpy as np\n",
        "corrcoef = df.corr()\n",
        "plt.imshow(corrcoef, interpolation='nearest', cmap=plt.cm.coolwarm)\n",
        "plt.colorbar()\n",
        "tick_marks = np.arange(len(corrcoef))\n",
        "plt.xticks(tick_marks, corrcoef.index, rotation=90)\n",
        "plt.yticks(tick_marks, corrcoef.index)\n",
        "plt.tight_layout()"
      ],
      "metadata": {
        "colab": {
          "base_uri": "https://localhost:8080/",
          "height": 297
        },
        "id": "C9rvcwK8RWbK",
        "outputId": "4533d42c-4e9d-4175-e9d7-1bfdc412859f"
      },
      "execution_count": null,
      "outputs": [
        {
          "output_type": "display_data",
          "data": {
            "image/png": "[encoded data removed]",
            "text/plain": [
              "<Figure size 432x288 with 2 Axes>"
            ]
          },
          "metadata": {
            "needs_background": "light"
          }
        }
      ]
    },
    {
      "cell_type": "markdown",
      "source": [
        "# 課題７８"
      ],
      "metadata": {
        "id": "GjhhxzaoRsP7"
      }
    },
    {
      "cell_type": "code",
      "source": [
        "!pip install minepy"
      ],
      "metadata": {
        "colab": {
          "base_uri": "https://localhost:8080/"
        },
        "id": "voMD2PC1RxMh",
        "outputId": "a4eac2ad-5bed-4baa-df53-e197fa3444e0"
      },
      "execution_count": null,
      "outputs": [
        {
          "output_type": "stream",
          "name": "stdout",
          "text": [
            "Collecting minepy\n",
            "  Downloading minepy-1.2.5.tar.gz (495 kB)\n",
            "\u001b[?25l\r\u001b[K     |▋                               | 10 kB 17.9 MB/s eta 0:00:01\r\u001b[K     |█▎                              | 20 kB 21.6 MB/s eta 0:00:01\r\u001b[K     |██                              | 30 kB 22.0 MB/s eta 0:00:01\r\u001b[K     |██▋                             | 40 kB 12.7 MB/s eta 0:00:01\r\u001b[K     |███▎                            | 51 kB 5.5 MB/s eta 0:00:01\r\u001b[K     |████                            | 61 kB 5.6 MB/s eta 0:00:01\r\u001b[K     |████▋                           | 71 kB 5.4 MB/s eta 0:00:01\r\u001b[K     |█████▎                          | 81 kB 6.0 MB/s eta 0:00:01\r\u001b[K     |██████                          | 92 kB 6.0 MB/s eta 0:00:01\r\u001b[K     |██████▋                         | 102 kB 5.0 MB/s eta 0:00:01\r\u001b[K     |███████▎                        | 112 kB 5.0 MB/s eta 0:00:01\r\u001b[K     |████████                        | 122 kB 5.0 MB/s eta 0:00:01\r\u001b[K     |████████▋                       | 133 kB 5.0 MB/s eta 0:00:01\r\u001b[K     |█████████▎                      | 143 kB 5.0 MB/s eta 0:00:01\r\u001b[K     |██████████                      | 153 kB 5.0 MB/s eta 0:00:01\r\u001b[K     |██████████▋                     | 163 kB 5.0 MB/s eta 0:00:01\r\u001b[K     |███████████▎                    | 174 kB 5.0 MB/s eta 0:00:01\r\u001b[K     |████████████                    | 184 kB 5.0 MB/s eta 0:00:01\r\u001b[K     |████████████▋                   | 194 kB 5.0 MB/s eta 0:00:01\r\u001b[K     |█████████████▎                  | 204 kB 5.0 MB/s eta 0:00:01\r\u001b[K     |█████████████▉                  | 215 kB 5.0 MB/s eta 0:00:01\r\u001b[K     |██████████████▌                 | 225 kB 5.0 MB/s eta 0:00:01\r\u001b[K     |███████████████▏                | 235 kB 5.0 MB/s eta 0:00:01\r\u001b[K     |███████████████▉                | 245 kB 5.0 MB/s eta 0:00:01\r\u001b[K     |████████████████▌               | 256 kB 5.0 MB/s eta 0:00:01\r\u001b[K     |█████████████████▏              | 266 kB 5.0 MB/s eta 0:00:01\r\u001b[K     |█████████████████▉              | 276 kB 5.0 MB/s eta 0:00:01\r\u001b[K     |██████████████████▌             | 286 kB 5.0 MB/s eta 0:00:01\r\u001b[K     |███████████████████▏            | 296 kB 5.0 MB/s eta 0:00:01\r\u001b[K     |███████████████████▉            | 307 kB 5.0 MB/s eta 0:00:01\r\u001b[K     |████████████████████▌           | 317 kB 5.0 MB/s eta 0:00:01\r\u001b[K     |█████████████████████▏          | 327 kB 5.0 MB/s eta 0:00:01\r\u001b[K     |█████████████████████▉          | 337 kB 5.0 MB/s eta 0:00:01\r\u001b[K     |██████████████████████▌         | 348 kB 5.0 MB/s eta 0:00:01\r\u001b[K     |███████████████████████▏        | 358 kB 5.0 MB/s eta 0:00:01\r\u001b[K     |███████████████████████▉        | 368 kB 5.0 MB/s eta 0:00:01\r\u001b[K     |████████████████████████▌       | 378 kB 5.0 MB/s eta 0:00:01\r\u001b[K     |█████████████████████████▏      | 389 kB 5.0 MB/s eta 0:00:01\r\u001b[K     |█████████████████████████▉      | 399 kB 5.0 MB/s eta 0:00:01\r\u001b[K     |██████████████████████████▌     | 409 kB 5.0 MB/s eta 0:00:01\r\u001b[K     |███████████████████████████▏    | 419 kB 5.0 MB/s eta 0:00:01\r\u001b[K     |███████████████████████████▊    | 430 kB 5.0 MB/s eta 0:00:01\r\u001b[K     |████████████████████████████▍   | 440 kB 5.0 MB/s eta 0:00:01\r\u001b[K     |█████████████████████████████   | 450 kB 5.0 MB/s eta 0:00:01\r\u001b[K     |█████████████████████████████▊  | 460 kB 5.0 MB/s eta 0:00:01\r\u001b[K     |██████████████████████████████▍ | 471 kB 5.0 MB/s eta 0:00:01\r\u001b[K     |███████████████████████████████ | 481 kB 5.0 MB/s eta 0:00:01\r\u001b[K     |███████████████████████████████▊| 491 kB 5.0 MB/s eta 0:00:01\r\u001b[K     |████████████████████████████████| 495 kB 5.0 MB/s \n",
            "\u001b[?25hRequirement already satisfied: numpy>=1.3.0 in /usr/local/lib/python3.7/dist-packages (from minepy) (1.19.5)\n",
            "Building wheels for collected packages: minepy\n",
            "  Building wheel for minepy (setup.py) ... \u001b[?25l\u001b[?25hdone\n",
            "  Created wheel for minepy: filename=minepy-1.2.5-cp37-cp37m-linux_x86_64.whl size=177531 sha256=48e7af7bd152b9b02ba9a930337b18a5146aa360b897adc6a4f26a63fbe2526b\n",
            "  Stored in directory: /root/.cache/pip/wheels/d1/ea/d7/fabbfa6e294adcbc43dabca0e0158dafdd36051246992c7311\n",
            "Successfully built minepy\n",
            "Installing collected packages: minepy\n",
            "Successfully installed minepy-1.2.5\n"
          ]
        }
      ]
    },
    {
      "cell_type": "code",
      "source": [
        "from minepy import MINE\n",
        "mine = MINE()"
      ],
      "metadata": {
        "id": "Vu6rsZvxSF5j"
      },
      "execution_count": null,
      "outputs": []
    },
    {
      "cell_type": "code",
      "source": [
        "%matplotlib inline\n",
        "import matplotlib.pyplot as plt\n",
        "import numpy as np\n",
        "\n",
        "X = np.linspace(-1, 1, 51)\n",
        "Y = X\n",
        "plt.scatter(X, Y)"
      ],
      "metadata": {
        "colab": {
          "base_uri": "https://localhost:8080/",
          "height": 282
        },
        "id": "EHLzISrSSQW0",
        "outputId": "59e318f7-1caa-45a5-8401-356247f418cf"
      },
      "execution_count": null,
      "outputs": [
        {
          "output_type": "execute_result",
          "data": {
            "text/plain": [
              "<matplotlib.collections.PathCollection at 0x7fe06f4b77d0>"
            ]
          },
          "metadata": {},
          "execution_count": 38
        },
        {
          "output_type": "display_data",
          "data": {
            "image/png": "[encoded data removed]",
            "text/plain": [
              "<Figure size 432x288 with 1 Axes>"
            ]
          },
          "metadata": {
            "needs_background": "light"
          }
        }
      ]
    },
    {
      "cell_type": "code",
      "source": [
        "np.corrcoef(X, Y)[0, 1]"
      ],
      "metadata": {
        "colab": {
          "base_uri": "https://localhost:8080/"
        },
        "id": "niNnyRPSSbpQ",
        "outputId": "17ad0c0f-5221-40b6-f352-1447fd75128a"
      },
      "execution_count": null,
      "outputs": [
        {
          "output_type": "execute_result",
          "data": {
            "text/plain": [
              "1.0"
            ]
          },
          "metadata": {},
          "execution_count": 39
        }
      ]
    },
    {
      "cell_type": "code",
      "source": [
        "mine.compute_score(X, Y)\n",
        "mine.mic()"
      ],
      "metadata": {
        "colab": {
          "base_uri": "https://localhost:8080/"
        },
        "id": "a51O81xWShaG",
        "outputId": "e2632f71-90fd-46db-c3ba-a54a0a85b2d6"
      },
      "execution_count": null,
      "outputs": [
        {
          "output_type": "execute_result",
          "data": {
            "text/plain": [
              "0.9999999999999998"
            ]
          },
          "metadata": {},
          "execution_count": 40
        }
      ]
    },
    {
      "cell_type": "code",
      "source": [
        "import numpy as np\n",
        "\n",
        "X = np.linspace(-1, 1, 51)\n",
        "Y = X + np.random.rand(51,)\n",
        "plt.scatter(X, Y)"
      ],
      "metadata": {
        "colab": {
          "base_uri": "https://localhost:8080/",
          "height": 282
        },
        "id": "eDAFIOI7SpBZ",
        "outputId": "2578ec95-acea-426d-87a7-52367106aafc"
      },
      "execution_count": null,
      "outputs": [
        {
          "output_type": "execute_result",
          "data": {
            "text/plain": [
              "<matplotlib.collections.PathCollection at 0x7fe06e9459d0>"
            ]
          },
          "metadata": {},
          "execution_count": 41
        },
        {
          "output_type": "display_data",
          "data": {
            "image/png": "[encoded data removed]",
            "text/plain": [
              "<Figure size 432x288 with 1 Axes>"
            ]
          },
          "metadata": {
            "needs_background": "light"
          }
        }
      ]
    },
    {
      "cell_type": "code",
      "source": [
        "np.corrcoef(X, Y)[0, 1]"
      ],
      "metadata": {
        "colab": {
          "base_uri": "https://localhost:8080/"
        },
        "id": "RTLI_UjTSw_Y",
        "outputId": "c805bd85-c7e0-4585-9118-95a6caa529de"
      },
      "execution_count": null,
      "outputs": [
        {
          "output_type": "execute_result",
          "data": {
            "text/plain": [
              "0.9266605225274988"
            ]
          },
          "metadata": {},
          "execution_count": 42
        }
      ]
    },
    {
      "cell_type": "code",
      "source": [
        "mine.compute_score(X, Y)\n",
        "mine.mic()"
      ],
      "metadata": {
        "colab": {
          "base_uri": "https://localhost:8080/"
        },
        "id": "LRx0HHfnS9qw",
        "outputId": "6208d901-817e-409e-8d70-65f61a98b8b3"
      },
      "execution_count": null,
      "outputs": [
        {
          "output_type": "execute_result",
          "data": {
            "text/plain": [
              "0.8724633338987589"
            ]
          },
          "metadata": {},
          "execution_count": 43
        }
      ]
    },
    {
      "cell_type": "code",
      "source": [
        "D = []\n",
        "C = []\n",
        "for d in range(100):\n",
        "    X = np.linspace(-1, 1, 51)\n",
        "    Y = X + np.random.rand(51,) * d / 10\n",
        "    D.append(d)\n",
        "    C.append(np.corrcoef(X, Y)[0, 1])\n",
        "\n",
        "plt.plot(D, C)"
      ],
      "metadata": {
        "colab": {
          "base_uri": "https://localhost:8080/",
          "height": 282
        },
        "id": "xpIYU3X1TDGc",
        "outputId": "91146480-a1a1-431a-dadc-b5e50ebdcfa0"
      },
      "execution_count": null,
      "outputs": [
        {
          "output_type": "execute_result",
          "data": {
            "text/plain": [
              "[<matplotlib.lines.Line2D at 0x7fe06f402fd0>]"
            ]
          },
          "metadata": {},
          "execution_count": 44
        },
        {
          "output_type": "display_data",
          "data": {
            "image/png": "[encoded data removed]",
            "text/plain": [
              "<Figure size 432x288 with 1 Axes>"
            ]
          },
          "metadata": {
            "needs_background": "light"
          }
        }
      ]
    },
    {
      "cell_type": "code",
      "source": [
        "D = []\n",
        "C = []\n",
        "for d in range(100):\n",
        "    X = np.linspace(-1, 1, 51)\n",
        "    Y = X + np.random.rand(51,) * d / 10\n",
        "    D.append(d)\n",
        "    mine.compute_score(X, Y)\n",
        "    C.append(mine.mic())\n",
        "\n",
        "plt.plot(D, C)"
      ],
      "metadata": {
        "colab": {
          "base_uri": "https://localhost:8080/",
          "height": 282
        },
        "id": "aMs_gohKTU3b",
        "outputId": "87150394-0cfa-4fd9-c6a7-3e72cd740584"
      },
      "execution_count": null,
      "outputs": [
        {
          "output_type": "execute_result",
          "data": {
            "text/plain": [
              "[<matplotlib.lines.Line2D at 0x7fe06e6cdd50>]"
            ]
          },
          "metadata": {},
          "execution_count": 45
        },
        {
          "output_type": "display_data",
          "data": {
            "image/png": "[encoded data removed]",
            "text/plain": [
              "<Figure size 432x288 with 1 Axes>"
            ]
          },
          "metadata": {
            "needs_background": "light"
          }
        }
      ]
    },
    {
      "cell_type": "code",
      "source": [
        "import numpy as np\n",
        "\n",
        "X = np.linspace(-1, 1, 51)\n",
        "Y = X**2\n",
        "plt.scatter(X, Y)"
      ],
      "metadata": {
        "colab": {
          "base_uri": "https://localhost:8080/",
          "height": 282
        },
        "id": "YlRAy1JnTlX0",
        "outputId": "ea64bb8e-9bd0-4b52-aa95-2f804047b908"
      },
      "execution_count": null,
      "outputs": [
        {
          "output_type": "execute_result",
          "data": {
            "text/plain": [
              "<matplotlib.collections.PathCollection at 0x7fe06e896ed0>"
            ]
          },
          "metadata": {},
          "execution_count": 46
        },
        {
          "output_type": "display_data",
          "data": {
            "image/png": "[encoded data removed]",
            "text/plain": [
              "<Figure size 432x288 with 1 Axes>"
            ]
          },
          "metadata": {
            "needs_background": "light"
          }
        }
      ]
    },
    {
      "cell_type": "code",
      "source": [
        "np.corrcoef(X, Y)[0, 1]"
      ],
      "metadata": {
        "colab": {
          "base_uri": "https://localhost:8080/"
        },
        "id": "VBPxmB2YTw2s",
        "outputId": "fb790c4c-4df2-498a-cd74-1a8815d9af46"
      },
      "execution_count": null,
      "outputs": [
        {
          "output_type": "execute_result",
          "data": {
            "text/plain": [
              "-2.3862043230836297e-17"
            ]
          },
          "metadata": {},
          "execution_count": 47
        }
      ]
    },
    {
      "cell_type": "code",
      "source": [
        "mine.compute_score(X, Y)\n",
        "mine.mic()"
      ],
      "metadata": {
        "colab": {
          "base_uri": "https://localhost:8080/"
        },
        "id": "RdO76k7lT4VM",
        "outputId": "6ab9257b-3d88-4ad2-cabe-cd1de555de64"
      },
      "execution_count": null,
      "outputs": [
        {
          "output_type": "execute_result",
          "data": {
            "text/plain": [
              "0.9997226475394071"
            ]
          },
          "metadata": {},
          "execution_count": 48
        }
      ]
    },
    {
      "cell_type": "code",
      "source": [
        "X = np.linspace(-1, 1, 51)\n",
        "Y = X**2 + np.random.rand(51,)\n",
        "plt.scatter(X, Y)"
      ],
      "metadata": {
        "colab": {
          "base_uri": "https://localhost:8080/",
          "height": 284
        },
        "id": "fQ7GApUzT-Vj",
        "outputId": "908327fd-53c3-496f-8469-69972b804d7c"
      },
      "execution_count": null,
      "outputs": [
        {
          "output_type": "execute_result",
          "data": {
            "text/plain": [
              "<matplotlib.collections.PathCollection at 0x7fe06e896490>"
            ]
          },
          "metadata": {},
          "execution_count": 49
        },
        {
          "output_type": "display_data",
          "data": {
            "image/png": "[encoded data removed]",
            "text/plain": [
              "<Figure size 432x288 with 1 Axes>"
            ]
          },
          "metadata": {
            "needs_background": "light"
          }
        }
      ]
    },
    {
      "cell_type": "code",
      "source": [
        "np.corrcoef(X, Y)[0, 1]\n"
      ],
      "metadata": {
        "colab": {
          "base_uri": "https://localhost:8080/"
        },
        "id": "PgJa3fN2UOia",
        "outputId": "d06156d1-d409-453d-cd21-39e8e73f7be9"
      },
      "execution_count": null,
      "outputs": [
        {
          "output_type": "execute_result",
          "data": {
            "text/plain": [
              "-0.112841831867317"
            ]
          },
          "metadata": {},
          "execution_count": 50
        }
      ]
    },
    {
      "cell_type": "code",
      "source": [
        "mine.compute_score(X, Y)\n",
        "mine.mic()"
      ],
      "metadata": {
        "colab": {
          "base_uri": "https://localhost:8080/"
        },
        "id": "GYdczO0aUUGF",
        "outputId": "4b35487f-f7f0-42f7-e6bd-d3fe6d9f1bda"
      },
      "execution_count": null,
      "outputs": [
        {
          "output_type": "execute_result",
          "data": {
            "text/plain": [
              "0.3861117650133703"
            ]
          },
          "metadata": {},
          "execution_count": 51
        }
      ]
    },
    {
      "cell_type": "code",
      "source": [
        "D = []\n",
        "C = []\n",
        "for d in range(100):\n",
        "    X = np.linspace(-1, 1, 51)\n",
        "    Y = X**2 + np.random.rand(51,) * d / 10\n",
        "    D.append(d)\n",
        "    C.append(np.corrcoef(X, Y)[0, 1])\n",
        "\n",
        "plt.plot(D, C)"
      ],
      "metadata": {
        "colab": {
          "base_uri": "https://localhost:8080/",
          "height": 282
        },
        "id": "ROh2crkvUZpY",
        "outputId": "261bdeea-8d67-4e7a-fc73-441a3472ccc1"
      },
      "execution_count": null,
      "outputs": [
        {
          "output_type": "execute_result",
          "data": {
            "text/plain": [
              "[<matplotlib.lines.Line2D at 0x7fe06e701210>]"
            ]
          },
          "metadata": {},
          "execution_count": 52
        },
        {
          "output_type": "display_data",
          "data": {
            "image/png": "[encoded data removed]",
            "text/plain": [
              "<Figure size 432x288 with 1 Axes>"
            ]
          },
          "metadata": {
            "needs_background": "light"
          }
        }
      ]
    },
    {
      "cell_type": "code",
      "source": [
        "D = []\n",
        "C = []\n",
        "for d in range(100):\n",
        "    X = np.linspace(-1, 1, 51)\n",
        "    Y = X**2 + np.random.rand(51,) * d / 10\n",
        "    D.append(d)\n",
        "    mine.compute_score(X, Y)\n",
        "    C.append(mine.mic())\n",
        "\n",
        "plt.plot(D, C)"
      ],
      "metadata": {
        "colab": {
          "base_uri": "https://localhost:8080/",
          "height": 282
        },
        "id": "mVLLufJiUedR",
        "outputId": "a18721b1-1ec0-47fb-f710-b1ff4a8f1ac5"
      },
      "execution_count": null,
      "outputs": [
        {
          "output_type": "execute_result",
          "data": {
            "text/plain": [
              "[<matplotlib.lines.Line2D at 0x7fe06408d1d0>]"
            ]
          },
          "metadata": {},
          "execution_count": 53
        },
        {
          "output_type": "display_data",
          "data": {
            "image/png": "[encoded data removed]",
            "text/plain": [
              "<Figure size 432x288 with 1 Axes>"
            ]
          },
          "metadata": {
            "needs_background": "light"
          }
        }
      ]
    },
    {
      "cell_type": "code",
      "source": [
        "mine.compute_score(X, Y)\n",
        "mine.mic()"
      ],
      "metadata": {
        "colab": {
          "base_uri": "https://localhost:8080/"
        },
        "id": "syOaCOe3Uig-",
        "outputId": "c7082e85-01a6-40ea-f91d-bb28e7f09691"
      },
      "execution_count": null,
      "outputs": [
        {
          "output_type": "execute_result",
          "data": {
            "text/plain": [
              "0.29541266724059634"
            ]
          },
          "metadata": {},
          "execution_count": 54
        }
      ]
    },
    {
      "cell_type": "code",
      "source": [
        "import pandas as pd\n",
        "\n",
        "data = {\"a\": [1, 2, 3], \"b\": [4, 5, 6]}\n",
        "data = pd.DataFrame(data)\n",
        "data.index = [\"X\", \"Y\", \"Z\"]\n",
        "data"
      ],
      "metadata": {
        "colab": {
          "base_uri": "https://localhost:8080/",
          "height": 142
        },
        "id": "NvBxqGj_VUTm",
        "outputId": "f9798e8b-f47e-4d1d-ea7e-93f9221f3ac3"
      },
      "execution_count": null,
      "outputs": [
        {
          "output_type": "execute_result",
          "data": {
            "text/html": [
              "<div>\n",
              "<style scoped>\n",
              "    .dataframe tbody tr th:only-of-type {\n",
              "        vertical-align: middle;\n",
              "    }\n",
              "\n",
              "    .dataframe tbody tr th {\n",
              "        vertical-align: top;\n",
              "    }\n",
              "\n",
              "    .dataframe thead th {\n",
              "        text-align: right;\n",
              "    }\n",
              "</style>\n",
              "<table border=\"1\" class=\"dataframe\">\n",
              "  <thead>\n",
              "    <tr style=\"text-align: right;\">\n",
              "      <th></th>\n",
              "      <th>a</th>\n",
              "      <th>b</th>\n",
              "    </tr>\n",
              "  </thead>\n",
              "  <tbody>\n",
              "    <tr>\n",
              "      <th>X</th>\n",
              "      <td>1</td>\n",
              "      <td>4</td>\n",
              "    </tr>\n",
              "    <tr>\n",
              "      <th>Y</th>\n",
              "      <td>2</td>\n",
              "      <td>5</td>\n",
              "    </tr>\n",
              "    <tr>\n",
              "      <th>Z</th>\n",
              "      <td>3</td>\n",
              "      <td>6</td>\n",
              "    </tr>\n",
              "  </tbody>\n",
              "</table>\n",
              "</div>"
            ],
            "text/plain": [
              "   a  b\n",
              "X  1  4\n",
              "Y  2  5\n",
              "Z  3  6"
            ]
          },
          "metadata": {},
          "execution_count": 60
        }
      ]
    },
    {
      "cell_type": "code",
      "source": [
        "data = {}\n",
        "for i in range(len(df.columns)):\n",
        "    for j in range(len(df.columns)):\n",
        "        X = df.iloc[:, i]\n",
        "        Y = df.iloc[:, j]\n",
        "        mine.compute_score(X, Y)\n",
        "        mic_score = mine.mic()\n",
        "        if df.columns[i] not in data.keys():\n",
        "            data[df.columns[i]] = []\n",
        "        data[df.columns[i]].append(mic_score)\n",
        "        #print(i, j, df.columns[i], df.columns[j], mic_score)"
      ],
      "metadata": {
        "id": "giHgCyskVfWY"
      },
      "execution_count": null,
      "outputs": []
    },
    {
      "cell_type": "code",
      "source": [
        "data = pd.DataFrame(data)\n",
        "data.index = df.columns\n",
        "data"
      ],
      "metadata": {
        "colab": {
          "base_uri": "https://localhost:8080/",
          "height": 234
        },
        "id": "k_nEql-XV-ns",
        "outputId": "fb21cf09-4613-4d72-b73f-02b36f3e42d0"
      },
      "execution_count": null,
      "outputs": [
        {
          "output_type": "execute_result",
          "data": {
            "text/html": [
              "<div>\n",
              "<style scoped>\n",
              "    .dataframe tbody tr th:only-of-type {\n",
              "        vertical-align: middle;\n",
              "    }\n",
              "\n",
              "    .dataframe tbody tr th {\n",
              "        vertical-align: top;\n",
              "    }\n",
              "\n",
              "    .dataframe thead th {\n",
              "        text-align: right;\n",
              "    }\n",
              "</style>\n",
              "<table border=\"1\" class=\"dataframe\">\n",
              "  <thead>\n",
              "    <tr style=\"text-align: right;\">\n",
              "      <th></th>\n",
              "      <th>Ozone</th>\n",
              "      <th>Solar.R</th>\n",
              "      <th>Wind</th>\n",
              "      <th>Temp</th>\n",
              "      <th>Month</th>\n",
              "      <th>Day</th>\n",
              "    </tr>\n",
              "  </thead>\n",
              "  <tbody>\n",
              "    <tr>\n",
              "      <th>Ozone</th>\n",
              "      <td>0.999941</td>\n",
              "      <td>0.369816</td>\n",
              "      <td>0.428888</td>\n",
              "      <td>0.650879</td>\n",
              "      <td>0.237656</td>\n",
              "      <td>0.225783</td>\n",
              "    </tr>\n",
              "    <tr>\n",
              "      <th>Solar.R</th>\n",
              "      <td>0.369816</td>\n",
              "      <td>0.999941</td>\n",
              "      <td>0.244644</td>\n",
              "      <td>0.292074</td>\n",
              "      <td>0.357432</td>\n",
              "      <td>0.233863</td>\n",
              "    </tr>\n",
              "    <tr>\n",
              "      <th>Wind</th>\n",
              "      <td>0.428888</td>\n",
              "      <td>0.244644</td>\n",
              "      <td>0.998536</td>\n",
              "      <td>0.235525</td>\n",
              "      <td>0.160209</td>\n",
              "      <td>0.166526</td>\n",
              "    </tr>\n",
              "    <tr>\n",
              "      <th>Temp</th>\n",
              "      <td>0.650879</td>\n",
              "      <td>0.292074</td>\n",
              "      <td>0.235525</td>\n",
              "      <td>0.999473</td>\n",
              "      <td>0.369728</td>\n",
              "      <td>0.218892</td>\n",
              "    </tr>\n",
              "    <tr>\n",
              "      <th>Month</th>\n",
              "      <td>0.237656</td>\n",
              "      <td>0.357432</td>\n",
              "      <td>0.160209</td>\n",
              "      <td>0.369728</td>\n",
              "      <td>0.997129</td>\n",
              "      <td>0.054100</td>\n",
              "    </tr>\n",
              "    <tr>\n",
              "      <th>Day</th>\n",
              "      <td>0.225783</td>\n",
              "      <td>0.233863</td>\n",
              "      <td>0.166526</td>\n",
              "      <td>0.218892</td>\n",
              "      <td>0.054100</td>\n",
              "      <td>0.999941</td>\n",
              "    </tr>\n",
              "  </tbody>\n",
              "</table>\n",
              "</div>"
            ],
            "text/plain": [
              "            Ozone   Solar.R      Wind      Temp     Month       Day\n",
              "Ozone    0.999941  0.369816  0.428888  0.650879  0.237656  0.225783\n",
              "Solar.R  0.369816  0.999941  0.244644  0.292074  0.357432  0.233863\n",
              "Wind     0.428888  0.244644  0.998536  0.235525  0.160209  0.166526\n",
              "Temp     0.650879  0.292074  0.235525  0.999473  0.369728  0.218892\n",
              "Month    0.237656  0.357432  0.160209  0.369728  0.997129  0.054100\n",
              "Day      0.225783  0.233863  0.166526  0.218892  0.054100  0.999941"
            ]
          },
          "metadata": {},
          "execution_count": 72
        }
      ]
    },
    {
      "cell_type": "code",
      "source": [
        "import numpy as np\n",
        "plt.imshow(data, interpolation='nearest', cmap=plt.cm.coolwarm)\n",
        "plt.colorbar()\n",
        "tick_marks = np.arange(len(corrcoef))\n",
        "plt.xticks(tick_marks, corrcoef.index, rotation=90)\n",
        "plt.yticks(tick_marks, corrcoef.index)\n",
        "plt.tight_layout()"
      ],
      "metadata": {
        "colab": {
          "base_uri": "https://localhost:8080/",
          "height": 297
        },
        "id": "4FbM50kVXTcG",
        "outputId": "d4a513e3-0d43-4a9d-8335-e3f8e5b6b077"
      },
      "execution_count": null,
      "outputs": [
        {
          "output_type": "display_data",
          "data": {
            "image/png": "[encoded data removed]",
            "text/plain": [
              "<Figure size 432x288 with 2 Axes>"
            ]
          },
          "metadata": {
            "needs_background": "light"
          }
        }
      ]
    },
    {
      "cell_type": "markdown",
      "source": [
        "# 課題７９"
      ],
      "metadata": {
        "id": "AEfymzrDYFXv"
      }
    },
    {
      "cell_type": "code",
      "source": [
        "df"
      ],
      "metadata": {
        "colab": {
          "base_uri": "https://localhost:8080/",
          "height": 417
        },
        "id": "8zyepvY0X6aC",
        "outputId": "29c9a31e-f201-4ac5-f058-82c1abf52d6c"
      },
      "execution_count": null,
      "outputs": [
        {
          "output_type": "execute_result",
          "data": {
            "text/html": [
              "<div>\n",
              "<style scoped>\n",
              "    .dataframe tbody tr th:only-of-type {\n",
              "        vertical-align: middle;\n",
              "    }\n",
              "\n",
              "    .dataframe tbody tr th {\n",
              "        vertical-align: top;\n",
              "    }\n",
              "\n",
              "    .dataframe thead th {\n",
              "        text-align: right;\n",
              "    }\n",
              "</style>\n",
              "<table border=\"1\" class=\"dataframe\">\n",
              "  <thead>\n",
              "    <tr style=\"text-align: right;\">\n",
              "      <th></th>\n",
              "      <th>Ozone</th>\n",
              "      <th>Solar.R</th>\n",
              "      <th>Wind</th>\n",
              "      <th>Temp</th>\n",
              "      <th>Month</th>\n",
              "      <th>Day</th>\n",
              "    </tr>\n",
              "  </thead>\n",
              "  <tbody>\n",
              "    <tr>\n",
              "      <th>1</th>\n",
              "      <td>41</td>\n",
              "      <td>190</td>\n",
              "      <td>7.4</td>\n",
              "      <td>67</td>\n",
              "      <td>5</td>\n",
              "      <td>1</td>\n",
              "    </tr>\n",
              "    <tr>\n",
              "      <th>2</th>\n",
              "      <td>36</td>\n",
              "      <td>118</td>\n",
              "      <td>8.0</td>\n",
              "      <td>72</td>\n",
              "      <td>5</td>\n",
              "      <td>2</td>\n",
              "    </tr>\n",
              "    <tr>\n",
              "      <th>3</th>\n",
              "      <td>12</td>\n",
              "      <td>149</td>\n",
              "      <td>12.6</td>\n",
              "      <td>74</td>\n",
              "      <td>5</td>\n",
              "      <td>3</td>\n",
              "    </tr>\n",
              "    <tr>\n",
              "      <th>4</th>\n",
              "      <td>18</td>\n",
              "      <td>313</td>\n",
              "      <td>11.5</td>\n",
              "      <td>62</td>\n",
              "      <td>5</td>\n",
              "      <td>4</td>\n",
              "    </tr>\n",
              "    <tr>\n",
              "      <th>7</th>\n",
              "      <td>23</td>\n",
              "      <td>299</td>\n",
              "      <td>8.6</td>\n",
              "      <td>65</td>\n",
              "      <td>5</td>\n",
              "      <td>7</td>\n",
              "    </tr>\n",
              "    <tr>\n",
              "      <th>...</th>\n",
              "      <td>...</td>\n",
              "      <td>...</td>\n",
              "      <td>...</td>\n",
              "      <td>...</td>\n",
              "      <td>...</td>\n",
              "      <td>...</td>\n",
              "    </tr>\n",
              "    <tr>\n",
              "      <th>148</th>\n",
              "      <td>14</td>\n",
              "      <td>20</td>\n",
              "      <td>16.6</td>\n",
              "      <td>63</td>\n",
              "      <td>9</td>\n",
              "      <td>25</td>\n",
              "    </tr>\n",
              "    <tr>\n",
              "      <th>149</th>\n",
              "      <td>30</td>\n",
              "      <td>193</td>\n",
              "      <td>6.9</td>\n",
              "      <td>70</td>\n",
              "      <td>9</td>\n",
              "      <td>26</td>\n",
              "    </tr>\n",
              "    <tr>\n",
              "      <th>151</th>\n",
              "      <td>14</td>\n",
              "      <td>191</td>\n",
              "      <td>14.3</td>\n",
              "      <td>75</td>\n",
              "      <td>9</td>\n",
              "      <td>28</td>\n",
              "    </tr>\n",
              "    <tr>\n",
              "      <th>152</th>\n",
              "      <td>18</td>\n",
              "      <td>131</td>\n",
              "      <td>8.0</td>\n",
              "      <td>76</td>\n",
              "      <td>9</td>\n",
              "      <td>29</td>\n",
              "    </tr>\n",
              "    <tr>\n",
              "      <th>153</th>\n",
              "      <td>20</td>\n",
              "      <td>223</td>\n",
              "      <td>11.5</td>\n",
              "      <td>68</td>\n",
              "      <td>9</td>\n",
              "      <td>30</td>\n",
              "    </tr>\n",
              "  </tbody>\n",
              "</table>\n",
              "<p>111 rows × 6 columns</p>\n",
              "</div>"
            ],
            "text/plain": [
              "     Ozone  Solar.R  Wind  Temp  Month  Day\n",
              "1       41      190   7.4    67      5    1\n",
              "2       36      118   8.0    72      5    2\n",
              "3       12      149  12.6    74      5    3\n",
              "4       18      313  11.5    62      5    4\n",
              "7       23      299   8.6    65      5    7\n",
              "..     ...      ...   ...   ...    ...  ...\n",
              "148     14       20  16.6    63      9   25\n",
              "149     30      193   6.9    70      9   26\n",
              "151     14      191  14.3    75      9   28\n",
              "152     18      131   8.0    76      9   29\n",
              "153     20      223  11.5    68      9   30\n",
              "\n",
              "[111 rows x 6 columns]"
            ]
          },
          "metadata": {},
          "execution_count": 74
        }
      ]
    },
    {
      "cell_type": "code",
      "source": [
        "# 一般的には平均 0 、分散 (及び標準偏差) が 1 になるように値を変換することを指します。\n",
        "# axis=1 とすれば、列ではなく行単位で正規化します。\n",
        "df.apply(lambda x: (x-x.mean())/x.std(), axis=0)"
      ],
      "metadata": {
        "colab": {
          "base_uri": "https://localhost:8080/",
          "height": 417
        },
        "id": "9zsNJDJXYHag",
        "outputId": "3120b44e-54a7-476a-bbb3-03cdf2525567"
      },
      "execution_count": null,
      "outputs": [
        {
          "output_type": "execute_result",
          "data": {
            "text/html": [
              "<div>\n",
              "<style scoped>\n",
              "    .dataframe tbody tr th:only-of-type {\n",
              "        vertical-align: middle;\n",
              "    }\n",
              "\n",
              "    .dataframe tbody tr th {\n",
              "        vertical-align: top;\n",
              "    }\n",
              "\n",
              "    .dataframe thead th {\n",
              "        text-align: right;\n",
              "    }\n",
              "</style>\n",
              "<table border=\"1\" class=\"dataframe\">\n",
              "  <thead>\n",
              "    <tr style=\"text-align: right;\">\n",
              "      <th></th>\n",
              "      <th>Ozone</th>\n",
              "      <th>Solar.R</th>\n",
              "      <th>Wind</th>\n",
              "      <th>Temp</th>\n",
              "      <th>Month</th>\n",
              "      <th>Day</th>\n",
              "    </tr>\n",
              "  </thead>\n",
              "  <tbody>\n",
              "    <tr>\n",
              "      <th>1</th>\n",
              "      <td>-0.033030</td>\n",
              "      <td>0.057028</td>\n",
              "      <td>-0.713840</td>\n",
              "      <td>-1.132511</td>\n",
              "      <td>-1.504117</td>\n",
              "      <td>-1.716505</td>\n",
              "    </tr>\n",
              "    <tr>\n",
              "      <th>2</th>\n",
              "      <td>-0.183288</td>\n",
              "      <td>-0.732859</td>\n",
              "      <td>-0.545193</td>\n",
              "      <td>-0.607850</td>\n",
              "      <td>-1.504117</td>\n",
              "      <td>-1.601658</td>\n",
              "    </tr>\n",
              "    <tr>\n",
              "      <th>3</th>\n",
              "      <td>-0.904530</td>\n",
              "      <td>-0.392769</td>\n",
              "      <td>0.747773</td>\n",
              "      <td>-0.397986</td>\n",
              "      <td>-1.504117</td>\n",
              "      <td>-1.486810</td>\n",
              "    </tr>\n",
              "    <tr>\n",
              "      <th>4</th>\n",
              "      <td>-0.724219</td>\n",
              "      <td>1.406418</td>\n",
              "      <td>0.438585</td>\n",
              "      <td>-1.657171</td>\n",
              "      <td>-1.504117</td>\n",
              "      <td>-1.371963</td>\n",
              "    </tr>\n",
              "    <tr>\n",
              "      <th>7</th>\n",
              "      <td>-0.573961</td>\n",
              "      <td>1.252828</td>\n",
              "      <td>-0.376545</td>\n",
              "      <td>-1.342375</td>\n",
              "      <td>-1.504117</td>\n",
              "      <td>-1.027420</td>\n",
              "    </tr>\n",
              "    <tr>\n",
              "      <th>...</th>\n",
              "      <td>...</td>\n",
              "      <td>...</td>\n",
              "      <td>...</td>\n",
              "      <td>...</td>\n",
              "      <td>...</td>\n",
              "      <td>...</td>\n",
              "    </tr>\n",
              "    <tr>\n",
              "      <th>148</th>\n",
              "      <td>-0.844426</td>\n",
              "      <td>-1.807983</td>\n",
              "      <td>1.872090</td>\n",
              "      <td>-1.552239</td>\n",
              "      <td>1.210630</td>\n",
              "      <td>1.039836</td>\n",
              "    </tr>\n",
              "    <tr>\n",
              "      <th>149</th>\n",
              "      <td>-0.363599</td>\n",
              "      <td>0.089940</td>\n",
              "      <td>-0.854380</td>\n",
              "      <td>-0.817714</td>\n",
              "      <td>1.210630</td>\n",
              "      <td>1.154684</td>\n",
              "    </tr>\n",
              "    <tr>\n",
              "      <th>151</th>\n",
              "      <td>-0.844426</td>\n",
              "      <td>0.067998</td>\n",
              "      <td>1.225608</td>\n",
              "      <td>-0.293054</td>\n",
              "      <td>1.210630</td>\n",
              "      <td>1.384379</td>\n",
              "    </tr>\n",
              "    <tr>\n",
              "      <th>152</th>\n",
              "      <td>-0.724219</td>\n",
              "      <td>-0.590241</td>\n",
              "      <td>-0.545193</td>\n",
              "      <td>-0.188122</td>\n",
              "      <td>1.210630</td>\n",
              "      <td>1.499226</td>\n",
              "    </tr>\n",
              "    <tr>\n",
              "      <th>153</th>\n",
              "      <td>-0.664116</td>\n",
              "      <td>0.419059</td>\n",
              "      <td>0.438585</td>\n",
              "      <td>-1.027579</td>\n",
              "      <td>1.210630</td>\n",
              "      <td>1.614074</td>\n",
              "    </tr>\n",
              "  </tbody>\n",
              "</table>\n",
              "<p>111 rows × 6 columns</p>\n",
              "</div>"
            ],
            "text/plain": [
              "        Ozone   Solar.R      Wind      Temp     Month       Day\n",
              "1   -0.033030  0.057028 -0.713840 -1.132511 -1.504117 -1.716505\n",
              "2   -0.183288 -0.732859 -0.545193 -0.607850 -1.504117 -1.601658\n",
              "3   -0.904530 -0.392769  0.747773 -0.397986 -1.504117 -1.486810\n",
              "4   -0.724219  1.406418  0.438585 -1.657171 -1.504117 -1.371963\n",
              "7   -0.573961  1.252828 -0.376545 -1.342375 -1.504117 -1.027420\n",
              "..        ...       ...       ...       ...       ...       ...\n",
              "148 -0.844426 -1.807983  1.872090 -1.552239  1.210630  1.039836\n",
              "149 -0.363599  0.089940 -0.854380 -0.817714  1.210630  1.154684\n",
              "151 -0.844426  0.067998  1.225608 -0.293054  1.210630  1.384379\n",
              "152 -0.724219 -0.590241 -0.545193 -0.188122  1.210630  1.499226\n",
              "153 -0.664116  0.419059  0.438585 -1.027579  1.210630  1.614074\n",
              "\n",
              "[111 rows x 6 columns]"
            ]
          },
          "metadata": {},
          "execution_count": 79
        }
      ]
    },
    {
      "cell_type": "code",
      "source": [
        "# 最大値を1、最小値を0にするような正規化もできます。\n",
        "# axis=1 とすれば、列ではなく行単位で正規化します。\n",
        "df.apply(lambda x: (x-x.min())/(x.max() - x.min()), axis=0)"
      ],
      "metadata": {
        "colab": {
          "base_uri": "https://localhost:8080/",
          "height": 417
        },
        "id": "ytLoIwcTY-bT",
        "outputId": "6e2f1dc0-b70c-499b-97e1-3f1dfae60b49"
      },
      "execution_count": null,
      "outputs": [
        {
          "output_type": "execute_result",
          "data": {
            "text/html": [
              "<div>\n",
              "<style scoped>\n",
              "    .dataframe tbody tr th:only-of-type {\n",
              "        vertical-align: middle;\n",
              "    }\n",
              "\n",
              "    .dataframe tbody tr th {\n",
              "        vertical-align: top;\n",
              "    }\n",
              "\n",
              "    .dataframe thead th {\n",
              "        text-align: right;\n",
              "    }\n",
              "</style>\n",
              "<table border=\"1\" class=\"dataframe\">\n",
              "  <thead>\n",
              "    <tr style=\"text-align: right;\">\n",
              "      <th></th>\n",
              "      <th>Ozone</th>\n",
              "      <th>Solar.R</th>\n",
              "      <th>Wind</th>\n",
              "      <th>Temp</th>\n",
              "      <th>Month</th>\n",
              "      <th>Day</th>\n",
              "    </tr>\n",
              "  </thead>\n",
              "  <tbody>\n",
              "    <tr>\n",
              "      <th>1</th>\n",
              "      <td>0.239521</td>\n",
              "      <td>0.559633</td>\n",
              "      <td>0.277174</td>\n",
              "      <td>0.250</td>\n",
              "      <td>0.0</td>\n",
              "      <td>0.000000</td>\n",
              "    </tr>\n",
              "    <tr>\n",
              "      <th>2</th>\n",
              "      <td>0.209581</td>\n",
              "      <td>0.339450</td>\n",
              "      <td>0.309783</td>\n",
              "      <td>0.375</td>\n",
              "      <td>0.0</td>\n",
              "      <td>0.033333</td>\n",
              "    </tr>\n",
              "    <tr>\n",
              "      <th>3</th>\n",
              "      <td>0.065868</td>\n",
              "      <td>0.434251</td>\n",
              "      <td>0.559783</td>\n",
              "      <td>0.425</td>\n",
              "      <td>0.0</td>\n",
              "      <td>0.066667</td>\n",
              "    </tr>\n",
              "    <tr>\n",
              "      <th>4</th>\n",
              "      <td>0.101796</td>\n",
              "      <td>0.935780</td>\n",
              "      <td>0.500000</td>\n",
              "      <td>0.125</td>\n",
              "      <td>0.0</td>\n",
              "      <td>0.100000</td>\n",
              "    </tr>\n",
              "    <tr>\n",
              "      <th>7</th>\n",
              "      <td>0.131737</td>\n",
              "      <td>0.892966</td>\n",
              "      <td>0.342391</td>\n",
              "      <td>0.200</td>\n",
              "      <td>0.0</td>\n",
              "      <td>0.200000</td>\n",
              "    </tr>\n",
              "    <tr>\n",
              "      <th>...</th>\n",
              "      <td>...</td>\n",
              "      <td>...</td>\n",
              "      <td>...</td>\n",
              "      <td>...</td>\n",
              "      <td>...</td>\n",
              "      <td>...</td>\n",
              "    </tr>\n",
              "    <tr>\n",
              "      <th>148</th>\n",
              "      <td>0.077844</td>\n",
              "      <td>0.039755</td>\n",
              "      <td>0.777174</td>\n",
              "      <td>0.150</td>\n",
              "      <td>1.0</td>\n",
              "      <td>0.800000</td>\n",
              "    </tr>\n",
              "    <tr>\n",
              "      <th>149</th>\n",
              "      <td>0.173653</td>\n",
              "      <td>0.568807</td>\n",
              "      <td>0.250000</td>\n",
              "      <td>0.325</td>\n",
              "      <td>1.0</td>\n",
              "      <td>0.833333</td>\n",
              "    </tr>\n",
              "    <tr>\n",
              "      <th>151</th>\n",
              "      <td>0.077844</td>\n",
              "      <td>0.562691</td>\n",
              "      <td>0.652174</td>\n",
              "      <td>0.450</td>\n",
              "      <td>1.0</td>\n",
              "      <td>0.900000</td>\n",
              "    </tr>\n",
              "    <tr>\n",
              "      <th>152</th>\n",
              "      <td>0.101796</td>\n",
              "      <td>0.379205</td>\n",
              "      <td>0.309783</td>\n",
              "      <td>0.475</td>\n",
              "      <td>1.0</td>\n",
              "      <td>0.933333</td>\n",
              "    </tr>\n",
              "    <tr>\n",
              "      <th>153</th>\n",
              "      <td>0.113772</td>\n",
              "      <td>0.660550</td>\n",
              "      <td>0.500000</td>\n",
              "      <td>0.275</td>\n",
              "      <td>1.0</td>\n",
              "      <td>0.966667</td>\n",
              "    </tr>\n",
              "  </tbody>\n",
              "</table>\n",
              "<p>111 rows × 6 columns</p>\n",
              "</div>"
            ],
            "text/plain": [
              "        Ozone   Solar.R      Wind   Temp  Month       Day\n",
              "1    0.239521  0.559633  0.277174  0.250    0.0  0.000000\n",
              "2    0.209581  0.339450  0.309783  0.375    0.0  0.033333\n",
              "3    0.065868  0.434251  0.559783  0.425    0.0  0.066667\n",
              "4    0.101796  0.935780  0.500000  0.125    0.0  0.100000\n",
              "7    0.131737  0.892966  0.342391  0.200    0.0  0.200000\n",
              "..        ...       ...       ...    ...    ...       ...\n",
              "148  0.077844  0.039755  0.777174  0.150    1.0  0.800000\n",
              "149  0.173653  0.568807  0.250000  0.325    1.0  0.833333\n",
              "151  0.077844  0.562691  0.652174  0.450    1.0  0.900000\n",
              "152  0.101796  0.379205  0.309783  0.475    1.0  0.933333\n",
              "153  0.113772  0.660550  0.500000  0.275    1.0  0.966667\n",
              "\n",
              "[111 rows x 6 columns]"
            ]
          },
          "metadata": {},
          "execution_count": 83
        }
      ]
    },
    {
      "cell_type": "code",
      "source": [
        "# 合計値が１になるような正規化もできます。\n",
        "# axis=1 とすれば、列ではなく行単位で正規化します。\n",
        "df.apply(lambda x: x/x.sum(), axis=0)"
      ],
      "metadata": {
        "colab": {
          "base_uri": "https://localhost:8080/",
          "height": 417
        },
        "id": "bGhWlgxEZgAm",
        "outputId": "e7524016-a2d0-4a00-b5d5-d749d3bb4234"
      },
      "execution_count": null,
      "outputs": [
        {
          "output_type": "execute_result",
          "data": {
            "text/html": [
              "<div>\n",
              "<style scoped>\n",
              "    .dataframe tbody tr th:only-of-type {\n",
              "        vertical-align: middle;\n",
              "    }\n",
              "\n",
              "    .dataframe tbody tr th {\n",
              "        vertical-align: top;\n",
              "    }\n",
              "\n",
              "    .dataframe thead th {\n",
              "        text-align: right;\n",
              "    }\n",
              "</style>\n",
              "<table border=\"1\" class=\"dataframe\">\n",
              "  <thead>\n",
              "    <tr style=\"text-align: right;\">\n",
              "      <th></th>\n",
              "      <th>Ozone</th>\n",
              "      <th>Solar.R</th>\n",
              "      <th>Wind</th>\n",
              "      <th>Temp</th>\n",
              "      <th>Month</th>\n",
              "      <th>Day</th>\n",
              "    </tr>\n",
              "  </thead>\n",
              "  <tbody>\n",
              "    <tr>\n",
              "      <th>1</th>\n",
              "      <td>0.008774</td>\n",
              "      <td>0.009262</td>\n",
              "      <td>0.006707</td>\n",
              "      <td>0.007759</td>\n",
              "      <td>0.006242</td>\n",
              "      <td>0.000565</td>\n",
              "    </tr>\n",
              "    <tr>\n",
              "      <th>2</th>\n",
              "      <td>0.007704</td>\n",
              "      <td>0.005752</td>\n",
              "      <td>0.007251</td>\n",
              "      <td>0.008338</td>\n",
              "      <td>0.006242</td>\n",
              "      <td>0.001130</td>\n",
              "    </tr>\n",
              "    <tr>\n",
              "      <th>3</th>\n",
              "      <td>0.002568</td>\n",
              "      <td>0.007264</td>\n",
              "      <td>0.011420</td>\n",
              "      <td>0.008570</td>\n",
              "      <td>0.006242</td>\n",
              "      <td>0.001695</td>\n",
              "    </tr>\n",
              "    <tr>\n",
              "      <th>4</th>\n",
              "      <td>0.003852</td>\n",
              "      <td>0.015259</td>\n",
              "      <td>0.010423</td>\n",
              "      <td>0.007180</td>\n",
              "      <td>0.006242</td>\n",
              "      <td>0.002260</td>\n",
              "    </tr>\n",
              "    <tr>\n",
              "      <th>7</th>\n",
              "      <td>0.004922</td>\n",
              "      <td>0.014576</td>\n",
              "      <td>0.007795</td>\n",
              "      <td>0.007528</td>\n",
              "      <td>0.006242</td>\n",
              "      <td>0.003955</td>\n",
              "    </tr>\n",
              "    <tr>\n",
              "      <th>...</th>\n",
              "      <td>...</td>\n",
              "      <td>...</td>\n",
              "      <td>...</td>\n",
              "      <td>...</td>\n",
              "      <td>...</td>\n",
              "      <td>...</td>\n",
              "    </tr>\n",
              "    <tr>\n",
              "      <th>148</th>\n",
              "      <td>0.002996</td>\n",
              "      <td>0.000975</td>\n",
              "      <td>0.015046</td>\n",
              "      <td>0.007296</td>\n",
              "      <td>0.011236</td>\n",
              "      <td>0.014124</td>\n",
              "    </tr>\n",
              "    <tr>\n",
              "      <th>149</th>\n",
              "      <td>0.006420</td>\n",
              "      <td>0.009409</td>\n",
              "      <td>0.006254</td>\n",
              "      <td>0.008107</td>\n",
              "      <td>0.011236</td>\n",
              "      <td>0.014689</td>\n",
              "    </tr>\n",
              "    <tr>\n",
              "      <th>151</th>\n",
              "      <td>0.002996</td>\n",
              "      <td>0.009311</td>\n",
              "      <td>0.012961</td>\n",
              "      <td>0.008686</td>\n",
              "      <td>0.011236</td>\n",
              "      <td>0.015819</td>\n",
              "    </tr>\n",
              "    <tr>\n",
              "      <th>152</th>\n",
              "      <td>0.003852</td>\n",
              "      <td>0.006386</td>\n",
              "      <td>0.007251</td>\n",
              "      <td>0.008801</td>\n",
              "      <td>0.011236</td>\n",
              "      <td>0.016384</td>\n",
              "    </tr>\n",
              "    <tr>\n",
              "      <th>153</th>\n",
              "      <td>0.004280</td>\n",
              "      <td>0.010871</td>\n",
              "      <td>0.010423</td>\n",
              "      <td>0.007875</td>\n",
              "      <td>0.011236</td>\n",
              "      <td>0.016949</td>\n",
              "    </tr>\n",
              "  </tbody>\n",
              "</table>\n",
              "<p>111 rows × 6 columns</p>\n",
              "</div>"
            ],
            "text/plain": [
              "        Ozone   Solar.R      Wind      Temp     Month       Day\n",
              "1    0.008774  0.009262  0.006707  0.007759  0.006242  0.000565\n",
              "2    0.007704  0.005752  0.007251  0.008338  0.006242  0.001130\n",
              "3    0.002568  0.007264  0.011420  0.008570  0.006242  0.001695\n",
              "4    0.003852  0.015259  0.010423  0.007180  0.006242  0.002260\n",
              "7    0.004922  0.014576  0.007795  0.007528  0.006242  0.003955\n",
              "..        ...       ...       ...       ...       ...       ...\n",
              "148  0.002996  0.000975  0.015046  0.007296  0.011236  0.014124\n",
              "149  0.006420  0.009409  0.006254  0.008107  0.011236  0.014689\n",
              "151  0.002996  0.009311  0.012961  0.008686  0.011236  0.015819\n",
              "152  0.003852  0.006386  0.007251  0.008801  0.011236  0.016384\n",
              "153  0.004280  0.010871  0.010423  0.007875  0.011236  0.016949\n",
              "\n",
              "[111 rows x 6 columns]"
            ]
          },
          "metadata": {},
          "execution_count": 86
        }
      ]
    },
    {
      "cell_type": "markdown",
      "source": [
        "# 課題８０"
      ],
      "metadata": {
        "id": "3IJ4_pytaPy6"
      }
    },
    {
      "cell_type": "code",
      "source": [
        "import numpy as np\n",
        "import pandas as pd"
      ],
      "metadata": {
        "id": "WqjaE9GMZ2Jd"
      },
      "execution_count": null,
      "outputs": []
    },
    {
      "cell_type": "code",
      "source": [
        "data_list = [[1, 2, 3], [2, 3, 4], [5, 6, 7]]"
      ],
      "metadata": {
        "id": "ilW0Un9Ua3yD"
      },
      "execution_count": null,
      "outputs": []
    },
    {
      "cell_type": "code",
      "source": [
        "data_array = np.array(data_list)\n",
        "data_array"
      ],
      "metadata": {
        "colab": {
          "base_uri": "https://localhost:8080/"
        },
        "id": "PBYwshMRa2Kz",
        "outputId": "f95992d0-b62a-4513-f6cd-67cb6721d314"
      },
      "execution_count": null,
      "outputs": [
        {
          "output_type": "execute_result",
          "data": {
            "text/plain": [
              "array([[1, 2, 3],\n",
              "       [2, 3, 4],\n",
              "       [5, 6, 7]])"
            ]
          },
          "metadata": {},
          "execution_count": 89
        }
      ]
    },
    {
      "cell_type": "code",
      "source": [
        "data_df = pd.DataFrame(data_list)\n",
        "data_df"
      ],
      "metadata": {
        "colab": {
          "base_uri": "https://localhost:8080/",
          "height": 142
        },
        "id": "nsF7dhw1bFsW",
        "outputId": "f795b01e-112b-402c-8e94-96b94f5ea818"
      },
      "execution_count": null,
      "outputs": [
        {
          "output_type": "execute_result",
          "data": {
            "text/html": [
              "<div>\n",
              "<style scoped>\n",
              "    .dataframe tbody tr th:only-of-type {\n",
              "        vertical-align: middle;\n",
              "    }\n",
              "\n",
              "    .dataframe tbody tr th {\n",
              "        vertical-align: top;\n",
              "    }\n",
              "\n",
              "    .dataframe thead th {\n",
              "        text-align: right;\n",
              "    }\n",
              "</style>\n",
              "<table border=\"1\" class=\"dataframe\">\n",
              "  <thead>\n",
              "    <tr style=\"text-align: right;\">\n",
              "      <th></th>\n",
              "      <th>0</th>\n",
              "      <th>1</th>\n",
              "      <th>2</th>\n",
              "    </tr>\n",
              "  </thead>\n",
              "  <tbody>\n",
              "    <tr>\n",
              "      <th>0</th>\n",
              "      <td>1</td>\n",
              "      <td>2</td>\n",
              "      <td>3</td>\n",
              "    </tr>\n",
              "    <tr>\n",
              "      <th>1</th>\n",
              "      <td>2</td>\n",
              "      <td>3</td>\n",
              "      <td>4</td>\n",
              "    </tr>\n",
              "    <tr>\n",
              "      <th>2</th>\n",
              "      <td>5</td>\n",
              "      <td>6</td>\n",
              "      <td>7</td>\n",
              "    </tr>\n",
              "  </tbody>\n",
              "</table>\n",
              "</div>"
            ],
            "text/plain": [
              "   0  1  2\n",
              "0  1  2  3\n",
              "1  2  3  4\n",
              "2  5  6  7"
            ]
          },
          "metadata": {},
          "execution_count": 91
        }
      ]
    },
    {
      "cell_type": "code",
      "source": [
        "data_list = data_array.tolist()\n",
        "data_list"
      ],
      "metadata": {
        "colab": {
          "base_uri": "https://localhost:8080/"
        },
        "id": "1hr5WzUVbNJM",
        "outputId": "c2c65174-e689-4e7e-a730-10c370849986"
      },
      "execution_count": null,
      "outputs": [
        {
          "output_type": "execute_result",
          "data": {
            "text/plain": [
              "[[1, 2, 3], [2, 3, 4], [5, 6, 7]]"
            ]
          },
          "metadata": {},
          "execution_count": 95
        }
      ]
    },
    {
      "cell_type": "code",
      "source": [
        "data_df = pd.DataFrame(data_array)\n",
        "data_df"
      ],
      "metadata": {
        "colab": {
          "base_uri": "https://localhost:8080/",
          "height": 142
        },
        "id": "N1MjxyTIbVia",
        "outputId": "64e25374-1381-4da5-dd0a-2b3e0c43afd3"
      },
      "execution_count": null,
      "outputs": [
        {
          "output_type": "execute_result",
          "data": {
            "text/html": [
              "<div>\n",
              "<style scoped>\n",
              "    .dataframe tbody tr th:only-of-type {\n",
              "        vertical-align: middle;\n",
              "    }\n",
              "\n",
              "    .dataframe tbody tr th {\n",
              "        vertical-align: top;\n",
              "    }\n",
              "\n",
              "    .dataframe thead th {\n",
              "        text-align: right;\n",
              "    }\n",
              "</style>\n",
              "<table border=\"1\" class=\"dataframe\">\n",
              "  <thead>\n",
              "    <tr style=\"text-align: right;\">\n",
              "      <th></th>\n",
              "      <th>0</th>\n",
              "      <th>1</th>\n",
              "      <th>2</th>\n",
              "    </tr>\n",
              "  </thead>\n",
              "  <tbody>\n",
              "    <tr>\n",
              "      <th>0</th>\n",
              "      <td>1</td>\n",
              "      <td>2</td>\n",
              "      <td>3</td>\n",
              "    </tr>\n",
              "    <tr>\n",
              "      <th>1</th>\n",
              "      <td>2</td>\n",
              "      <td>3</td>\n",
              "      <td>4</td>\n",
              "    </tr>\n",
              "    <tr>\n",
              "      <th>2</th>\n",
              "      <td>5</td>\n",
              "      <td>6</td>\n",
              "      <td>7</td>\n",
              "    </tr>\n",
              "  </tbody>\n",
              "</table>\n",
              "</div>"
            ],
            "text/plain": [
              "   0  1  2\n",
              "0  1  2  3\n",
              "1  2  3  4\n",
              "2  5  6  7"
            ]
          },
          "metadata": {},
          "execution_count": 96
        }
      ]
    },
    {
      "cell_type": "code",
      "source": [
        "data_list = data_df.values.tolist()\n",
        "data_list"
      ],
      "metadata": {
        "colab": {
          "base_uri": "https://localhost:8080/"
        },
        "id": "zRbieXv_blyI",
        "outputId": "fee8bfe0-883e-4f1a-c804-910727bb3837"
      },
      "execution_count": null,
      "outputs": [
        {
          "output_type": "execute_result",
          "data": {
            "text/plain": [
              "[[1, 2, 3], [2, 3, 4], [5, 6, 7]]"
            ]
          },
          "metadata": {},
          "execution_count": 99
        }
      ]
    },
    {
      "cell_type": "code",
      "source": [
        "data_array = data_df.values\n",
        "data_array"
      ],
      "metadata": {
        "colab": {
          "base_uri": "https://localhost:8080/"
        },
        "id": "dyZEdTRRbrN7",
        "outputId": "df77b0ea-5e15-44a1-8d96-92bd94564795"
      },
      "execution_count": null,
      "outputs": [
        {
          "output_type": "execute_result",
          "data": {
            "text/plain": [
              "array([[1, 2, 3],\n",
              "       [2, 3, 4],\n",
              "       [5, 6, 7]])"
            ]
          },
          "metadata": {},
          "execution_count": 100
        }
      ]
    },
    {
      "cell_type": "markdown",
      "source": [
        "# 課題８０−２"
      ],
      "metadata": {
        "id": "ZACJpjfxb_oV"
      }
    },
    {
      "cell_type": "code",
      "source": [
        "sheets = []\n",
        "for sheet_index in [2, 77, 78, 83]:\n",
        "    print(excel.sheet_names[sheet_index])\n",
        "    sheet = excel.parse(excel.sheet_names[sheet_index], header=None)\n",
        "    sheets.append(sheet)"
      ],
      "metadata": {
        "colab": {
          "base_uri": "https://localhost:8080/"
        },
        "id": "PnZr6F-3b11A",
        "outputId": "fc6f4fe7-92f3-4bc7-ce29-647a06b9512b"
      },
      "execution_count": null,
      "outputs": [
        {
          "output_type": "stream",
          "name": "stdout",
          "text": [
            "人口密度　〔2018年〕\n",
            "1人あたりの都市公園面積　〔2017年3月末〕\n",
            "1人あたりの電力需要量　〔2015年〕\n",
            "公害苦情件数　〔2017年〕\n"
          ]
        }
      ]
    },
    {
      "cell_type": "code",
      "source": [
        "sheet0 = sheets[0].iloc[2:49, 1:]\n",
        "sheet0.columns = ['都道府県名', '人口密度']"
      ],
      "metadata": {
        "id": "8vaJ0yt7c0WJ"
      },
      "execution_count": null,
      "outputs": []
    },
    {
      "cell_type": "code",
      "source": [
        "sheet1 = sheets[1].iloc[2:49, 1:]\n",
        "sheet1.columns = ['都道府県名', '都市公園面積']"
      ],
      "metadata": {
        "id": "_pBd9-mudSKE"
      },
      "execution_count": null,
      "outputs": []
    },
    {
      "cell_type": "code",
      "source": [
        "sheet2 = sheets[2].iloc[3:50, 1:]\n",
        "sheet2.columns = ['都道府県名', '電力需要量']"
      ],
      "metadata": {
        "id": "nAGTZEGEeUhC"
      },
      "execution_count": null,
      "outputs": []
    },
    {
      "cell_type": "code",
      "source": [
        "sheet3 = sheets[3].iloc[2:49, 1:]\n",
        "sheet3.columns = ['都道府県名', '公害苦情件数']"
      ],
      "metadata": {
        "id": "eqwTBpJ3ehRd"
      },
      "execution_count": null,
      "outputs": []
    },
    {
      "cell_type": "code",
      "source": [
        "sheet01 = pd.merge(sheet0, sheet1, on='都道府県名')"
      ],
      "metadata": {
        "id": "bVLH7BeoexMT"
      },
      "execution_count": null,
      "outputs": []
    },
    {
      "cell_type": "code",
      "source": [
        "sheet012 = pd.merge(sheet01, sheet2, on='都道府県名')\n",
        "sheet012"
      ],
      "metadata": {
        "colab": {
          "base_uri": "https://localhost:8080/",
          "height": 1000
        },
        "id": "eV6nv5P1fGhr",
        "outputId": "3f8ae648-b10c-44cc-9f30-58a89f118847"
      },
      "execution_count": null,
      "outputs": [
        {
          "output_type": "execute_result",
          "data": {
            "text/html": [
              "<div>\n",
              "<style scoped>\n",
              "    .dataframe tbody tr th:only-of-type {\n",
              "        vertical-align: middle;\n",
              "    }\n",
              "\n",
              "    .dataframe tbody tr th {\n",
              "        vertical-align: top;\n",
              "    }\n",
              "\n",
              "    .dataframe thead th {\n",
              "        text-align: right;\n",
              "    }\n",
              "</style>\n",
              "<table border=\"1\" class=\"dataframe\">\n",
              "  <thead>\n",
              "    <tr style=\"text-align: right;\">\n",
              "      <th></th>\n",
              "      <th>都道府県名</th>\n",
              "      <th>人口密度</th>\n",
              "      <th>都市公園面積</th>\n",
              "      <th>電力需要量</th>\n",
              "    </tr>\n",
              "  </thead>\n",
              "  <tbody>\n",
              "    <tr>\n",
              "      <th>0</th>\n",
              "      <td>北海道</td>\n",
              "      <td>64</td>\n",
              "      <td>38.8</td>\n",
              "      <td>2521</td>\n",
              "    </tr>\n",
              "    <tr>\n",
              "      <th>1</th>\n",
              "      <td>青森</td>\n",
              "      <td>136</td>\n",
              "      <td>18</td>\n",
              "      <td>2378</td>\n",
              "    </tr>\n",
              "    <tr>\n",
              "      <th>2</th>\n",
              "      <td>岩手</td>\n",
              "      <td>83</td>\n",
              "      <td>14.7</td>\n",
              "      <td>2521</td>\n",
              "    </tr>\n",
              "    <tr>\n",
              "      <th>3</th>\n",
              "      <td>宮城</td>\n",
              "      <td>317</td>\n",
              "      <td>23.5</td>\n",
              "      <td>2385</td>\n",
              "    </tr>\n",
              "    <tr>\n",
              "      <th>4</th>\n",
              "      <td>秋田</td>\n",
              "      <td>87</td>\n",
              "      <td>21.6</td>\n",
              "      <td>2487</td>\n",
              "    </tr>\n",
              "    <tr>\n",
              "      <th>5</th>\n",
              "      <td>山形</td>\n",
              "      <td>119</td>\n",
              "      <td>20.1</td>\n",
              "      <td>2528</td>\n",
              "    </tr>\n",
              "    <tr>\n",
              "      <th>6</th>\n",
              "      <td>福島</td>\n",
              "      <td>139</td>\n",
              "      <td>13.1</td>\n",
              "      <td>2382</td>\n",
              "    </tr>\n",
              "    <tr>\n",
              "      <th>7</th>\n",
              "      <td>茨城</td>\n",
              "      <td>484</td>\n",
              "      <td>9.6</td>\n",
              "      <td>2363</td>\n",
              "    </tr>\n",
              "    <tr>\n",
              "      <th>8</th>\n",
              "      <td>栃木</td>\n",
              "      <td>310</td>\n",
              "      <td>14.4</td>\n",
              "      <td>2461</td>\n",
              "    </tr>\n",
              "    <tr>\n",
              "      <th>9</th>\n",
              "      <td>群馬</td>\n",
              "      <td>313</td>\n",
              "      <td>14.2</td>\n",
              "      <td>2455</td>\n",
              "    </tr>\n",
              "    <tr>\n",
              "      <th>10</th>\n",
              "      <td>埼玉</td>\n",
              "      <td>1939</td>\n",
              "      <td>7.3</td>\n",
              "      <td>2092</td>\n",
              "    </tr>\n",
              "    <tr>\n",
              "      <th>11</th>\n",
              "      <td>千葉</td>\n",
              "      <td>1221</td>\n",
              "      <td>6.3</td>\n",
              "      <td>2104</td>\n",
              "    </tr>\n",
              "    <tr>\n",
              "      <th>12</th>\n",
              "      <td>東京</td>\n",
              "      <td>6216</td>\n",
              "      <td>7.4</td>\n",
              "      <td>2322</td>\n",
              "    </tr>\n",
              "    <tr>\n",
              "      <th>13</th>\n",
              "      <td>神奈川</td>\n",
              "      <td>3796</td>\n",
              "      <td>7</td>\n",
              "      <td>2026</td>\n",
              "    </tr>\n",
              "    <tr>\n",
              "      <th>14</th>\n",
              "      <td>新潟</td>\n",
              "      <td>181</td>\n",
              "      <td>17.3</td>\n",
              "      <td>2470</td>\n",
              "    </tr>\n",
              "    <tr>\n",
              "      <th>15</th>\n",
              "      <td>富山</td>\n",
              "      <td>252</td>\n",
              "      <td>15.3</td>\n",
              "      <td>3133</td>\n",
              "    </tr>\n",
              "    <tr>\n",
              "      <th>16</th>\n",
              "      <td>石川</td>\n",
              "      <td>275</td>\n",
              "      <td>14.4</td>\n",
              "      <td>3166</td>\n",
              "    </tr>\n",
              "    <tr>\n",
              "      <th>17</th>\n",
              "      <td>福井</td>\n",
              "      <td>189</td>\n",
              "      <td>16.8</td>\n",
              "      <td>3263</td>\n",
              "    </tr>\n",
              "    <tr>\n",
              "      <th>18</th>\n",
              "      <td>山梨</td>\n",
              "      <td>188</td>\n",
              "      <td>10.9</td>\n",
              "      <td>2595</td>\n",
              "    </tr>\n",
              "    <tr>\n",
              "      <th>19</th>\n",
              "      <td>長野</td>\n",
              "      <td>156</td>\n",
              "      <td>14.8</td>\n",
              "      <td>2620</td>\n",
              "    </tr>\n",
              "    <tr>\n",
              "      <th>20</th>\n",
              "      <td>岐阜</td>\n",
              "      <td>193</td>\n",
              "      <td>10.8</td>\n",
              "      <td>2530</td>\n",
              "    </tr>\n",
              "    <tr>\n",
              "      <th>21</th>\n",
              "      <td>静岡</td>\n",
              "      <td>481</td>\n",
              "      <td>9.5</td>\n",
              "      <td>2414</td>\n",
              "    </tr>\n",
              "    <tr>\n",
              "      <th>22</th>\n",
              "      <td>愛知</td>\n",
              "      <td>1460</td>\n",
              "      <td>8</td>\n",
              "      <td>2369</td>\n",
              "    </tr>\n",
              "    <tr>\n",
              "      <th>23</th>\n",
              "      <td>三重</td>\n",
              "      <td>318</td>\n",
              "      <td>10.2</td>\n",
              "      <td>2588</td>\n",
              "    </tr>\n",
              "    <tr>\n",
              "      <th>24</th>\n",
              "      <td>滋賀</td>\n",
              "      <td>353</td>\n",
              "      <td>9.2</td>\n",
              "      <td>2564</td>\n",
              "    </tr>\n",
              "    <tr>\n",
              "      <th>25</th>\n",
              "      <td>京都</td>\n",
              "      <td>556</td>\n",
              "      <td>12.5</td>\n",
              "      <td>2580</td>\n",
              "    </tr>\n",
              "    <tr>\n",
              "      <th>26</th>\n",
              "      <td>大阪</td>\n",
              "      <td>4649</td>\n",
              "      <td>5.7</td>\n",
              "      <td>2321</td>\n",
              "    </tr>\n",
              "    <tr>\n",
              "      <th>27</th>\n",
              "      <td>兵庫</td>\n",
              "      <td>665</td>\n",
              "      <td>11.1</td>\n",
              "      <td>2366</td>\n",
              "    </tr>\n",
              "    <tr>\n",
              "      <th>28</th>\n",
              "      <td>奈良</td>\n",
              "      <td>372</td>\n",
              "      <td>13.1</td>\n",
              "      <td>2402</td>\n",
              "    </tr>\n",
              "    <tr>\n",
              "      <th>29</th>\n",
              "      <td>和歌山</td>\n",
              "      <td>206</td>\n",
              "      <td>8.5</td>\n",
              "      <td>2869</td>\n",
              "    </tr>\n",
              "    <tr>\n",
              "      <th>30</th>\n",
              "      <td>鳥取</td>\n",
              "      <td>163</td>\n",
              "      <td>13.8</td>\n",
              "      <td>2727</td>\n",
              "    </tr>\n",
              "    <tr>\n",
              "      <th>31</th>\n",
              "      <td>島根</td>\n",
              "      <td>103</td>\n",
              "      <td>20.2</td>\n",
              "      <td>2851</td>\n",
              "    </tr>\n",
              "    <tr>\n",
              "      <th>32</th>\n",
              "      <td>岡山</td>\n",
              "      <td>270</td>\n",
              "      <td>16.3</td>\n",
              "      <td>2722</td>\n",
              "    </tr>\n",
              "    <tr>\n",
              "      <th>33</th>\n",
              "      <td>広島</td>\n",
              "      <td>336</td>\n",
              "      <td>14.4</td>\n",
              "      <td>2648</td>\n",
              "    </tr>\n",
              "    <tr>\n",
              "      <th>34</th>\n",
              "      <td>山口</td>\n",
              "      <td>228</td>\n",
              "      <td>14.9</td>\n",
              "      <td>2647</td>\n",
              "    </tr>\n",
              "    <tr>\n",
              "      <th>35</th>\n",
              "      <td>徳島</td>\n",
              "      <td>183</td>\n",
              "      <td>9.8</td>\n",
              "      <td>2885</td>\n",
              "    </tr>\n",
              "    <tr>\n",
              "      <th>36</th>\n",
              "      <td>香川</td>\n",
              "      <td>529</td>\n",
              "      <td>18.9</td>\n",
              "      <td>2801</td>\n",
              "    </tr>\n",
              "    <tr>\n",
              "      <th>37</th>\n",
              "      <td>愛媛</td>\n",
              "      <td>246</td>\n",
              "      <td>12.6</td>\n",
              "      <td>2680</td>\n",
              "    </tr>\n",
              "    <tr>\n",
              "      <th>38</th>\n",
              "      <td>高知</td>\n",
              "      <td>102</td>\n",
              "      <td>11.6</td>\n",
              "      <td>2807</td>\n",
              "    </tr>\n",
              "    <tr>\n",
              "      <th>39</th>\n",
              "      <td>福岡</td>\n",
              "      <td>1029</td>\n",
              "      <td>9.1</td>\n",
              "      <td>2494</td>\n",
              "    </tr>\n",
              "    <tr>\n",
              "      <th>40</th>\n",
              "      <td>佐賀</td>\n",
              "      <td>341</td>\n",
              "      <td>11.8</td>\n",
              "      <td>2680</td>\n",
              "    </tr>\n",
              "    <tr>\n",
              "      <th>41</th>\n",
              "      <td>長崎</td>\n",
              "      <td>334</td>\n",
              "      <td>13.9</td>\n",
              "      <td>2577</td>\n",
              "    </tr>\n",
              "    <tr>\n",
              "      <th>42</th>\n",
              "      <td>熊本</td>\n",
              "      <td>241</td>\n",
              "      <td>10.4</td>\n",
              "      <td>2499</td>\n",
              "    </tr>\n",
              "    <tr>\n",
              "      <th>43</th>\n",
              "      <td>大分</td>\n",
              "      <td>184</td>\n",
              "      <td>13.3</td>\n",
              "      <td>2733</td>\n",
              "    </tr>\n",
              "    <tr>\n",
              "      <th>44</th>\n",
              "      <td>宮崎</td>\n",
              "      <td>144</td>\n",
              "      <td>21.9</td>\n",
              "      <td>2641</td>\n",
              "    </tr>\n",
              "    <tr>\n",
              "      <th>45</th>\n",
              "      <td>鹿児島</td>\n",
              "      <td>180</td>\n",
              "      <td>14</td>\n",
              "      <td>2638</td>\n",
              "    </tr>\n",
              "    <tr>\n",
              "      <th>46</th>\n",
              "      <td>沖縄</td>\n",
              "      <td>645</td>\n",
              "      <td>10.9</td>\n",
              "      <td>3209</td>\n",
              "    </tr>\n",
              "  </tbody>\n",
              "</table>\n",
              "</div>"
            ],
            "text/plain": [
              "   都道府県名  人口密度 都市公園面積 電力需要量\n",
              "0    北海道    64   38.8  2521\n",
              "1     青森   136     18  2378\n",
              "2     岩手    83   14.7  2521\n",
              "3     宮城   317   23.5  2385\n",
              "4     秋田    87   21.6  2487\n",
              "5     山形   119   20.1  2528\n",
              "6     福島   139   13.1  2382\n",
              "7     茨城   484    9.6  2363\n",
              "8     栃木   310   14.4  2461\n",
              "9     群馬   313   14.2  2455\n",
              "10    埼玉  1939    7.3  2092\n",
              "11    千葉  1221    6.3  2104\n",
              "12    東京  6216    7.4  2322\n",
              "13   神奈川  3796      7  2026\n",
              "14    新潟   181   17.3  2470\n",
              "15    富山   252   15.3  3133\n",
              "16    石川   275   14.4  3166\n",
              "17    福井   189   16.8  3263\n",
              "18    山梨   188   10.9  2595\n",
              "19    長野   156   14.8  2620\n",
              "20    岐阜   193   10.8  2530\n",
              "21    静岡   481    9.5  2414\n",
              "22    愛知  1460      8  2369\n",
              "23    三重   318   10.2  2588\n",
              "24    滋賀   353    9.2  2564\n",
              "25    京都   556   12.5  2580\n",
              "26    大阪  4649    5.7  2321\n",
              "27    兵庫   665   11.1  2366\n",
              "28    奈良   372   13.1  2402\n",
              "29   和歌山   206    8.5  2869\n",
              "30    鳥取   163   13.8  2727\n",
              "31    島根   103   20.2  2851\n",
              "32    岡山   270   16.3  2722\n",
              "33    広島   336   14.4  2648\n",
              "34    山口   228   14.9  2647\n",
              "35    徳島   183    9.8  2885\n",
              "36    香川   529   18.9  2801\n",
              "37    愛媛   246   12.6  2680\n",
              "38    高知   102   11.6  2807\n",
              "39    福岡  1029    9.1  2494\n",
              "40    佐賀   341   11.8  2680\n",
              "41    長崎   334   13.9  2577\n",
              "42    熊本   241   10.4  2499\n",
              "43    大分   184   13.3  2733\n",
              "44    宮崎   144   21.9  2641\n",
              "45   鹿児島   180     14  2638\n",
              "46    沖縄   645   10.9  3209"
            ]
          },
          "metadata": {},
          "execution_count": 134
        }
      ]
    },
    {
      "cell_type": "code",
      "source": [
        "pd.merge(sheet012, sheet3, on='都道府県名')"
      ],
      "metadata": {
        "colab": {
          "base_uri": "https://localhost:8080/",
          "height": 80
        },
        "id": "2Th4GY3gf4T6",
        "outputId": "1eb0fa80-a6d0-4bd8-fa95-d245a825f69f"
      },
      "execution_count": null,
      "outputs": [
        {
          "output_type": "execute_result",
          "data": {
            "text/html": [
              "<div>\n",
              "<style scoped>\n",
              "    .dataframe tbody tr th:only-of-type {\n",
              "        vertical-align: middle;\n",
              "    }\n",
              "\n",
              "    .dataframe tbody tr th {\n",
              "        vertical-align: top;\n",
              "    }\n",
              "\n",
              "    .dataframe thead th {\n",
              "        text-align: right;\n",
              "    }\n",
              "</style>\n",
              "<table border=\"1\" class=\"dataframe\">\n",
              "  <thead>\n",
              "    <tr style=\"text-align: right;\">\n",
              "      <th></th>\n",
              "      <th>都道府県名</th>\n",
              "      <th>人口密度</th>\n",
              "      <th>都市公園面積</th>\n",
              "      <th>電力需要量</th>\n",
              "      <th>公害苦情件数</th>\n",
              "    </tr>\n",
              "  </thead>\n",
              "  <tbody>\n",
              "    <tr>\n",
              "      <th>0</th>\n",
              "      <td>北海道</td>\n",
              "      <td>64</td>\n",
              "      <td>38.8</td>\n",
              "      <td>2521</td>\n",
              "      <td>1454</td>\n",
              "    </tr>\n",
              "  </tbody>\n",
              "</table>\n",
              "</div>"
            ],
            "text/plain": [
              "  都道府県名 人口密度 都市公園面積 電力需要量 公害苦情件数\n",
              "0   北海道   64   38.8  2521   1454"
            ]
          },
          "metadata": {},
          "execution_count": 133
        }
      ]
    },
    {
      "cell_type": "code",
      "source": [
        "sheet0123 = pd.concat([sheet012, sheet3.reset_index()], axis=1)\n",
        "sheet0123 = sheet0123.iloc[:, [0, 1, 2, 3, 6]]\n",
        "sheet0123"
      ],
      "metadata": {
        "colab": {
          "base_uri": "https://localhost:8080/",
          "height": 1000
        },
        "id": "0F7vmkyegFyX",
        "outputId": "4277e985-3865-4e0c-9672-30da27d29076"
      },
      "execution_count": null,
      "outputs": [
        {
          "output_type": "execute_result",
          "data": {
            "text/html": [
              "<div>\n",
              "<style scoped>\n",
              "    .dataframe tbody tr th:only-of-type {\n",
              "        vertical-align: middle;\n",
              "    }\n",
              "\n",
              "    .dataframe tbody tr th {\n",
              "        vertical-align: top;\n",
              "    }\n",
              "\n",
              "    .dataframe thead th {\n",
              "        text-align: right;\n",
              "    }\n",
              "</style>\n",
              "<table border=\"1\" class=\"dataframe\">\n",
              "  <thead>\n",
              "    <tr style=\"text-align: right;\">\n",
              "      <th></th>\n",
              "      <th>都道府県名</th>\n",
              "      <th>人口密度</th>\n",
              "      <th>都市公園面積</th>\n",
              "      <th>電力需要量</th>\n",
              "      <th>公害苦情件数</th>\n",
              "    </tr>\n",
              "  </thead>\n",
              "  <tbody>\n",
              "    <tr>\n",
              "      <th>0</th>\n",
              "      <td>北海道</td>\n",
              "      <td>64</td>\n",
              "      <td>38.8</td>\n",
              "      <td>2521</td>\n",
              "      <td>1454</td>\n",
              "    </tr>\n",
              "    <tr>\n",
              "      <th>1</th>\n",
              "      <td>青森</td>\n",
              "      <td>136</td>\n",
              "      <td>18</td>\n",
              "      <td>2378</td>\n",
              "      <td>431</td>\n",
              "    </tr>\n",
              "    <tr>\n",
              "      <th>2</th>\n",
              "      <td>岩手</td>\n",
              "      <td>83</td>\n",
              "      <td>14.7</td>\n",
              "      <td>2521</td>\n",
              "      <td>522</td>\n",
              "    </tr>\n",
              "    <tr>\n",
              "      <th>3</th>\n",
              "      <td>宮城</td>\n",
              "      <td>317</td>\n",
              "      <td>23.5</td>\n",
              "      <td>2385</td>\n",
              "      <td>586</td>\n",
              "    </tr>\n",
              "    <tr>\n",
              "      <th>4</th>\n",
              "      <td>秋田</td>\n",
              "      <td>87</td>\n",
              "      <td>21.6</td>\n",
              "      <td>2487</td>\n",
              "      <td>355</td>\n",
              "    </tr>\n",
              "    <tr>\n",
              "      <th>5</th>\n",
              "      <td>山形</td>\n",
              "      <td>119</td>\n",
              "      <td>20.1</td>\n",
              "      <td>2528</td>\n",
              "      <td>702</td>\n",
              "    </tr>\n",
              "    <tr>\n",
              "      <th>6</th>\n",
              "      <td>福島</td>\n",
              "      <td>139</td>\n",
              "      <td>13.1</td>\n",
              "      <td>2382</td>\n",
              "      <td>582</td>\n",
              "    </tr>\n",
              "    <tr>\n",
              "      <th>7</th>\n",
              "      <td>茨城</td>\n",
              "      <td>484</td>\n",
              "      <td>9.6</td>\n",
              "      <td>2363</td>\n",
              "      <td>3652</td>\n",
              "    </tr>\n",
              "    <tr>\n",
              "      <th>8</th>\n",
              "      <td>栃木</td>\n",
              "      <td>310</td>\n",
              "      <td>14.4</td>\n",
              "      <td>2461</td>\n",
              "      <td>1458</td>\n",
              "    </tr>\n",
              "    <tr>\n",
              "      <th>9</th>\n",
              "      <td>群馬</td>\n",
              "      <td>313</td>\n",
              "      <td>14.2</td>\n",
              "      <td>2455</td>\n",
              "      <td>1277</td>\n",
              "    </tr>\n",
              "    <tr>\n",
              "      <th>10</th>\n",
              "      <td>埼玉</td>\n",
              "      <td>1939</td>\n",
              "      <td>7.3</td>\n",
              "      <td>2092</td>\n",
              "      <td>3431</td>\n",
              "    </tr>\n",
              "    <tr>\n",
              "      <th>11</th>\n",
              "      <td>千葉</td>\n",
              "      <td>1221</td>\n",
              "      <td>6.3</td>\n",
              "      <td>2104</td>\n",
              "      <td>4572</td>\n",
              "    </tr>\n",
              "    <tr>\n",
              "      <th>12</th>\n",
              "      <td>東京</td>\n",
              "      <td>6216</td>\n",
              "      <td>7.4</td>\n",
              "      <td>2322</td>\n",
              "      <td>6402</td>\n",
              "    </tr>\n",
              "    <tr>\n",
              "      <th>13</th>\n",
              "      <td>神奈川</td>\n",
              "      <td>3796</td>\n",
              "      <td>7</td>\n",
              "      <td>2026</td>\n",
              "      <td>2746</td>\n",
              "    </tr>\n",
              "    <tr>\n",
              "      <th>14</th>\n",
              "      <td>新潟</td>\n",
              "      <td>181</td>\n",
              "      <td>17.3</td>\n",
              "      <td>2470</td>\n",
              "      <td>1007</td>\n",
              "    </tr>\n",
              "    <tr>\n",
              "      <th>15</th>\n",
              "      <td>富山</td>\n",
              "      <td>252</td>\n",
              "      <td>15.3</td>\n",
              "      <td>3133</td>\n",
              "      <td>175</td>\n",
              "    </tr>\n",
              "    <tr>\n",
              "      <th>16</th>\n",
              "      <td>石川</td>\n",
              "      <td>275</td>\n",
              "      <td>14.4</td>\n",
              "      <td>3166</td>\n",
              "      <td>390</td>\n",
              "    </tr>\n",
              "    <tr>\n",
              "      <th>17</th>\n",
              "      <td>福井</td>\n",
              "      <td>189</td>\n",
              "      <td>16.8</td>\n",
              "      <td>3263</td>\n",
              "      <td>599</td>\n",
              "    </tr>\n",
              "    <tr>\n",
              "      <th>18</th>\n",
              "      <td>山梨</td>\n",
              "      <td>188</td>\n",
              "      <td>10.9</td>\n",
              "      <td>2595</td>\n",
              "      <td>679</td>\n",
              "    </tr>\n",
              "    <tr>\n",
              "      <th>19</th>\n",
              "      <td>長野</td>\n",
              "      <td>156</td>\n",
              "      <td>14.8</td>\n",
              "      <td>2620</td>\n",
              "      <td>1891</td>\n",
              "    </tr>\n",
              "    <tr>\n",
              "      <th>20</th>\n",
              "      <td>岐阜</td>\n",
              "      <td>193</td>\n",
              "      <td>10.8</td>\n",
              "      <td>2530</td>\n",
              "      <td>1493</td>\n",
              "    </tr>\n",
              "    <tr>\n",
              "      <th>21</th>\n",
              "      <td>静岡</td>\n",
              "      <td>481</td>\n",
              "      <td>9.5</td>\n",
              "      <td>2414</td>\n",
              "      <td>2202</td>\n",
              "    </tr>\n",
              "    <tr>\n",
              "      <th>22</th>\n",
              "      <td>愛知</td>\n",
              "      <td>1460</td>\n",
              "      <td>8</td>\n",
              "      <td>2369</td>\n",
              "      <td>5574</td>\n",
              "    </tr>\n",
              "    <tr>\n",
              "      <th>23</th>\n",
              "      <td>三重</td>\n",
              "      <td>318</td>\n",
              "      <td>10.2</td>\n",
              "      <td>2588</td>\n",
              "      <td>1236</td>\n",
              "    </tr>\n",
              "    <tr>\n",
              "      <th>24</th>\n",
              "      <td>滋賀</td>\n",
              "      <td>353</td>\n",
              "      <td>9.2</td>\n",
              "      <td>2564</td>\n",
              "      <td>816</td>\n",
              "    </tr>\n",
              "    <tr>\n",
              "      <th>25</th>\n",
              "      <td>京都</td>\n",
              "      <td>556</td>\n",
              "      <td>12.5</td>\n",
              "      <td>2580</td>\n",
              "      <td>1658</td>\n",
              "    </tr>\n",
              "    <tr>\n",
              "      <th>26</th>\n",
              "      <td>大阪</td>\n",
              "      <td>4649</td>\n",
              "      <td>5.7</td>\n",
              "      <td>2321</td>\n",
              "      <td>4326</td>\n",
              "    </tr>\n",
              "    <tr>\n",
              "      <th>27</th>\n",
              "      <td>兵庫</td>\n",
              "      <td>665</td>\n",
              "      <td>11.1</td>\n",
              "      <td>2366</td>\n",
              "      <td>2261</td>\n",
              "    </tr>\n",
              "    <tr>\n",
              "      <th>28</th>\n",
              "      <td>奈良</td>\n",
              "      <td>372</td>\n",
              "      <td>13.1</td>\n",
              "      <td>2402</td>\n",
              "      <td>785</td>\n",
              "    </tr>\n",
              "    <tr>\n",
              "      <th>29</th>\n",
              "      <td>和歌山</td>\n",
              "      <td>206</td>\n",
              "      <td>8.5</td>\n",
              "      <td>2869</td>\n",
              "      <td>796</td>\n",
              "    </tr>\n",
              "    <tr>\n",
              "      <th>30</th>\n",
              "      <td>鳥取</td>\n",
              "      <td>163</td>\n",
              "      <td>13.8</td>\n",
              "      <td>2727</td>\n",
              "      <td>371</td>\n",
              "    </tr>\n",
              "    <tr>\n",
              "      <th>31</th>\n",
              "      <td>島根</td>\n",
              "      <td>103</td>\n",
              "      <td>20.2</td>\n",
              "      <td>2851</td>\n",
              "      <td>290</td>\n",
              "    </tr>\n",
              "    <tr>\n",
              "      <th>32</th>\n",
              "      <td>岡山</td>\n",
              "      <td>270</td>\n",
              "      <td>16.3</td>\n",
              "      <td>2722</td>\n",
              "      <td>866</td>\n",
              "    </tr>\n",
              "    <tr>\n",
              "      <th>33</th>\n",
              "      <td>広島</td>\n",
              "      <td>336</td>\n",
              "      <td>14.4</td>\n",
              "      <td>2648</td>\n",
              "      <td>1205</td>\n",
              "    </tr>\n",
              "    <tr>\n",
              "      <th>34</th>\n",
              "      <td>山口</td>\n",
              "      <td>228</td>\n",
              "      <td>14.9</td>\n",
              "      <td>2647</td>\n",
              "      <td>687</td>\n",
              "    </tr>\n",
              "    <tr>\n",
              "      <th>35</th>\n",
              "      <td>徳島</td>\n",
              "      <td>183</td>\n",
              "      <td>9.8</td>\n",
              "      <td>2885</td>\n",
              "      <td>473</td>\n",
              "    </tr>\n",
              "    <tr>\n",
              "      <th>36</th>\n",
              "      <td>香川</td>\n",
              "      <td>529</td>\n",
              "      <td>18.9</td>\n",
              "      <td>2801</td>\n",
              "      <td>374</td>\n",
              "    </tr>\n",
              "    <tr>\n",
              "      <th>37</th>\n",
              "      <td>愛媛</td>\n",
              "      <td>246</td>\n",
              "      <td>12.6</td>\n",
              "      <td>2680</td>\n",
              "      <td>820</td>\n",
              "    </tr>\n",
              "    <tr>\n",
              "      <th>38</th>\n",
              "      <td>高知</td>\n",
              "      <td>102</td>\n",
              "      <td>11.6</td>\n",
              "      <td>2807</td>\n",
              "      <td>296</td>\n",
              "    </tr>\n",
              "    <tr>\n",
              "      <th>39</th>\n",
              "      <td>福岡</td>\n",
              "      <td>1029</td>\n",
              "      <td>9.1</td>\n",
              "      <td>2494</td>\n",
              "      <td>2961</td>\n",
              "    </tr>\n",
              "    <tr>\n",
              "      <th>40</th>\n",
              "      <td>佐賀</td>\n",
              "      <td>341</td>\n",
              "      <td>11.8</td>\n",
              "      <td>2680</td>\n",
              "      <td>339</td>\n",
              "    </tr>\n",
              "    <tr>\n",
              "      <th>41</th>\n",
              "      <td>長崎</td>\n",
              "      <td>334</td>\n",
              "      <td>13.9</td>\n",
              "      <td>2577</td>\n",
              "      <td>953</td>\n",
              "    </tr>\n",
              "    <tr>\n",
              "      <th>42</th>\n",
              "      <td>熊本</td>\n",
              "      <td>241</td>\n",
              "      <td>10.4</td>\n",
              "      <td>2499</td>\n",
              "      <td>777</td>\n",
              "    </tr>\n",
              "    <tr>\n",
              "      <th>43</th>\n",
              "      <td>大分</td>\n",
              "      <td>184</td>\n",
              "      <td>13.3</td>\n",
              "      <td>2733</td>\n",
              "      <td>795</td>\n",
              "    </tr>\n",
              "    <tr>\n",
              "      <th>44</th>\n",
              "      <td>宮崎</td>\n",
              "      <td>144</td>\n",
              "      <td>21.9</td>\n",
              "      <td>2641</td>\n",
              "      <td>1061</td>\n",
              "    </tr>\n",
              "    <tr>\n",
              "      <th>45</th>\n",
              "      <td>鹿児島</td>\n",
              "      <td>180</td>\n",
              "      <td>14</td>\n",
              "      <td>2638</td>\n",
              "      <td>953</td>\n",
              "    </tr>\n",
              "    <tr>\n",
              "      <th>46</th>\n",
              "      <td>沖縄</td>\n",
              "      <td>645</td>\n",
              "      <td>10.9</td>\n",
              "      <td>3209</td>\n",
              "      <td>836</td>\n",
              "    </tr>\n",
              "  </tbody>\n",
              "</table>\n",
              "</div>"
            ],
            "text/plain": [
              "   都道府県名  人口密度 都市公園面積 電力需要量 公害苦情件数\n",
              "0    北海道    64   38.8  2521   1454\n",
              "1     青森   136     18  2378    431\n",
              "2     岩手    83   14.7  2521    522\n",
              "3     宮城   317   23.5  2385    586\n",
              "4     秋田    87   21.6  2487    355\n",
              "5     山形   119   20.1  2528    702\n",
              "6     福島   139   13.1  2382    582\n",
              "7     茨城   484    9.6  2363   3652\n",
              "8     栃木   310   14.4  2461   1458\n",
              "9     群馬   313   14.2  2455   1277\n",
              "10    埼玉  1939    7.3  2092   3431\n",
              "11    千葉  1221    6.3  2104   4572\n",
              "12    東京  6216    7.4  2322   6402\n",
              "13   神奈川  3796      7  2026   2746\n",
              "14    新潟   181   17.3  2470   1007\n",
              "15    富山   252   15.3  3133    175\n",
              "16    石川   275   14.4  3166    390\n",
              "17    福井   189   16.8  3263    599\n",
              "18    山梨   188   10.9  2595    679\n",
              "19    長野   156   14.8  2620   1891\n",
              "20    岐阜   193   10.8  2530   1493\n",
              "21    静岡   481    9.5  2414   2202\n",
              "22    愛知  1460      8  2369   5574\n",
              "23    三重   318   10.2  2588   1236\n",
              "24    滋賀   353    9.2  2564    816\n",
              "25    京都   556   12.5  2580   1658\n",
              "26    大阪  4649    5.7  2321   4326\n",
              "27    兵庫   665   11.1  2366   2261\n",
              "28    奈良   372   13.1  2402    785\n",
              "29   和歌山   206    8.5  2869    796\n",
              "30    鳥取   163   13.8  2727    371\n",
              "31    島根   103   20.2  2851    290\n",
              "32    岡山   270   16.3  2722    866\n",
              "33    広島   336   14.4  2648   1205\n",
              "34    山口   228   14.9  2647    687\n",
              "35    徳島   183    9.8  2885    473\n",
              "36    香川   529   18.9  2801    374\n",
              "37    愛媛   246   12.6  2680    820\n",
              "38    高知   102   11.6  2807    296\n",
              "39    福岡  1029    9.1  2494   2961\n",
              "40    佐賀   341   11.8  2680    339\n",
              "41    長崎   334   13.9  2577    953\n",
              "42    熊本   241   10.4  2499    777\n",
              "43    大分   184   13.3  2733    795\n",
              "44    宮崎   144   21.9  2641   1061\n",
              "45   鹿児島   180     14  2638    953\n",
              "46    沖縄   645   10.9  3209    836"
            ]
          },
          "metadata": {},
          "execution_count": 147
        }
      ]
    },
    {
      "cell_type": "code",
      "source": [
        "from pandas import plotting \n",
        "sheet0123 = sheet0123.iloc[:, 1:].astype(np.float)\n",
        "plotting.scatter_matrix(sheet0123, figsize=(8, 8)) "
      ],
      "metadata": {
        "colab": {
          "base_uri": "https://localhost:8080/",
          "height": 792
        },
        "id": "GbYwW-rWgNDZ",
        "outputId": "972870ce-ba9e-4d46-dd31-171e512bbaac"
      },
      "execution_count": null,
      "outputs": [
        {
          "output_type": "execute_result",
          "data": {
            "text/plain": [
              "array([[<matplotlib.axes._subplots.AxesSubplot object at 0x7fe061df8150>,\n",
              "        <matplotlib.axes._subplots.AxesSubplot object at 0x7fe061e23890>,\n",
              "        <matplotlib.axes._subplots.AxesSubplot object at 0x7fe061ddd350>,\n",
              "        <matplotlib.axes._subplots.AxesSubplot object at 0x7fe061d92950>],\n",
              "       [<matplotlib.axes._subplots.AxesSubplot object at 0x7fe061d4eed0>,\n",
              "        <matplotlib.axes._subplots.AxesSubplot object at 0x7fe061d0e4d0>,\n",
              "        <matplotlib.axes._subplots.AxesSubplot object at 0x7fe061cc4a50>,\n",
              "        <matplotlib.axes._subplots.AxesSubplot object at 0x7fe061c7be90>],\n",
              "       [<matplotlib.axes._subplots.AxesSubplot object at 0x7fe061c7bed0>,\n",
              "        <matplotlib.axes._subplots.AxesSubplot object at 0x7fe061c3d510>,\n",
              "        <matplotlib.axes._subplots.AxesSubplot object at 0x7fe061ba9e10>,\n",
              "        <matplotlib.axes._subplots.AxesSubplot object at 0x7fe061b6d350>],\n",
              "       [<matplotlib.axes._subplots.AxesSubplot object at 0x7fe061ba1850>,\n",
              "        <matplotlib.axes._subplots.AxesSubplot object at 0x7fe061b58d50>,\n",
              "        <matplotlib.axes._subplots.AxesSubplot object at 0x7fe061b1a290>,\n",
              "        <matplotlib.axes._subplots.AxesSubplot object at 0x7fe061ace790>]],\n",
              "      dtype=object)"
            ]
          },
          "metadata": {},
          "execution_count": 148
        },
        {
          "output_type": "display_data",
          "data": {
            "image/png": "[encoded data removed]",
            "text/plain": [
              "<Figure size 576x576 with 16 Axes>"
            ]
          },
          "metadata": {
            "needs_background": "light"
          }
        }
      ]
    },
    {
      "cell_type": "code",
      "source": [
        "!pip install japanize-matplotlib"
      ],
      "metadata": {
        "colab": {
          "base_uri": "https://localhost:8080/"
        },
        "id": "R1C3H6kahrNH",
        "outputId": "c5b6616c-5f02-46f1-c673-ea21664cdc3b"
      },
      "execution_count": null,
      "outputs": [
        {
          "output_type": "stream",
          "name": "stdout",
          "text": [
            "Collecting japanize-matplotlib\n",
            "  Downloading japanize-matplotlib-1.1.3.tar.gz (4.1 MB)\n",
            "\u001b[K     |████████████████████████████████| 4.1 MB 5.0 MB/s \n",
            "\u001b[?25hRequirement already satisfied: matplotlib in /usr/local/lib/python3.7/dist-packages (from japanize-matplotlib) (3.2.2)\n",
            "Requirement already satisfied: numpy>=1.11 in /usr/local/lib/python3.7/dist-packages (from matplotlib->japanize-matplotlib) (1.19.5)\n",
            "Requirement already satisfied: pyparsing!=2.0.4,!=2.1.2,!=2.1.6,>=2.0.1 in /usr/local/lib/python3.7/dist-packages (from matplotlib->japanize-matplotlib) (3.0.6)\n",
            "Requirement already satisfied: python-dateutil>=2.1 in /usr/local/lib/python3.7/dist-packages (from matplotlib->japanize-matplotlib) (2.8.2)\n",
            "Requirement already satisfied: kiwisolver>=1.0.1 in /usr/local/lib/python3.7/dist-packages (from matplotlib->japanize-matplotlib) (1.3.2)\n",
            "Requirement already satisfied: cycler>=0.10 in /usr/local/lib/python3.7/dist-packages (from matplotlib->japanize-matplotlib) (0.11.0)\n",
            "Requirement already satisfied: six>=1.5 in /usr/local/lib/python3.7/dist-packages (from python-dateutil>=2.1->matplotlib->japanize-matplotlib) (1.15.0)\n",
            "Building wheels for collected packages: japanize-matplotlib\n",
            "  Building wheel for japanize-matplotlib (setup.py) ... \u001b[?25l\u001b[?25hdone\n",
            "  Created wheel for japanize-matplotlib: filename=japanize_matplotlib-1.1.3-py3-none-any.whl size=4120274 sha256=f2a73628c19f709f3ce62b482855c6f71dd7afe7982c3ce72b50efc954522e7f\n",
            "  Stored in directory: /root/.cache/pip/wheels/83/97/6b/e9e0cde099cc40f972b8dd23367308f7705ae06cd6d4714658\n",
            "Successfully built japanize-matplotlib\n",
            "Installing collected packages: japanize-matplotlib\n",
            "Successfully installed japanize-matplotlib-1.1.3\n"
          ]
        }
      ]
    },
    {
      "cell_type": "code",
      "source": [
        "import japanize_matplotlib"
      ],
      "metadata": {
        "id": "yTvDjkCPiNGw"
      },
      "execution_count": null,
      "outputs": []
    },
    {
      "cell_type": "code",
      "source": [
        "from pandas import plotting \n",
        "sheet0123 = sheet0123.iloc[:, 1:].astype(np.float)\n",
        "plotting.scatter_matrix(sheet0123, figsize=(8, 8)) "
      ],
      "metadata": {
        "colab": {
          "base_uri": "https://localhost:8080/",
          "height": 674
        },
        "id": "DrDXuTQZiSkH",
        "outputId": "160e0b5c-8683-4deb-d1d2-7af517862f72"
      },
      "execution_count": null,
      "outputs": [
        {
          "output_type": "execute_result",
          "data": {
            "text/plain": [
              "array([[<matplotlib.axes._subplots.AxesSubplot object at 0x7fe06e26ba50>,\n",
              "        <matplotlib.axes._subplots.AxesSubplot object at 0x7fe062149410>,\n",
              "        <matplotlib.axes._subplots.AxesSubplot object at 0x7fe0620fba10>],\n",
              "       [<matplotlib.axes._subplots.AxesSubplot object at 0x7fe0620b0fd0>,\n",
              "        <matplotlib.axes._subplots.AxesSubplot object at 0x7fe062071650>,\n",
              "        <matplotlib.axes._subplots.AxesSubplot object at 0x7fe062028a50>],\n",
              "       [<matplotlib.axes._subplots.AxesSubplot object at 0x7fe062052b90>,\n",
              "        <matplotlib.axes._subplots.AxesSubplot object at 0x7fe062020650>,\n",
              "        <matplotlib.axes._subplots.AxesSubplot object at 0x7fe062020690>]],\n",
              "      dtype=object)"
            ]
          },
          "metadata": {},
          "execution_count": 146
        },
        {
          "output_type": "display_data",
          "data": {
            "image/png": "[encoded data removed]",
            "text/plain": [
              "<Figure size 576x576 with 9 Axes>"
            ]
          },
          "metadata": {
            "needs_background": "light"
          }
        }
      ]
    },
    {
      "cell_type": "code",
      "source": [
        ""
      ],
      "metadata": {
        "id": "0bt5CrebiVup"
      },
      "execution_count": null,
      "outputs": []
    }
  ]
}