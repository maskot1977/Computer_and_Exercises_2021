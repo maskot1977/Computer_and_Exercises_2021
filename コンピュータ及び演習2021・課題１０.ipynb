{
  "nbformat": 4,
  "nbformat_minor": 0,
  "metadata": {
    "colab": {
      "name": "コンピュータ及び演習2021・課題１０",
      "provenance": [],
      "collapsed_sections": [],
      "authorship_tag": "ABX9TyNxhNIfiKpG/239vcU4XwQc"
    },
    "kernelspec": {
      "name": "python3",
      "display_name": "Python 3"
    },
    "language_info": {
      "name": "python"
    }
  },
  "cells": [
    {
      "cell_type": "markdown",
      "metadata": {
        "id": "uiZ6VohB-0We"
      },
      "source": [
        "# 課題１０"
      ]
    },
    {
      "cell_type": "code",
      "metadata": {
        "id": "srMtHQZd-lae"
      },
      "source": [
        "a = float(input('x^2 の係数 a を入力してください'))\n",
        "if a == 0:\n",
        "    raise ValueError(\"a にはゼロ以外の数値を入力してください\")\n",
        "\n",
        "b = float(input('x の係数 b を入力してください'))\n",
        "c = float(input('定数項 c を入力してください'))\n",
        "\n",
        "if b**2 - 4 * a * c < 0:\n",
        "    raise ValueError(\"実数解が存在しません\")\n",
        "\n",
        "elif b**2 - 4 * a * c == 0:\n",
        "    print(-b/2/a)\n",
        "else:\n",
        "    print(((-b+(b**2-4*a*c)**(1/2))/2/a, (-b-(b**2-4*a*c)**(1/2))/2/a))"
      ],
      "execution_count": null,
      "outputs": []
    }
  ]
}