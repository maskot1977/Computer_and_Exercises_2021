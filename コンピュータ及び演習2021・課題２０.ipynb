{
  "nbformat": 4,
  "nbformat_minor": 0,
  "metadata": {
    "colab": {
      "name": "コンピュータ及び演習2021・課題２０",
      "provenance": [],
      "collapsed_sections": [],
      "authorship_tag": "ABX9TyPTIalofyUcBsFvke4etIRh"
    },
    "kernelspec": {
      "name": "python3",
      "display_name": "Python 3"
    },
    "language_info": {
      "name": "python"
    }
  },
  "cells": [
    {
      "cell_type": "markdown",
      "metadata": {
        "id": "ewgTtsHXS8A5"
      },
      "source": [
        "# 課題２０"
      ]
    },
    {
      "cell_type": "code",
      "metadata": {
        "colab": {
          "base_uri": "https://localhost:8080/"
        },
        "id": "KW_XhWgVS5ql",
        "outputId": "46df0fd6-8cc5-4ee7-c016-93757ffeac91"
      },
      "source": [
        "import urllib.request\n",
        "\n",
        "url = 'https://raw.githubusercontent.com/maskot1977/ipython_notebook/master/toydata/iris.txt'\n",
        "\n",
        "urllib.request.urlretrieve(url, 'iris.txt')"
      ],
      "execution_count": null,
      "outputs": [
        {
          "output_type": "execute_result",
          "data": {
            "text/plain": [
              "('iris.txt', <http.client.HTTPMessage at 0x7fb430d4c450>)"
            ]
          },
          "metadata": {},
          "execution_count": 5
        }
      ]
    },
    {
      "cell_type": "code",
      "metadata": {
        "id": "fa56rIcWTvM4"
      },
      "source": [
        "col1 = []\n",
        "col2 = []\n",
        "col3 = []\n",
        "for i, line in enumerate(open('iris.txt')):\n",
        "    if i == 0:\n",
        "        continue\n",
        "    c = line.split(\"\\t\")\n",
        "    col1.append(c[0])\n",
        "    col2.append(float(c[1]))\n",
        "    col3.append(float(c[2]))"
      ],
      "execution_count": null,
      "outputs": []
    },
    {
      "cell_type": "code",
      "metadata": {
        "colab": {
          "base_uri": "https://localhost:8080/"
        },
        "id": "-GFFcagWT6XW",
        "outputId": "a28e5291-8093-43f5-a8fd-61b6df4e4abc"
      },
      "source": [
        "col2"
      ],
      "execution_count": null,
      "outputs": [
        {
          "output_type": "execute_result",
          "data": {
            "text/plain": [
              "[5.1,\n",
              " 4.9,\n",
              " 4.7,\n",
              " 4.6,\n",
              " 5.0,\n",
              " 5.4,\n",
              " 4.6,\n",
              " 5.0,\n",
              " 4.4,\n",
              " 4.9,\n",
              " 5.4,\n",
              " 4.8,\n",
              " 4.8,\n",
              " 4.3,\n",
              " 5.8,\n",
              " 5.7,\n",
              " 5.4,\n",
              " 5.1,\n",
              " 5.7,\n",
              " 5.1,\n",
              " 5.4,\n",
              " 5.1,\n",
              " 4.6,\n",
              " 5.1,\n",
              " 4.8,\n",
              " 5.0,\n",
              " 5.0,\n",
              " 5.2,\n",
              " 5.2,\n",
              " 4.7,\n",
              " 4.8,\n",
              " 5.4,\n",
              " 5.2,\n",
              " 5.5,\n",
              " 4.9,\n",
              " 5.0,\n",
              " 5.5,\n",
              " 4.9,\n",
              " 4.4,\n",
              " 5.1,\n",
              " 5.0,\n",
              " 4.5,\n",
              " 4.4,\n",
              " 5.0,\n",
              " 5.1,\n",
              " 4.8,\n",
              " 5.1,\n",
              " 4.6,\n",
              " 5.3,\n",
              " 5.0,\n",
              " 7.0,\n",
              " 6.4,\n",
              " 6.9,\n",
              " 5.5,\n",
              " 6.5,\n",
              " 5.7,\n",
              " 6.3,\n",
              " 4.9,\n",
              " 6.6,\n",
              " 5.2,\n",
              " 5.0,\n",
              " 5.9,\n",
              " 6.0,\n",
              " 6.1,\n",
              " 5.6,\n",
              " 6.7,\n",
              " 5.6,\n",
              " 5.8,\n",
              " 6.2,\n",
              " 5.6,\n",
              " 5.9,\n",
              " 6.1,\n",
              " 6.3,\n",
              " 6.1,\n",
              " 6.4,\n",
              " 6.6,\n",
              " 6.8,\n",
              " 6.7,\n",
              " 6.0,\n",
              " 5.7,\n",
              " 5.5,\n",
              " 5.5,\n",
              " 5.8,\n",
              " 6.0,\n",
              " 5.4,\n",
              " 6.0,\n",
              " 6.7,\n",
              " 6.3,\n",
              " 5.6,\n",
              " 5.5,\n",
              " 5.5,\n",
              " 6.1,\n",
              " 5.8,\n",
              " 5.0,\n",
              " 5.6,\n",
              " 5.7,\n",
              " 5.7,\n",
              " 6.2,\n",
              " 5.1,\n",
              " 5.7,\n",
              " 6.3,\n",
              " 5.8,\n",
              " 7.1,\n",
              " 6.3,\n",
              " 6.5,\n",
              " 7.6,\n",
              " 4.9,\n",
              " 7.3,\n",
              " 6.7,\n",
              " 7.2,\n",
              " 6.5,\n",
              " 6.4,\n",
              " 6.8,\n",
              " 5.7,\n",
              " 5.8,\n",
              " 6.4,\n",
              " 6.5,\n",
              " 7.7,\n",
              " 7.7,\n",
              " 6.0,\n",
              " 6.9,\n",
              " 5.6,\n",
              " 7.7,\n",
              " 6.3,\n",
              " 6.7,\n",
              " 7.2,\n",
              " 6.2,\n",
              " 6.1,\n",
              " 6.4,\n",
              " 7.2,\n",
              " 7.4,\n",
              " 7.9,\n",
              " 6.4,\n",
              " 6.3,\n",
              " 6.1,\n",
              " 7.7,\n",
              " 6.3,\n",
              " 6.4,\n",
              " 6.0,\n",
              " 6.9,\n",
              " 6.7,\n",
              " 6.9,\n",
              " 5.8,\n",
              " 6.8,\n",
              " 6.7,\n",
              " 6.7,\n",
              " 6.3,\n",
              " 6.5,\n",
              " 6.2,\n",
              " 5.9]"
            ]
          },
          "metadata": {},
          "execution_count": 7
        }
      ]
    }
  ]
}